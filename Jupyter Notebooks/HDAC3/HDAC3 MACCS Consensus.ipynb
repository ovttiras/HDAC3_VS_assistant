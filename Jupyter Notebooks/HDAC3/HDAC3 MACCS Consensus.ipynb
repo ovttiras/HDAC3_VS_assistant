{
 "cells": [
  {
   "cell_type": "markdown",
   "metadata": {},
   "source": [
    "# Importing modules and functions"
   ]
  },
  {
   "cell_type": "code",
   "execution_count": 12,
   "metadata": {},
   "outputs": [],
   "source": [
    "import numpy as np\n",
    "import pandas as pd\n",
    "from rdkit.Chem import MACCSkeys\n",
    "from rdkit import Chem, DataStructs\n",
    "from rdkit.Chem import AllChem, Descriptors\n",
    "from rdkit.ML.Descriptors import MoleculeDescriptors\n",
    "import chembl_structure_pipeline\n",
    "from molvs import standardize_smiles\n",
    "from sklearn.model_selection import KFold, GridSearchCV\n",
    "from sklearn.model_selection import permutation_test_score\n",
    "from sklearn.preprocessing import StandardScaler\n",
    "from sklearn.model_selection import cross_val_predict\n",
    "from sklearn import metrics\n",
    "from sklearn.metrics import pairwise_distances\n",
    "import joblib\n",
    "import pickle\n",
    "from numpy import savetxt\n",
    "from padelpy import from_sdf\n",
    "from IPython.display import HTML\n",
    "import matplotlib.pyplot as plt\n",
    "from sklearn.metrics import mean_squared_error\n",
    "from sklearn.metrics import mean_absolute_error\n",
    "from sklearn.metrics import r2_score\n",
    "from sklearn.svm import SVR\n",
    "from sklearn.ensemble import GradientBoostingRegressor\n",
    "import warnings\n",
    "warnings.filterwarnings('ignore')"
   ]
  },
  {
   "cell_type": "markdown",
   "metadata": {},
   "source": [
    "# Data entry and curation work set"
   ]
  },
  {
   "cell_type": "code",
   "execution_count": 13,
   "metadata": {},
   "outputs": [
    {
     "name": "stdout",
     "output_type": "stream",
     "text": [
      "Original data:  1400 molecules\n",
      "Failed data:  0 molecules\n"
     ]
    },
    {
     "data": {
      "text/html": [
       "<div>\n",
       "<style scoped>\n",
       "    .dataframe tbody tr th:only-of-type {\n",
       "        vertical-align: middle;\n",
       "    }\n",
       "\n",
       "    .dataframe tbody tr th {\n",
       "        vertical-align: top;\n",
       "    }\n",
       "\n",
       "    .dataframe thead th {\n",
       "        text-align: right;\n",
       "    }\n",
       "</style>\n",
       "<table border=\"1\" class=\"dataframe\">\n",
       "  <thead>\n",
       "    <tr style=\"text-align: right;\">\n",
       "      <th></th>\n",
       "      <th>No. failed molecule in original set</th>\n",
       "      <th>SMILES of wrong structure:</th>\n",
       "    </tr>\n",
       "    <tr>\n",
       "      <th>No.</th>\n",
       "      <th></th>\n",
       "      <th></th>\n",
       "    </tr>\n",
       "  </thead>\n",
       "  <tbody>\n",
       "  </tbody>\n",
       "</table>\n",
       "</div>"
      ],
      "text/plain": [
       "Empty DataFrame\n",
       "Columns: [No. failed molecule in original set, SMILES of wrong structure: ]\n",
       "Index: []"
      ]
     },
     "execution_count": 13,
     "metadata": {},
     "output_type": "execute_result"
    }
   ],
   "source": [
    "uploaded_file_ws=\"datasets/HDAC3_work.sdf\"\n",
    "supplier_ws = Chem.ForwardSDMolSupplier(uploaded_file_ws,sanitize=False)\n",
    "failed_mols_ws = []\n",
    "all_mols_ws =[]\n",
    "wrong_structure_ws=[]\n",
    "wrong_smiles_ws=[]\n",
    "y_tr = []\n",
    "y_bad_index=[]\n",
    "\n",
    "for i, m in enumerate(supplier_ws):\n",
    "    structure = Chem.Mol(m)\n",
    "    all_mols_ws.append(structure)\n",
    "    y_tr.append(m.GetProp(\"pchembl_value_mean\"))\n",
    "    try:\n",
    "        Chem.SanitizeMol(structure)\n",
    "    except:\n",
    "        failed_mols_ws.append(m)\n",
    "        wrong_smiles_ws.append(Chem.MolToSmiles(m))\n",
    "        wrong_structure_ws.append(str(i+1))\n",
    "        y_bad_index.append(i)\n",
    "print('Original data: ', len(all_mols_ws), 'molecules')\n",
    "print('Failed data: ', len(failed_mols_ws), 'molecules')\n",
    "number_ws =[]\n",
    "for i in range(len(failed_mols_ws)):\n",
    "        number_ws.append(str(i+1))\n",
    "bad_molecules_ws = pd.DataFrame({'No. failed molecule in original set': wrong_structure_ws, 'SMILES of wrong structure: ': wrong_smiles_ws, 'No.': number_ws}, index=None)\n",
    "bad_molecules_ws = bad_molecules_ws.set_index('No.')\n",
    "bad_molecules_ws"
   ]
  },
  {
   "cell_type": "markdown",
   "metadata": {},
   "source": [
    "deleting activity values for substances with incorrect structure"
   ]
  },
  {
   "cell_type": "code",
   "execution_count": 14,
   "metadata": {},
   "outputs": [],
   "source": [
    "y_tr[:] = [x for i,x in enumerate(y_tr) if i not in y_bad_index]"
   ]
  },
  {
   "cell_type": "code",
   "execution_count": 15,
   "metadata": {},
   "outputs": [
    {
     "data": {
      "text/plain": [
       "1400"
      ]
     },
     "execution_count": 15,
     "metadata": {},
     "output_type": "execute_result"
    }
   ],
   "source": [
    "len(y_tr)"
   ]
  },
  {
   "cell_type": "markdown",
   "metadata": {},
   "source": [
    "# Standardization SDF file for work set"
   ]
  },
  {
   "cell_type": "code",
   "execution_count": 16,
   "metadata": {},
   "outputs": [
    {
     "name": "stdout",
     "output_type": "stream",
     "text": [
      "Kept data:  1400 molecules\n"
     ]
    }
   ],
   "source": [
    "all_mols_ws[:] = [x for i,x in enumerate(all_mols_ws) if i not in y_bad_index] \n",
    "records = []\n",
    "for i in range(len(all_mols_ws)):\n",
    "    record = Chem.MolToSmiles(all_mols_ws[i])\n",
    "    records.append(record)\n",
    "\n",
    "moldf_ws = []\n",
    "for i,record in enumerate(records):\n",
    "    standard_record = standardize_smiles(record)\n",
    "    m = Chem.MolFromSmiles(standard_record)\n",
    "    moldf_ws.append(m)\n",
    "    \n",
    "print('Kept data: ', len(moldf_ws), 'molecules')"
   ]
  },
  {
   "cell_type": "markdown",
   "metadata": {},
   "source": [
    "# Data entry and curation test set"
   ]
  },
  {
   "cell_type": "code",
   "execution_count": 17,
   "metadata": {},
   "outputs": [
    {
     "name": "stdout",
     "output_type": "stream",
     "text": [
      "Original data:  351 molecules\n",
      "Failed data:  0 molecules\n"
     ]
    },
    {
     "data": {
      "text/html": [
       "<div>\n",
       "<style scoped>\n",
       "    .dataframe tbody tr th:only-of-type {\n",
       "        vertical-align: middle;\n",
       "    }\n",
       "\n",
       "    .dataframe tbody tr th {\n",
       "        vertical-align: top;\n",
       "    }\n",
       "\n",
       "    .dataframe thead th {\n",
       "        text-align: right;\n",
       "    }\n",
       "</style>\n",
       "<table border=\"1\" class=\"dataframe\">\n",
       "  <thead>\n",
       "    <tr style=\"text-align: right;\">\n",
       "      <th></th>\n",
       "      <th>No. failed molecule in original set</th>\n",
       "      <th>SMILES of wrong structure:</th>\n",
       "    </tr>\n",
       "    <tr>\n",
       "      <th>No.</th>\n",
       "      <th></th>\n",
       "      <th></th>\n",
       "    </tr>\n",
       "  </thead>\n",
       "  <tbody>\n",
       "  </tbody>\n",
       "</table>\n",
       "</div>"
      ],
      "text/plain": [
       "Empty DataFrame\n",
       "Columns: [No. failed molecule in original set, SMILES of wrong structure: ]\n",
       "Index: []"
      ]
     },
     "execution_count": 17,
     "metadata": {},
     "output_type": "execute_result"
    }
   ],
   "source": [
    "uploaded_file_ts=\"datasets/HDAC3_test.sdf\"\n",
    "supplier_ts = Chem.ForwardSDMolSupplier(uploaded_file_ts,sanitize=False)\n",
    "failed_mols_ts = []\n",
    "all_mols_ts =[]\n",
    "wrong_structure_ts=[]\n",
    "wrong_smiles_ts=[]\n",
    "y_ts = []\n",
    "y_bad_index=[]\n",
    "for i, m in enumerate(supplier_ts):\n",
    "    structure = Chem.Mol(m)\n",
    "    all_mols_ts.append(structure)\n",
    "    y_ts.append(m.GetProp(\"pchembl_value_mean\"))\n",
    "    try:\n",
    "        Chem.SanitizeMol(structure)\n",
    "    except:\n",
    "        failed_mols_ts.append(m)\n",
    "        wrong_smiles_ts.append(Chem.MolToSmiles(m))\n",
    "        wrong_structure_ts.append(str(i+1))\n",
    "        y_bad_index.append(i)\n",
    "print('Original data: ', len(all_mols_ts), 'molecules')\n",
    "print('Failed data: ', len(failed_mols_ts), 'molecules')\n",
    "number_ts =[]\n",
    "for i in range(len(failed_mols_ts)):\n",
    "        number_ts.append(str(i+1))\n",
    "bad_molecules_ts = pd.DataFrame({'No. failed molecule in original set': wrong_structure_ts, 'SMILES of wrong structure: ': wrong_smiles_ts, 'No.': number_ts}, index=None)\n",
    "bad_molecules_ts = bad_molecules_ts.set_index('No.')\n",
    "bad_molecules_ts"
   ]
  },
  {
   "cell_type": "markdown",
   "metadata": {},
   "source": [
    "deleting activity values for substances with incorrect structure"
   ]
  },
  {
   "cell_type": "code",
   "execution_count": 18,
   "metadata": {},
   "outputs": [],
   "source": [
    "y_ts[:] = [x for i,x in enumerate(y_ts) if i not in y_bad_index]"
   ]
  },
  {
   "cell_type": "code",
   "execution_count": 19,
   "metadata": {},
   "outputs": [
    {
     "data": {
      "text/plain": [
       "351"
      ]
     },
     "execution_count": 19,
     "metadata": {},
     "output_type": "execute_result"
    }
   ],
   "source": [
    "len(y_ts)"
   ]
  },
  {
   "cell_type": "markdown",
   "metadata": {},
   "source": [
    "# Standardization SDF file for test set"
   ]
  },
  {
   "cell_type": "code",
   "execution_count": 20,
   "metadata": {},
   "outputs": [
    {
     "name": "stdout",
     "output_type": "stream",
     "text": [
      "Kept data:  351 molecules\n"
     ]
    }
   ],
   "source": [
    "all_mols_ts[:] = [x for i,x in enumerate(all_mols_ts) if i not in y_bad_index] \n",
    "records = []\n",
    "for i in range(len(all_mols_ts)):\n",
    "    record = Chem.MolToSmiles(all_mols_ts[i])\n",
    "    records.append(record)\n",
    "\n",
    "moldf_ts = []\n",
    "for i,record in enumerate(records):\n",
    "    standard_record = standardize_smiles(record)\n",
    "    m = Chem.MolFromSmiles(standard_record)\n",
    "    moldf_ts.append(m)\n",
    "    \n",
    "print('Kept data: ', len(moldf_ts), 'molecules')"
   ]
  },
  {
   "cell_type": "markdown",
   "metadata": {},
   "source": [
    "## Calculation MACCS Fingerprints for work set"
   ]
  },
  {
   "cell_type": "code",
   "execution_count": 21,
   "metadata": {},
   "outputs": [],
   "source": [
    "fp_tr = [MACCSkeys.GenMACCSKeys(m) for m in moldf_ws]"
   ]
  },
  {
   "cell_type": "code",
   "execution_count": 22,
   "metadata": {},
   "outputs": [],
   "source": [
    "def rdkit_numpy_convert(fp_tr):\n",
    "    output = []\n",
    "    for f in fp_tr:\n",
    "        arr = np.zeros((1,))\n",
    "        DataStructs.ConvertToNumpyArray(f, arr)\n",
    "        output.append(arr)\n",
    "    return np.asarray(output)"
   ]
  },
  {
   "cell_type": "code",
   "execution_count": 23,
   "metadata": {},
   "outputs": [],
   "source": [
    "from numpy import savetxt\n",
    "x_tr = rdkit_numpy_convert(fp_tr)"
   ]
  },
  {
   "cell_type": "code",
   "execution_count": 24,
   "metadata": {},
   "outputs": [],
   "source": [
    "savetxt('Models/MACCS/x_tr_MACCS.csv', x_tr, delimiter=',')"
   ]
  },
  {
   "cell_type": "code",
   "execution_count": 25,
   "metadata": {},
   "outputs": [
    {
     "data": {
      "text/plain": [
       "(1400, 167)"
      ]
     },
     "execution_count": 25,
     "metadata": {},
     "output_type": "execute_result"
    }
   ],
   "source": [
    "x_tr.shape"
   ]
  },
  {
   "cell_type": "markdown",
   "metadata": {},
   "source": [
    "## Calculation  MACCS Fingerprint for test set"
   ]
  },
  {
   "cell_type": "code",
   "execution_count": 26,
   "metadata": {},
   "outputs": [],
   "source": [
    "fp_ts = [MACCSkeys.GenMACCSKeys(m) for m in moldf_ts]"
   ]
  },
  {
   "cell_type": "code",
   "execution_count": 27,
   "metadata": {},
   "outputs": [],
   "source": [
    "def rdkit_numpy_convert(fp_ts):\n",
    "    output = []\n",
    "    for f in fp_ts:\n",
    "        arr = np.zeros((1,))\n",
    "        DataStructs.ConvertToNumpyArray(f, arr)\n",
    "        output.append(arr)\n",
    "    return np.asarray(output)"
   ]
  },
  {
   "cell_type": "code",
   "execution_count": 28,
   "metadata": {},
   "outputs": [],
   "source": [
    "x_ts = rdkit_numpy_convert(fp_ts)"
   ]
  },
  {
   "cell_type": "code",
   "execution_count": 29,
   "metadata": {},
   "outputs": [
    {
     "data": {
      "text/plain": [
       "(351, 167)"
      ]
     },
     "execution_count": 29,
     "metadata": {},
     "output_type": "execute_result"
    }
   ],
   "source": [
    "x_ts.shape"
   ]
  },
  {
   "cell_type": "code",
   "execution_count": 30,
   "metadata": {},
   "outputs": [],
   "source": [
    "x_tr = np.array(x_tr, dtype=np.float32)\n",
    "y_tr = np.array(y_tr, dtype=np.float32)"
   ]
  },
  {
   "cell_type": "code",
   "execution_count": null,
   "metadata": {},
   "outputs": [],
   "source": []
  },
  {
   "cell_type": "markdown",
   "metadata": {},
   "source": [
    "# load the models from disk"
   ]
  },
  {
   "cell_type": "code",
   "execution_count": 31,
   "metadata": {},
   "outputs": [],
   "source": [
    "best_svm = pickle.load(open('Models/MACCS/HDAC3_SVM_MACCS.pkl', 'rb'))"
   ]
  },
  {
   "cell_type": "code",
   "execution_count": 32,
   "metadata": {},
   "outputs": [],
   "source": [
    "best_gbr = pickle.load(open('Models/MACCS/HDAC3_GBR_MACCS.pkl', 'rb'))"
   ]
  },
  {
   "cell_type": "markdown",
   "metadata": {},
   "source": [
    "# Prediction for CV"
   ]
  },
  {
   "cell_type": "code",
   "execution_count": 33,
   "metadata": {},
   "outputs": [],
   "source": [
    "seed = 42\n",
    "cv=KFold(n_splits=5, random_state=seed, shuffle=True)"
   ]
  },
  {
   "cell_type": "code",
   "execution_count": 34,
   "metadata": {},
   "outputs": [],
   "source": [
    "y_pred_CV_svm = cross_val_predict(best_svm, x_tr, y_tr, cv=cv)"
   ]
  },
  {
   "cell_type": "code",
   "execution_count": 35,
   "metadata": {},
   "outputs": [],
   "source": [
    "y_pred_CV_gbr = cross_val_predict(best_gbr, x_tr, y_tr, cv=cv)"
   ]
  },
  {
   "cell_type": "code",
   "execution_count": 36,
   "metadata": {},
   "outputs": [],
   "source": [
    "y_pred_con=(y_pred_CV_svm+y_pred_CV_gbr)/2"
   ]
  },
  {
   "cell_type": "code",
   "execution_count": 37,
   "metadata": {},
   "outputs": [
    {
     "data": {
      "text/plain": [
       "0.65"
      ]
     },
     "execution_count": 37,
     "metadata": {},
     "output_type": "execute_result"
    }
   ],
   "source": [
    "Q2_CV = round(r2_score(y_tr, y_pred_con), 2)\n",
    "Q2_CV"
   ]
  },
  {
   "cell_type": "code",
   "execution_count": 38,
   "metadata": {},
   "outputs": [
    {
     "data": {
      "text/plain": [
       "0.72"
      ]
     },
     "execution_count": 38,
     "metadata": {},
     "output_type": "execute_result"
    }
   ],
   "source": [
    "RMSE_CV=round(np.sqrt(mean_squared_error(y_tr, y_pred_con)),2)\n",
    "RMSE_CV"
   ]
  },
  {
   "cell_type": "markdown",
   "metadata": {},
   "source": [
    "# Prediction for test set's molecules"
   ]
  },
  {
   "cell_type": "code",
   "execution_count": 39,
   "metadata": {},
   "outputs": [],
   "source": [
    "x_ts = np.array(x_ts, dtype=np.float32)\n",
    "y_ts = np.array(y_ts, dtype=np.float32)"
   ]
  },
  {
   "cell_type": "code",
   "execution_count": 40,
   "metadata": {},
   "outputs": [],
   "source": [
    "y_pred_svm = best_svm.predict(x_ts)"
   ]
  },
  {
   "cell_type": "code",
   "execution_count": 41,
   "metadata": {},
   "outputs": [],
   "source": [
    "y_pred_gbr = best_gbr.predict(x_ts)"
   ]
  },
  {
   "cell_type": "code",
   "execution_count": 42,
   "metadata": {},
   "outputs": [
    {
     "data": {
      "text/plain": [
       "array([4.79640638, 4.75204972, 6.04487108, 6.06306689, 4.42571397,\n",
       "       4.87845649, 5.14254134, 4.88647371, 5.32838866, 4.86429395,\n",
       "       6.02858486, 4.87665135, 5.52812607, 5.2486104 , 5.28944772,\n",
       "       5.47861364, 4.49922622, 5.94515092, 6.58184013, 4.91087555,\n",
       "       4.9631871 , 7.02123526, 6.3068903 , 5.14586064, 5.2455138 ,\n",
       "       5.10575487, 5.80295802, 5.03087249, 5.16072819, 5.39839116,\n",
       "       5.45164341, 5.46950102, 5.89154704, 5.75426664, 5.62231332,\n",
       "       5.18863533, 6.32958176, 4.90672449, 6.23311262, 5.7960439 ,\n",
       "       7.48768521, 6.64007824, 5.17999387, 6.37990916, 4.84020458,\n",
       "       6.11439643, 5.61532701, 5.26400584, 5.84664748, 5.1321642 ,\n",
       "       6.7265028 , 5.71207233, 4.09580044, 5.74379806, 5.20364787,\n",
       "       6.23663239, 5.72396079, 6.64856494, 6.13465317, 5.23921604,\n",
       "       5.52631173, 6.48301395, 5.88391189, 5.17034246, 5.70460093,\n",
       "       5.21380033, 5.43303779, 6.56680726, 5.49085941, 5.6426492 ,\n",
       "       5.26169296, 5.51520531, 5.90869509, 6.17132466, 5.875984  ,\n",
       "       6.32468872, 5.82778181, 5.57997159, 5.91834965, 5.48058127,\n",
       "       6.25132156, 5.44435038, 6.05412315, 5.38915291, 5.96891262,\n",
       "       6.35367516, 5.70220211, 5.99108439, 6.09880915, 6.28073028,\n",
       "       5.57847336, 6.11327223, 6.77343455, 6.44116232, 5.73358799,\n",
       "       6.04724436, 6.01433476, 6.44399784, 6.32468872, 5.87783044,\n",
       "       5.88777714, 6.63803183, 6.98846857, 6.19324958, 5.70403858,\n",
       "       5.96957612, 6.18598013, 6.47319506, 5.94063301, 6.44703496,\n",
       "       6.62348936, 5.84845684, 6.3824071 , 5.81772408, 7.10889824,\n",
       "       6.18862515, 6.2433292 , 7.23753442, 6.58608596, 6.31481522,\n",
       "       6.78200561, 6.96593956, 6.85026185, 7.2710299 , 5.78760463,\n",
       "       6.409357  , 6.95155001, 6.99922237, 6.10447306, 6.36442316,\n",
       "       6.27834768, 6.10717383, 6.63246559, 6.11549936, 6.45850801,\n",
       "       6.21369552, 5.98561424, 6.66057335, 6.38073234, 5.61226715,\n",
       "       6.04400596, 6.46438847, 6.32541034, 5.99686174, 6.09880915,\n",
       "       6.17465236, 5.88561335, 6.68465991, 6.36619105, 7.27842762,\n",
       "       6.59939554, 6.06768811, 8.28593258, 6.89114231, 5.99035486,\n",
       "       6.73783997, 6.64263438, 6.19162824, 6.48993691, 6.98383891,\n",
       "       5.99686174, 6.50283742, 6.70556513, 7.28707921, 6.14441134,\n",
       "       6.28694734, 6.93020362, 7.01446971, 6.28694734, 6.58601209,\n",
       "       6.80664874, 6.85502162, 6.46070575, 8.97735899, 6.75288254,\n",
       "       6.17248616, 6.77791466, 7.24063083, 6.38432334, 6.30803678,\n",
       "       6.62235549, 6.99143912, 7.37445948, 6.51250525, 7.01446971,\n",
       "       6.6137326 , 6.82581958, 6.61534702, 6.62399474, 7.50055557,\n",
       "       5.64278324, 6.5338648 , 7.31051439, 6.45498502, 7.83449971,\n",
       "       6.22713772, 6.2377834 , 6.09880915, 6.54531409, 6.63962003,\n",
       "       6.34228725, 6.54195872, 7.02573108, 6.63621035, 6.07713084,\n",
       "       7.08653188, 7.44265381, 7.54042177, 6.99776632, 7.90238548,\n",
       "       6.49975357, 6.53643431, 6.18809557, 7.85568924, 6.79529207,\n",
       "       6.95675172, 6.09880915, 6.98396193, 6.63376661, 6.23533391,\n",
       "       7.06097355, 7.25268916, 6.47183235, 7.16393738, 7.14278934,\n",
       "       5.95280877, 8.44595061, 5.89770362, 7.64853098, 6.35586731,\n",
       "       6.49552957, 7.17656358, 7.27961151, 7.18866119, 6.38637767,\n",
       "       6.6479472 , 5.94817773, 7.14123092, 8.75099605, 6.46085834,\n",
       "       6.20848052, 5.65055976, 6.99765584, 5.93449581, 7.729113  ,\n",
       "       6.1732792 , 7.64186557, 8.45570083, 7.290487  , 6.32678514,\n",
       "       7.01274114, 6.99271222, 7.25754548, 7.43320826, 7.15680749,\n",
       "       6.63621035, 7.098916  , 7.81383411, 7.53929675, 8.03523712,\n",
       "       7.82490872, 6.75168659, 7.65296415, 7.36182716, 7.33073555,\n",
       "       6.69682152, 7.41839037, 6.5612263 , 7.08102739, 7.29599599,\n",
       "       6.68878369, 7.84889431, 6.86159078, 7.11870728, 7.01390001,\n",
       "       7.55874215, 8.2822115 , 7.44833468, 7.36410907, 7.37783728,\n",
       "       7.00419963, 7.44833468, 7.74574342, 7.23726813, 8.65970408,\n",
       "       6.93262345, 7.87925416, 7.85322059, 5.87742127, 7.85544979,\n",
       "       8.59104978, 9.46872881, 8.53858504, 8.09880535, 6.34573885,\n",
       "       8.42926922, 7.57361842, 7.55207714, 8.65970408, 8.04986471,\n",
       "       8.48019965, 8.02412243, 6.3009796 , 8.27195336, 7.82829764,\n",
       "       7.09353167, 9.01430208, 9.10486823, 7.89494473, 7.67335649,\n",
       "       7.07046124, 8.49124812, 7.85544979, 8.08816604, 6.94414268,\n",
       "       6.51756115, 7.66169016, 7.74574342, 7.63552019, 6.70531275,\n",
       "       7.94270497, 8.30404324, 7.4765836 , 9.77383854, 6.47987583,\n",
       "       8.5008709 , 8.46411769, 8.54308466, 8.54724   , 8.61946302,\n",
       "       8.07387991, 8.99451882, 8.9449745 , 7.99860422, 8.04436207,\n",
       "       8.92906692, 8.93871571, 8.33047464, 9.13132688, 9.28180688,\n",
       "       8.73382477, 9.15219432, 9.29035055, 9.22658776, 8.94548577,\n",
       "       9.581547  , 8.71023111, 8.79580066, 9.10486823, 9.06990403,\n",
       "       8.16286271])"
      ]
     },
     "execution_count": 42,
     "metadata": {},
     "output_type": "execute_result"
    }
   ],
   "source": [
    "y_pred_gbr"
   ]
  },
  {
   "cell_type": "code",
   "execution_count": 43,
   "metadata": {},
   "outputs": [],
   "source": [
    "y_pred_con=(y_pred_svm+y_pred_gbr)/2"
   ]
  },
  {
   "cell_type": "code",
   "execution_count": 44,
   "metadata": {},
   "outputs": [
    {
     "data": {
      "text/plain": [
       "0.68"
      ]
     },
     "execution_count": 44,
     "metadata": {},
     "output_type": "execute_result"
    }
   ],
   "source": [
    "Q2_TS = round(r2_score(y_ts, y_pred_con), 2)\n",
    "Q2_TS"
   ]
  },
  {
   "cell_type": "code",
   "execution_count": 46,
   "metadata": {},
   "outputs": [
    {
     "data": {
      "text/plain": [
       "0.69"
      ]
     },
     "execution_count": 46,
     "metadata": {},
     "output_type": "execute_result"
    }
   ],
   "source": [
    "RMSE_TS=round(np.sqrt(mean_squared_error(y_ts, y_pred_con)), 2)\n",
    "RMSE_TS"
   ]
  },
  {
   "cell_type": "markdown",
   "metadata": {},
   "source": [
    "# Estimating applicability domain. Method - Euclidian distances, K=1"
   ]
  },
  {
   "cell_type": "code",
   "execution_count": 47,
   "metadata": {},
   "outputs": [],
   "source": [
    "neighbors_k= pairwise_distances(x_tr, n_jobs=-1)\n",
    "neighbors_k.sort(0)"
   ]
  },
  {
   "cell_type": "code",
   "execution_count": 48,
   "metadata": {},
   "outputs": [
    {
     "data": {
      "text/html": [
       "<div>\n",
       "<style scoped>\n",
       "    .dataframe tbody tr th:only-of-type {\n",
       "        vertical-align: middle;\n",
       "    }\n",
       "\n",
       "    .dataframe tbody tr th {\n",
       "        vertical-align: top;\n",
       "    }\n",
       "\n",
       "    .dataframe thead th {\n",
       "        text-align: right;\n",
       "    }\n",
       "</style>\n",
       "<table border=\"1\" class=\"dataframe\">\n",
       "  <thead>\n",
       "    <tr style=\"text-align: right;\">\n",
       "      <th></th>\n",
       "      <th>0</th>\n",
       "      <th>1</th>\n",
       "      <th>2</th>\n",
       "      <th>3</th>\n",
       "      <th>4</th>\n",
       "      <th>5</th>\n",
       "      <th>6</th>\n",
       "      <th>7</th>\n",
       "      <th>8</th>\n",
       "      <th>9</th>\n",
       "      <th>...</th>\n",
       "      <th>1390</th>\n",
       "      <th>1391</th>\n",
       "      <th>1392</th>\n",
       "      <th>1393</th>\n",
       "      <th>1394</th>\n",
       "      <th>1395</th>\n",
       "      <th>1396</th>\n",
       "      <th>1397</th>\n",
       "      <th>1398</th>\n",
       "      <th>1399</th>\n",
       "    </tr>\n",
       "  </thead>\n",
       "  <tbody>\n",
       "    <tr>\n",
       "      <th>0</th>\n",
       "      <td>0.000000</td>\n",
       "      <td>0.000000</td>\n",
       "      <td>0.000000</td>\n",
       "      <td>0.000000</td>\n",
       "      <td>0.000000</td>\n",
       "      <td>0.000000</td>\n",
       "      <td>0.000000</td>\n",
       "      <td>0.000000</td>\n",
       "      <td>0.000000</td>\n",
       "      <td>0.000000</td>\n",
       "      <td>...</td>\n",
       "      <td>0.000000</td>\n",
       "      <td>0.000000</td>\n",
       "      <td>0.000000</td>\n",
       "      <td>0.000000</td>\n",
       "      <td>0.000000</td>\n",
       "      <td>0.000000</td>\n",
       "      <td>0.000000</td>\n",
       "      <td>0.000000</td>\n",
       "      <td>0.000000</td>\n",
       "      <td>0.000000</td>\n",
       "    </tr>\n",
       "    <tr>\n",
       "      <th>1</th>\n",
       "      <td>0.000000</td>\n",
       "      <td>0.000000</td>\n",
       "      <td>0.000000</td>\n",
       "      <td>2.000000</td>\n",
       "      <td>2.449490</td>\n",
       "      <td>1.414214</td>\n",
       "      <td>2.645751</td>\n",
       "      <td>3.316625</td>\n",
       "      <td>3.000000</td>\n",
       "      <td>2.000000</td>\n",
       "      <td>...</td>\n",
       "      <td>3.162278</td>\n",
       "      <td>2.236068</td>\n",
       "      <td>1.414214</td>\n",
       "      <td>1.000000</td>\n",
       "      <td>1.414214</td>\n",
       "      <td>1.414214</td>\n",
       "      <td>1.000000</td>\n",
       "      <td>0.000000</td>\n",
       "      <td>3.464102</td>\n",
       "      <td>0.000000</td>\n",
       "    </tr>\n",
       "    <tr>\n",
       "      <th>2</th>\n",
       "      <td>1.000000</td>\n",
       "      <td>0.000000</td>\n",
       "      <td>3.000000</td>\n",
       "      <td>2.645751</td>\n",
       "      <td>3.872983</td>\n",
       "      <td>3.316625</td>\n",
       "      <td>3.000000</td>\n",
       "      <td>3.605551</td>\n",
       "      <td>3.605551</td>\n",
       "      <td>2.645751</td>\n",
       "      <td>...</td>\n",
       "      <td>3.464102</td>\n",
       "      <td>2.828427</td>\n",
       "      <td>1.414214</td>\n",
       "      <td>1.000000</td>\n",
       "      <td>1.414214</td>\n",
       "      <td>1.414214</td>\n",
       "      <td>1.000000</td>\n",
       "      <td>0.000000</td>\n",
       "      <td>4.000000</td>\n",
       "      <td>0.000000</td>\n",
       "    </tr>\n",
       "    <tr>\n",
       "      <th>3</th>\n",
       "      <td>1.000000</td>\n",
       "      <td>0.000000</td>\n",
       "      <td>3.000000</td>\n",
       "      <td>3.000000</td>\n",
       "      <td>3.872983</td>\n",
       "      <td>3.464102</td>\n",
       "      <td>3.741657</td>\n",
       "      <td>3.741657</td>\n",
       "      <td>3.741657</td>\n",
       "      <td>2.828427</td>\n",
       "      <td>...</td>\n",
       "      <td>3.605551</td>\n",
       "      <td>3.464102</td>\n",
       "      <td>1.732051</td>\n",
       "      <td>1.000000</td>\n",
       "      <td>1.414214</td>\n",
       "      <td>1.414214</td>\n",
       "      <td>1.000000</td>\n",
       "      <td>1.000000</td>\n",
       "      <td>4.242640</td>\n",
       "      <td>2.000000</td>\n",
       "    </tr>\n",
       "    <tr>\n",
       "      <th>4</th>\n",
       "      <td>1.000000</td>\n",
       "      <td>1.000000</td>\n",
       "      <td>3.316625</td>\n",
       "      <td>3.162278</td>\n",
       "      <td>4.690416</td>\n",
       "      <td>3.464102</td>\n",
       "      <td>3.872983</td>\n",
       "      <td>3.741657</td>\n",
       "      <td>3.741657</td>\n",
       "      <td>2.828427</td>\n",
       "      <td>...</td>\n",
       "      <td>3.741657</td>\n",
       "      <td>3.605551</td>\n",
       "      <td>2.000000</td>\n",
       "      <td>1.000000</td>\n",
       "      <td>1.414214</td>\n",
       "      <td>1.414214</td>\n",
       "      <td>1.000000</td>\n",
       "      <td>1.414214</td>\n",
       "      <td>4.358899</td>\n",
       "      <td>2.236068</td>\n",
       "    </tr>\n",
       "    <tr>\n",
       "      <th>...</th>\n",
       "      <td>...</td>\n",
       "      <td>...</td>\n",
       "      <td>...</td>\n",
       "      <td>...</td>\n",
       "      <td>...</td>\n",
       "      <td>...</td>\n",
       "      <td>...</td>\n",
       "      <td>...</td>\n",
       "      <td>...</td>\n",
       "      <td>...</td>\n",
       "      <td>...</td>\n",
       "      <td>...</td>\n",
       "      <td>...</td>\n",
       "      <td>...</td>\n",
       "      <td>...</td>\n",
       "      <td>...</td>\n",
       "      <td>...</td>\n",
       "      <td>...</td>\n",
       "      <td>...</td>\n",
       "      <td>...</td>\n",
       "      <td>...</td>\n",
       "    </tr>\n",
       "    <tr>\n",
       "      <th>1395</th>\n",
       "      <td>7.874008</td>\n",
       "      <td>7.615773</td>\n",
       "      <td>7.937254</td>\n",
       "      <td>7.874008</td>\n",
       "      <td>8.062258</td>\n",
       "      <td>8.062258</td>\n",
       "      <td>7.874008</td>\n",
       "      <td>7.549834</td>\n",
       "      <td>8.062258</td>\n",
       "      <td>7.937254</td>\n",
       "      <td>...</td>\n",
       "      <td>7.745967</td>\n",
       "      <td>7.745967</td>\n",
       "      <td>8.246211</td>\n",
       "      <td>8.246211</td>\n",
       "      <td>8.366600</td>\n",
       "      <td>8.485281</td>\n",
       "      <td>8.306623</td>\n",
       "      <td>8.366600</td>\n",
       "      <td>8.306623</td>\n",
       "      <td>8.426149</td>\n",
       "    </tr>\n",
       "    <tr>\n",
       "      <th>1396</th>\n",
       "      <td>7.874008</td>\n",
       "      <td>7.745967</td>\n",
       "      <td>8.000000</td>\n",
       "      <td>7.874008</td>\n",
       "      <td>8.062258</td>\n",
       "      <td>8.124039</td>\n",
       "      <td>7.874008</td>\n",
       "      <td>7.549834</td>\n",
       "      <td>8.185352</td>\n",
       "      <td>8.000000</td>\n",
       "      <td>...</td>\n",
       "      <td>7.745967</td>\n",
       "      <td>7.745967</td>\n",
       "      <td>8.246211</td>\n",
       "      <td>8.246211</td>\n",
       "      <td>8.366600</td>\n",
       "      <td>8.485281</td>\n",
       "      <td>8.366600</td>\n",
       "      <td>8.426149</td>\n",
       "      <td>8.366600</td>\n",
       "      <td>8.426149</td>\n",
       "    </tr>\n",
       "    <tr>\n",
       "      <th>1397</th>\n",
       "      <td>8.000000</td>\n",
       "      <td>7.745967</td>\n",
       "      <td>8.426149</td>\n",
       "      <td>8.000000</td>\n",
       "      <td>8.062258</td>\n",
       "      <td>8.124039</td>\n",
       "      <td>8.000000</td>\n",
       "      <td>7.615773</td>\n",
       "      <td>8.185352</td>\n",
       "      <td>8.062258</td>\n",
       "      <td>...</td>\n",
       "      <td>7.745967</td>\n",
       "      <td>7.810250</td>\n",
       "      <td>8.426149</td>\n",
       "      <td>8.246211</td>\n",
       "      <td>8.426149</td>\n",
       "      <td>8.544003</td>\n",
       "      <td>8.485281</td>\n",
       "      <td>8.544003</td>\n",
       "      <td>8.366600</td>\n",
       "      <td>8.544003</td>\n",
       "    </tr>\n",
       "    <tr>\n",
       "      <th>1398</th>\n",
       "      <td>8.062258</td>\n",
       "      <td>7.810250</td>\n",
       "      <td>8.485281</td>\n",
       "      <td>8.062258</td>\n",
       "      <td>8.185352</td>\n",
       "      <td>8.124039</td>\n",
       "      <td>8.000000</td>\n",
       "      <td>7.615773</td>\n",
       "      <td>8.185352</td>\n",
       "      <td>8.062258</td>\n",
       "      <td>...</td>\n",
       "      <td>7.810250</td>\n",
       "      <td>7.874008</td>\n",
       "      <td>8.426149</td>\n",
       "      <td>8.306623</td>\n",
       "      <td>8.426149</td>\n",
       "      <td>8.544003</td>\n",
       "      <td>8.602325</td>\n",
       "      <td>8.660254</td>\n",
       "      <td>8.544003</td>\n",
       "      <td>8.544003</td>\n",
       "    </tr>\n",
       "    <tr>\n",
       "      <th>1399</th>\n",
       "      <td>8.124039</td>\n",
       "      <td>7.874008</td>\n",
       "      <td>8.602325</td>\n",
       "      <td>8.124039</td>\n",
       "      <td>8.185352</td>\n",
       "      <td>8.306623</td>\n",
       "      <td>8.185352</td>\n",
       "      <td>7.810250</td>\n",
       "      <td>8.306623</td>\n",
       "      <td>8.062258</td>\n",
       "      <td>...</td>\n",
       "      <td>8.185352</td>\n",
       "      <td>7.874008</td>\n",
       "      <td>8.426149</td>\n",
       "      <td>8.306623</td>\n",
       "      <td>8.544003</td>\n",
       "      <td>8.660254</td>\n",
       "      <td>8.602325</td>\n",
       "      <td>8.660254</td>\n",
       "      <td>8.544003</td>\n",
       "      <td>8.544003</td>\n",
       "    </tr>\n",
       "  </tbody>\n",
       "</table>\n",
       "<p>1400 rows × 1400 columns</p>\n",
       "</div>"
      ],
      "text/plain": [
       "          0         1         2         3         4         5         6     \\\n",
       "0     0.000000  0.000000  0.000000  0.000000  0.000000  0.000000  0.000000   \n",
       "1     0.000000  0.000000  0.000000  2.000000  2.449490  1.414214  2.645751   \n",
       "2     1.000000  0.000000  3.000000  2.645751  3.872983  3.316625  3.000000   \n",
       "3     1.000000  0.000000  3.000000  3.000000  3.872983  3.464102  3.741657   \n",
       "4     1.000000  1.000000  3.316625  3.162278  4.690416  3.464102  3.872983   \n",
       "...        ...       ...       ...       ...       ...       ...       ...   \n",
       "1395  7.874008  7.615773  7.937254  7.874008  8.062258  8.062258  7.874008   \n",
       "1396  7.874008  7.745967  8.000000  7.874008  8.062258  8.124039  7.874008   \n",
       "1397  8.000000  7.745967  8.426149  8.000000  8.062258  8.124039  8.000000   \n",
       "1398  8.062258  7.810250  8.485281  8.062258  8.185352  8.124039  8.000000   \n",
       "1399  8.124039  7.874008  8.602325  8.124039  8.185352  8.306623  8.185352   \n",
       "\n",
       "          7         8         9     ...      1390      1391      1392  \\\n",
       "0     0.000000  0.000000  0.000000  ...  0.000000  0.000000  0.000000   \n",
       "1     3.316625  3.000000  2.000000  ...  3.162278  2.236068  1.414214   \n",
       "2     3.605551  3.605551  2.645751  ...  3.464102  2.828427  1.414214   \n",
       "3     3.741657  3.741657  2.828427  ...  3.605551  3.464102  1.732051   \n",
       "4     3.741657  3.741657  2.828427  ...  3.741657  3.605551  2.000000   \n",
       "...        ...       ...       ...  ...       ...       ...       ...   \n",
       "1395  7.549834  8.062258  7.937254  ...  7.745967  7.745967  8.246211   \n",
       "1396  7.549834  8.185352  8.000000  ...  7.745967  7.745967  8.246211   \n",
       "1397  7.615773  8.185352  8.062258  ...  7.745967  7.810250  8.426149   \n",
       "1398  7.615773  8.185352  8.062258  ...  7.810250  7.874008  8.426149   \n",
       "1399  7.810250  8.306623  8.062258  ...  8.185352  7.874008  8.426149   \n",
       "\n",
       "          1393      1394      1395      1396      1397      1398      1399  \n",
       "0     0.000000  0.000000  0.000000  0.000000  0.000000  0.000000  0.000000  \n",
       "1     1.000000  1.414214  1.414214  1.000000  0.000000  3.464102  0.000000  \n",
       "2     1.000000  1.414214  1.414214  1.000000  0.000000  4.000000  0.000000  \n",
       "3     1.000000  1.414214  1.414214  1.000000  1.000000  4.242640  2.000000  \n",
       "4     1.000000  1.414214  1.414214  1.000000  1.414214  4.358899  2.236068  \n",
       "...        ...       ...       ...       ...       ...       ...       ...  \n",
       "1395  8.246211  8.366600  8.485281  8.306623  8.366600  8.306623  8.426149  \n",
       "1396  8.246211  8.366600  8.485281  8.366600  8.426149  8.366600  8.426149  \n",
       "1397  8.246211  8.426149  8.544003  8.485281  8.544003  8.366600  8.544003  \n",
       "1398  8.306623  8.426149  8.544003  8.602325  8.660254  8.544003  8.544003  \n",
       "1399  8.306623  8.544003  8.660254  8.602325  8.660254  8.544003  8.544003  \n",
       "\n",
       "[1400 rows x 1400 columns]"
      ]
     },
     "execution_count": 48,
     "metadata": {},
     "output_type": "execute_result"
    }
   ],
   "source": [
    "df_tr=pd.DataFrame(neighbors_k)\n",
    "df_tr"
   ]
  },
  {
   "cell_type": "code",
   "execution_count": 49,
   "metadata": {},
   "outputs": [],
   "source": [
    "similarity= neighbors_k"
   ]
  },
  {
   "cell_type": "code",
   "execution_count": 50,
   "metadata": {},
   "outputs": [],
   "source": [
    "Dmean=np.mean(similarity[1,:])"
   ]
  },
  {
   "cell_type": "code",
   "execution_count": 51,
   "metadata": {},
   "outputs": [
    {
     "data": {
      "text/plain": [
       "1.52"
      ]
     },
     "execution_count": 51,
     "metadata": {},
     "output_type": "execute_result"
    }
   ],
   "source": [
    "round(Dmean, 2)"
   ]
  },
  {
   "cell_type": "code",
   "execution_count": 52,
   "metadata": {},
   "outputs": [],
   "source": [
    "std=np.std(similarity[1,:])"
   ]
  },
  {
   "cell_type": "code",
   "execution_count": 53,
   "metadata": {},
   "outputs": [
    {
     "data": {
      "text/plain": [
       "1.21"
      ]
     },
     "execution_count": 53,
     "metadata": {},
     "output_type": "execute_result"
    }
   ],
   "source": [
    "round(std, 2)"
   ]
  },
  {
   "cell_type": "code",
   "execution_count": 54,
   "metadata": {},
   "outputs": [
    {
     "name": "stdout",
     "output_type": "stream",
     "text": [
      "2.12\n"
     ]
    }
   ],
   "source": [
    "model_AD_limit=Dmean+std*0.5\n",
    "print(np.round(model_AD_limit, 2))"
   ]
  },
  {
   "cell_type": "code",
   "execution_count": 55,
   "metadata": {},
   "outputs": [],
   "source": [
    "neighbors_k_ts= pairwise_distances(x_tr,Y=x_ts, n_jobs=-1)\n",
    "neighbors_k_ts.sort(0)"
   ]
  },
  {
   "cell_type": "code",
   "execution_count": 56,
   "metadata": {},
   "outputs": [
    {
     "data": {
      "text/html": [
       "<div>\n",
       "<style scoped>\n",
       "    .dataframe tbody tr th:only-of-type {\n",
       "        vertical-align: middle;\n",
       "    }\n",
       "\n",
       "    .dataframe tbody tr th {\n",
       "        vertical-align: top;\n",
       "    }\n",
       "\n",
       "    .dataframe thead th {\n",
       "        text-align: right;\n",
       "    }\n",
       "</style>\n",
       "<table border=\"1\" class=\"dataframe\">\n",
       "  <thead>\n",
       "    <tr style=\"text-align: right;\">\n",
       "      <th></th>\n",
       "      <th>0</th>\n",
       "      <th>1</th>\n",
       "      <th>2</th>\n",
       "      <th>3</th>\n",
       "      <th>4</th>\n",
       "      <th>5</th>\n",
       "      <th>6</th>\n",
       "      <th>7</th>\n",
       "      <th>8</th>\n",
       "      <th>9</th>\n",
       "      <th>...</th>\n",
       "      <th>341</th>\n",
       "      <th>342</th>\n",
       "      <th>343</th>\n",
       "      <th>344</th>\n",
       "      <th>345</th>\n",
       "      <th>346</th>\n",
       "      <th>347</th>\n",
       "      <th>348</th>\n",
       "      <th>349</th>\n",
       "      <th>350</th>\n",
       "    </tr>\n",
       "  </thead>\n",
       "  <tbody>\n",
       "    <tr>\n",
       "      <th>0</th>\n",
       "      <td>0.000000</td>\n",
       "      <td>3.464102</td>\n",
       "      <td>4.472136</td>\n",
       "      <td>2.645751</td>\n",
       "      <td>2.236068</td>\n",
       "      <td>2.645751</td>\n",
       "      <td>2.828427</td>\n",
       "      <td>1.414214</td>\n",
       "      <td>2.645751</td>\n",
       "      <td>3.162278</td>\n",
       "      <td>...</td>\n",
       "      <td>1.414214</td>\n",
       "      <td>2.828427</td>\n",
       "      <td>2.000000</td>\n",
       "      <td>1.414214</td>\n",
       "      <td>0.000000</td>\n",
       "      <td>0.000000</td>\n",
       "      <td>1.732051</td>\n",
       "      <td>0.000000</td>\n",
       "      <td>2.000000</td>\n",
       "      <td>1.414214</td>\n",
       "    </tr>\n",
       "    <tr>\n",
       "      <th>1</th>\n",
       "      <td>0.000000</td>\n",
       "      <td>4.242640</td>\n",
       "      <td>4.690416</td>\n",
       "      <td>2.828427</td>\n",
       "      <td>3.162278</td>\n",
       "      <td>2.828427</td>\n",
       "      <td>2.828427</td>\n",
       "      <td>1.732051</td>\n",
       "      <td>3.000000</td>\n",
       "      <td>3.162278</td>\n",
       "      <td>...</td>\n",
       "      <td>2.000000</td>\n",
       "      <td>3.000000</td>\n",
       "      <td>2.236068</td>\n",
       "      <td>1.732051</td>\n",
       "      <td>0.000000</td>\n",
       "      <td>0.000000</td>\n",
       "      <td>1.732051</td>\n",
       "      <td>1.000000</td>\n",
       "      <td>2.236068</td>\n",
       "      <td>1.732051</td>\n",
       "    </tr>\n",
       "    <tr>\n",
       "      <th>2</th>\n",
       "      <td>0.000000</td>\n",
       "      <td>5.000000</td>\n",
       "      <td>4.690416</td>\n",
       "      <td>2.828427</td>\n",
       "      <td>3.316625</td>\n",
       "      <td>3.605551</td>\n",
       "      <td>3.605551</td>\n",
       "      <td>2.000000</td>\n",
       "      <td>3.162278</td>\n",
       "      <td>3.316625</td>\n",
       "      <td>...</td>\n",
       "      <td>3.000000</td>\n",
       "      <td>3.316625</td>\n",
       "      <td>2.449490</td>\n",
       "      <td>1.732051</td>\n",
       "      <td>0.000000</td>\n",
       "      <td>1.000000</td>\n",
       "      <td>2.000000</td>\n",
       "      <td>1.000000</td>\n",
       "      <td>2.236068</td>\n",
       "      <td>2.236068</td>\n",
       "    </tr>\n",
       "    <tr>\n",
       "      <th>3</th>\n",
       "      <td>1.000000</td>\n",
       "      <td>5.196152</td>\n",
       "      <td>4.795832</td>\n",
       "      <td>3.000000</td>\n",
       "      <td>3.605551</td>\n",
       "      <td>3.741657</td>\n",
       "      <td>3.872983</td>\n",
       "      <td>2.828427</td>\n",
       "      <td>3.316625</td>\n",
       "      <td>3.316625</td>\n",
       "      <td>...</td>\n",
       "      <td>3.316625</td>\n",
       "      <td>3.464102</td>\n",
       "      <td>3.162278</td>\n",
       "      <td>1.732051</td>\n",
       "      <td>2.000000</td>\n",
       "      <td>1.000000</td>\n",
       "      <td>2.000000</td>\n",
       "      <td>1.000000</td>\n",
       "      <td>2.236068</td>\n",
       "      <td>2.236068</td>\n",
       "    </tr>\n",
       "    <tr>\n",
       "      <th>4</th>\n",
       "      <td>1.000000</td>\n",
       "      <td>5.291502</td>\n",
       "      <td>4.795832</td>\n",
       "      <td>3.000000</td>\n",
       "      <td>5.385165</td>\n",
       "      <td>3.741657</td>\n",
       "      <td>4.123106</td>\n",
       "      <td>3.000000</td>\n",
       "      <td>3.464102</td>\n",
       "      <td>3.316625</td>\n",
       "      <td>...</td>\n",
       "      <td>3.316625</td>\n",
       "      <td>3.605551</td>\n",
       "      <td>3.605551</td>\n",
       "      <td>2.000000</td>\n",
       "      <td>2.236068</td>\n",
       "      <td>1.414214</td>\n",
       "      <td>2.236068</td>\n",
       "      <td>1.000000</td>\n",
       "      <td>2.236068</td>\n",
       "      <td>2.449490</td>\n",
       "    </tr>\n",
       "    <tr>\n",
       "      <th>...</th>\n",
       "      <td>...</td>\n",
       "      <td>...</td>\n",
       "      <td>...</td>\n",
       "      <td>...</td>\n",
       "      <td>...</td>\n",
       "      <td>...</td>\n",
       "      <td>...</td>\n",
       "      <td>...</td>\n",
       "      <td>...</td>\n",
       "      <td>...</td>\n",
       "      <td>...</td>\n",
       "      <td>...</td>\n",
       "      <td>...</td>\n",
       "      <td>...</td>\n",
       "      <td>...</td>\n",
       "      <td>...</td>\n",
       "      <td>...</td>\n",
       "      <td>...</td>\n",
       "      <td>...</td>\n",
       "      <td>...</td>\n",
       "      <td>...</td>\n",
       "    </tr>\n",
       "    <tr>\n",
       "      <th>1395</th>\n",
       "      <td>7.937254</td>\n",
       "      <td>7.874008</td>\n",
       "      <td>8.185352</td>\n",
       "      <td>7.874008</td>\n",
       "      <td>8.544003</td>\n",
       "      <td>8.185352</td>\n",
       "      <td>8.306623</td>\n",
       "      <td>8.185352</td>\n",
       "      <td>7.810250</td>\n",
       "      <td>8.306623</td>\n",
       "      <td>...</td>\n",
       "      <td>7.681146</td>\n",
       "      <td>7.874008</td>\n",
       "      <td>7.615773</td>\n",
       "      <td>8.485281</td>\n",
       "      <td>8.426149</td>\n",
       "      <td>8.485281</td>\n",
       "      <td>8.185352</td>\n",
       "      <td>8.185352</td>\n",
       "      <td>8.185352</td>\n",
       "      <td>8.062258</td>\n",
       "    </tr>\n",
       "    <tr>\n",
       "      <th>1396</th>\n",
       "      <td>7.937254</td>\n",
       "      <td>7.874008</td>\n",
       "      <td>8.185352</td>\n",
       "      <td>7.937254</td>\n",
       "      <td>8.544003</td>\n",
       "      <td>8.246211</td>\n",
       "      <td>8.306623</td>\n",
       "      <td>8.660254</td>\n",
       "      <td>7.810250</td>\n",
       "      <td>8.366600</td>\n",
       "      <td>...</td>\n",
       "      <td>7.681146</td>\n",
       "      <td>7.874008</td>\n",
       "      <td>7.681146</td>\n",
       "      <td>8.485281</td>\n",
       "      <td>8.426149</td>\n",
       "      <td>8.485281</td>\n",
       "      <td>8.185352</td>\n",
       "      <td>8.185352</td>\n",
       "      <td>8.246211</td>\n",
       "      <td>8.062258</td>\n",
       "    </tr>\n",
       "    <tr>\n",
       "      <th>1397</th>\n",
       "      <td>8.062258</td>\n",
       "      <td>7.874008</td>\n",
       "      <td>8.246211</td>\n",
       "      <td>8.000000</td>\n",
       "      <td>8.602325</td>\n",
       "      <td>8.246211</td>\n",
       "      <td>8.306623</td>\n",
       "      <td>8.660254</td>\n",
       "      <td>7.810250</td>\n",
       "      <td>8.366600</td>\n",
       "      <td>...</td>\n",
       "      <td>7.745967</td>\n",
       "      <td>7.937254</td>\n",
       "      <td>7.745967</td>\n",
       "      <td>8.485281</td>\n",
       "      <td>8.544003</td>\n",
       "      <td>8.660254</td>\n",
       "      <td>8.366600</td>\n",
       "      <td>8.185352</td>\n",
       "      <td>8.306623</td>\n",
       "      <td>8.062258</td>\n",
       "    </tr>\n",
       "    <tr>\n",
       "      <th>1398</th>\n",
       "      <td>8.124039</td>\n",
       "      <td>7.937254</td>\n",
       "      <td>8.306623</td>\n",
       "      <td>8.000000</td>\n",
       "      <td>8.602325</td>\n",
       "      <td>8.306623</td>\n",
       "      <td>8.306623</td>\n",
       "      <td>8.717798</td>\n",
       "      <td>7.937254</td>\n",
       "      <td>8.366600</td>\n",
       "      <td>...</td>\n",
       "      <td>8.000000</td>\n",
       "      <td>7.937254</td>\n",
       "      <td>7.745967</td>\n",
       "      <td>8.544003</td>\n",
       "      <td>8.544003</td>\n",
       "      <td>8.660254</td>\n",
       "      <td>8.366600</td>\n",
       "      <td>8.246211</td>\n",
       "      <td>8.366600</td>\n",
       "      <td>8.246211</td>\n",
       "    </tr>\n",
       "    <tr>\n",
       "      <th>1399</th>\n",
       "      <td>8.185352</td>\n",
       "      <td>8.062258</td>\n",
       "      <td>8.306623</td>\n",
       "      <td>8.062258</td>\n",
       "      <td>8.717798</td>\n",
       "      <td>8.426149</td>\n",
       "      <td>8.306623</td>\n",
       "      <td>8.774964</td>\n",
       "      <td>8.185352</td>\n",
       "      <td>8.485281</td>\n",
       "      <td>...</td>\n",
       "      <td>8.000000</td>\n",
       "      <td>8.000000</td>\n",
       "      <td>7.874008</td>\n",
       "      <td>8.544003</td>\n",
       "      <td>8.544003</td>\n",
       "      <td>8.660254</td>\n",
       "      <td>8.366600</td>\n",
       "      <td>8.246211</td>\n",
       "      <td>8.366600</td>\n",
       "      <td>8.246211</td>\n",
       "    </tr>\n",
       "  </tbody>\n",
       "</table>\n",
       "<p>1400 rows × 351 columns</p>\n",
       "</div>"
      ],
      "text/plain": [
       "           0         1         2         3         4         5         6    \\\n",
       "0     0.000000  3.464102  4.472136  2.645751  2.236068  2.645751  2.828427   \n",
       "1     0.000000  4.242640  4.690416  2.828427  3.162278  2.828427  2.828427   \n",
       "2     0.000000  5.000000  4.690416  2.828427  3.316625  3.605551  3.605551   \n",
       "3     1.000000  5.196152  4.795832  3.000000  3.605551  3.741657  3.872983   \n",
       "4     1.000000  5.291502  4.795832  3.000000  5.385165  3.741657  4.123106   \n",
       "...        ...       ...       ...       ...       ...       ...       ...   \n",
       "1395  7.937254  7.874008  8.185352  7.874008  8.544003  8.185352  8.306623   \n",
       "1396  7.937254  7.874008  8.185352  7.937254  8.544003  8.246211  8.306623   \n",
       "1397  8.062258  7.874008  8.246211  8.000000  8.602325  8.246211  8.306623   \n",
       "1398  8.124039  7.937254  8.306623  8.000000  8.602325  8.306623  8.306623   \n",
       "1399  8.185352  8.062258  8.306623  8.062258  8.717798  8.426149  8.306623   \n",
       "\n",
       "           7         8         9    ...       341       342       343  \\\n",
       "0     1.414214  2.645751  3.162278  ...  1.414214  2.828427  2.000000   \n",
       "1     1.732051  3.000000  3.162278  ...  2.000000  3.000000  2.236068   \n",
       "2     2.000000  3.162278  3.316625  ...  3.000000  3.316625  2.449490   \n",
       "3     2.828427  3.316625  3.316625  ...  3.316625  3.464102  3.162278   \n",
       "4     3.000000  3.464102  3.316625  ...  3.316625  3.605551  3.605551   \n",
       "...        ...       ...       ...  ...       ...       ...       ...   \n",
       "1395  8.185352  7.810250  8.306623  ...  7.681146  7.874008  7.615773   \n",
       "1396  8.660254  7.810250  8.366600  ...  7.681146  7.874008  7.681146   \n",
       "1397  8.660254  7.810250  8.366600  ...  7.745967  7.937254  7.745967   \n",
       "1398  8.717798  7.937254  8.366600  ...  8.000000  7.937254  7.745967   \n",
       "1399  8.774964  8.185352  8.485281  ...  8.000000  8.000000  7.874008   \n",
       "\n",
       "           344       345       346       347       348       349       350  \n",
       "0     1.414214  0.000000  0.000000  1.732051  0.000000  2.000000  1.414214  \n",
       "1     1.732051  0.000000  0.000000  1.732051  1.000000  2.236068  1.732051  \n",
       "2     1.732051  0.000000  1.000000  2.000000  1.000000  2.236068  2.236068  \n",
       "3     1.732051  2.000000  1.000000  2.000000  1.000000  2.236068  2.236068  \n",
       "4     2.000000  2.236068  1.414214  2.236068  1.000000  2.236068  2.449490  \n",
       "...        ...       ...       ...       ...       ...       ...       ...  \n",
       "1395  8.485281  8.426149  8.485281  8.185352  8.185352  8.185352  8.062258  \n",
       "1396  8.485281  8.426149  8.485281  8.185352  8.185352  8.246211  8.062258  \n",
       "1397  8.485281  8.544003  8.660254  8.366600  8.185352  8.306623  8.062258  \n",
       "1398  8.544003  8.544003  8.660254  8.366600  8.246211  8.366600  8.246211  \n",
       "1399  8.544003  8.544003  8.660254  8.366600  8.246211  8.366600  8.246211  \n",
       "\n",
       "[1400 rows x 351 columns]"
      ]
     },
     "execution_count": 56,
     "metadata": {},
     "output_type": "execute_result"
    }
   ],
   "source": [
    "x_ts_AD=pd.DataFrame(neighbors_k_ts)\n",
    "x_ts_AD"
   ]
  },
  {
   "cell_type": "code",
   "execution_count": 57,
   "metadata": {},
   "outputs": [
    {
     "name": "stdout",
     "output_type": "stream",
     "text": [
      "[0.    3.464 4.472 2.646 2.236 2.646 2.828 1.414 2.646 3.162 2.449 2.\n",
      " 3.606 3.606 3.317 1.    1.414 1.414 2.449 2.236 1.    3.742 2.449 0.\n",
      " 1.414 1.    1.    0.    1.    1.    3.606 1.    2.449 1.414 1.414 1.\n",
      " 2.236 2.    1.414 2.828 3.    3.464 2.449 3.    2.449 1.732 2.236 2.449\n",
      " 1.    1.    2.449 1.414 1.732 0.    1.    4.69  1.    0.    0.    0.\n",
      " 0.    1.    3.    4.69  3.873 0.    3.162 2.    0.    2.646 2.449 1.\n",
      " 1.732 2.    1.414 0.    1.732 1.    1.732 1.    0.    1.    1.732 0.\n",
      " 2.828 0.    1.414 1.    0.    3.742 1.    4.123 1.414 2.236 0.    2.646\n",
      " 1.    0.    0.    1.414 4.899 1.732 3.    0.    1.    0.    2.    0.\n",
      " 1.414 0.    0.    1.414 1.414 1.    2.646 1.    1.    1.    1.732 1.\n",
      " 3.162 1.732 3.    2.449 1.    2.828 1.414 1.414 1.    1.    1.414 3.317\n",
      " 1.    0.    1.414 0.    0.    1.    3.873 1.    3.742 2.236 2.    3.873\n",
      " 0.    2.    1.    1.414 1.414 2.828 2.449 1.414 0.    0.    0.    2.236\n",
      " 2.    2.236 1.    1.414 3.873 0.    0.    2.646 0.    1.414 2.    0.\n",
      " 1.414 1.    0.    0.    0.    0.    0.    3.317 2.646 1.    2.449 1.414\n",
      " 1.732 2.    2.646 1.    0.    0.    1.414 0.    0.    1.    1.414 0.\n",
      " 1.414 1.    2.828 2.236 1.    0.    1.    1.    2.236 0.    0.    0.\n",
      " 1.    3.    0.    1.414 1.732 1.414 1.732 0.    2.    1.    1.    1.\n",
      " 0.    1.414 0.    2.646 2.    1.    0.    1.    2.449 2.    1.732 0.\n",
      " 0.    2.    1.    0.    2.236 0.    1.732 2.    4.243 0.    2.    1.414\n",
      " 2.    3.162 1.732 4.    1.414 1.    0.    1.    2.    2.236 1.    0.\n",
      " 1.414 1.732 0.    0.    0.    0.    0.    0.    2.828 1.    4.472 0.\n",
      " 0.    2.449 0.    0.    0.    1.    0.    1.732 1.    3.317 2.449 0.\n",
      " 3.317 0.    3.317 2.449 2.    0.    1.    1.414 0.    2.646 1.    0.\n",
      " 4.69  1.414 3.    1.    2.236 3.162 2.    3.464 2.236 0.    0.    0.\n",
      " 1.    0.    2.646 1.414 2.    3.    0.    0.    1.    2.236 3.162 2.449\n",
      " 1.414 2.449 3.464 2.    0.    1.    3.742 1.414 1.414 0.    1.732 1.\n",
      " 1.    0.    1.414 0.    1.    1.732 2.828 0.    1.414 0.    1.    0.\n",
      " 1.    2.    1.414 0.    1.414 1.414 2.828 2.    1.414 0.    0.    1.732\n",
      " 0.    2.    1.414]\n"
     ]
    }
   ],
   "source": [
    "similarity_ts= neighbors_k_ts\n",
    "cpd_AD=similarity_ts[0,:]\n",
    "cpd_value = np.round(cpd_AD, 3)\n",
    "print(cpd_value)"
   ]
  },
  {
   "cell_type": "code",
   "execution_count": 58,
   "metadata": {},
   "outputs": [
    {
     "name": "stdout",
     "output_type": "stream",
     "text": [
      "[ True False False False False False False  True False False False  True\n",
      " False False False  True  True  True False False  True False False  True\n",
      "  True  True  True  True  True  True False  True False  True  True  True\n",
      " False  True  True False False False False False False  True False False\n",
      "  True  True False  True  True  True  True False  True  True  True  True\n",
      "  True  True False False False  True False  True  True False False  True\n",
      "  True  True  True  True  True  True  True  True  True  True  True  True\n",
      " False  True  True  True  True False  True False  True False  True False\n",
      "  True  True  True  True False  True False  True  True  True  True  True\n",
      "  True  True  True  True  True  True False  True  True  True  True  True\n",
      " False  True False False  True False  True  True  True  True  True False\n",
      "  True  True  True  True  True  True False  True False False  True False\n",
      "  True  True  True  True  True False False  True  True  True  True False\n",
      "  True False  True  True False  True  True False  True  True  True  True\n",
      "  True  True  True  True  True  True  True False False  True False  True\n",
      "  True  True False  True  True  True  True  True  True  True  True  True\n",
      "  True  True False False  True  True  True  True False  True  True  True\n",
      "  True False  True  True  True  True  True  True  True  True  True  True\n",
      "  True  True  True False  True  True  True  True False  True  True  True\n",
      "  True  True  True  True False  True  True  True False  True  True  True\n",
      "  True False  True False  True  True  True  True  True False  True  True\n",
      "  True  True  True  True  True  True  True  True False  True False  True\n",
      "  True False  True  True  True  True  True  True  True False False  True\n",
      " False  True False False  True  True  True  True  True False  True  True\n",
      " False  True False  True False False  True False False  True  True  True\n",
      "  True  True False  True  True False  True  True  True False False False\n",
      "  True False False  True  True  True False  True  True  True  True  True\n",
      "  True  True  True  True  True  True False  True  True  True  True  True\n",
      "  True  True  True  True  True  True False  True  True  True  True  True\n",
      "  True  True  True]\n"
     ]
    }
   ],
   "source": [
    "cpd_AD = np.where(cpd_value <= model_AD_limit, True, False)\n",
    "print(cpd_AD)"
   ]
  },
  {
   "cell_type": "code",
   "execution_count": 59,
   "metadata": {},
   "outputs": [
    {
     "name": "stdout",
     "output_type": "stream",
     "text": [
      "Coverage =  0.7207977207977208\n"
     ]
    }
   ],
   "source": [
    "print(\"Coverage = \", sum(cpd_AD) / len(cpd_AD))"
   ]
  },
  {
   "cell_type": "code",
   "execution_count": 60,
   "metadata": {},
   "outputs": [
    {
     "name": "stdout",
     "output_type": "stream",
     "text": [
      "Indices of substances included in AD =  [  0   7  11  15  16  17  20  23  24  25  26  27  28  29  31  33  34  35\n",
      "  37  38  45  48  49  51  52  53  54  56  57  58  59  60  61  65  67  68\n",
      "  71  72  73  74  75  76  77  78  79  80  81  82  83  85  86  87  88  90\n",
      "  92  94  96  97  98  99 101 103 104 105 106 107 108 109 110 111 112 113\n",
      " 115 116 117 118 119 121 124 126 127 128 129 130 132 133 134 135 136 137\n",
      " 139 142 144 145 146 147 148 151 152 153 154 156 158 159 161 162 164 165\n",
      " 166 167 168 169 170 171 172 173 174 177 179 180 181 183 184 185 186 187\n",
      " 188 189 190 191 192 193 196 197 198 199 201 202 203 204 206 207 208 209\n",
      " 210 211 212 213 214 215 216 217 218 220 221 222 223 225 226 227 228 229\n",
      " 230 231 233 234 235 237 238 239 240 242 244 245 246 247 248 250 251 252\n",
      " 253 254 255 256 257 258 259 261 263 264 266 267 268 269 270 271 272 275\n",
      " 277 280 281 282 283 284 286 287 289 291 294 297 298 299 300 301 303 304\n",
      " 306 307 308 312 315 316 317 319 320 321 322 323 324 325 326 327 328 329\n",
      " 331 332 333 334 335 336 337 338 339 340 341 343 344 345 346 347 348 349\n",
      " 350]\n"
     ]
    }
   ],
   "source": [
    "print(\"Indices of substances included in AD = \", np.where(cpd_AD != 0)[0])"
   ]
  },
  {
   "cell_type": "code",
   "execution_count": 61,
   "metadata": {},
   "outputs": [],
   "source": [
    "out_Ad=list(np.where(cpd_AD == 0)[0])"
   ]
  },
  {
   "cell_type": "markdown",
   "metadata": {},
   "source": [
    "# Prediction only for molecules included in  AD"
   ]
  },
  {
   "cell_type": "code",
   "execution_count": 62,
   "metadata": {},
   "outputs": [],
   "source": [
    "y_pred_con_ad=list(y_pred_con)"
   ]
  },
  {
   "cell_type": "code",
   "execution_count": 63,
   "metadata": {},
   "outputs": [],
   "source": [
    "y_pred_con_ad[:] = [x for i,x in enumerate(y_pred_con_ad) if i not in out_Ad]"
   ]
  },
  {
   "cell_type": "code",
   "execution_count": 64,
   "metadata": {},
   "outputs": [
    {
     "data": {
      "text/plain": [
       "253"
      ]
     },
     "execution_count": 64,
     "metadata": {},
     "output_type": "execute_result"
    }
   ],
   "source": [
    "len(y_pred_con_ad)"
   ]
  },
  {
   "cell_type": "code",
   "execution_count": 65,
   "metadata": {},
   "outputs": [],
   "source": [
    "y_ts_ad=list(y_ts)"
   ]
  },
  {
   "cell_type": "code",
   "execution_count": 66,
   "metadata": {},
   "outputs": [],
   "source": [
    "y_ts_ad[:] = [x for i,x in enumerate(y_ts_ad) if i not in out_Ad]"
   ]
  },
  {
   "cell_type": "code",
   "execution_count": 67,
   "metadata": {},
   "outputs": [
    {
     "data": {
      "text/plain": [
       "253"
      ]
     },
     "execution_count": 67,
     "metadata": {},
     "output_type": "execute_result"
    }
   ],
   "source": [
    "len(y_ts_ad)"
   ]
  },
  {
   "cell_type": "code",
   "execution_count": 68,
   "metadata": {},
   "outputs": [
    {
     "data": {
      "text/plain": [
       "0.73"
      ]
     },
     "execution_count": 68,
     "metadata": {},
     "output_type": "execute_result"
    }
   ],
   "source": [
    "Q2_TS = round(r2_score(y_ts_ad, y_pred_con_ad), 2)\n",
    "Q2_TS"
   ]
  },
  {
   "cell_type": "code",
   "execution_count": 69,
   "metadata": {},
   "outputs": [
    {
     "data": {
      "text/plain": [
       "0.61"
      ]
     },
     "execution_count": 69,
     "metadata": {},
     "output_type": "execute_result"
    }
   ],
   "source": [
    "RMSE_TS=round(np.sqrt(mean_squared_error(y_ts_ad, y_pred_con_ad)), 2)\n",
    "RMSE_TS"
   ]
  }
 ],
 "metadata": {
  "kernelspec": {
   "display_name": "Python3 (rdkit)",
   "language": "python",
   "name": "my-rdkit-env"
  },
  "language_info": {
   "codemirror_mode": {
    "name": "ipython",
    "version": 3
   },
   "file_extension": ".py",
   "mimetype": "text/x-python",
   "name": "python",
   "nbconvert_exporter": "python",
   "pygments_lexer": "ipython3",
   "version": "3.10.12"
  },
  "toc": {
   "base_numbering": 1,
   "nav_menu": {},
   "number_sections": true,
   "sideBar": true,
   "skip_h1_title": false,
   "title_cell": "Table of Contents",
   "title_sidebar": "Contents",
   "toc_cell": false,
   "toc_position": {
    "height": "calc(100% - 180px)",
    "left": "10px",
    "top": "150px",
    "width": "208.267px"
   },
   "toc_section_display": true,
   "toc_window_display": true
  }
 },
 "nbformat": 4,
 "nbformat_minor": 4
}
