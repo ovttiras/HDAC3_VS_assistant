{
 "cells": [
  {
   "cell_type": "markdown",
   "metadata": {},
   "source": [
    "# 1. Importing modules and functions"
   ]
  },
  {
   "cell_type": "code",
   "execution_count": 2,
   "metadata": {},
   "outputs": [],
   "source": [
    "import numpy as np\n",
    "import pandas as pd\n",
    "from rdkit import Chem, DataStructs\n",
    "from rdkit.Chem import AllChem, Descriptors\n",
    "from rdkit.ML.Descriptors import MoleculeDescriptors\n",
    "import chembl_structure_pipeline\n",
    "from molvs import standardize_smiles\n",
    "from sklearn.model_selection import KFold, GridSearchCV\n",
    "from sklearn.model_selection import permutation_test_score\n",
    "from sklearn.preprocessing import StandardScaler\n",
    "from sklearn.model_selection import cross_val_predict\n",
    "from sklearn import metrics\n",
    "from sklearn.metrics import pairwise_distances\n",
    "import joblib\n",
    "import pickle\n",
    "from numpy import savetxt\n",
    "from padelpy import from_sdf\n",
    "from IPython.display import HTML\n",
    "import matplotlib.pyplot as plt\n",
    "from sklearn.metrics import mean_squared_error\n",
    "from sklearn.metrics import mean_absolute_error\n",
    "from sklearn.metrics import r2_score\n",
    "from sklearn.ensemble import GradientBoostingRegressor\n",
    "import warnings\n",
    "warnings.filterwarnings('ignore')"
   ]
  },
  {
   "cell_type": "markdown",
   "metadata": {},
   "source": [
    "# 2.Data entry and curation work set"
   ]
  },
  {
   "cell_type": "code",
   "execution_count": 3,
   "metadata": {},
   "outputs": [
    {
     "name": "stdout",
     "output_type": "stream",
     "text": [
      "Original data:  1400 molecules\n",
      "Failed data:  0 molecules\n"
     ]
    },
    {
     "data": {
      "text/html": [
       "<div>\n",
       "<style scoped>\n",
       "    .dataframe tbody tr th:only-of-type {\n",
       "        vertical-align: middle;\n",
       "    }\n",
       "\n",
       "    .dataframe tbody tr th {\n",
       "        vertical-align: top;\n",
       "    }\n",
       "\n",
       "    .dataframe thead th {\n",
       "        text-align: right;\n",
       "    }\n",
       "</style>\n",
       "<table border=\"1\" class=\"dataframe\">\n",
       "  <thead>\n",
       "    <tr style=\"text-align: right;\">\n",
       "      <th></th>\n",
       "      <th>No. failed molecule in original set</th>\n",
       "      <th>SMILES of wrong structure:</th>\n",
       "    </tr>\n",
       "    <tr>\n",
       "      <th>No.</th>\n",
       "      <th></th>\n",
       "      <th></th>\n",
       "    </tr>\n",
       "  </thead>\n",
       "  <tbody>\n",
       "  </tbody>\n",
       "</table>\n",
       "</div>"
      ],
      "text/plain": [
       "Empty DataFrame\n",
       "Columns: [No. failed molecule in original set, SMILES of wrong structure: ]\n",
       "Index: []"
      ]
     },
     "execution_count": 3,
     "metadata": {},
     "output_type": "execute_result"
    }
   ],
   "source": [
    "uploaded_file_ws=\"datasets/HDAC3_work.sdf\"\n",
    "supplier_ws = Chem.ForwardSDMolSupplier(uploaded_file_ws,sanitize=False)\n",
    "failed_mols_ws = []\n",
    "all_mols_ws =[]\n",
    "wrong_structure_ws=[]\n",
    "wrong_smiles_ws=[]\n",
    "y_tr = []\n",
    "y_bad_index=[]\n",
    "\n",
    "for i, m in enumerate(supplier_ws):\n",
    "    structure = Chem.Mol(m)\n",
    "    all_mols_ws.append(structure)\n",
    "    y_tr.append(m.GetProp(\"pchembl_value_mean\"))\n",
    "    try:\n",
    "        Chem.SanitizeMol(structure)\n",
    "    except:\n",
    "        failed_mols_ws.append(m)\n",
    "        wrong_smiles_ws.append(Chem.MolToSmiles(m))\n",
    "        wrong_structure_ws.append(str(i+1))\n",
    "        y_bad_index.append(i)\n",
    "print('Original data: ', len(all_mols_ws), 'molecules')\n",
    "print('Failed data: ', len(failed_mols_ws), 'molecules')\n",
    "number_ws =[]\n",
    "for i in range(len(failed_mols_ws)):\n",
    "        number_ws.append(str(i+1))\n",
    "bad_molecules_ws = pd.DataFrame({'No. failed molecule in original set': wrong_structure_ws, 'SMILES of wrong structure: ': wrong_smiles_ws, 'No.': number_ws}, index=None)\n",
    "bad_molecules_ws = bad_molecules_ws.set_index('No.')\n",
    "bad_molecules_ws"
   ]
  },
  {
   "cell_type": "markdown",
   "metadata": {},
   "source": [
    "deleting activity values for substances with incorrect structure"
   ]
  },
  {
   "cell_type": "code",
   "execution_count": 4,
   "metadata": {},
   "outputs": [],
   "source": [
    "y_tr[:] = [x for i,x in enumerate(y_tr) if i not in y_bad_index]"
   ]
  },
  {
   "cell_type": "code",
   "execution_count": 5,
   "metadata": {},
   "outputs": [
    {
     "data": {
      "text/plain": [
       "1400"
      ]
     },
     "execution_count": 5,
     "metadata": {},
     "output_type": "execute_result"
    }
   ],
   "source": [
    "len(y_tr)"
   ]
  },
  {
   "cell_type": "markdown",
   "metadata": {},
   "source": [
    "# 3.Standardization SDF file for work set"
   ]
  },
  {
   "cell_type": "code",
   "execution_count": 6,
   "metadata": {},
   "outputs": [
    {
     "name": "stdout",
     "output_type": "stream",
     "text": [
      "Kept data:  1400 molecules\n"
     ]
    }
   ],
   "source": [
    "all_mols_ws[:] = [x for i,x in enumerate(all_mols_ws) if i not in y_bad_index] \n",
    "records = []\n",
    "for i in range(len(all_mols_ws)):\n",
    "    record = Chem.MolToSmiles(all_mols_ws[i])\n",
    "    records.append(record)\n",
    "\n",
    "moldf_ws = []\n",
    "for i,record in enumerate(records):\n",
    "    standard_record = standardize_smiles(record)\n",
    "    m = Chem.MolFromSmiles(standard_record)\n",
    "    moldf_ws.append(m)\n",
    "    \n",
    "print('Kept data: ', len(moldf_ws), 'molecules')"
   ]
  },
  {
   "cell_type": "markdown",
   "metadata": {},
   "source": [
    "# 4.Data entry and curation test set"
   ]
  },
  {
   "cell_type": "code",
   "execution_count": 7,
   "metadata": {},
   "outputs": [
    {
     "name": "stdout",
     "output_type": "stream",
     "text": [
      "Original data:  351 molecules\n",
      "Failed data:  0 molecules\n"
     ]
    },
    {
     "data": {
      "text/html": [
       "<div>\n",
       "<style scoped>\n",
       "    .dataframe tbody tr th:only-of-type {\n",
       "        vertical-align: middle;\n",
       "    }\n",
       "\n",
       "    .dataframe tbody tr th {\n",
       "        vertical-align: top;\n",
       "    }\n",
       "\n",
       "    .dataframe thead th {\n",
       "        text-align: right;\n",
       "    }\n",
       "</style>\n",
       "<table border=\"1\" class=\"dataframe\">\n",
       "  <thead>\n",
       "    <tr style=\"text-align: right;\">\n",
       "      <th></th>\n",
       "      <th>No. failed molecule in original set</th>\n",
       "      <th>SMILES of wrong structure:</th>\n",
       "    </tr>\n",
       "    <tr>\n",
       "      <th>No.</th>\n",
       "      <th></th>\n",
       "      <th></th>\n",
       "    </tr>\n",
       "  </thead>\n",
       "  <tbody>\n",
       "  </tbody>\n",
       "</table>\n",
       "</div>"
      ],
      "text/plain": [
       "Empty DataFrame\n",
       "Columns: [No. failed molecule in original set, SMILES of wrong structure: ]\n",
       "Index: []"
      ]
     },
     "execution_count": 7,
     "metadata": {},
     "output_type": "execute_result"
    }
   ],
   "source": [
    "uploaded_file_ts=\"datasets/HDAC3_test.sdf\"\n",
    "supplier_ts = Chem.ForwardSDMolSupplier(uploaded_file_ts,sanitize=False)\n",
    "failed_mols_ts = []\n",
    "all_mols_ts =[]\n",
    "wrong_structure_ts=[]\n",
    "wrong_smiles_ts=[]\n",
    "y_ts = []\n",
    "y_bad_index=[]\n",
    "for i, m in enumerate(supplier_ts):\n",
    "    structure = Chem.Mol(m)\n",
    "    all_mols_ts.append(structure)\n",
    "    y_ts.append(m.GetProp(\"pchembl_value_mean\"))\n",
    "    try:\n",
    "        Chem.SanitizeMol(structure)\n",
    "    except:\n",
    "        failed_mols_ts.append(m)\n",
    "        wrong_smiles_ts.append(Chem.MolToSmiles(m))\n",
    "        wrong_structure_ts.append(str(i+1))\n",
    "        y_bad_index.append(i)\n",
    "print('Original data: ', len(all_mols_ts), 'molecules')\n",
    "print('Failed data: ', len(failed_mols_ts), 'molecules')\n",
    "number_ts =[]\n",
    "for i in range(len(failed_mols_ts)):\n",
    "        number_ts.append(str(i+1))\n",
    "bad_molecules_ts = pd.DataFrame({'No. failed molecule in original set': wrong_structure_ts, 'SMILES of wrong structure: ': wrong_smiles_ts, 'No.': number_ts}, index=None)\n",
    "bad_molecules_ts = bad_molecules_ts.set_index('No.')\n",
    "bad_molecules_ts"
   ]
  },
  {
   "cell_type": "markdown",
   "metadata": {},
   "source": [
    "deleting activity values for substances with incorrect structure"
   ]
  },
  {
   "cell_type": "code",
   "execution_count": 8,
   "metadata": {},
   "outputs": [],
   "source": [
    "y_ts[:] = [x for i,x in enumerate(y_ts) if i not in y_bad_index]"
   ]
  },
  {
   "cell_type": "code",
   "execution_count": 9,
   "metadata": {},
   "outputs": [
    {
     "data": {
      "text/plain": [
       "351"
      ]
     },
     "execution_count": 9,
     "metadata": {},
     "output_type": "execute_result"
    }
   ],
   "source": [
    "len(y_ts)"
   ]
  },
  {
   "cell_type": "markdown",
   "metadata": {},
   "source": [
    "# 5.Standardization SDF file for test set"
   ]
  },
  {
   "cell_type": "code",
   "execution_count": 10,
   "metadata": {},
   "outputs": [
    {
     "name": "stdout",
     "output_type": "stream",
     "text": [
      "Kept data:  351 molecules\n"
     ]
    }
   ],
   "source": [
    "all_mols_ts[:] = [x for i,x in enumerate(all_mols_ts) if i not in y_bad_index] \n",
    "records = []\n",
    "for i in range(len(all_mols_ts)):\n",
    "    record = Chem.MolToSmiles(all_mols_ts[i])\n",
    "    records.append(record)\n",
    "\n",
    "moldf_ts = []\n",
    "for i,record in enumerate(records):\n",
    "    standard_record = standardize_smiles(record)\n",
    "    m = Chem.MolFromSmiles(standard_record)\n",
    "    moldf_ts.append(m)\n",
    "    \n",
    "print('Kept data: ', len(moldf_ts), 'molecules')"
   ]
  },
  {
   "cell_type": "markdown",
   "metadata": {},
   "source": [
    "# 6.Calculation MorganFingerprint for work set"
   ]
  },
  {
   "cell_type": "code",
   "execution_count": 10,
   "metadata": {},
   "outputs": [],
   "source": [
    "fp_tr = [AllChem.GetMorganFingerprintAsBitVect(m, radius=2,nBits=1024,useFeatures=False,useChirality = False) for m in moldf_ws]"
   ]
  },
  {
   "cell_type": "code",
   "execution_count": 11,
   "metadata": {},
   "outputs": [],
   "source": [
    "def rdkit_numpy_convert(fp_tr):\n",
    "    output = []\n",
    "    for f in fp_tr:\n",
    "        arr = np.zeros((1,))\n",
    "        DataStructs.ConvertToNumpyArray(f, arr)\n",
    "        output.append(arr)\n",
    "    return np.asarray(output)"
   ]
  },
  {
   "cell_type": "code",
   "execution_count": 12,
   "metadata": {},
   "outputs": [],
   "source": [
    "from numpy import savetxt\n",
    "x_tr = rdkit_numpy_convert(fp_tr)"
   ]
  },
  {
   "cell_type": "code",
   "execution_count": 13,
   "metadata": {},
   "outputs": [],
   "source": [
    "savetxt('Models/Morgan_fingerprint/x_tr_MF.csv', x_tr, delimiter=',')"
   ]
  },
  {
   "cell_type": "code",
   "execution_count": 14,
   "metadata": {},
   "outputs": [
    {
     "data": {
      "text/plain": [
       "(1400, 1024)"
      ]
     },
     "execution_count": 14,
     "metadata": {},
     "output_type": "execute_result"
    }
   ],
   "source": [
    "x_tr.shape"
   ]
  },
  {
   "cell_type": "markdown",
   "metadata": {},
   "source": [
    "# 7.Calculation MorganFingerprint for test set"
   ]
  },
  {
   "cell_type": "code",
   "execution_count": 15,
   "metadata": {},
   "outputs": [],
   "source": [
    "fp_ts = [AllChem.GetMorganFingerprintAsBitVect(m, radius=2,nBits=1024,useFeatures=False,useChirality = False) for m in moldf_ts]"
   ]
  },
  {
   "cell_type": "code",
   "execution_count": 16,
   "metadata": {},
   "outputs": [],
   "source": [
    "def rdkit_numpy_convert(fp_ts):\n",
    "    output = []\n",
    "    for f in fp_ts:\n",
    "        arr = np.zeros((1,))\n",
    "        DataStructs.ConvertToNumpyArray(f, arr)\n",
    "        output.append(arr)\n",
    "    return np.asarray(output)"
   ]
  },
  {
   "cell_type": "code",
   "execution_count": 17,
   "metadata": {},
   "outputs": [],
   "source": [
    "x_ts = rdkit_numpy_convert(fp_ts)"
   ]
  },
  {
   "cell_type": "code",
   "execution_count": 18,
   "metadata": {},
   "outputs": [
    {
     "data": {
      "text/plain": [
       "(351, 1024)"
      ]
     },
     "execution_count": 18,
     "metadata": {},
     "output_type": "execute_result"
    }
   ],
   "source": [
    "x_ts.shape"
   ]
  },
  {
   "cell_type": "code",
   "execution_count": 19,
   "metadata": {},
   "outputs": [
    {
     "data": {
      "text/plain": [
       "numpy.ndarray"
      ]
     },
     "execution_count": 19,
     "metadata": {},
     "output_type": "execute_result"
    }
   ],
   "source": [
    "type(x_tr)"
   ]
  },
  {
   "cell_type": "code",
   "execution_count": 20,
   "metadata": {},
   "outputs": [
    {
     "data": {
      "text/plain": [
       "array([[0., 1., 0., ..., 0., 0., 0.],\n",
       "       [0., 1., 0., ..., 0., 0., 0.],\n",
       "       [0., 0., 0., ..., 0., 0., 0.],\n",
       "       ...,\n",
       "       [0., 1., 0., ..., 0., 0., 0.],\n",
       "       [0., 1., 0., ..., 0., 0., 0.],\n",
       "       [0., 1., 0., ..., 0., 0., 0.]])"
      ]
     },
     "execution_count": 20,
     "metadata": {},
     "output_type": "execute_result"
    }
   ],
   "source": [
    "x_tr"
   ]
  },
  {
   "cell_type": "code",
   "execution_count": 21,
   "metadata": {},
   "outputs": [],
   "source": [
    "x_tr = np.array(x_tr, dtype=np.float32)\n",
    "y_tr = np.array(y_tr, dtype=np.float32)"
   ]
  },
  {
   "cell_type": "code",
   "execution_count": 22,
   "metadata": {},
   "outputs": [
    {
     "data": {
      "text/plain": [
       "array([ 4.01,  4.04,  4.05, ..., 10.03, 10.06, 10.1 ], dtype=float32)"
      ]
     },
     "execution_count": 22,
     "metadata": {},
     "output_type": "execute_result"
    }
   ],
   "source": [
    "y_tr"
   ]
  },
  {
   "cell_type": "markdown",
   "metadata": {},
   "source": [
    "# 8. SVM model building and validation"
   ]
  },
  {
   "cell_type": "code",
   "execution_count": 23,
   "metadata": {},
   "outputs": [],
   "source": [
    "param_grid = {\"C\": [10 ** i for i in range(0, 5)],\n",
    "              \"gamma\": [10 ** i for i in range(-6, 0)]}"
   ]
  },
  {
   "cell_type": "code",
   "execution_count": 24,
   "metadata": {},
   "outputs": [],
   "source": [
    "seed = 42\n",
    "cv=KFold(n_splits=5, random_state=seed, shuffle=True)"
   ]
  },
  {
   "cell_type": "code",
   "execution_count": 25,
   "metadata": {},
   "outputs": [],
   "source": [
    "svm = GridSearchCV(SVR(C=1.0, epsilon=0.2), param_grid, n_jobs=-1, cv=cv, verbose=1)"
   ]
  },
  {
   "cell_type": "code",
   "execution_count": 26,
   "metadata": {},
   "outputs": [
    {
     "name": "stdout",
     "output_type": "stream",
     "text": [
      "Fitting 5 folds for each of 30 candidates, totalling 150 fits\n"
     ]
    },
    {
     "data": {
      "text/html": [
       "<style>#sk-container-id-1 {color: black;}#sk-container-id-1 pre{padding: 0;}#sk-container-id-1 div.sk-toggleable {background-color: white;}#sk-container-id-1 label.sk-toggleable__label {cursor: pointer;display: block;width: 100%;margin-bottom: 0;padding: 0.3em;box-sizing: border-box;text-align: center;}#sk-container-id-1 label.sk-toggleable__label-arrow:before {content: \"▸\";float: left;margin-right: 0.25em;color: #696969;}#sk-container-id-1 label.sk-toggleable__label-arrow:hover:before {color: black;}#sk-container-id-1 div.sk-estimator:hover label.sk-toggleable__label-arrow:before {color: black;}#sk-container-id-1 div.sk-toggleable__content {max-height: 0;max-width: 0;overflow: hidden;text-align: left;background-color: #f0f8ff;}#sk-container-id-1 div.sk-toggleable__content pre {margin: 0.2em;color: black;border-radius: 0.25em;background-color: #f0f8ff;}#sk-container-id-1 input.sk-toggleable__control:checked~div.sk-toggleable__content {max-height: 200px;max-width: 100%;overflow: auto;}#sk-container-id-1 input.sk-toggleable__control:checked~label.sk-toggleable__label-arrow:before {content: \"▾\";}#sk-container-id-1 div.sk-estimator input.sk-toggleable__control:checked~label.sk-toggleable__label {background-color: #d4ebff;}#sk-container-id-1 div.sk-label input.sk-toggleable__control:checked~label.sk-toggleable__label {background-color: #d4ebff;}#sk-container-id-1 input.sk-hidden--visually {border: 0;clip: rect(1px 1px 1px 1px);clip: rect(1px, 1px, 1px, 1px);height: 1px;margin: -1px;overflow: hidden;padding: 0;position: absolute;width: 1px;}#sk-container-id-1 div.sk-estimator {font-family: monospace;background-color: #f0f8ff;border: 1px dotted black;border-radius: 0.25em;box-sizing: border-box;margin-bottom: 0.5em;}#sk-container-id-1 div.sk-estimator:hover {background-color: #d4ebff;}#sk-container-id-1 div.sk-parallel-item::after {content: \"\";width: 100%;border-bottom: 1px solid gray;flex-grow: 1;}#sk-container-id-1 div.sk-label:hover label.sk-toggleable__label {background-color: #d4ebff;}#sk-container-id-1 div.sk-serial::before {content: \"\";position: absolute;border-left: 1px solid gray;box-sizing: border-box;top: 0;bottom: 0;left: 50%;z-index: 0;}#sk-container-id-1 div.sk-serial {display: flex;flex-direction: column;align-items: center;background-color: white;padding-right: 0.2em;padding-left: 0.2em;position: relative;}#sk-container-id-1 div.sk-item {position: relative;z-index: 1;}#sk-container-id-1 div.sk-parallel {display: flex;align-items: stretch;justify-content: center;background-color: white;position: relative;}#sk-container-id-1 div.sk-item::before, #sk-container-id-1 div.sk-parallel-item::before {content: \"\";position: absolute;border-left: 1px solid gray;box-sizing: border-box;top: 0;bottom: 0;left: 50%;z-index: -1;}#sk-container-id-1 div.sk-parallel-item {display: flex;flex-direction: column;z-index: 1;position: relative;background-color: white;}#sk-container-id-1 div.sk-parallel-item:first-child::after {align-self: flex-end;width: 50%;}#sk-container-id-1 div.sk-parallel-item:last-child::after {align-self: flex-start;width: 50%;}#sk-container-id-1 div.sk-parallel-item:only-child::after {width: 0;}#sk-container-id-1 div.sk-dashed-wrapped {border: 1px dashed gray;margin: 0 0.4em 0.5em 0.4em;box-sizing: border-box;padding-bottom: 0.4em;background-color: white;}#sk-container-id-1 div.sk-label label {font-family: monospace;font-weight: bold;display: inline-block;line-height: 1.2em;}#sk-container-id-1 div.sk-label-container {text-align: center;}#sk-container-id-1 div.sk-container {/* jupyter's `normalize.less` sets `[hidden] { display: none; }` but bootstrap.min.css set `[hidden] { display: none !important; }` so we also need the `!important` here to be able to override the default hidden behavior on the sphinx rendered scikit-learn.org. See: https://github.com/scikit-learn/scikit-learn/issues/21755 */display: inline-block !important;position: relative;}#sk-container-id-1 div.sk-text-repr-fallback {display: none;}</style><div id=\"sk-container-id-1\" class=\"sk-top-container\"><div class=\"sk-text-repr-fallback\"><pre>GridSearchCV(cv=KFold(n_splits=5, random_state=42, shuffle=True),\n",
       "             estimator=SVR(epsilon=0.2), n_jobs=-1,\n",
       "             param_grid={&#x27;C&#x27;: [1, 10, 100, 1000, 10000],\n",
       "                         &#x27;gamma&#x27;: [1e-06, 1e-05, 0.0001, 0.001, 0.01, 0.1]},\n",
       "             verbose=1)</pre><b>In a Jupyter environment, please rerun this cell to show the HTML representation or trust the notebook. <br />On GitHub, the HTML representation is unable to render, please try loading this page with nbviewer.org.</b></div><div class=\"sk-container\" hidden><div class=\"sk-item sk-dashed-wrapped\"><div class=\"sk-label-container\"><div class=\"sk-label sk-toggleable\"><input class=\"sk-toggleable__control sk-hidden--visually\" id=\"sk-estimator-id-1\" type=\"checkbox\" ><label for=\"sk-estimator-id-1\" class=\"sk-toggleable__label sk-toggleable__label-arrow\">GridSearchCV</label><div class=\"sk-toggleable__content\"><pre>GridSearchCV(cv=KFold(n_splits=5, random_state=42, shuffle=True),\n",
       "             estimator=SVR(epsilon=0.2), n_jobs=-1,\n",
       "             param_grid={&#x27;C&#x27;: [1, 10, 100, 1000, 10000],\n",
       "                         &#x27;gamma&#x27;: [1e-06, 1e-05, 0.0001, 0.001, 0.01, 0.1]},\n",
       "             verbose=1)</pre></div></div></div><div class=\"sk-parallel\"><div class=\"sk-parallel-item\"><div class=\"sk-item\"><div class=\"sk-label-container\"><div class=\"sk-label sk-toggleable\"><input class=\"sk-toggleable__control sk-hidden--visually\" id=\"sk-estimator-id-2\" type=\"checkbox\" ><label for=\"sk-estimator-id-2\" class=\"sk-toggleable__label sk-toggleable__label-arrow\">estimator: SVR</label><div class=\"sk-toggleable__content\"><pre>SVR(epsilon=0.2)</pre></div></div></div><div class=\"sk-serial\"><div class=\"sk-item\"><div class=\"sk-estimator sk-toggleable\"><input class=\"sk-toggleable__control sk-hidden--visually\" id=\"sk-estimator-id-3\" type=\"checkbox\" ><label for=\"sk-estimator-id-3\" class=\"sk-toggleable__label sk-toggleable__label-arrow\">SVR</label><div class=\"sk-toggleable__content\"><pre>SVR(epsilon=0.2)</pre></div></div></div></div></div></div></div></div></div></div>"
      ],
      "text/plain": [
       "GridSearchCV(cv=KFold(n_splits=5, random_state=42, shuffle=True),\n",
       "             estimator=SVR(epsilon=0.2), n_jobs=-1,\n",
       "             param_grid={'C': [1, 10, 100, 1000, 10000],\n",
       "                         'gamma': [1e-06, 1e-05, 0.0001, 0.001, 0.01, 0.1]},\n",
       "             verbose=1)"
      ]
     },
     "execution_count": 26,
     "metadata": {},
     "output_type": "execute_result"
    }
   ],
   "source": [
    "svm.fit(x_tr, y_tr)"
   ]
  },
  {
   "cell_type": "code",
   "execution_count": 27,
   "metadata": {},
   "outputs": [],
   "source": [
    "svm.best_params_\n",
    "best_svm = svm.best_estimator_"
   ]
  },
  {
   "cell_type": "code",
   "execution_count": 28,
   "metadata": {},
   "outputs": [],
   "source": [
    "y_pred_CV_svm = cross_val_predict(best_svm, x_tr, y_tr, cv=cv)"
   ]
  },
  {
   "cell_type": "code",
   "execution_count": 29,
   "metadata": {},
   "outputs": [
    {
     "data": {
      "text/plain": [
       "0.68"
      ]
     },
     "execution_count": 29,
     "metadata": {},
     "output_type": "execute_result"
    }
   ],
   "source": [
    "Q2_CV = round(r2_score(y_tr, y_pred_CV_svm), 2)\n",
    "Q2_CV"
   ]
  },
  {
   "cell_type": "code",
   "execution_count": 30,
   "metadata": {},
   "outputs": [
    {
     "data": {
      "text/plain": [
       "0.72"
      ]
     },
     "execution_count": 30,
     "metadata": {},
     "output_type": "execute_result"
    }
   ],
   "source": [
    "RMSE_CV=round(np.sqrt(mean_absolute_error(y_tr, y_pred_CV_svm)), 2)\n",
    "RMSE_CV"
   ]
  },
  {
   "cell_type": "markdown",
   "metadata": {},
   "source": [
    "# 9. Prediction for test set's molecules"
   ]
  },
  {
   "cell_type": "code",
   "execution_count": 31,
   "metadata": {},
   "outputs": [],
   "source": [
    "x_ts = np.array(x_ts, dtype=np.float32)\n",
    "y_ts = np.array(y_ts, dtype=np.float32)"
   ]
  },
  {
   "cell_type": "code",
   "execution_count": 32,
   "metadata": {},
   "outputs": [],
   "source": [
    "y_pred_svm = best_svm.predict(x_ts)"
   ]
  },
  {
   "cell_type": "code",
   "execution_count": 34,
   "metadata": {},
   "outputs": [
    {
     "data": {
      "text/plain": [
       "0.71"
      ]
     },
     "execution_count": 34,
     "metadata": {},
     "output_type": "execute_result"
    }
   ],
   "source": [
    "Q2_TS = round(r2_score(y_ts, y_pred_svm), 2)\n",
    "Q2_TS"
   ]
  },
  {
   "cell_type": "code",
   "execution_count": 35,
   "metadata": {},
   "outputs": [
    {
     "data": {
      "text/plain": [
       "0.7"
      ]
     },
     "execution_count": 35,
     "metadata": {},
     "output_type": "execute_result"
    }
   ],
   "source": [
    "RMSE_TS=round(np.sqrt(mean_absolute_error(y_ts, y_pred_svm)), 2)\n",
    "RMSE_TS"
   ]
  },
  {
   "cell_type": "markdown",
   "metadata": {},
   "source": [
    "save the model to disk"
   ]
  },
  {
   "cell_type": "code",
   "execution_count": 36,
   "metadata": {},
   "outputs": [],
   "source": [
    "pickle.dump(best_svm, open('Models/Morgan_fingerprint/HDAC3_SVM_MF.pkl', 'wb'))"
   ]
  },
  {
   "cell_type": "markdown",
   "metadata": {},
   "source": [
    "load the model from disk"
   ]
  },
  {
   "cell_type": "code",
   "execution_count": 3,
   "metadata": {},
   "outputs": [],
   "source": [
    "best_svm = pickle.load(open('Models/Morgan_fingerprint/HDAC3_SVM_MF.pkl', 'rb'))"
   ]
  },
  {
   "cell_type": "markdown",
   "metadata": {},
   "source": [
    "# 10. Y-randomization RF model"
   ]
  },
  {
   "cell_type": "code",
   "execution_count": 38,
   "metadata": {},
   "outputs": [
    {
     "name": "stderr",
     "output_type": "stream",
     "text": [
      "[Parallel(n_jobs=-1)]: Using backend LokyBackend with 16 concurrent workers.\n",
      "[Parallel(n_jobs=-1)]: Done  18 tasks      | elapsed:  1.2min\n"
     ]
    },
    {
     "name": "stdout",
     "output_type": "stream",
     "text": [
      "True score =  0.68 \n",
      "Y-randomization =  -0.3 \n",
      "p-value =  0.0196\n"
     ]
    },
    {
     "name": "stderr",
     "output_type": "stream",
     "text": [
      "[Parallel(n_jobs=-1)]: Done  50 out of  50 | elapsed:  2.0min finished\n"
     ]
    }
   ],
   "source": [
    "permutations = 50\n",
    "score, permutation_scores, pvalue = permutation_test_score(best_svm, x_tr, y_tr,\n",
    "                                                           cv=cv, scoring='r2',\n",
    "                                                           n_permutations=permutations,\n",
    "                                                           n_jobs=-1,\n",
    "                                                           verbose=1,\n",
    "                                                           random_state=seed)\n",
    "print('True score = ', score.round(2),\n",
    "      '\\nY-randomization = ', np.mean(permutation_scores).round(2),\n",
    "      '\\np-value = ', pvalue.round(4))"
   ]
  },
  {
   "cell_type": "markdown",
   "metadata": {},
   "source": [
    "# 11. Estimating applicability domain. Method - Euclidian distances, K=1"
   ]
  },
  {
   "cell_type": "code",
   "execution_count": 39,
   "metadata": {},
   "outputs": [],
   "source": [
    "neighbors_k= pairwise_distances(x_tr, n_jobs=-1)\n",
    "neighbors_k.sort(0)"
   ]
  },
  {
   "cell_type": "code",
   "execution_count": 40,
   "metadata": {},
   "outputs": [
    {
     "data": {
      "text/html": [
       "<div>\n",
       "<style scoped>\n",
       "    .dataframe tbody tr th:only-of-type {\n",
       "        vertical-align: middle;\n",
       "    }\n",
       "\n",
       "    .dataframe tbody tr th {\n",
       "        vertical-align: top;\n",
       "    }\n",
       "\n",
       "    .dataframe thead th {\n",
       "        text-align: right;\n",
       "    }\n",
       "</style>\n",
       "<table border=\"1\" class=\"dataframe\">\n",
       "  <thead>\n",
       "    <tr style=\"text-align: right;\">\n",
       "      <th></th>\n",
       "      <th>0</th>\n",
       "      <th>1</th>\n",
       "      <th>2</th>\n",
       "      <th>3</th>\n",
       "      <th>4</th>\n",
       "      <th>5</th>\n",
       "      <th>6</th>\n",
       "      <th>7</th>\n",
       "      <th>8</th>\n",
       "      <th>9</th>\n",
       "      <th>...</th>\n",
       "      <th>1390</th>\n",
       "      <th>1391</th>\n",
       "      <th>1392</th>\n",
       "      <th>1393</th>\n",
       "      <th>1394</th>\n",
       "      <th>1395</th>\n",
       "      <th>1396</th>\n",
       "      <th>1397</th>\n",
       "      <th>1398</th>\n",
       "      <th>1399</th>\n",
       "    </tr>\n",
       "  </thead>\n",
       "  <tbody>\n",
       "    <tr>\n",
       "      <th>0</th>\n",
       "      <td>0.000000</td>\n",
       "      <td>0.000000</td>\n",
       "      <td>0.000000</td>\n",
       "      <td>0.000000</td>\n",
       "      <td>0.000000</td>\n",
       "      <td>0.000000</td>\n",
       "      <td>0.000000</td>\n",
       "      <td>0.000000</td>\n",
       "      <td>0.000000</td>\n",
       "      <td>0.000000</td>\n",
       "      <td>...</td>\n",
       "      <td>0.000000</td>\n",
       "      <td>0.000000</td>\n",
       "      <td>0.000000</td>\n",
       "      <td>0.000000</td>\n",
       "      <td>0.000000</td>\n",
       "      <td>0.000000</td>\n",
       "      <td>0.000000</td>\n",
       "      <td>0.000000</td>\n",
       "      <td>0.000000</td>\n",
       "      <td>0.000000</td>\n",
       "    </tr>\n",
       "    <tr>\n",
       "      <th>1</th>\n",
       "      <td>3.316625</td>\n",
       "      <td>3.464102</td>\n",
       "      <td>3.316625</td>\n",
       "      <td>3.316625</td>\n",
       "      <td>3.316625</td>\n",
       "      <td>4.242640</td>\n",
       "      <td>4.000000</td>\n",
       "      <td>5.656854</td>\n",
       "      <td>4.123106</td>\n",
       "      <td>4.795832</td>\n",
       "      <td>...</td>\n",
       "      <td>4.000000</td>\n",
       "      <td>3.605551</td>\n",
       "      <td>4.123106</td>\n",
       "      <td>2.645751</td>\n",
       "      <td>3.605551</td>\n",
       "      <td>3.316625</td>\n",
       "      <td>3.605551</td>\n",
       "      <td>3.464102</td>\n",
       "      <td>5.744563</td>\n",
       "      <td>5.000000</td>\n",
       "    </tr>\n",
       "    <tr>\n",
       "      <th>2</th>\n",
       "      <td>3.872983</td>\n",
       "      <td>4.000000</td>\n",
       "      <td>4.358899</td>\n",
       "      <td>3.464102</td>\n",
       "      <td>3.872983</td>\n",
       "      <td>4.242640</td>\n",
       "      <td>4.123106</td>\n",
       "      <td>6.164414</td>\n",
       "      <td>4.898980</td>\n",
       "      <td>5.477226</td>\n",
       "      <td>...</td>\n",
       "      <td>5.744563</td>\n",
       "      <td>3.741657</td>\n",
       "      <td>4.582576</td>\n",
       "      <td>4.795832</td>\n",
       "      <td>3.872983</td>\n",
       "      <td>3.605551</td>\n",
       "      <td>4.000000</td>\n",
       "      <td>3.741657</td>\n",
       "      <td>6.557438</td>\n",
       "      <td>5.099020</td>\n",
       "    </tr>\n",
       "    <tr>\n",
       "      <th>3</th>\n",
       "      <td>4.000000</td>\n",
       "      <td>4.123106</td>\n",
       "      <td>4.582576</td>\n",
       "      <td>4.123106</td>\n",
       "      <td>4.472136</td>\n",
       "      <td>4.898980</td>\n",
       "      <td>4.472136</td>\n",
       "      <td>6.324555</td>\n",
       "      <td>5.656854</td>\n",
       "      <td>5.477226</td>\n",
       "      <td>...</td>\n",
       "      <td>6.480741</td>\n",
       "      <td>3.872983</td>\n",
       "      <td>4.795832</td>\n",
       "      <td>4.898980</td>\n",
       "      <td>4.000000</td>\n",
       "      <td>3.741657</td>\n",
       "      <td>4.690416</td>\n",
       "      <td>3.741657</td>\n",
       "      <td>6.782330</td>\n",
       "      <td>5.656854</td>\n",
       "    </tr>\n",
       "    <tr>\n",
       "      <th>4</th>\n",
       "      <td>4.000000</td>\n",
       "      <td>4.123106</td>\n",
       "      <td>5.477226</td>\n",
       "      <td>4.242640</td>\n",
       "      <td>5.196152</td>\n",
       "      <td>5.000000</td>\n",
       "      <td>4.898980</td>\n",
       "      <td>6.403124</td>\n",
       "      <td>5.830952</td>\n",
       "      <td>5.567764</td>\n",
       "      <td>...</td>\n",
       "      <td>6.557438</td>\n",
       "      <td>5.000000</td>\n",
       "      <td>5.000000</td>\n",
       "      <td>5.000000</td>\n",
       "      <td>4.000000</td>\n",
       "      <td>3.741657</td>\n",
       "      <td>5.196152</td>\n",
       "      <td>3.872983</td>\n",
       "      <td>6.782330</td>\n",
       "      <td>5.656854</td>\n",
       "    </tr>\n",
       "    <tr>\n",
       "      <th>...</th>\n",
       "      <td>...</td>\n",
       "      <td>...</td>\n",
       "      <td>...</td>\n",
       "      <td>...</td>\n",
       "      <td>...</td>\n",
       "      <td>...</td>\n",
       "      <td>...</td>\n",
       "      <td>...</td>\n",
       "      <td>...</td>\n",
       "      <td>...</td>\n",
       "      <td>...</td>\n",
       "      <td>...</td>\n",
       "      <td>...</td>\n",
       "      <td>...</td>\n",
       "      <td>...</td>\n",
       "      <td>...</td>\n",
       "      <td>...</td>\n",
       "      <td>...</td>\n",
       "      <td>...</td>\n",
       "      <td>...</td>\n",
       "      <td>...</td>\n",
       "    </tr>\n",
       "    <tr>\n",
       "      <th>1395</th>\n",
       "      <td>9.797959</td>\n",
       "      <td>9.848858</td>\n",
       "      <td>10.583005</td>\n",
       "      <td>10.000000</td>\n",
       "      <td>10.000000</td>\n",
       "      <td>9.643651</td>\n",
       "      <td>10.392304</td>\n",
       "      <td>10.099504</td>\n",
       "      <td>10.488089</td>\n",
       "      <td>10.344080</td>\n",
       "      <td>...</td>\n",
       "      <td>10.488089</td>\n",
       "      <td>10.246951</td>\n",
       "      <td>11.090536</td>\n",
       "      <td>10.908712</td>\n",
       "      <td>10.816654</td>\n",
       "      <td>10.954452</td>\n",
       "      <td>11.045361</td>\n",
       "      <td>11.135529</td>\n",
       "      <td>10.723805</td>\n",
       "      <td>11.135529</td>\n",
       "    </tr>\n",
       "    <tr>\n",
       "      <th>1396</th>\n",
       "      <td>9.848858</td>\n",
       "      <td>9.848858</td>\n",
       "      <td>10.583005</td>\n",
       "      <td>10.049875</td>\n",
       "      <td>10.049875</td>\n",
       "      <td>9.643651</td>\n",
       "      <td>10.392304</td>\n",
       "      <td>10.198039</td>\n",
       "      <td>10.488089</td>\n",
       "      <td>10.392304</td>\n",
       "      <td>...</td>\n",
       "      <td>10.630146</td>\n",
       "      <td>10.246951</td>\n",
       "      <td>11.135529</td>\n",
       "      <td>10.954452</td>\n",
       "      <td>10.908712</td>\n",
       "      <td>11.000000</td>\n",
       "      <td>11.090536</td>\n",
       "      <td>11.135529</td>\n",
       "      <td>10.770329</td>\n",
       "      <td>11.180340</td>\n",
       "    </tr>\n",
       "    <tr>\n",
       "      <th>1397</th>\n",
       "      <td>10.099504</td>\n",
       "      <td>10.049875</td>\n",
       "      <td>10.630146</td>\n",
       "      <td>10.148891</td>\n",
       "      <td>10.099504</td>\n",
       "      <td>9.848858</td>\n",
       "      <td>10.440307</td>\n",
       "      <td>10.344080</td>\n",
       "      <td>10.488089</td>\n",
       "      <td>10.440307</td>\n",
       "      <td>...</td>\n",
       "      <td>10.723805</td>\n",
       "      <td>10.295630</td>\n",
       "      <td>11.135529</td>\n",
       "      <td>11.045361</td>\n",
       "      <td>10.908712</td>\n",
       "      <td>11.045361</td>\n",
       "      <td>11.090536</td>\n",
       "      <td>11.180340</td>\n",
       "      <td>10.862781</td>\n",
       "      <td>11.180340</td>\n",
       "    </tr>\n",
       "    <tr>\n",
       "      <th>1398</th>\n",
       "      <td>10.148891</td>\n",
       "      <td>10.198039</td>\n",
       "      <td>10.723805</td>\n",
       "      <td>10.198039</td>\n",
       "      <td>10.148891</td>\n",
       "      <td>10.000000</td>\n",
       "      <td>10.440307</td>\n",
       "      <td>10.392304</td>\n",
       "      <td>10.630146</td>\n",
       "      <td>10.488089</td>\n",
       "      <td>...</td>\n",
       "      <td>10.770329</td>\n",
       "      <td>10.295630</td>\n",
       "      <td>11.224972</td>\n",
       "      <td>11.045361</td>\n",
       "      <td>10.908712</td>\n",
       "      <td>11.135529</td>\n",
       "      <td>11.180340</td>\n",
       "      <td>11.269427</td>\n",
       "      <td>10.954452</td>\n",
       "      <td>11.313708</td>\n",
       "    </tr>\n",
       "    <tr>\n",
       "      <th>1399</th>\n",
       "      <td>11.045361</td>\n",
       "      <td>10.908712</td>\n",
       "      <td>11.958261</td>\n",
       "      <td>11.532562</td>\n",
       "      <td>11.445523</td>\n",
       "      <td>11.661903</td>\n",
       "      <td>11.618950</td>\n",
       "      <td>11.789826</td>\n",
       "      <td>11.704700</td>\n",
       "      <td>11.135529</td>\n",
       "      <td>...</td>\n",
       "      <td>11.832160</td>\n",
       "      <td>11.575837</td>\n",
       "      <td>12.124355</td>\n",
       "      <td>11.180340</td>\n",
       "      <td>11.661903</td>\n",
       "      <td>11.874342</td>\n",
       "      <td>12.000000</td>\n",
       "      <td>12.000000</td>\n",
       "      <td>11.789826</td>\n",
       "      <td>12.369317</td>\n",
       "    </tr>\n",
       "  </tbody>\n",
       "</table>\n",
       "<p>1400 rows × 1400 columns</p>\n",
       "</div>"
      ],
      "text/plain": [
       "           0          1          2          3          4          5     \\\n",
       "0      0.000000   0.000000   0.000000   0.000000   0.000000   0.000000   \n",
       "1      3.316625   3.464102   3.316625   3.316625   3.316625   4.242640   \n",
       "2      3.872983   4.000000   4.358899   3.464102   3.872983   4.242640   \n",
       "3      4.000000   4.123106   4.582576   4.123106   4.472136   4.898980   \n",
       "4      4.000000   4.123106   5.477226   4.242640   5.196152   5.000000   \n",
       "...         ...        ...        ...        ...        ...        ...   \n",
       "1395   9.797959   9.848858  10.583005  10.000000  10.000000   9.643651   \n",
       "1396   9.848858   9.848858  10.583005  10.049875  10.049875   9.643651   \n",
       "1397  10.099504  10.049875  10.630146  10.148891  10.099504   9.848858   \n",
       "1398  10.148891  10.198039  10.723805  10.198039  10.148891  10.000000   \n",
       "1399  11.045361  10.908712  11.958261  11.532562  11.445523  11.661903   \n",
       "\n",
       "           6          7          8          9     ...       1390       1391  \\\n",
       "0      0.000000   0.000000   0.000000   0.000000  ...   0.000000   0.000000   \n",
       "1      4.000000   5.656854   4.123106   4.795832  ...   4.000000   3.605551   \n",
       "2      4.123106   6.164414   4.898980   5.477226  ...   5.744563   3.741657   \n",
       "3      4.472136   6.324555   5.656854   5.477226  ...   6.480741   3.872983   \n",
       "4      4.898980   6.403124   5.830952   5.567764  ...   6.557438   5.000000   \n",
       "...         ...        ...        ...        ...  ...        ...        ...   \n",
       "1395  10.392304  10.099504  10.488089  10.344080  ...  10.488089  10.246951   \n",
       "1396  10.392304  10.198039  10.488089  10.392304  ...  10.630146  10.246951   \n",
       "1397  10.440307  10.344080  10.488089  10.440307  ...  10.723805  10.295630   \n",
       "1398  10.440307  10.392304  10.630146  10.488089  ...  10.770329  10.295630   \n",
       "1399  11.618950  11.789826  11.704700  11.135529  ...  11.832160  11.575837   \n",
       "\n",
       "           1392       1393       1394       1395       1396       1397  \\\n",
       "0      0.000000   0.000000   0.000000   0.000000   0.000000   0.000000   \n",
       "1      4.123106   2.645751   3.605551   3.316625   3.605551   3.464102   \n",
       "2      4.582576   4.795832   3.872983   3.605551   4.000000   3.741657   \n",
       "3      4.795832   4.898980   4.000000   3.741657   4.690416   3.741657   \n",
       "4      5.000000   5.000000   4.000000   3.741657   5.196152   3.872983   \n",
       "...         ...        ...        ...        ...        ...        ...   \n",
       "1395  11.090536  10.908712  10.816654  10.954452  11.045361  11.135529   \n",
       "1396  11.135529  10.954452  10.908712  11.000000  11.090536  11.135529   \n",
       "1397  11.135529  11.045361  10.908712  11.045361  11.090536  11.180340   \n",
       "1398  11.224972  11.045361  10.908712  11.135529  11.180340  11.269427   \n",
       "1399  12.124355  11.180340  11.661903  11.874342  12.000000  12.000000   \n",
       "\n",
       "           1398       1399  \n",
       "0      0.000000   0.000000  \n",
       "1      5.744563   5.000000  \n",
       "2      6.557438   5.099020  \n",
       "3      6.782330   5.656854  \n",
       "4      6.782330   5.656854  \n",
       "...         ...        ...  \n",
       "1395  10.723805  11.135529  \n",
       "1396  10.770329  11.180340  \n",
       "1397  10.862781  11.180340  \n",
       "1398  10.954452  11.313708  \n",
       "1399  11.789826  12.369317  \n",
       "\n",
       "[1400 rows x 1400 columns]"
      ]
     },
     "execution_count": 40,
     "metadata": {},
     "output_type": "execute_result"
    }
   ],
   "source": [
    "df_tr=pd.DataFrame(neighbors_k)\n",
    "df_tr"
   ]
  },
  {
   "cell_type": "code",
   "execution_count": 41,
   "metadata": {},
   "outputs": [],
   "source": [
    "similarity= neighbors_k"
   ]
  },
  {
   "cell_type": "code",
   "execution_count": 42,
   "metadata": {},
   "outputs": [],
   "source": [
    "Dmean=np.mean(similarity[1,:])"
   ]
  },
  {
   "cell_type": "code",
   "execution_count": 43,
   "metadata": {},
   "outputs": [
    {
     "data": {
      "text/plain": [
       "3.46"
      ]
     },
     "execution_count": 43,
     "metadata": {},
     "output_type": "execute_result"
    }
   ],
   "source": [
    "round(Dmean, 2)"
   ]
  },
  {
   "cell_type": "code",
   "execution_count": 44,
   "metadata": {},
   "outputs": [],
   "source": [
    "std=np.std(similarity[1,:])"
   ]
  },
  {
   "cell_type": "code",
   "execution_count": 45,
   "metadata": {},
   "outputs": [
    {
     "data": {
      "text/plain": [
       "1.43"
      ]
     },
     "execution_count": 45,
     "metadata": {},
     "output_type": "execute_result"
    }
   ],
   "source": [
    "round(std, 2)"
   ]
  },
  {
   "cell_type": "code",
   "execution_count": 46,
   "metadata": {},
   "outputs": [
    {
     "name": "stdout",
     "output_type": "stream",
     "text": [
      "4.17\n"
     ]
    }
   ],
   "source": [
    "model_AD_limit=Dmean+std*0.5\n",
    "print(np.round(model_AD_limit, 2))"
   ]
  },
  {
   "cell_type": "code",
   "execution_count": 47,
   "metadata": {},
   "outputs": [],
   "source": [
    "neighbors_k_ts= pairwise_distances(x_tr,Y=x_ts, n_jobs=-1)\n",
    "neighbors_k_ts.sort(0)"
   ]
  },
  {
   "cell_type": "code",
   "execution_count": 48,
   "metadata": {},
   "outputs": [
    {
     "data": {
      "text/html": [
       "<div>\n",
       "<style scoped>\n",
       "    .dataframe tbody tr th:only-of-type {\n",
       "        vertical-align: middle;\n",
       "    }\n",
       "\n",
       "    .dataframe tbody tr th {\n",
       "        vertical-align: top;\n",
       "    }\n",
       "\n",
       "    .dataframe thead th {\n",
       "        text-align: right;\n",
       "    }\n",
       "</style>\n",
       "<table border=\"1\" class=\"dataframe\">\n",
       "  <thead>\n",
       "    <tr style=\"text-align: right;\">\n",
       "      <th></th>\n",
       "      <th>0</th>\n",
       "      <th>1</th>\n",
       "      <th>2</th>\n",
       "      <th>3</th>\n",
       "      <th>4</th>\n",
       "      <th>5</th>\n",
       "      <th>6</th>\n",
       "      <th>7</th>\n",
       "      <th>8</th>\n",
       "      <th>9</th>\n",
       "      <th>...</th>\n",
       "      <th>341</th>\n",
       "      <th>342</th>\n",
       "      <th>343</th>\n",
       "      <th>344</th>\n",
       "      <th>345</th>\n",
       "      <th>346</th>\n",
       "      <th>347</th>\n",
       "      <th>348</th>\n",
       "      <th>349</th>\n",
       "      <th>350</th>\n",
       "    </tr>\n",
       "  </thead>\n",
       "  <tbody>\n",
       "    <tr>\n",
       "      <th>0</th>\n",
       "      <td>0.000000</td>\n",
       "      <td>3.605551</td>\n",
       "      <td>8.000000</td>\n",
       "      <td>4.242640</td>\n",
       "      <td>4.690416</td>\n",
       "      <td>4.123106</td>\n",
       "      <td>4.123106</td>\n",
       "      <td>3.605551</td>\n",
       "      <td>3.464102</td>\n",
       "      <td>4.472136</td>\n",
       "      <td>...</td>\n",
       "      <td>3.464102</td>\n",
       "      <td>3.741657</td>\n",
       "      <td>3.162278</td>\n",
       "      <td>4.242640</td>\n",
       "      <td>4.242640</td>\n",
       "      <td>4.123106</td>\n",
       "      <td>3.872983</td>\n",
       "      <td>4.472136</td>\n",
       "      <td>5.000000</td>\n",
       "      <td>2.449490</td>\n",
       "    </tr>\n",
       "    <tr>\n",
       "      <th>1</th>\n",
       "      <td>3.464102</td>\n",
       "      <td>4.898980</td>\n",
       "      <td>8.124039</td>\n",
       "      <td>4.898980</td>\n",
       "      <td>5.000000</td>\n",
       "      <td>4.358899</td>\n",
       "      <td>4.123106</td>\n",
       "      <td>3.872983</td>\n",
       "      <td>3.741657</td>\n",
       "      <td>5.099020</td>\n",
       "      <td>...</td>\n",
       "      <td>3.605551</td>\n",
       "      <td>3.741657</td>\n",
       "      <td>3.316625</td>\n",
       "      <td>4.358899</td>\n",
       "      <td>4.690416</td>\n",
       "      <td>4.472136</td>\n",
       "      <td>4.000000</td>\n",
       "      <td>4.582576</td>\n",
       "      <td>5.291502</td>\n",
       "      <td>3.000000</td>\n",
       "    </tr>\n",
       "    <tr>\n",
       "      <th>2</th>\n",
       "      <td>3.872983</td>\n",
       "      <td>6.324555</td>\n",
       "      <td>8.124039</td>\n",
       "      <td>5.000000</td>\n",
       "      <td>5.744563</td>\n",
       "      <td>4.472136</td>\n",
       "      <td>4.795832</td>\n",
       "      <td>3.872983</td>\n",
       "      <td>5.099020</td>\n",
       "      <td>5.099020</td>\n",
       "      <td>...</td>\n",
       "      <td>3.741657</td>\n",
       "      <td>3.741657</td>\n",
       "      <td>3.464102</td>\n",
       "      <td>5.196152</td>\n",
       "      <td>4.898980</td>\n",
       "      <td>4.472136</td>\n",
       "      <td>4.472136</td>\n",
       "      <td>4.582576</td>\n",
       "      <td>5.567764</td>\n",
       "      <td>3.464102</td>\n",
       "    </tr>\n",
       "    <tr>\n",
       "      <th>3</th>\n",
       "      <td>3.872983</td>\n",
       "      <td>6.324555</td>\n",
       "      <td>8.185352</td>\n",
       "      <td>5.385165</td>\n",
       "      <td>5.916080</td>\n",
       "      <td>5.830952</td>\n",
       "      <td>5.830952</td>\n",
       "      <td>4.898980</td>\n",
       "      <td>5.567764</td>\n",
       "      <td>5.567764</td>\n",
       "      <td>...</td>\n",
       "      <td>4.358899</td>\n",
       "      <td>3.872983</td>\n",
       "      <td>4.123106</td>\n",
       "      <td>5.291502</td>\n",
       "      <td>5.099020</td>\n",
       "      <td>4.582576</td>\n",
       "      <td>4.690416</td>\n",
       "      <td>4.582576</td>\n",
       "      <td>5.830952</td>\n",
       "      <td>5.744563</td>\n",
       "    </tr>\n",
       "    <tr>\n",
       "      <th>4</th>\n",
       "      <td>4.000000</td>\n",
       "      <td>6.403124</td>\n",
       "      <td>8.246211</td>\n",
       "      <td>5.567764</td>\n",
       "      <td>7.211102</td>\n",
       "      <td>5.830952</td>\n",
       "      <td>6.082763</td>\n",
       "      <td>5.099020</td>\n",
       "      <td>6.000000</td>\n",
       "      <td>5.567764</td>\n",
       "      <td>...</td>\n",
       "      <td>4.582576</td>\n",
       "      <td>4.582576</td>\n",
       "      <td>4.582576</td>\n",
       "      <td>5.291502</td>\n",
       "      <td>5.916080</td>\n",
       "      <td>4.582576</td>\n",
       "      <td>5.000000</td>\n",
       "      <td>4.690416</td>\n",
       "      <td>6.782330</td>\n",
       "      <td>5.916080</td>\n",
       "    </tr>\n",
       "    <tr>\n",
       "      <th>...</th>\n",
       "      <td>...</td>\n",
       "      <td>...</td>\n",
       "      <td>...</td>\n",
       "      <td>...</td>\n",
       "      <td>...</td>\n",
       "      <td>...</td>\n",
       "      <td>...</td>\n",
       "      <td>...</td>\n",
       "      <td>...</td>\n",
       "      <td>...</td>\n",
       "      <td>...</td>\n",
       "      <td>...</td>\n",
       "      <td>...</td>\n",
       "      <td>...</td>\n",
       "      <td>...</td>\n",
       "      <td>...</td>\n",
       "      <td>...</td>\n",
       "      <td>...</td>\n",
       "      <td>...</td>\n",
       "      <td>...</td>\n",
       "      <td>...</td>\n",
       "    </tr>\n",
       "    <tr>\n",
       "      <th>1395</th>\n",
       "      <td>9.797959</td>\n",
       "      <td>9.899495</td>\n",
       "      <td>11.489125</td>\n",
       "      <td>11.045361</td>\n",
       "      <td>10.344080</td>\n",
       "      <td>10.440307</td>\n",
       "      <td>10.677078</td>\n",
       "      <td>9.949874</td>\n",
       "      <td>10.295630</td>\n",
       "      <td>10.488089</td>\n",
       "      <td>...</td>\n",
       "      <td>10.246951</td>\n",
       "      <td>10.198039</td>\n",
       "      <td>10.148891</td>\n",
       "      <td>11.135529</td>\n",
       "      <td>10.770329</td>\n",
       "      <td>10.954452</td>\n",
       "      <td>11.045361</td>\n",
       "      <td>10.816654</td>\n",
       "      <td>11.135529</td>\n",
       "      <td>11.180340</td>\n",
       "    </tr>\n",
       "    <tr>\n",
       "      <th>1396</th>\n",
       "      <td>9.899495</td>\n",
       "      <td>9.899495</td>\n",
       "      <td>11.532562</td>\n",
       "      <td>11.045361</td>\n",
       "      <td>10.488089</td>\n",
       "      <td>10.440307</td>\n",
       "      <td>10.723805</td>\n",
       "      <td>10.000000</td>\n",
       "      <td>10.344080</td>\n",
       "      <td>10.488089</td>\n",
       "      <td>...</td>\n",
       "      <td>10.344080</td>\n",
       "      <td>10.295630</td>\n",
       "      <td>10.246951</td>\n",
       "      <td>11.135529</td>\n",
       "      <td>10.816654</td>\n",
       "      <td>11.000000</td>\n",
       "      <td>11.090536</td>\n",
       "      <td>10.862781</td>\n",
       "      <td>11.135529</td>\n",
       "      <td>11.180340</td>\n",
       "    </tr>\n",
       "    <tr>\n",
       "      <th>1397</th>\n",
       "      <td>10.049875</td>\n",
       "      <td>9.949874</td>\n",
       "      <td>11.532562</td>\n",
       "      <td>11.090536</td>\n",
       "      <td>10.583005</td>\n",
       "      <td>10.440307</td>\n",
       "      <td>10.723805</td>\n",
       "      <td>10.000000</td>\n",
       "      <td>10.440307</td>\n",
       "      <td>10.488089</td>\n",
       "      <td>...</td>\n",
       "      <td>10.392304</td>\n",
       "      <td>10.440307</td>\n",
       "      <td>10.295630</td>\n",
       "      <td>11.180340</td>\n",
       "      <td>10.862781</td>\n",
       "      <td>11.000000</td>\n",
       "      <td>11.090536</td>\n",
       "      <td>10.908712</td>\n",
       "      <td>11.269427</td>\n",
       "      <td>11.180340</td>\n",
       "    </tr>\n",
       "    <tr>\n",
       "      <th>1398</th>\n",
       "      <td>10.099504</td>\n",
       "      <td>10.049875</td>\n",
       "      <td>11.747340</td>\n",
       "      <td>11.135529</td>\n",
       "      <td>10.630146</td>\n",
       "      <td>10.488089</td>\n",
       "      <td>10.862781</td>\n",
       "      <td>10.049875</td>\n",
       "      <td>10.583005</td>\n",
       "      <td>10.535654</td>\n",
       "      <td>...</td>\n",
       "      <td>10.488089</td>\n",
       "      <td>10.488089</td>\n",
       "      <td>10.392304</td>\n",
       "      <td>11.313708</td>\n",
       "      <td>10.954452</td>\n",
       "      <td>11.090536</td>\n",
       "      <td>11.180340</td>\n",
       "      <td>11.045361</td>\n",
       "      <td>11.313708</td>\n",
       "      <td>11.224972</td>\n",
       "    </tr>\n",
       "    <tr>\n",
       "      <th>1399</th>\n",
       "      <td>10.908712</td>\n",
       "      <td>11.618950</td>\n",
       "      <td>12.727922</td>\n",
       "      <td>11.916375</td>\n",
       "      <td>12.165525</td>\n",
       "      <td>12.247449</td>\n",
       "      <td>11.832160</td>\n",
       "      <td>11.789826</td>\n",
       "      <td>11.916375</td>\n",
       "      <td>12.247449</td>\n",
       "      <td>...</td>\n",
       "      <td>11.489125</td>\n",
       "      <td>11.618950</td>\n",
       "      <td>11.401754</td>\n",
       "      <td>11.958261</td>\n",
       "      <td>11.958261</td>\n",
       "      <td>12.083046</td>\n",
       "      <td>12.000000</td>\n",
       "      <td>11.532562</td>\n",
       "      <td>11.618950</td>\n",
       "      <td>11.489125</td>\n",
       "    </tr>\n",
       "  </tbody>\n",
       "</table>\n",
       "<p>1400 rows × 351 columns</p>\n",
       "</div>"
      ],
      "text/plain": [
       "            0          1          2          3          4          5    \\\n",
       "0      0.000000   3.605551   8.000000   4.242640   4.690416   4.123106   \n",
       "1      3.464102   4.898980   8.124039   4.898980   5.000000   4.358899   \n",
       "2      3.872983   6.324555   8.124039   5.000000   5.744563   4.472136   \n",
       "3      3.872983   6.324555   8.185352   5.385165   5.916080   5.830952   \n",
       "4      4.000000   6.403124   8.246211   5.567764   7.211102   5.830952   \n",
       "...         ...        ...        ...        ...        ...        ...   \n",
       "1395   9.797959   9.899495  11.489125  11.045361  10.344080  10.440307   \n",
       "1396   9.899495   9.899495  11.532562  11.045361  10.488089  10.440307   \n",
       "1397  10.049875   9.949874  11.532562  11.090536  10.583005  10.440307   \n",
       "1398  10.099504  10.049875  11.747340  11.135529  10.630146  10.488089   \n",
       "1399  10.908712  11.618950  12.727922  11.916375  12.165525  12.247449   \n",
       "\n",
       "            6          7          8          9    ...        341        342  \\\n",
       "0      4.123106   3.605551   3.464102   4.472136  ...   3.464102   3.741657   \n",
       "1      4.123106   3.872983   3.741657   5.099020  ...   3.605551   3.741657   \n",
       "2      4.795832   3.872983   5.099020   5.099020  ...   3.741657   3.741657   \n",
       "3      5.830952   4.898980   5.567764   5.567764  ...   4.358899   3.872983   \n",
       "4      6.082763   5.099020   6.000000   5.567764  ...   4.582576   4.582576   \n",
       "...         ...        ...        ...        ...  ...        ...        ...   \n",
       "1395  10.677078   9.949874  10.295630  10.488089  ...  10.246951  10.198039   \n",
       "1396  10.723805  10.000000  10.344080  10.488089  ...  10.344080  10.295630   \n",
       "1397  10.723805  10.000000  10.440307  10.488089  ...  10.392304  10.440307   \n",
       "1398  10.862781  10.049875  10.583005  10.535654  ...  10.488089  10.488089   \n",
       "1399  11.832160  11.789826  11.916375  12.247449  ...  11.489125  11.618950   \n",
       "\n",
       "            343        344        345        346        347        348  \\\n",
       "0      3.162278   4.242640   4.242640   4.123106   3.872983   4.472136   \n",
       "1      3.316625   4.358899   4.690416   4.472136   4.000000   4.582576   \n",
       "2      3.464102   5.196152   4.898980   4.472136   4.472136   4.582576   \n",
       "3      4.123106   5.291502   5.099020   4.582576   4.690416   4.582576   \n",
       "4      4.582576   5.291502   5.916080   4.582576   5.000000   4.690416   \n",
       "...         ...        ...        ...        ...        ...        ...   \n",
       "1395  10.148891  11.135529  10.770329  10.954452  11.045361  10.816654   \n",
       "1396  10.246951  11.135529  10.816654  11.000000  11.090536  10.862781   \n",
       "1397  10.295630  11.180340  10.862781  11.000000  11.090536  10.908712   \n",
       "1398  10.392304  11.313708  10.954452  11.090536  11.180340  11.045361   \n",
       "1399  11.401754  11.958261  11.958261  12.083046  12.000000  11.532562   \n",
       "\n",
       "            349        350  \n",
       "0      5.000000   2.449490  \n",
       "1      5.291502   3.000000  \n",
       "2      5.567764   3.464102  \n",
       "3      5.830952   5.744563  \n",
       "4      6.782330   5.916080  \n",
       "...         ...        ...  \n",
       "1395  11.135529  11.180340  \n",
       "1396  11.135529  11.180340  \n",
       "1397  11.269427  11.180340  \n",
       "1398  11.313708  11.224972  \n",
       "1399  11.618950  11.489125  \n",
       "\n",
       "[1400 rows x 351 columns]"
      ]
     },
     "execution_count": 48,
     "metadata": {},
     "output_type": "execute_result"
    }
   ],
   "source": [
    "x_ts_AD=pd.DataFrame(neighbors_k_ts)\n",
    "x_ts_AD"
   ]
  },
  {
   "cell_type": "code",
   "execution_count": 49,
   "metadata": {},
   "outputs": [
    {
     "name": "stdout",
     "output_type": "stream",
     "text": [
      "[0.    3.606 8.    4.243 4.69  4.123 4.123 3.606 3.464 4.472 4.796 3.742\n",
      " 3.606 5.745 5.745 1.    2.449 3.464 5.099 4.    3.162 4.    4.899 1.\n",
      " 3.317 1.    3.162 2.449 3.606 3.464 5.099 4.359 5.    4.123 4.123 2.\n",
      " 4.472 3.606 2.449 3.742 4.69  5.831 3.464 5.385 3.873 4.583 5.477 4.359\n",
      " 1.    1.414 3.606 4.583 3.464 3.317 2.236 6.    3.    3.162 3.606 3.162\n",
      " 3.606 3.464 3.606 5.385 4.123 2.    5.099 4.472 1.    5.    5.099 3.162\n",
      " 3.    3.742 1.    0.    3.317 3.742 3.317 4.359 4.472 2.646 3.317 3.162\n",
      " 4.472 2.828 4.    3.464 2.449 4.899 2.828 6.557 4.69  3.162 0.    3.317\n",
      " 2.828 4.243 0.    3.317 7.348 3.    4.    0.    4.    2.646 4.123 0.\n",
      " 3.464 1.    2.236 3.606 3.    3.    6.164 1.    3.606 0.    4.123 3.317\n",
      " 3.873 3.464 4.796 4.123 4.243 4.    3.606 3.    3.    3.873 1.732 4.123\n",
      " 3.464 3.317 2.828 3.    3.    4.    4.359 1.414 6.164 3.873 3.464 3.606\n",
      " 3.606 3.162 2.828 3.742 4.359 6.403 3.162 3.873 3.162 3.317 0.    2.828\n",
      " 3.742 4.123 4.583 3.    3.873 3.606 3.162 3.873 0.    4.    4.359 2.236\n",
      " 4.    3.162 3.    3.    2.646 3.317 3.162 5.099 3.464 3.606 3.464 4.\n",
      " 3.162 4.472 5.    3.162 2.    3.606 3.317 3.873 3.742 3.317 3.606 3.464\n",
      " 3.464 2.449 4.243 3.606 3.873 3.    1.    3.317 3.162 3.    2.828 3.873\n",
      " 1.732 3.464 3.317 4.359 1.732 3.    3.    0.    3.317 3.    3.317 4.123\n",
      " 3.162 3.162 3.317 5.    3.606 3.162 0.    3.742 4.359 3.873 3.464 0.\n",
      " 3.    4.472 1.732 4.472 3.873 2.828 3.464 3.464 4.69  3.606 4.472 3.873\n",
      " 3.317 4.69  3.162 6.708 3.317 4.583 1.    1.    3.873 3.162 2.828 3.162\n",
      " 3.162 4.359 0.    3.606 3.162 3.464 3.317 3.317 5.196 3.317 8.66  2.646\n",
      " 2.828 3.464 3.162 3.464 3.    3.162 0.    3.606 3.162 5.745 4.359 3.162\n",
      " 4.69  3.162 3.873 3.873 3.162 4.    3.162 3.606 3.464 6.403 3.    3.742\n",
      " 6.325 4.69  5.099 3.    4.    7.071 2.236 4.796 4.243 3.317 3.742 0.\n",
      " 1.    0.    5.745 3.    3.    4.69  3.464 3.317 3.606 4.472 5.196 3.\n",
      " 4.69  3.873 6.708 3.162 2.828 3.162 3.742 3.162 3.162 2.449 4.796 3.162\n",
      " 1.    4.    3.464 0.    4.583 2.449 2.828 2.    3.873 2.828 3.873 3.162\n",
      " 2.828 3.606 3.464 3.464 3.    3.464 3.742 3.162 4.243 4.243 4.123 3.873\n",
      " 4.472 5.    2.449]\n"
     ]
    }
   ],
   "source": [
    "similarity_ts= neighbors_k_ts\n",
    "cpd_AD=similarity_ts[0,:]\n",
    "cpd_value = np.round(cpd_AD, 3)\n",
    "print(cpd_value)"
   ]
  },
  {
   "cell_type": "code",
   "execution_count": 50,
   "metadata": {},
   "outputs": [
    {
     "name": "stdout",
     "output_type": "stream",
     "text": [
      "[ True  True False False False  True  True  True  True False False  True\n",
      "  True False False  True  True  True False  True  True  True False  True\n",
      "  True  True  True  True  True  True False False False  True  True  True\n",
      " False  True  True  True False False  True False  True False False False\n",
      "  True  True  True False  True  True  True False  True  True  True  True\n",
      "  True  True  True False  True  True False False  True False False  True\n",
      "  True  True  True  True  True  True  True False False  True  True  True\n",
      " False  True  True  True  True False  True False False  True  True  True\n",
      "  True False  True  True False  True  True  True  True  True  True  True\n",
      "  True  True  True  True  True  True False  True  True  True  True  True\n",
      "  True  True False  True False  True  True  True  True  True  True  True\n",
      "  True  True  True  True  True  True False  True False  True  True  True\n",
      "  True  True  True  True False False  True  True  True  True  True  True\n",
      "  True  True False  True  True  True  True  True  True  True False  True\n",
      "  True  True  True  True  True  True  True False  True  True  True  True\n",
      "  True False False  True  True  True  True  True  True  True  True  True\n",
      "  True  True False  True  True  True  True  True  True  True  True  True\n",
      "  True  True  True False  True  True  True  True  True  True  True  True\n",
      "  True  True  True False  True  True  True  True False  True  True  True\n",
      "  True False  True False  True  True  True  True False  True False  True\n",
      "  True False  True False  True False  True  True  True  True  True  True\n",
      "  True False  True  True  True  True  True  True False  True False  True\n",
      "  True  True  True  True  True  True  True  True  True False False  True\n",
      " False  True  True  True  True  True  True  True  True False  True  True\n",
      " False False False  True  True False  True False False  True  True  True\n",
      "  True  True False  True  True False  True  True  True False False  True\n",
      " False  True False  True  True  True  True  True  True  True False  True\n",
      "  True  True  True  True False  True  True  True  True  True  True  True\n",
      "  True  True  True  True  True  True  True  True False False  True  True\n",
      " False False  True]\n"
     ]
    }
   ],
   "source": [
    "cpd_AD = np.where(cpd_value <= model_AD_limit, True, False)\n",
    "print(cpd_AD)"
   ]
  },
  {
   "cell_type": "code",
   "execution_count": 51,
   "metadata": {},
   "outputs": [
    {
     "name": "stdout",
     "output_type": "stream",
     "text": [
      "Coverage =  0.7663817663817664\n"
     ]
    }
   ],
   "source": [
    "print(\"Coverage = \", sum(cpd_AD) / len(cpd_AD))"
   ]
  },
  {
   "cell_type": "code",
   "execution_count": 52,
   "metadata": {},
   "outputs": [
    {
     "name": "stdout",
     "output_type": "stream",
     "text": [
      "Indices of substances included in AD =  [  0   1   5   6   7   8  11  12  15  16  17  19  20  21  23  24  25  26\n",
      "  27  28  29  33  34  35  37  38  39  42  44  48  49  50  52  53  54  56\n",
      "  57  58  59  60  61  62  64  65  68  71  72  73  74  75  76  77  78  81\n",
      "  82  83  85  86  87  88  90  93  94  95  96  98  99 101 102 103 104 105\n",
      " 106 107 108 109 110 111 112 113 115 116 117 118 119 120 121 123 125 126\n",
      " 127 128 129 130 131 132 133 134 135 136 137 139 141 142 143 144 145 146\n",
      " 147 150 151 152 153 154 155 156 157 159 160 161 162 163 164 165 167 168\n",
      " 169 170 171 172 173 174 176 177 178 179 180 183 184 185 186 187 188 189\n",
      " 190 191 192 193 195 196 197 198 199 200 201 202 203 204 205 206 208 209\n",
      " 210 211 212 213 214 215 216 217 218 220 221 222 223 225 226 227 228 230\n",
      " 232 233 234 235 237 239 240 242 244 246 247 248 249 250 251 252 254 255\n",
      " 256 257 258 259 261 263 264 265 266 267 268 269 270 271 272 275 277 278\n",
      " 279 280 281 282 283 284 286 287 291 292 294 297 298 299 300 301 303 304\n",
      " 306 307 308 311 313 315 316 317 318 319 320 321 323 324 325 326 327 329\n",
      " 330 331 332 333 334 335 336 337 338 339 340 341 342 343 346 347 350]\n"
     ]
    }
   ],
   "source": [
    "print(\"Indices of substances included in AD = \", np.where(cpd_AD != 0)[0])"
   ]
  },
  {
   "cell_type": "code",
   "execution_count": 53,
   "metadata": {},
   "outputs": [],
   "source": [
    "out_Ad=list(np.where(cpd_AD == 0)[0])"
   ]
  },
  {
   "cell_type": "markdown",
   "metadata": {},
   "source": [
    "# 12. Prediction only for molecules included in  AD"
   ]
  },
  {
   "cell_type": "code",
   "execution_count": 54,
   "metadata": {},
   "outputs": [],
   "source": [
    "y_pred_svm_ad=list(y_pred_svm)"
   ]
  },
  {
   "cell_type": "code",
   "execution_count": 55,
   "metadata": {},
   "outputs": [],
   "source": [
    "y_pred_svm_ad[:] = [x for i,x in enumerate(y_pred_svm_ad) if i not in out_Ad]"
   ]
  },
  {
   "cell_type": "code",
   "execution_count": 56,
   "metadata": {},
   "outputs": [
    {
     "data": {
      "text/plain": [
       "269"
      ]
     },
     "execution_count": 56,
     "metadata": {},
     "output_type": "execute_result"
    }
   ],
   "source": [
    "len(y_pred_svm_ad)"
   ]
  },
  {
   "cell_type": "code",
   "execution_count": 57,
   "metadata": {},
   "outputs": [],
   "source": [
    "y_ts_ad=list(y_ts)"
   ]
  },
  {
   "cell_type": "code",
   "execution_count": 58,
   "metadata": {},
   "outputs": [],
   "source": [
    "y_ts_ad[:] = [x for i,x in enumerate(y_ts_ad) if i not in out_Ad]"
   ]
  },
  {
   "cell_type": "code",
   "execution_count": 59,
   "metadata": {},
   "outputs": [
    {
     "data": {
      "text/plain": [
       "269"
      ]
     },
     "execution_count": 59,
     "metadata": {},
     "output_type": "execute_result"
    }
   ],
   "source": [
    "len(y_ts_ad)"
   ]
  },
  {
   "cell_type": "code",
   "execution_count": 60,
   "metadata": {},
   "outputs": [
    {
     "data": {
      "text/plain": [
       "0.75"
      ]
     },
     "execution_count": 60,
     "metadata": {},
     "output_type": "execute_result"
    }
   ],
   "source": [
    "Q2_TS = round(r2_score(y_ts_ad, y_pred_svm_ad), 2)\n",
    "Q2_TS"
   ]
  },
  {
   "cell_type": "code",
   "execution_count": 61,
   "metadata": {},
   "outputs": [
    {
     "data": {
      "text/plain": [
       "0.66"
      ]
     },
     "execution_count": 61,
     "metadata": {},
     "output_type": "execute_result"
    }
   ],
   "source": [
    "RMSE_TS=round(np.sqrt(mean_absolute_error(y_ts_ad, y_pred_svm_ad)), 2)\n",
    "RMSE_TS"
   ]
  }
 ],
 "metadata": {
  "kernelspec": {
   "display_name": "Python3 (rdkit)",
   "language": "python",
   "name": "my-rdkit-env"
  },
  "language_info": {
   "codemirror_mode": {
    "name": "ipython",
    "version": 3
   },
   "file_extension": ".py",
   "mimetype": "text/x-python",
   "name": "python",
   "nbconvert_exporter": "python",
   "pygments_lexer": "ipython3",
   "version": "3.10.12"
  },
  "toc": {
   "base_numbering": 1,
   "nav_menu": {},
   "number_sections": true,
   "sideBar": true,
   "skip_h1_title": false,
   "title_cell": "Table of Contents",
   "title_sidebar": "Contents",
   "toc_cell": false,
   "toc_position": {
    "height": "calc(100% - 180px)",
    "left": "10px",
    "top": "150px",
    "width": "190px"
   },
   "toc_section_display": true,
   "toc_window_display": true
  }
 },
 "nbformat": 4,
 "nbformat_minor": 4
}
