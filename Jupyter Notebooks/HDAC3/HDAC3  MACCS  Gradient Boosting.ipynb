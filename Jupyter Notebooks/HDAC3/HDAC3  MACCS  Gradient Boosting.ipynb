{
 "cells": [
  {
   "cell_type": "markdown",
   "metadata": {},
   "source": [
    "# 1. Importing modules and functions"
   ]
  },
  {
   "cell_type": "code",
   "execution_count": 1,
   "metadata": {},
   "outputs": [
    {
     "name": "stderr",
     "output_type": "stream",
     "text": [
      "[16:40:40] Initializing Normalizer\n"
     ]
    }
   ],
   "source": [
    "import numpy as np\n",
    "import pandas as pd\n",
    "from rdkit import Chem, DataStructs\n",
    "from rdkit.Chem import AllChem, Descriptors\n",
    "from rdkit.ML.Descriptors import MoleculeDescriptors\n",
    "import chembl_structure_pipeline\n",
    "from molvs import standardize_smiles\n",
    "from sklearn.model_selection import KFold, GridSearchCV\n",
    "from sklearn.model_selection import permutation_test_score\n",
    "from sklearn.preprocessing import StandardScaler\n",
    "from sklearn.model_selection import cross_val_predict\n",
    "from sklearn import metrics\n",
    "from sklearn.metrics import pairwise_distances\n",
    "import joblib\n",
    "import pickle\n",
    "from numpy import savetxt\n",
    "from padelpy import from_sdf\n",
    "from IPython.display import HTML\n",
    "import matplotlib.pyplot as plt\n",
    "from sklearn.ensemble import GradientBoostingRegressor\n",
    "from sklearn.metrics import mean_squared_error\n",
    "from sklearn.metrics import mean_absolute_error\n",
    "from sklearn.metrics import r2_score\n",
    "from rdkit.Chem import MACCSkeys\n",
    "import warnings\n",
    "warnings.filterwarnings('ignore')"
   ]
  },
  {
   "cell_type": "markdown",
   "metadata": {},
   "source": [
    "# 2.Data entry and curation work set"
   ]
  },
  {
   "cell_type": "code",
   "execution_count": 2,
   "metadata": {},
   "outputs": [
    {
     "name": "stdout",
     "output_type": "stream",
     "text": [
      "Original data:  1400 molecules\n",
      "Failed data:  0 molecules\n"
     ]
    },
    {
     "data": {
      "text/html": [
       "<div>\n",
       "<style scoped>\n",
       "    .dataframe tbody tr th:only-of-type {\n",
       "        vertical-align: middle;\n",
       "    }\n",
       "\n",
       "    .dataframe tbody tr th {\n",
       "        vertical-align: top;\n",
       "    }\n",
       "\n",
       "    .dataframe thead th {\n",
       "        text-align: right;\n",
       "    }\n",
       "</style>\n",
       "<table border=\"1\" class=\"dataframe\">\n",
       "  <thead>\n",
       "    <tr style=\"text-align: right;\">\n",
       "      <th></th>\n",
       "      <th>No. failed molecule in original set</th>\n",
       "      <th>SMILES of wrong structure:</th>\n",
       "    </tr>\n",
       "    <tr>\n",
       "      <th>No.</th>\n",
       "      <th></th>\n",
       "      <th></th>\n",
       "    </tr>\n",
       "  </thead>\n",
       "  <tbody>\n",
       "  </tbody>\n",
       "</table>\n",
       "</div>"
      ],
      "text/plain": [
       "Empty DataFrame\n",
       "Columns: [No. failed molecule in original set, SMILES of wrong structure: ]\n",
       "Index: []"
      ]
     },
     "execution_count": 2,
     "metadata": {},
     "output_type": "execute_result"
    }
   ],
   "source": [
    "uploaded_file_ws=\"datasets/HDAC3_work.sdf\"\n",
    "supplier_ws = Chem.ForwardSDMolSupplier(uploaded_file_ws,sanitize=False)\n",
    "failed_mols_ws = []\n",
    "all_mols_ws =[]\n",
    "wrong_structure_ws=[]\n",
    "wrong_smiles_ws=[]\n",
    "y_tr = []\n",
    "y_bad_index=[]\n",
    "\n",
    "for i, m in enumerate(supplier_ws):\n",
    "    structure = Chem.Mol(m)\n",
    "    all_mols_ws.append(structure)\n",
    "    y_tr.append(m.GetProp(\"pchembl_value_mean\"))\n",
    "    try:\n",
    "        Chem.SanitizeMol(structure)\n",
    "    except:\n",
    "        failed_mols_ws.append(m)\n",
    "        wrong_smiles_ws.append(Chem.MolToSmiles(m))\n",
    "        wrong_structure_ws.append(str(i+1))\n",
    "        y_bad_index.append(i)\n",
    "print('Original data: ', len(all_mols_ws), 'molecules')\n",
    "print('Failed data: ', len(failed_mols_ws), 'molecules')\n",
    "number_ws =[]\n",
    "for i in range(len(failed_mols_ws)):\n",
    "        number_ws.append(str(i+1))\n",
    "bad_molecules_ws = pd.DataFrame({'No. failed molecule in original set': wrong_structure_ws, 'SMILES of wrong structure: ': wrong_smiles_ws, 'No.': number_ws}, index=None)\n",
    "bad_molecules_ws = bad_molecules_ws.set_index('No.')\n",
    "bad_molecules_ws"
   ]
  },
  {
   "cell_type": "markdown",
   "metadata": {},
   "source": [
    "deleting activity values for substances with incorrect structure"
   ]
  },
  {
   "cell_type": "code",
   "execution_count": 3,
   "metadata": {},
   "outputs": [],
   "source": [
    "y_tr[:] = [x for i,x in enumerate(y_tr) if i not in y_bad_index]"
   ]
  },
  {
   "cell_type": "code",
   "execution_count": 4,
   "metadata": {},
   "outputs": [
    {
     "data": {
      "text/plain": [
       "1400"
      ]
     },
     "execution_count": 4,
     "metadata": {},
     "output_type": "execute_result"
    }
   ],
   "source": [
    "len(y_tr)"
   ]
  },
  {
   "cell_type": "markdown",
   "metadata": {},
   "source": [
    "# 3.Standardization SDF file for work set"
   ]
  },
  {
   "cell_type": "code",
   "execution_count": 5,
   "metadata": {},
   "outputs": [
    {
     "name": "stdout",
     "output_type": "stream",
     "text": [
      "Kept data:  1400 molecules\n"
     ]
    }
   ],
   "source": [
    "all_mols_ws[:] = [x for i,x in enumerate(all_mols_ws) if i not in y_bad_index] \n",
    "records = []\n",
    "for i in range(len(all_mols_ws)):\n",
    "    record = Chem.MolToSmiles(all_mols_ws[i])\n",
    "    records.append(record)\n",
    "\n",
    "moldf_ws = []\n",
    "for i,record in enumerate(records):\n",
    "    standard_record = standardize_smiles(record)\n",
    "    m = Chem.MolFromSmiles(standard_record)\n",
    "    moldf_ws.append(m)\n",
    "    \n",
    "print('Kept data: ', len(moldf_ws), 'molecules')"
   ]
  },
  {
   "cell_type": "markdown",
   "metadata": {},
   "source": [
    "# 4.Data entry and curation test set"
   ]
  },
  {
   "cell_type": "code",
   "execution_count": 6,
   "metadata": {},
   "outputs": [
    {
     "name": "stdout",
     "output_type": "stream",
     "text": [
      "Original data:  351 molecules\n",
      "Failed data:  0 molecules\n"
     ]
    },
    {
     "data": {
      "text/html": [
       "<div>\n",
       "<style scoped>\n",
       "    .dataframe tbody tr th:only-of-type {\n",
       "        vertical-align: middle;\n",
       "    }\n",
       "\n",
       "    .dataframe tbody tr th {\n",
       "        vertical-align: top;\n",
       "    }\n",
       "\n",
       "    .dataframe thead th {\n",
       "        text-align: right;\n",
       "    }\n",
       "</style>\n",
       "<table border=\"1\" class=\"dataframe\">\n",
       "  <thead>\n",
       "    <tr style=\"text-align: right;\">\n",
       "      <th></th>\n",
       "      <th>No. failed molecule in original set</th>\n",
       "      <th>SMILES of wrong structure:</th>\n",
       "    </tr>\n",
       "    <tr>\n",
       "      <th>No.</th>\n",
       "      <th></th>\n",
       "      <th></th>\n",
       "    </tr>\n",
       "  </thead>\n",
       "  <tbody>\n",
       "  </tbody>\n",
       "</table>\n",
       "</div>"
      ],
      "text/plain": [
       "Empty DataFrame\n",
       "Columns: [No. failed molecule in original set, SMILES of wrong structure: ]\n",
       "Index: []"
      ]
     },
     "execution_count": 6,
     "metadata": {},
     "output_type": "execute_result"
    }
   ],
   "source": [
    "uploaded_file_ts=\"datasets/HDAC3_test.sdf\"\n",
    "supplier_ts = Chem.ForwardSDMolSupplier(uploaded_file_ts,sanitize=False)\n",
    "failed_mols_ts = []\n",
    "all_mols_ts =[]\n",
    "wrong_structure_ts=[]\n",
    "wrong_smiles_ts=[]\n",
    "y_ts = []\n",
    "y_bad_index=[]\n",
    "for i, m in enumerate(supplier_ts):\n",
    "    structure = Chem.Mol(m)\n",
    "    all_mols_ts.append(structure)\n",
    "    y_ts.append(m.GetProp(\"pchembl_value_mean\"))\n",
    "    try:\n",
    "        Chem.SanitizeMol(structure)\n",
    "    except:\n",
    "        failed_mols_ts.append(m)\n",
    "        wrong_smiles_ts.append(Chem.MolToSmiles(m))\n",
    "        wrong_structure_ts.append(str(i+1))\n",
    "        y_bad_index.append(i)\n",
    "print('Original data: ', len(all_mols_ts), 'molecules')\n",
    "print('Failed data: ', len(failed_mols_ts), 'molecules')\n",
    "number_ts =[]\n",
    "for i in range(len(failed_mols_ts)):\n",
    "        number_ts.append(str(i+1))\n",
    "bad_molecules_ts = pd.DataFrame({'No. failed molecule in original set': wrong_structure_ts, 'SMILES of wrong structure: ': wrong_smiles_ts, 'No.': number_ts}, index=None)\n",
    "bad_molecules_ts = bad_molecules_ts.set_index('No.')\n",
    "bad_molecules_ts"
   ]
  },
  {
   "cell_type": "markdown",
   "metadata": {},
   "source": [
    "deleting activity values for substances with incorrect structure"
   ]
  },
  {
   "cell_type": "code",
   "execution_count": 7,
   "metadata": {},
   "outputs": [],
   "source": [
    "y_ts[:] = [x for i,x in enumerate(y_ts) if i not in y_bad_index]"
   ]
  },
  {
   "cell_type": "code",
   "execution_count": 8,
   "metadata": {},
   "outputs": [
    {
     "data": {
      "text/plain": [
       "351"
      ]
     },
     "execution_count": 8,
     "metadata": {},
     "output_type": "execute_result"
    }
   ],
   "source": [
    "len(y_ts)"
   ]
  },
  {
   "cell_type": "markdown",
   "metadata": {},
   "source": [
    "# 5.Standardization SDF file for test set"
   ]
  },
  {
   "cell_type": "code",
   "execution_count": 9,
   "metadata": {},
   "outputs": [
    {
     "name": "stdout",
     "output_type": "stream",
     "text": [
      "Kept data:  351 molecules\n"
     ]
    }
   ],
   "source": [
    "all_mols_ts[:] = [x for i,x in enumerate(all_mols_ts) if i not in y_bad_index] \n",
    "records = []\n",
    "for i in range(len(all_mols_ts)):\n",
    "    record = Chem.MolToSmiles(all_mols_ts[i])\n",
    "    records.append(record)\n",
    "\n",
    "moldf_ts = []\n",
    "for i,record in enumerate(records):\n",
    "    standard_record = standardize_smiles(record)\n",
    "    m = Chem.MolFromSmiles(standard_record)\n",
    "    moldf_ts.append(m)\n",
    "    \n",
    "print('Kept data: ', len(moldf_ts), 'molecules')"
   ]
  },
  {
   "cell_type": "markdown",
   "metadata": {},
   "source": [
    "## Calculation MACCS Fingerprints for work set"
   ]
  },
  {
   "cell_type": "code",
   "execution_count": 10,
   "metadata": {},
   "outputs": [],
   "source": [
    "fp_tr = [MACCSkeys.GenMACCSKeys(m) for m in moldf_ws]"
   ]
  },
  {
   "cell_type": "code",
   "execution_count": 11,
   "metadata": {},
   "outputs": [],
   "source": [
    "def rdkit_numpy_convert(fp_tr):\n",
    "    output = []\n",
    "    for f in fp_tr:\n",
    "        arr = np.zeros((1,))\n",
    "        DataStructs.ConvertToNumpyArray(f, arr)\n",
    "        output.append(arr)\n",
    "    return np.asarray(output)"
   ]
  },
  {
   "cell_type": "code",
   "execution_count": 12,
   "metadata": {},
   "outputs": [],
   "source": [
    "from numpy import savetxt\n",
    "x_tr = rdkit_numpy_convert(fp_tr)"
   ]
  },
  {
   "cell_type": "code",
   "execution_count": 13,
   "metadata": {},
   "outputs": [],
   "source": [
    "savetxt('Models/MACCS/x_tr_MACCS.csv', x_tr, delimiter=',')"
   ]
  },
  {
   "cell_type": "code",
   "execution_count": 14,
   "metadata": {},
   "outputs": [
    {
     "data": {
      "text/plain": [
       "(1400, 167)"
      ]
     },
     "execution_count": 14,
     "metadata": {},
     "output_type": "execute_result"
    }
   ],
   "source": [
    "x_tr.shape"
   ]
  },
  {
   "cell_type": "markdown",
   "metadata": {},
   "source": [
    "## Calculation  MACCS Fingerprint for test set"
   ]
  },
  {
   "cell_type": "code",
   "execution_count": 15,
   "metadata": {},
   "outputs": [],
   "source": [
    "fp_ts = [MACCSkeys.GenMACCSKeys(m) for m in moldf_ts]"
   ]
  },
  {
   "cell_type": "code",
   "execution_count": 16,
   "metadata": {},
   "outputs": [],
   "source": [
    "def rdkit_numpy_convert(fp_ts):\n",
    "    output = []\n",
    "    for f in fp_ts:\n",
    "        arr = np.zeros((1,))\n",
    "        DataStructs.ConvertToNumpyArray(f, arr)\n",
    "        output.append(arr)\n",
    "    return np.asarray(output)"
   ]
  },
  {
   "cell_type": "code",
   "execution_count": 17,
   "metadata": {},
   "outputs": [],
   "source": [
    "x_ts = rdkit_numpy_convert(fp_ts)"
   ]
  },
  {
   "cell_type": "code",
   "execution_count": 18,
   "metadata": {},
   "outputs": [
    {
     "data": {
      "text/plain": [
       "(351, 167)"
      ]
     },
     "execution_count": 18,
     "metadata": {},
     "output_type": "execute_result"
    }
   ],
   "source": [
    "x_ts.shape"
   ]
  },
  {
   "cell_type": "code",
   "execution_count": 19,
   "metadata": {},
   "outputs": [],
   "source": [
    "x_tr = np.array(x_tr, dtype=np.float32)\n",
    "y_tr = np.array(y_tr, dtype=np.float32)"
   ]
  },
  {
   "cell_type": "code",
   "execution_count": null,
   "metadata": {},
   "outputs": [],
   "source": []
  },
  {
   "cell_type": "markdown",
   "metadata": {},
   "source": [
    " ## GradientBoostingRegressor model building and validation"
   ]
  },
  {
   "cell_type": "code",
   "execution_count": 20,
   "metadata": {},
   "outputs": [],
   "source": [
    "seed = 42"
   ]
  },
  {
   "cell_type": "code",
   "execution_count": 21,
   "metadata": {},
   "outputs": [],
   "source": [
    "cv=KFold(n_splits=5, random_state=seed, shuffle=True)"
   ]
  },
  {
   "cell_type": "code",
   "execution_count": 22,
   "metadata": {},
   "outputs": [],
   "source": [
    "param_grid = {'learning_rate': [0.01, 0.04],\n",
    "                  'subsample'    : [0.9, 0.5],\n",
    "                  'n_estimators' : [100,1000, 2000],\n",
    "                  'max_depth'    : [4, 10]\n",
    "                 }"
   ]
  },
  {
   "cell_type": "code",
   "execution_count": 90,
   "metadata": {},
   "outputs": [],
   "source": [
    "m = GridSearchCV(GradientBoostingRegressor(), param_grid, n_jobs=2, cv=cv, verbose=1)"
   ]
  },
  {
   "cell_type": "code",
   "execution_count": 91,
   "metadata": {},
   "outputs": [
    {
     "name": "stdout",
     "output_type": "stream",
     "text": [
      "Fitting 5 folds for each of 24 candidates, totalling 120 fits\n"
     ]
    },
    {
     "data": {
      "text/html": [
       "<style>#sk-container-id-2 {color: black;}#sk-container-id-2 pre{padding: 0;}#sk-container-id-2 div.sk-toggleable {background-color: white;}#sk-container-id-2 label.sk-toggleable__label {cursor: pointer;display: block;width: 100%;margin-bottom: 0;padding: 0.3em;box-sizing: border-box;text-align: center;}#sk-container-id-2 label.sk-toggleable__label-arrow:before {content: \"▸\";float: left;margin-right: 0.25em;color: #696969;}#sk-container-id-2 label.sk-toggleable__label-arrow:hover:before {color: black;}#sk-container-id-2 div.sk-estimator:hover label.sk-toggleable__label-arrow:before {color: black;}#sk-container-id-2 div.sk-toggleable__content {max-height: 0;max-width: 0;overflow: hidden;text-align: left;background-color: #f0f8ff;}#sk-container-id-2 div.sk-toggleable__content pre {margin: 0.2em;color: black;border-radius: 0.25em;background-color: #f0f8ff;}#sk-container-id-2 input.sk-toggleable__control:checked~div.sk-toggleable__content {max-height: 200px;max-width: 100%;overflow: auto;}#sk-container-id-2 input.sk-toggleable__control:checked~label.sk-toggleable__label-arrow:before {content: \"▾\";}#sk-container-id-2 div.sk-estimator input.sk-toggleable__control:checked~label.sk-toggleable__label {background-color: #d4ebff;}#sk-container-id-2 div.sk-label input.sk-toggleable__control:checked~label.sk-toggleable__label {background-color: #d4ebff;}#sk-container-id-2 input.sk-hidden--visually {border: 0;clip: rect(1px 1px 1px 1px);clip: rect(1px, 1px, 1px, 1px);height: 1px;margin: -1px;overflow: hidden;padding: 0;position: absolute;width: 1px;}#sk-container-id-2 div.sk-estimator {font-family: monospace;background-color: #f0f8ff;border: 1px dotted black;border-radius: 0.25em;box-sizing: border-box;margin-bottom: 0.5em;}#sk-container-id-2 div.sk-estimator:hover {background-color: #d4ebff;}#sk-container-id-2 div.sk-parallel-item::after {content: \"\";width: 100%;border-bottom: 1px solid gray;flex-grow: 1;}#sk-container-id-2 div.sk-label:hover label.sk-toggleable__label {background-color: #d4ebff;}#sk-container-id-2 div.sk-serial::before {content: \"\";position: absolute;border-left: 1px solid gray;box-sizing: border-box;top: 0;bottom: 0;left: 50%;z-index: 0;}#sk-container-id-2 div.sk-serial {display: flex;flex-direction: column;align-items: center;background-color: white;padding-right: 0.2em;padding-left: 0.2em;position: relative;}#sk-container-id-2 div.sk-item {position: relative;z-index: 1;}#sk-container-id-2 div.sk-parallel {display: flex;align-items: stretch;justify-content: center;background-color: white;position: relative;}#sk-container-id-2 div.sk-item::before, #sk-container-id-2 div.sk-parallel-item::before {content: \"\";position: absolute;border-left: 1px solid gray;box-sizing: border-box;top: 0;bottom: 0;left: 50%;z-index: -1;}#sk-container-id-2 div.sk-parallel-item {display: flex;flex-direction: column;z-index: 1;position: relative;background-color: white;}#sk-container-id-2 div.sk-parallel-item:first-child::after {align-self: flex-end;width: 50%;}#sk-container-id-2 div.sk-parallel-item:last-child::after {align-self: flex-start;width: 50%;}#sk-container-id-2 div.sk-parallel-item:only-child::after {width: 0;}#sk-container-id-2 div.sk-dashed-wrapped {border: 1px dashed gray;margin: 0 0.4em 0.5em 0.4em;box-sizing: border-box;padding-bottom: 0.4em;background-color: white;}#sk-container-id-2 div.sk-label label {font-family: monospace;font-weight: bold;display: inline-block;line-height: 1.2em;}#sk-container-id-2 div.sk-label-container {text-align: center;}#sk-container-id-2 div.sk-container {/* jupyter's `normalize.less` sets `[hidden] { display: none; }` but bootstrap.min.css set `[hidden] { display: none !important; }` so we also need the `!important` here to be able to override the default hidden behavior on the sphinx rendered scikit-learn.org. See: https://github.com/scikit-learn/scikit-learn/issues/21755 */display: inline-block !important;position: relative;}#sk-container-id-2 div.sk-text-repr-fallback {display: none;}</style><div id=\"sk-container-id-2\" class=\"sk-top-container\"><div class=\"sk-text-repr-fallback\"><pre>GridSearchCV(cv=KFold(n_splits=5, random_state=42, shuffle=True),\n",
       "             estimator=GradientBoostingRegressor(), n_jobs=2,\n",
       "             param_grid={&#x27;learning_rate&#x27;: [0.01, 0.04], &#x27;max_depth&#x27;: [4, 10],\n",
       "                         &#x27;n_estimators&#x27;: [100, 1000, 2000],\n",
       "                         &#x27;subsample&#x27;: [0.9, 0.5]},\n",
       "             verbose=1)</pre><b>In a Jupyter environment, please rerun this cell to show the HTML representation or trust the notebook. <br />On GitHub, the HTML representation is unable to render, please try loading this page with nbviewer.org.</b></div><div class=\"sk-container\" hidden><div class=\"sk-item sk-dashed-wrapped\"><div class=\"sk-label-container\"><div class=\"sk-label sk-toggleable\"><input class=\"sk-toggleable__control sk-hidden--visually\" id=\"sk-estimator-id-4\" type=\"checkbox\" ><label for=\"sk-estimator-id-4\" class=\"sk-toggleable__label sk-toggleable__label-arrow\">GridSearchCV</label><div class=\"sk-toggleable__content\"><pre>GridSearchCV(cv=KFold(n_splits=5, random_state=42, shuffle=True),\n",
       "             estimator=GradientBoostingRegressor(), n_jobs=2,\n",
       "             param_grid={&#x27;learning_rate&#x27;: [0.01, 0.04], &#x27;max_depth&#x27;: [4, 10],\n",
       "                         &#x27;n_estimators&#x27;: [100, 1000, 2000],\n",
       "                         &#x27;subsample&#x27;: [0.9, 0.5]},\n",
       "             verbose=1)</pre></div></div></div><div class=\"sk-parallel\"><div class=\"sk-parallel-item\"><div class=\"sk-item\"><div class=\"sk-label-container\"><div class=\"sk-label sk-toggleable\"><input class=\"sk-toggleable__control sk-hidden--visually\" id=\"sk-estimator-id-5\" type=\"checkbox\" ><label for=\"sk-estimator-id-5\" class=\"sk-toggleable__label sk-toggleable__label-arrow\">estimator: GradientBoostingRegressor</label><div class=\"sk-toggleable__content\"><pre>GradientBoostingRegressor()</pre></div></div></div><div class=\"sk-serial\"><div class=\"sk-item\"><div class=\"sk-estimator sk-toggleable\"><input class=\"sk-toggleable__control sk-hidden--visually\" id=\"sk-estimator-id-6\" type=\"checkbox\" ><label for=\"sk-estimator-id-6\" class=\"sk-toggleable__label sk-toggleable__label-arrow\">GradientBoostingRegressor</label><div class=\"sk-toggleable__content\"><pre>GradientBoostingRegressor()</pre></div></div></div></div></div></div></div></div></div></div>"
      ],
      "text/plain": [
       "GridSearchCV(cv=KFold(n_splits=5, random_state=42, shuffle=True),\n",
       "             estimator=GradientBoostingRegressor(), n_jobs=2,\n",
       "             param_grid={'learning_rate': [0.01, 0.04], 'max_depth': [4, 10],\n",
       "                         'n_estimators': [100, 1000, 2000],\n",
       "                         'subsample': [0.9, 0.5]},\n",
       "             verbose=1)"
      ]
     },
     "execution_count": 91,
     "metadata": {},
     "output_type": "execute_result"
    }
   ],
   "source": [
    "m.fit(x_tr, y_tr)"
   ]
  },
  {
   "cell_type": "code",
   "execution_count": 92,
   "metadata": {},
   "outputs": [],
   "source": [
    "best_GBR = m.best_estimator_"
   ]
  },
  {
   "cell_type": "code",
   "execution_count": 93,
   "metadata": {},
   "outputs": [
    {
     "data": {
      "text/plain": [
       "{'learning_rate': 0.01,\n",
       " 'max_depth': 10,\n",
       " 'n_estimators': 1000,\n",
       " 'subsample': 0.5}"
      ]
     },
     "execution_count": 93,
     "metadata": {},
     "output_type": "execute_result"
    }
   ],
   "source": [
    "m.best_params_"
   ]
  },
  {
   "cell_type": "code",
   "execution_count": 24,
   "metadata": {},
   "outputs": [],
   "source": [
    "y_pred_CV_GBR = cross_val_predict(best_GBR, x_tr, y_tr, cv=cv)"
   ]
  },
  {
   "cell_type": "code",
   "execution_count": 25,
   "metadata": {},
   "outputs": [
    {
     "data": {
      "text/plain": [
       "array([5.1894373 , 4.97037327, 4.34028259, ..., 8.94338064, 7.33177831,\n",
       "       9.20135857])"
      ]
     },
     "execution_count": 25,
     "metadata": {},
     "output_type": "execute_result"
    }
   ],
   "source": [
    "y_pred_CV_GBR"
   ]
  },
  {
   "cell_type": "code",
   "execution_count": 50,
   "metadata": {},
   "outputs": [
    {
     "data": {
      "text/plain": [
       "0.65"
      ]
     },
     "execution_count": 50,
     "metadata": {},
     "output_type": "execute_result"
    }
   ],
   "source": [
    "Q2_CV = round(r2_score(y_tr, y_pred_CV_GBR), 2)\n",
    "Q2_CV"
   ]
  },
  {
   "cell_type": "code",
   "execution_count": 51,
   "metadata": {},
   "outputs": [
    {
     "data": {
      "text/plain": [
       "0.72"
      ]
     },
     "execution_count": 51,
     "metadata": {},
     "output_type": "execute_result"
    }
   ],
   "source": [
    "RMSE_CV=round(np.sqrt(mean_squared_error(y_tr, y_pred_CV_GBR)), 2)\n",
    "RMSE_CV"
   ]
  },
  {
   "cell_type": "markdown",
   "metadata": {},
   "source": [
    "# 9. Prediction for test set's molecules"
   ]
  },
  {
   "cell_type": "code",
   "execution_count": 52,
   "metadata": {},
   "outputs": [],
   "source": [
    "x_ts = np.array(x_ts, dtype=np.float32)\n",
    "y_ts = np.array(y_ts, dtype=np.float32)"
   ]
  },
  {
   "cell_type": "code",
   "execution_count": 53,
   "metadata": {},
   "outputs": [],
   "source": [
    "y_pred_GBR = best_GBR.predict(x_ts)"
   ]
  },
  {
   "cell_type": "code",
   "execution_count": 54,
   "metadata": {},
   "outputs": [
    {
     "data": {
      "text/plain": [
       "0.68"
      ]
     },
     "execution_count": 54,
     "metadata": {},
     "output_type": "execute_result"
    }
   ],
   "source": [
    "Q2_TS = round(r2_score(y_ts, y_pred_GBR), 2)\n",
    "Q2_TS"
   ]
  },
  {
   "cell_type": "code",
   "execution_count": 55,
   "metadata": {},
   "outputs": [
    {
     "data": {
      "text/plain": [
       "0.7"
      ]
     },
     "execution_count": 55,
     "metadata": {},
     "output_type": "execute_result"
    }
   ],
   "source": [
    "RMSE_TS=round(np.sqrt(mean_squared_error(y_ts, y_pred_GBR)), 2)\n",
    "RMSE_TS"
   ]
  },
  {
   "cell_type": "markdown",
   "metadata": {},
   "source": [
    "# save the model to disk"
   ]
  },
  {
   "cell_type": "code",
   "execution_count": 42,
   "metadata": {},
   "outputs": [],
   "source": [
    "pickle.dump(best_GBR, open('Models/MACCS/HDAC3_GBR_MACCS.pkl', 'wb'))"
   ]
  },
  {
   "cell_type": "markdown",
   "metadata": {},
   "source": [
    "# load the model from disk"
   ]
  },
  {
   "cell_type": "code",
   "execution_count": 23,
   "metadata": {},
   "outputs": [],
   "source": [
    "best_GBR = pickle.load(open('Models/MACCS/HDAC3_GBR_MACCS.pkl', 'rb'))"
   ]
  },
  {
   "cell_type": "markdown",
   "metadata": {},
   "source": [
    "# 10. Y-randomization GBR model"
   ]
  },
  {
   "cell_type": "code",
   "execution_count": 101,
   "metadata": {},
   "outputs": [
    {
     "name": "stderr",
     "output_type": "stream",
     "text": [
      "[Parallel(n_jobs=-1)]: Using backend LokyBackend with 16 concurrent workers.\n",
      "[Parallel(n_jobs=-1)]: Done  18 tasks      | elapsed:  3.8min\n"
     ]
    },
    {
     "name": "stdout",
     "output_type": "stream",
     "text": [
      "True score =  0.65 \n",
      "Y-randomization =  -0.4 \n",
      "p-value =  0.0196\n"
     ]
    },
    {
     "name": "stderr",
     "output_type": "stream",
     "text": [
      "[Parallel(n_jobs=-1)]: Done  50 out of  50 | elapsed:  7.4min finished\n"
     ]
    }
   ],
   "source": [
    "permutations = 50\n",
    "score, permutation_scores, pvalue = permutation_test_score(best_GBR, x_tr, y_tr,\n",
    "                                                           cv=cv, scoring='r2',\n",
    "                                                           n_permutations=permutations,\n",
    "                                                           n_jobs=-1,\n",
    "                                                           verbose=1,\n",
    "                                                           random_state=seed)\n",
    "print('True score = ', score.round(2),\n",
    "      '\\nY-randomization = ', np.mean(permutation_scores).round(2),\n",
    "      '\\np-value = ', pvalue.round(4))"
   ]
  },
  {
   "cell_type": "markdown",
   "metadata": {},
   "source": [
    "# 11. Estimating applicability domain. Method - Euclidian distances, K=1"
   ]
  },
  {
   "cell_type": "code",
   "execution_count": 56,
   "metadata": {},
   "outputs": [],
   "source": [
    "neighbors_k= pairwise_distances(x_tr, n_jobs=-1)\n",
    "neighbors_k.sort(0)"
   ]
  },
  {
   "cell_type": "code",
   "execution_count": 57,
   "metadata": {},
   "outputs": [
    {
     "data": {
      "text/html": [
       "<div>\n",
       "<style scoped>\n",
       "    .dataframe tbody tr th:only-of-type {\n",
       "        vertical-align: middle;\n",
       "    }\n",
       "\n",
       "    .dataframe tbody tr th {\n",
       "        vertical-align: top;\n",
       "    }\n",
       "\n",
       "    .dataframe thead th {\n",
       "        text-align: right;\n",
       "    }\n",
       "</style>\n",
       "<table border=\"1\" class=\"dataframe\">\n",
       "  <thead>\n",
       "    <tr style=\"text-align: right;\">\n",
       "      <th></th>\n",
       "      <th>0</th>\n",
       "      <th>1</th>\n",
       "      <th>2</th>\n",
       "      <th>3</th>\n",
       "      <th>4</th>\n",
       "      <th>5</th>\n",
       "      <th>6</th>\n",
       "      <th>7</th>\n",
       "      <th>8</th>\n",
       "      <th>9</th>\n",
       "      <th>...</th>\n",
       "      <th>1390</th>\n",
       "      <th>1391</th>\n",
       "      <th>1392</th>\n",
       "      <th>1393</th>\n",
       "      <th>1394</th>\n",
       "      <th>1395</th>\n",
       "      <th>1396</th>\n",
       "      <th>1397</th>\n",
       "      <th>1398</th>\n",
       "      <th>1399</th>\n",
       "    </tr>\n",
       "  </thead>\n",
       "  <tbody>\n",
       "    <tr>\n",
       "      <th>0</th>\n",
       "      <td>0.000000</td>\n",
       "      <td>0.000000</td>\n",
       "      <td>0.000000</td>\n",
       "      <td>0.000000</td>\n",
       "      <td>0.000000</td>\n",
       "      <td>0.000000</td>\n",
       "      <td>0.000000</td>\n",
       "      <td>0.000000</td>\n",
       "      <td>0.000000</td>\n",
       "      <td>0.000000</td>\n",
       "      <td>...</td>\n",
       "      <td>0.000000</td>\n",
       "      <td>0.000000</td>\n",
       "      <td>0.000000</td>\n",
       "      <td>0.000000</td>\n",
       "      <td>0.000000</td>\n",
       "      <td>0.000000</td>\n",
       "      <td>0.000000</td>\n",
       "      <td>0.000000</td>\n",
       "      <td>0.000000</td>\n",
       "      <td>0.000000</td>\n",
       "    </tr>\n",
       "    <tr>\n",
       "      <th>1</th>\n",
       "      <td>0.000000</td>\n",
       "      <td>0.000000</td>\n",
       "      <td>0.000000</td>\n",
       "      <td>2.000000</td>\n",
       "      <td>2.449490</td>\n",
       "      <td>1.414214</td>\n",
       "      <td>2.645751</td>\n",
       "      <td>3.316625</td>\n",
       "      <td>3.000000</td>\n",
       "      <td>2.000000</td>\n",
       "      <td>...</td>\n",
       "      <td>3.162278</td>\n",
       "      <td>2.236068</td>\n",
       "      <td>1.414214</td>\n",
       "      <td>1.000000</td>\n",
       "      <td>1.414214</td>\n",
       "      <td>1.414214</td>\n",
       "      <td>1.000000</td>\n",
       "      <td>0.000000</td>\n",
       "      <td>3.464102</td>\n",
       "      <td>0.000000</td>\n",
       "    </tr>\n",
       "    <tr>\n",
       "      <th>2</th>\n",
       "      <td>1.000000</td>\n",
       "      <td>0.000000</td>\n",
       "      <td>3.000000</td>\n",
       "      <td>2.645751</td>\n",
       "      <td>3.872983</td>\n",
       "      <td>3.316625</td>\n",
       "      <td>3.000000</td>\n",
       "      <td>3.605551</td>\n",
       "      <td>3.605551</td>\n",
       "      <td>2.645751</td>\n",
       "      <td>...</td>\n",
       "      <td>3.464102</td>\n",
       "      <td>2.828427</td>\n",
       "      <td>1.414214</td>\n",
       "      <td>1.000000</td>\n",
       "      <td>1.414214</td>\n",
       "      <td>1.414214</td>\n",
       "      <td>1.000000</td>\n",
       "      <td>0.000000</td>\n",
       "      <td>4.000000</td>\n",
       "      <td>0.000000</td>\n",
       "    </tr>\n",
       "    <tr>\n",
       "      <th>3</th>\n",
       "      <td>1.000000</td>\n",
       "      <td>0.000000</td>\n",
       "      <td>3.000000</td>\n",
       "      <td>3.000000</td>\n",
       "      <td>3.872983</td>\n",
       "      <td>3.464102</td>\n",
       "      <td>3.741657</td>\n",
       "      <td>3.741657</td>\n",
       "      <td>3.741657</td>\n",
       "      <td>2.828427</td>\n",
       "      <td>...</td>\n",
       "      <td>3.605551</td>\n",
       "      <td>3.464102</td>\n",
       "      <td>1.732051</td>\n",
       "      <td>1.000000</td>\n",
       "      <td>1.414214</td>\n",
       "      <td>1.414214</td>\n",
       "      <td>1.000000</td>\n",
       "      <td>1.000000</td>\n",
       "      <td>4.242640</td>\n",
       "      <td>2.000000</td>\n",
       "    </tr>\n",
       "    <tr>\n",
       "      <th>4</th>\n",
       "      <td>1.000000</td>\n",
       "      <td>1.000000</td>\n",
       "      <td>3.316625</td>\n",
       "      <td>3.162278</td>\n",
       "      <td>4.690416</td>\n",
       "      <td>3.464102</td>\n",
       "      <td>3.872983</td>\n",
       "      <td>3.741657</td>\n",
       "      <td>3.741657</td>\n",
       "      <td>2.828427</td>\n",
       "      <td>...</td>\n",
       "      <td>3.741657</td>\n",
       "      <td>3.605551</td>\n",
       "      <td>2.000000</td>\n",
       "      <td>1.000000</td>\n",
       "      <td>1.414214</td>\n",
       "      <td>1.414214</td>\n",
       "      <td>1.000000</td>\n",
       "      <td>1.414214</td>\n",
       "      <td>4.358899</td>\n",
       "      <td>2.236068</td>\n",
       "    </tr>\n",
       "    <tr>\n",
       "      <th>...</th>\n",
       "      <td>...</td>\n",
       "      <td>...</td>\n",
       "      <td>...</td>\n",
       "      <td>...</td>\n",
       "      <td>...</td>\n",
       "      <td>...</td>\n",
       "      <td>...</td>\n",
       "      <td>...</td>\n",
       "      <td>...</td>\n",
       "      <td>...</td>\n",
       "      <td>...</td>\n",
       "      <td>...</td>\n",
       "      <td>...</td>\n",
       "      <td>...</td>\n",
       "      <td>...</td>\n",
       "      <td>...</td>\n",
       "      <td>...</td>\n",
       "      <td>...</td>\n",
       "      <td>...</td>\n",
       "      <td>...</td>\n",
       "      <td>...</td>\n",
       "    </tr>\n",
       "    <tr>\n",
       "      <th>1395</th>\n",
       "      <td>7.874008</td>\n",
       "      <td>7.615773</td>\n",
       "      <td>7.937254</td>\n",
       "      <td>7.874008</td>\n",
       "      <td>8.062258</td>\n",
       "      <td>8.062258</td>\n",
       "      <td>7.874008</td>\n",
       "      <td>7.549834</td>\n",
       "      <td>8.062258</td>\n",
       "      <td>7.937254</td>\n",
       "      <td>...</td>\n",
       "      <td>7.745967</td>\n",
       "      <td>7.745967</td>\n",
       "      <td>8.246211</td>\n",
       "      <td>8.246211</td>\n",
       "      <td>8.366600</td>\n",
       "      <td>8.485281</td>\n",
       "      <td>8.306623</td>\n",
       "      <td>8.366600</td>\n",
       "      <td>8.306623</td>\n",
       "      <td>8.426149</td>\n",
       "    </tr>\n",
       "    <tr>\n",
       "      <th>1396</th>\n",
       "      <td>7.874008</td>\n",
       "      <td>7.745967</td>\n",
       "      <td>8.000000</td>\n",
       "      <td>7.874008</td>\n",
       "      <td>8.062258</td>\n",
       "      <td>8.124039</td>\n",
       "      <td>7.874008</td>\n",
       "      <td>7.549834</td>\n",
       "      <td>8.185352</td>\n",
       "      <td>8.000000</td>\n",
       "      <td>...</td>\n",
       "      <td>7.745967</td>\n",
       "      <td>7.745967</td>\n",
       "      <td>8.246211</td>\n",
       "      <td>8.246211</td>\n",
       "      <td>8.366600</td>\n",
       "      <td>8.485281</td>\n",
       "      <td>8.366600</td>\n",
       "      <td>8.426149</td>\n",
       "      <td>8.366600</td>\n",
       "      <td>8.426149</td>\n",
       "    </tr>\n",
       "    <tr>\n",
       "      <th>1397</th>\n",
       "      <td>8.000000</td>\n",
       "      <td>7.745967</td>\n",
       "      <td>8.426149</td>\n",
       "      <td>8.000000</td>\n",
       "      <td>8.062258</td>\n",
       "      <td>8.124039</td>\n",
       "      <td>8.000000</td>\n",
       "      <td>7.615773</td>\n",
       "      <td>8.185352</td>\n",
       "      <td>8.062258</td>\n",
       "      <td>...</td>\n",
       "      <td>7.745967</td>\n",
       "      <td>7.810250</td>\n",
       "      <td>8.426149</td>\n",
       "      <td>8.246211</td>\n",
       "      <td>8.426149</td>\n",
       "      <td>8.544003</td>\n",
       "      <td>8.485281</td>\n",
       "      <td>8.544003</td>\n",
       "      <td>8.366600</td>\n",
       "      <td>8.544003</td>\n",
       "    </tr>\n",
       "    <tr>\n",
       "      <th>1398</th>\n",
       "      <td>8.062258</td>\n",
       "      <td>7.810250</td>\n",
       "      <td>8.485281</td>\n",
       "      <td>8.062258</td>\n",
       "      <td>8.185352</td>\n",
       "      <td>8.124039</td>\n",
       "      <td>8.000000</td>\n",
       "      <td>7.615773</td>\n",
       "      <td>8.185352</td>\n",
       "      <td>8.062258</td>\n",
       "      <td>...</td>\n",
       "      <td>7.810250</td>\n",
       "      <td>7.874008</td>\n",
       "      <td>8.426149</td>\n",
       "      <td>8.306623</td>\n",
       "      <td>8.426149</td>\n",
       "      <td>8.544003</td>\n",
       "      <td>8.602325</td>\n",
       "      <td>8.660254</td>\n",
       "      <td>8.544003</td>\n",
       "      <td>8.544003</td>\n",
       "    </tr>\n",
       "    <tr>\n",
       "      <th>1399</th>\n",
       "      <td>8.124039</td>\n",
       "      <td>7.874008</td>\n",
       "      <td>8.602325</td>\n",
       "      <td>8.124039</td>\n",
       "      <td>8.185352</td>\n",
       "      <td>8.306623</td>\n",
       "      <td>8.185352</td>\n",
       "      <td>7.810250</td>\n",
       "      <td>8.306623</td>\n",
       "      <td>8.062258</td>\n",
       "      <td>...</td>\n",
       "      <td>8.185352</td>\n",
       "      <td>7.874008</td>\n",
       "      <td>8.426149</td>\n",
       "      <td>8.306623</td>\n",
       "      <td>8.544003</td>\n",
       "      <td>8.660254</td>\n",
       "      <td>8.602325</td>\n",
       "      <td>8.660254</td>\n",
       "      <td>8.544003</td>\n",
       "      <td>8.544003</td>\n",
       "    </tr>\n",
       "  </tbody>\n",
       "</table>\n",
       "<p>1400 rows × 1400 columns</p>\n",
       "</div>"
      ],
      "text/plain": [
       "          0         1         2         3         4         5         6     \\\n",
       "0     0.000000  0.000000  0.000000  0.000000  0.000000  0.000000  0.000000   \n",
       "1     0.000000  0.000000  0.000000  2.000000  2.449490  1.414214  2.645751   \n",
       "2     1.000000  0.000000  3.000000  2.645751  3.872983  3.316625  3.000000   \n",
       "3     1.000000  0.000000  3.000000  3.000000  3.872983  3.464102  3.741657   \n",
       "4     1.000000  1.000000  3.316625  3.162278  4.690416  3.464102  3.872983   \n",
       "...        ...       ...       ...       ...       ...       ...       ...   \n",
       "1395  7.874008  7.615773  7.937254  7.874008  8.062258  8.062258  7.874008   \n",
       "1396  7.874008  7.745967  8.000000  7.874008  8.062258  8.124039  7.874008   \n",
       "1397  8.000000  7.745967  8.426149  8.000000  8.062258  8.124039  8.000000   \n",
       "1398  8.062258  7.810250  8.485281  8.062258  8.185352  8.124039  8.000000   \n",
       "1399  8.124039  7.874008  8.602325  8.124039  8.185352  8.306623  8.185352   \n",
       "\n",
       "          7         8         9     ...      1390      1391      1392  \\\n",
       "0     0.000000  0.000000  0.000000  ...  0.000000  0.000000  0.000000   \n",
       "1     3.316625  3.000000  2.000000  ...  3.162278  2.236068  1.414214   \n",
       "2     3.605551  3.605551  2.645751  ...  3.464102  2.828427  1.414214   \n",
       "3     3.741657  3.741657  2.828427  ...  3.605551  3.464102  1.732051   \n",
       "4     3.741657  3.741657  2.828427  ...  3.741657  3.605551  2.000000   \n",
       "...        ...       ...       ...  ...       ...       ...       ...   \n",
       "1395  7.549834  8.062258  7.937254  ...  7.745967  7.745967  8.246211   \n",
       "1396  7.549834  8.185352  8.000000  ...  7.745967  7.745967  8.246211   \n",
       "1397  7.615773  8.185352  8.062258  ...  7.745967  7.810250  8.426149   \n",
       "1398  7.615773  8.185352  8.062258  ...  7.810250  7.874008  8.426149   \n",
       "1399  7.810250  8.306623  8.062258  ...  8.185352  7.874008  8.426149   \n",
       "\n",
       "          1393      1394      1395      1396      1397      1398      1399  \n",
       "0     0.000000  0.000000  0.000000  0.000000  0.000000  0.000000  0.000000  \n",
       "1     1.000000  1.414214  1.414214  1.000000  0.000000  3.464102  0.000000  \n",
       "2     1.000000  1.414214  1.414214  1.000000  0.000000  4.000000  0.000000  \n",
       "3     1.000000  1.414214  1.414214  1.000000  1.000000  4.242640  2.000000  \n",
       "4     1.000000  1.414214  1.414214  1.000000  1.414214  4.358899  2.236068  \n",
       "...        ...       ...       ...       ...       ...       ...       ...  \n",
       "1395  8.246211  8.366600  8.485281  8.306623  8.366600  8.306623  8.426149  \n",
       "1396  8.246211  8.366600  8.485281  8.366600  8.426149  8.366600  8.426149  \n",
       "1397  8.246211  8.426149  8.544003  8.485281  8.544003  8.366600  8.544003  \n",
       "1398  8.306623  8.426149  8.544003  8.602325  8.660254  8.544003  8.544003  \n",
       "1399  8.306623  8.544003  8.660254  8.602325  8.660254  8.544003  8.544003  \n",
       "\n",
       "[1400 rows x 1400 columns]"
      ]
     },
     "execution_count": 57,
     "metadata": {},
     "output_type": "execute_result"
    }
   ],
   "source": [
    "df_tr=pd.DataFrame(neighbors_k)\n",
    "df_tr"
   ]
  },
  {
   "cell_type": "code",
   "execution_count": 58,
   "metadata": {},
   "outputs": [],
   "source": [
    "similarity= neighbors_k"
   ]
  },
  {
   "cell_type": "code",
   "execution_count": 59,
   "metadata": {},
   "outputs": [],
   "source": [
    "Dmean=np.mean(similarity[1,:])"
   ]
  },
  {
   "cell_type": "code",
   "execution_count": 60,
   "metadata": {},
   "outputs": [
    {
     "data": {
      "text/plain": [
       "1.52"
      ]
     },
     "execution_count": 60,
     "metadata": {},
     "output_type": "execute_result"
    }
   ],
   "source": [
    "round(Dmean, 2)"
   ]
  },
  {
   "cell_type": "code",
   "execution_count": 61,
   "metadata": {},
   "outputs": [],
   "source": [
    "std=np.std(similarity[1,:])"
   ]
  },
  {
   "cell_type": "code",
   "execution_count": 62,
   "metadata": {},
   "outputs": [
    {
     "data": {
      "text/plain": [
       "1.21"
      ]
     },
     "execution_count": 62,
     "metadata": {},
     "output_type": "execute_result"
    }
   ],
   "source": [
    "round(std, 2)"
   ]
  },
  {
   "cell_type": "code",
   "execution_count": 63,
   "metadata": {},
   "outputs": [
    {
     "name": "stdout",
     "output_type": "stream",
     "text": [
      "2.12\n"
     ]
    }
   ],
   "source": [
    "model_AD_limit=Dmean+std*0.5\n",
    "print(np.round(model_AD_limit, 2))"
   ]
  },
  {
   "cell_type": "code",
   "execution_count": 64,
   "metadata": {},
   "outputs": [],
   "source": [
    "neighbors_k_ts= pairwise_distances(x_tr,Y=x_ts, n_jobs=-1)\n",
    "neighbors_k_ts.sort(0)"
   ]
  },
  {
   "cell_type": "code",
   "execution_count": 65,
   "metadata": {},
   "outputs": [
    {
     "data": {
      "text/html": [
       "<div>\n",
       "<style scoped>\n",
       "    .dataframe tbody tr th:only-of-type {\n",
       "        vertical-align: middle;\n",
       "    }\n",
       "\n",
       "    .dataframe tbody tr th {\n",
       "        vertical-align: top;\n",
       "    }\n",
       "\n",
       "    .dataframe thead th {\n",
       "        text-align: right;\n",
       "    }\n",
       "</style>\n",
       "<table border=\"1\" class=\"dataframe\">\n",
       "  <thead>\n",
       "    <tr style=\"text-align: right;\">\n",
       "      <th></th>\n",
       "      <th>0</th>\n",
       "      <th>1</th>\n",
       "      <th>2</th>\n",
       "      <th>3</th>\n",
       "      <th>4</th>\n",
       "      <th>5</th>\n",
       "      <th>6</th>\n",
       "      <th>7</th>\n",
       "      <th>8</th>\n",
       "      <th>9</th>\n",
       "      <th>...</th>\n",
       "      <th>341</th>\n",
       "      <th>342</th>\n",
       "      <th>343</th>\n",
       "      <th>344</th>\n",
       "      <th>345</th>\n",
       "      <th>346</th>\n",
       "      <th>347</th>\n",
       "      <th>348</th>\n",
       "      <th>349</th>\n",
       "      <th>350</th>\n",
       "    </tr>\n",
       "  </thead>\n",
       "  <tbody>\n",
       "    <tr>\n",
       "      <th>0</th>\n",
       "      <td>0.000000</td>\n",
       "      <td>3.464102</td>\n",
       "      <td>4.472136</td>\n",
       "      <td>2.645751</td>\n",
       "      <td>2.236068</td>\n",
       "      <td>2.645751</td>\n",
       "      <td>2.828427</td>\n",
       "      <td>1.414214</td>\n",
       "      <td>2.645751</td>\n",
       "      <td>3.162278</td>\n",
       "      <td>...</td>\n",
       "      <td>1.414214</td>\n",
       "      <td>2.828427</td>\n",
       "      <td>2.000000</td>\n",
       "      <td>1.414214</td>\n",
       "      <td>0.000000</td>\n",
       "      <td>0.000000</td>\n",
       "      <td>1.732051</td>\n",
       "      <td>0.000000</td>\n",
       "      <td>2.000000</td>\n",
       "      <td>1.414214</td>\n",
       "    </tr>\n",
       "    <tr>\n",
       "      <th>1</th>\n",
       "      <td>0.000000</td>\n",
       "      <td>4.242640</td>\n",
       "      <td>4.690416</td>\n",
       "      <td>2.828427</td>\n",
       "      <td>3.162278</td>\n",
       "      <td>2.828427</td>\n",
       "      <td>2.828427</td>\n",
       "      <td>1.732051</td>\n",
       "      <td>3.000000</td>\n",
       "      <td>3.162278</td>\n",
       "      <td>...</td>\n",
       "      <td>2.000000</td>\n",
       "      <td>3.000000</td>\n",
       "      <td>2.236068</td>\n",
       "      <td>1.732051</td>\n",
       "      <td>0.000000</td>\n",
       "      <td>0.000000</td>\n",
       "      <td>1.732051</td>\n",
       "      <td>1.000000</td>\n",
       "      <td>2.236068</td>\n",
       "      <td>1.732051</td>\n",
       "    </tr>\n",
       "    <tr>\n",
       "      <th>2</th>\n",
       "      <td>0.000000</td>\n",
       "      <td>5.000000</td>\n",
       "      <td>4.690416</td>\n",
       "      <td>2.828427</td>\n",
       "      <td>3.316625</td>\n",
       "      <td>3.605551</td>\n",
       "      <td>3.605551</td>\n",
       "      <td>2.000000</td>\n",
       "      <td>3.162278</td>\n",
       "      <td>3.316625</td>\n",
       "      <td>...</td>\n",
       "      <td>3.000000</td>\n",
       "      <td>3.316625</td>\n",
       "      <td>2.449490</td>\n",
       "      <td>1.732051</td>\n",
       "      <td>0.000000</td>\n",
       "      <td>1.000000</td>\n",
       "      <td>2.000000</td>\n",
       "      <td>1.000000</td>\n",
       "      <td>2.236068</td>\n",
       "      <td>2.236068</td>\n",
       "    </tr>\n",
       "    <tr>\n",
       "      <th>3</th>\n",
       "      <td>1.000000</td>\n",
       "      <td>5.196152</td>\n",
       "      <td>4.795832</td>\n",
       "      <td>3.000000</td>\n",
       "      <td>3.605551</td>\n",
       "      <td>3.741657</td>\n",
       "      <td>3.872983</td>\n",
       "      <td>2.828427</td>\n",
       "      <td>3.316625</td>\n",
       "      <td>3.316625</td>\n",
       "      <td>...</td>\n",
       "      <td>3.316625</td>\n",
       "      <td>3.464102</td>\n",
       "      <td>3.162278</td>\n",
       "      <td>1.732051</td>\n",
       "      <td>2.000000</td>\n",
       "      <td>1.000000</td>\n",
       "      <td>2.000000</td>\n",
       "      <td>1.000000</td>\n",
       "      <td>2.236068</td>\n",
       "      <td>2.236068</td>\n",
       "    </tr>\n",
       "    <tr>\n",
       "      <th>4</th>\n",
       "      <td>1.000000</td>\n",
       "      <td>5.291502</td>\n",
       "      <td>4.795832</td>\n",
       "      <td>3.000000</td>\n",
       "      <td>5.385165</td>\n",
       "      <td>3.741657</td>\n",
       "      <td>4.123106</td>\n",
       "      <td>3.000000</td>\n",
       "      <td>3.464102</td>\n",
       "      <td>3.316625</td>\n",
       "      <td>...</td>\n",
       "      <td>3.316625</td>\n",
       "      <td>3.605551</td>\n",
       "      <td>3.605551</td>\n",
       "      <td>2.000000</td>\n",
       "      <td>2.236068</td>\n",
       "      <td>1.414214</td>\n",
       "      <td>2.236068</td>\n",
       "      <td>1.000000</td>\n",
       "      <td>2.236068</td>\n",
       "      <td>2.449490</td>\n",
       "    </tr>\n",
       "    <tr>\n",
       "      <th>...</th>\n",
       "      <td>...</td>\n",
       "      <td>...</td>\n",
       "      <td>...</td>\n",
       "      <td>...</td>\n",
       "      <td>...</td>\n",
       "      <td>...</td>\n",
       "      <td>...</td>\n",
       "      <td>...</td>\n",
       "      <td>...</td>\n",
       "      <td>...</td>\n",
       "      <td>...</td>\n",
       "      <td>...</td>\n",
       "      <td>...</td>\n",
       "      <td>...</td>\n",
       "      <td>...</td>\n",
       "      <td>...</td>\n",
       "      <td>...</td>\n",
       "      <td>...</td>\n",
       "      <td>...</td>\n",
       "      <td>...</td>\n",
       "      <td>...</td>\n",
       "    </tr>\n",
       "    <tr>\n",
       "      <th>1395</th>\n",
       "      <td>7.937254</td>\n",
       "      <td>7.874008</td>\n",
       "      <td>8.185352</td>\n",
       "      <td>7.874008</td>\n",
       "      <td>8.544003</td>\n",
       "      <td>8.185352</td>\n",
       "      <td>8.306623</td>\n",
       "      <td>8.185352</td>\n",
       "      <td>7.810250</td>\n",
       "      <td>8.306623</td>\n",
       "      <td>...</td>\n",
       "      <td>7.681146</td>\n",
       "      <td>7.874008</td>\n",
       "      <td>7.615773</td>\n",
       "      <td>8.485281</td>\n",
       "      <td>8.426149</td>\n",
       "      <td>8.485281</td>\n",
       "      <td>8.185352</td>\n",
       "      <td>8.185352</td>\n",
       "      <td>8.185352</td>\n",
       "      <td>8.062258</td>\n",
       "    </tr>\n",
       "    <tr>\n",
       "      <th>1396</th>\n",
       "      <td>7.937254</td>\n",
       "      <td>7.874008</td>\n",
       "      <td>8.185352</td>\n",
       "      <td>7.937254</td>\n",
       "      <td>8.544003</td>\n",
       "      <td>8.246211</td>\n",
       "      <td>8.306623</td>\n",
       "      <td>8.660254</td>\n",
       "      <td>7.810250</td>\n",
       "      <td>8.366600</td>\n",
       "      <td>...</td>\n",
       "      <td>7.681146</td>\n",
       "      <td>7.874008</td>\n",
       "      <td>7.681146</td>\n",
       "      <td>8.485281</td>\n",
       "      <td>8.426149</td>\n",
       "      <td>8.485281</td>\n",
       "      <td>8.185352</td>\n",
       "      <td>8.185352</td>\n",
       "      <td>8.246211</td>\n",
       "      <td>8.062258</td>\n",
       "    </tr>\n",
       "    <tr>\n",
       "      <th>1397</th>\n",
       "      <td>8.062258</td>\n",
       "      <td>7.874008</td>\n",
       "      <td>8.246211</td>\n",
       "      <td>8.000000</td>\n",
       "      <td>8.602325</td>\n",
       "      <td>8.246211</td>\n",
       "      <td>8.306623</td>\n",
       "      <td>8.660254</td>\n",
       "      <td>7.810250</td>\n",
       "      <td>8.366600</td>\n",
       "      <td>...</td>\n",
       "      <td>7.745967</td>\n",
       "      <td>7.937254</td>\n",
       "      <td>7.745967</td>\n",
       "      <td>8.485281</td>\n",
       "      <td>8.544003</td>\n",
       "      <td>8.660254</td>\n",
       "      <td>8.366600</td>\n",
       "      <td>8.185352</td>\n",
       "      <td>8.306623</td>\n",
       "      <td>8.062258</td>\n",
       "    </tr>\n",
       "    <tr>\n",
       "      <th>1398</th>\n",
       "      <td>8.124039</td>\n",
       "      <td>7.937254</td>\n",
       "      <td>8.306623</td>\n",
       "      <td>8.000000</td>\n",
       "      <td>8.602325</td>\n",
       "      <td>8.306623</td>\n",
       "      <td>8.306623</td>\n",
       "      <td>8.717798</td>\n",
       "      <td>7.937254</td>\n",
       "      <td>8.366600</td>\n",
       "      <td>...</td>\n",
       "      <td>8.000000</td>\n",
       "      <td>7.937254</td>\n",
       "      <td>7.745967</td>\n",
       "      <td>8.544003</td>\n",
       "      <td>8.544003</td>\n",
       "      <td>8.660254</td>\n",
       "      <td>8.366600</td>\n",
       "      <td>8.246211</td>\n",
       "      <td>8.366600</td>\n",
       "      <td>8.246211</td>\n",
       "    </tr>\n",
       "    <tr>\n",
       "      <th>1399</th>\n",
       "      <td>8.185352</td>\n",
       "      <td>8.062258</td>\n",
       "      <td>8.306623</td>\n",
       "      <td>8.062258</td>\n",
       "      <td>8.717798</td>\n",
       "      <td>8.426149</td>\n",
       "      <td>8.306623</td>\n",
       "      <td>8.774964</td>\n",
       "      <td>8.185352</td>\n",
       "      <td>8.485281</td>\n",
       "      <td>...</td>\n",
       "      <td>8.000000</td>\n",
       "      <td>8.000000</td>\n",
       "      <td>7.874008</td>\n",
       "      <td>8.544003</td>\n",
       "      <td>8.544003</td>\n",
       "      <td>8.660254</td>\n",
       "      <td>8.366600</td>\n",
       "      <td>8.246211</td>\n",
       "      <td>8.366600</td>\n",
       "      <td>8.246211</td>\n",
       "    </tr>\n",
       "  </tbody>\n",
       "</table>\n",
       "<p>1400 rows × 351 columns</p>\n",
       "</div>"
      ],
      "text/plain": [
       "           0         1         2         3         4         5         6    \\\n",
       "0     0.000000  3.464102  4.472136  2.645751  2.236068  2.645751  2.828427   \n",
       "1     0.000000  4.242640  4.690416  2.828427  3.162278  2.828427  2.828427   \n",
       "2     0.000000  5.000000  4.690416  2.828427  3.316625  3.605551  3.605551   \n",
       "3     1.000000  5.196152  4.795832  3.000000  3.605551  3.741657  3.872983   \n",
       "4     1.000000  5.291502  4.795832  3.000000  5.385165  3.741657  4.123106   \n",
       "...        ...       ...       ...       ...       ...       ...       ...   \n",
       "1395  7.937254  7.874008  8.185352  7.874008  8.544003  8.185352  8.306623   \n",
       "1396  7.937254  7.874008  8.185352  7.937254  8.544003  8.246211  8.306623   \n",
       "1397  8.062258  7.874008  8.246211  8.000000  8.602325  8.246211  8.306623   \n",
       "1398  8.124039  7.937254  8.306623  8.000000  8.602325  8.306623  8.306623   \n",
       "1399  8.185352  8.062258  8.306623  8.062258  8.717798  8.426149  8.306623   \n",
       "\n",
       "           7         8         9    ...       341       342       343  \\\n",
       "0     1.414214  2.645751  3.162278  ...  1.414214  2.828427  2.000000   \n",
       "1     1.732051  3.000000  3.162278  ...  2.000000  3.000000  2.236068   \n",
       "2     2.000000  3.162278  3.316625  ...  3.000000  3.316625  2.449490   \n",
       "3     2.828427  3.316625  3.316625  ...  3.316625  3.464102  3.162278   \n",
       "4     3.000000  3.464102  3.316625  ...  3.316625  3.605551  3.605551   \n",
       "...        ...       ...       ...  ...       ...       ...       ...   \n",
       "1395  8.185352  7.810250  8.306623  ...  7.681146  7.874008  7.615773   \n",
       "1396  8.660254  7.810250  8.366600  ...  7.681146  7.874008  7.681146   \n",
       "1397  8.660254  7.810250  8.366600  ...  7.745967  7.937254  7.745967   \n",
       "1398  8.717798  7.937254  8.366600  ...  8.000000  7.937254  7.745967   \n",
       "1399  8.774964  8.185352  8.485281  ...  8.000000  8.000000  7.874008   \n",
       "\n",
       "           344       345       346       347       348       349       350  \n",
       "0     1.414214  0.000000  0.000000  1.732051  0.000000  2.000000  1.414214  \n",
       "1     1.732051  0.000000  0.000000  1.732051  1.000000  2.236068  1.732051  \n",
       "2     1.732051  0.000000  1.000000  2.000000  1.000000  2.236068  2.236068  \n",
       "3     1.732051  2.000000  1.000000  2.000000  1.000000  2.236068  2.236068  \n",
       "4     2.000000  2.236068  1.414214  2.236068  1.000000  2.236068  2.449490  \n",
       "...        ...       ...       ...       ...       ...       ...       ...  \n",
       "1395  8.485281  8.426149  8.485281  8.185352  8.185352  8.185352  8.062258  \n",
       "1396  8.485281  8.426149  8.485281  8.185352  8.185352  8.246211  8.062258  \n",
       "1397  8.485281  8.544003  8.660254  8.366600  8.185352  8.306623  8.062258  \n",
       "1398  8.544003  8.544003  8.660254  8.366600  8.246211  8.366600  8.246211  \n",
       "1399  8.544003  8.544003  8.660254  8.366600  8.246211  8.366600  8.246211  \n",
       "\n",
       "[1400 rows x 351 columns]"
      ]
     },
     "execution_count": 65,
     "metadata": {},
     "output_type": "execute_result"
    }
   ],
   "source": [
    "x_ts_AD=pd.DataFrame(neighbors_k_ts)\n",
    "x_ts_AD"
   ]
  },
  {
   "cell_type": "code",
   "execution_count": 66,
   "metadata": {},
   "outputs": [
    {
     "name": "stdout",
     "output_type": "stream",
     "text": [
      "[0.    3.464 4.472 2.646 2.236 2.646 2.828 1.414 2.646 3.162 2.449 2.\n",
      " 3.606 3.606 3.317 1.    1.414 1.414 2.449 2.236 1.    3.742 2.449 0.\n",
      " 1.414 1.    1.    0.    1.    1.    3.606 1.    2.449 1.414 1.414 1.\n",
      " 2.236 2.    1.414 2.828 3.    3.464 2.449 3.    2.449 1.732 2.236 2.449\n",
      " 1.    1.    2.449 1.414 1.732 0.    1.    4.69  1.    0.    0.    0.\n",
      " 0.    1.    3.    4.69  3.873 0.    3.162 2.    0.    2.646 2.449 1.\n",
      " 1.732 2.    1.414 0.    1.732 1.    1.732 1.    0.    1.    1.732 0.\n",
      " 2.828 0.    1.414 1.    0.    3.742 1.    4.123 1.414 2.236 0.    2.646\n",
      " 1.    0.    0.    1.414 4.899 1.732 3.    0.    1.    0.    2.    0.\n",
      " 1.414 0.    0.    1.414 1.414 1.    2.646 1.    1.    1.    1.732 1.\n",
      " 3.162 1.732 3.    2.449 1.    2.828 1.414 1.414 1.    1.    1.414 3.317\n",
      " 1.    0.    1.414 0.    0.    1.    3.873 1.    3.742 2.236 2.    3.873\n",
      " 0.    2.    1.    1.414 1.414 2.828 2.449 1.414 0.    0.    0.    2.236\n",
      " 2.    2.236 1.    1.414 3.873 0.    0.    2.646 0.    1.414 2.    0.\n",
      " 1.414 1.    0.    0.    0.    0.    0.    3.317 2.646 1.    2.449 1.414\n",
      " 1.732 2.    2.646 1.    0.    0.    1.414 0.    0.    1.    1.414 0.\n",
      " 1.414 1.    2.828 2.236 1.    0.    1.    1.    2.236 0.    0.    0.\n",
      " 1.    3.    0.    1.414 1.732 1.414 1.732 0.    2.    1.    1.    1.\n",
      " 0.    1.414 0.    2.646 2.    1.    0.    1.    2.449 2.    1.732 0.\n",
      " 0.    2.    1.    0.    2.236 0.    1.732 2.    4.243 0.    2.    1.414\n",
      " 2.    3.162 1.732 4.    1.414 1.    0.    1.    2.    2.236 1.    0.\n",
      " 1.414 1.732 0.    0.    0.    0.    0.    0.    2.828 1.    4.472 0.\n",
      " 0.    2.449 0.    0.    0.    1.    0.    1.732 1.    3.317 2.449 0.\n",
      " 3.317 0.    3.317 2.449 2.    0.    1.    1.414 0.    2.646 1.    0.\n",
      " 4.69  1.414 3.    1.    2.236 3.162 2.    3.464 2.236 0.    0.    0.\n",
      " 1.    0.    2.646 1.414 2.    3.    0.    0.    1.    2.236 3.162 2.449\n",
      " 1.414 2.449 3.464 2.    0.    1.    3.742 1.414 1.414 0.    1.732 1.\n",
      " 1.    0.    1.414 0.    1.    1.732 2.828 0.    1.414 0.    1.    0.\n",
      " 1.    2.    1.414 0.    1.414 1.414 2.828 2.    1.414 0.    0.    1.732\n",
      " 0.    2.    1.414]\n"
     ]
    }
   ],
   "source": [
    "similarity_ts= neighbors_k_ts\n",
    "cpd_AD=similarity_ts[0,:]\n",
    "cpd_value = np.round(cpd_AD, 3)\n",
    "print(cpd_value)"
   ]
  },
  {
   "cell_type": "code",
   "execution_count": 67,
   "metadata": {},
   "outputs": [
    {
     "name": "stdout",
     "output_type": "stream",
     "text": [
      "[ True False False False False False False  True False False False  True\n",
      " False False False  True  True  True False False  True False False  True\n",
      "  True  True  True  True  True  True False  True False  True  True  True\n",
      " False  True  True False False False False False False  True False False\n",
      "  True  True False  True  True  True  True False  True  True  True  True\n",
      "  True  True False False False  True False  True  True False False  True\n",
      "  True  True  True  True  True  True  True  True  True  True  True  True\n",
      " False  True  True  True  True False  True False  True False  True False\n",
      "  True  True  True  True False  True False  True  True  True  True  True\n",
      "  True  True  True  True  True  True False  True  True  True  True  True\n",
      " False  True False False  True False  True  True  True  True  True False\n",
      "  True  True  True  True  True  True False  True False False  True False\n",
      "  True  True  True  True  True False False  True  True  True  True False\n",
      "  True False  True  True False  True  True False  True  True  True  True\n",
      "  True  True  True  True  True  True  True False False  True False  True\n",
      "  True  True False  True  True  True  True  True  True  True  True  True\n",
      "  True  True False False  True  True  True  True False  True  True  True\n",
      "  True False  True  True  True  True  True  True  True  True  True  True\n",
      "  True  True  True False  True  True  True  True False  True  True  True\n",
      "  True  True  True  True False  True  True  True False  True  True  True\n",
      "  True False  True False  True  True  True  True  True False  True  True\n",
      "  True  True  True  True  True  True  True  True False  True False  True\n",
      "  True False  True  True  True  True  True  True  True False False  True\n",
      " False  True False False  True  True  True  True  True False  True  True\n",
      " False  True False  True False False  True False False  True  True  True\n",
      "  True  True False  True  True False  True  True  True False False False\n",
      "  True False False  True  True  True False  True  True  True  True  True\n",
      "  True  True  True  True  True  True False  True  True  True  True  True\n",
      "  True  True  True  True  True  True False  True  True  True  True  True\n",
      "  True  True  True]\n"
     ]
    }
   ],
   "source": [
    "cpd_AD = np.where(cpd_value <= model_AD_limit, True, False)\n",
    "print(cpd_AD)"
   ]
  },
  {
   "cell_type": "code",
   "execution_count": 68,
   "metadata": {},
   "outputs": [
    {
     "name": "stdout",
     "output_type": "stream",
     "text": [
      "Coverage =  0.7207977207977208\n"
     ]
    }
   ],
   "source": [
    "print(\"Coverage = \", sum(cpd_AD) / len(cpd_AD))"
   ]
  },
  {
   "cell_type": "code",
   "execution_count": 69,
   "metadata": {},
   "outputs": [
    {
     "name": "stdout",
     "output_type": "stream",
     "text": [
      "Indices of substances included in AD =  [  0   7  11  15  16  17  20  23  24  25  26  27  28  29  31  33  34  35\n",
      "  37  38  45  48  49  51  52  53  54  56  57  58  59  60  61  65  67  68\n",
      "  71  72  73  74  75  76  77  78  79  80  81  82  83  85  86  87  88  90\n",
      "  92  94  96  97  98  99 101 103 104 105 106 107 108 109 110 111 112 113\n",
      " 115 116 117 118 119 121 124 126 127 128 129 130 132 133 134 135 136 137\n",
      " 139 142 144 145 146 147 148 151 152 153 154 156 158 159 161 162 164 165\n",
      " 166 167 168 169 170 171 172 173 174 177 179 180 181 183 184 185 186 187\n",
      " 188 189 190 191 192 193 196 197 198 199 201 202 203 204 206 207 208 209\n",
      " 210 211 212 213 214 215 216 217 218 220 221 222 223 225 226 227 228 229\n",
      " 230 231 233 234 235 237 238 239 240 242 244 245 246 247 248 250 251 252\n",
      " 253 254 255 256 257 258 259 261 263 264 266 267 268 269 270 271 272 275\n",
      " 277 280 281 282 283 284 286 287 289 291 294 297 298 299 300 301 303 304\n",
      " 306 307 308 312 315 316 317 319 320 321 322 323 324 325 326 327 328 329\n",
      " 331 332 333 334 335 336 337 338 339 340 341 343 344 345 346 347 348 349\n",
      " 350]\n"
     ]
    }
   ],
   "source": [
    "print(\"Indices of substances included in AD = \", np.where(cpd_AD != 0)[0])"
   ]
  },
  {
   "cell_type": "code",
   "execution_count": 70,
   "metadata": {},
   "outputs": [],
   "source": [
    "out_Ad=list(np.where(cpd_AD == 0)[0])"
   ]
  },
  {
   "cell_type": "markdown",
   "metadata": {},
   "source": [
    "# 12. Prediction only for molecules included in  AD"
   ]
  },
  {
   "cell_type": "code",
   "execution_count": 71,
   "metadata": {},
   "outputs": [],
   "source": [
    "y_pred_GBR_ad=list(y_pred_GBR)"
   ]
  },
  {
   "cell_type": "code",
   "execution_count": 72,
   "metadata": {},
   "outputs": [],
   "source": [
    "y_pred_GBR_ad[:] = [x for i,x in enumerate(y_pred_GBR_ad) if i not in out_Ad]"
   ]
  },
  {
   "cell_type": "code",
   "execution_count": 73,
   "metadata": {},
   "outputs": [
    {
     "data": {
      "text/plain": [
       "253"
      ]
     },
     "execution_count": 73,
     "metadata": {},
     "output_type": "execute_result"
    }
   ],
   "source": [
    "len(y_pred_GBR_ad)"
   ]
  },
  {
   "cell_type": "code",
   "execution_count": 74,
   "metadata": {},
   "outputs": [],
   "source": [
    "y_ts_ad=list(y_ts)"
   ]
  },
  {
   "cell_type": "code",
   "execution_count": 75,
   "metadata": {},
   "outputs": [],
   "source": [
    "y_ts_ad[:] = [x for i,x in enumerate(y_ts_ad) if i not in out_Ad]"
   ]
  },
  {
   "cell_type": "code",
   "execution_count": 76,
   "metadata": {},
   "outputs": [
    {
     "data": {
      "text/plain": [
       "253"
      ]
     },
     "execution_count": 76,
     "metadata": {},
     "output_type": "execute_result"
    }
   ],
   "source": [
    "len(y_ts_ad)"
   ]
  },
  {
   "cell_type": "code",
   "execution_count": 77,
   "metadata": {},
   "outputs": [
    {
     "data": {
      "text/plain": [
       "0.73"
      ]
     },
     "execution_count": 77,
     "metadata": {},
     "output_type": "execute_result"
    }
   ],
   "source": [
    "Q2_TS = round(r2_score(y_ts_ad, y_pred_GBR_ad), 2)\n",
    "Q2_TS"
   ]
  },
  {
   "cell_type": "code",
   "execution_count": 78,
   "metadata": {},
   "outputs": [
    {
     "data": {
      "text/plain": [
       "0.62"
      ]
     },
     "execution_count": 78,
     "metadata": {},
     "output_type": "execute_result"
    }
   ],
   "source": [
    "RMSE_TS=round(np.sqrt(mean_squared_error(y_ts_ad, y_pred_GBR_ad)), 2)\n",
    "RMSE_TS"
   ]
  },
  {
   "cell_type": "code",
   "execution_count": null,
   "metadata": {},
   "outputs": [],
   "source": []
  }
 ],
 "metadata": {
  "kernelspec": {
   "display_name": "Python3 (rdkit)",
   "language": "python",
   "name": "my-rdkit-env"
  },
  "language_info": {
   "codemirror_mode": {
    "name": "ipython",
    "version": 3
   },
   "file_extension": ".py",
   "mimetype": "text/x-python",
   "name": "python",
   "nbconvert_exporter": "python",
   "pygments_lexer": "ipython3",
   "version": "3.10.12"
  },
  "toc": {
   "base_numbering": 1,
   "nav_menu": {},
   "number_sections": true,
   "sideBar": true,
   "skip_h1_title": false,
   "title_cell": "Table of Contents",
   "title_sidebar": "Contents",
   "toc_cell": false,
   "toc_position": {
    "height": "calc(100% - 180px)",
    "left": "10px",
    "top": "150px",
    "width": "174.25px"
   },
   "toc_section_display": true,
   "toc_window_display": true
  }
 },
 "nbformat": 4,
 "nbformat_minor": 4
}
