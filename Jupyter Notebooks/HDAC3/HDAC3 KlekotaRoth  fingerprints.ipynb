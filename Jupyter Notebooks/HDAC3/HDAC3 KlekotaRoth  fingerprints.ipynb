{
 "cells": [
  {
   "cell_type": "markdown",
   "metadata": {},
   "source": [
    "# 1. Importing modules and functions"
   ]
  },
  {
   "cell_type": "code",
   "execution_count": 1,
   "metadata": {},
   "outputs": [
    {
     "name": "stderr",
     "output_type": "stream",
     "text": [
      "Using `tqdm.autonotebook.tqdm` in notebook mode. Use `tqdm.tqdm` instead to force console mode (e.g. in jupyter console)\n"
     ]
    }
   ],
   "source": [
    "from rdkit import Chem, DataStructs\n",
    "from rdkit.Chem import AllChem, Descriptors\n",
    "from rdkit.ML.Descriptors import MoleculeDescriptors\n",
    "from molvs import standardize_smiles\n",
    "import numpy as np\n",
    "import pandas as pd\n",
    "from sklearn.svm import SVC\n",
    "from sklearn.model_selection import KFold, GridSearchCV\n",
    "from sklearn.metrics import mean_absolute_error\n",
    "from sklearn.metrics import r2_score\n",
    "from sklearn.ensemble import GradientBoostingRegressor\n",
    "from sklearn.svm import SVR\n",
    "from sklearn.model_selection import permutation_test_score\n",
    "from sklearn.preprocessing import StandardScaler\n",
    "from sklearn.model_selection import cross_val_predict\n",
    "from sklearn import metrics\n",
    "from sklearn.metrics import pairwise_distances\n",
    "import joblib\n",
    "import pickle\n",
    "from numpy import savetxt\n",
    "from padelpy import from_sdf\n",
    "import shap\n",
    "from tqdm.notebook import tqdm\n",
    "import warnings\n",
    "warnings.filterwarnings('ignore')"
   ]
  },
  {
   "cell_type": "code",
   "execution_count": 2,
   "metadata": {},
   "outputs": [
    {
     "data": {
      "text/plain": [
       "['fingerprints_xml\\\\AtomPairs2DFingerprintCount.xml',\n",
       " 'fingerprints_xml\\\\AtomPairs2DFingerprinter.xml',\n",
       " 'fingerprints_xml\\\\EStateFingerprinter.xml',\n",
       " 'fingerprints_xml\\\\ExtendedFingerprinter.xml',\n",
       " 'fingerprints_xml\\\\Fingerprinter.xml',\n",
       " 'fingerprints_xml\\\\GraphOnlyFingerprinter.xml',\n",
       " 'fingerprints_xml\\\\KlekotaRothFingerprintCount.xml',\n",
       " 'fingerprints_xml\\\\KlekotaRothFingerprinter.xml',\n",
       " 'fingerprints_xml\\\\MACCSFingerprinter.xml',\n",
       " 'fingerprints_xml\\\\PubchemFingerprinter.xml',\n",
       " 'fingerprints_xml\\\\SubstructureFingerprintCount.xml',\n",
       " 'fingerprints_xml\\\\SubstructureFingerprinter.xml']"
      ]
     },
     "execution_count": 2,
     "metadata": {},
     "output_type": "execute_result"
    }
   ],
   "source": [
    "import glob\n",
    "xml_files = glob.glob(\"fingerprints_xml/*.xml\")\n",
    "xml_files.sort()\n",
    "xml_files"
   ]
  },
  {
   "cell_type": "code",
   "execution_count": 3,
   "metadata": {},
   "outputs": [],
   "source": [
    "FP_list = ['AtomPairs2DCount',\n",
    " 'AtomPairs2D',\n",
    " 'EState',\n",
    " 'CDKextended',\n",
    " 'CDK',\n",
    " 'CDKgraphonly',\n",
    " 'KlekotaRothCount',\n",
    " 'KlekotaRoth',\n",
    " 'MACCS',\n",
    " 'PubChem',\n",
    " 'SubstructureCount',\n",
    " 'Substructure']"
   ]
  },
  {
   "cell_type": "code",
   "execution_count": 4,
   "metadata": {},
   "outputs": [
    {
     "data": {
      "text/plain": [
       "{'AtomPairs2DCount': 'fingerprints_xml\\\\AtomPairs2DFingerprintCount.xml',\n",
       " 'AtomPairs2D': 'fingerprints_xml\\\\AtomPairs2DFingerprinter.xml',\n",
       " 'EState': 'fingerprints_xml\\\\EStateFingerprinter.xml',\n",
       " 'CDKextended': 'fingerprints_xml\\\\ExtendedFingerprinter.xml',\n",
       " 'CDK': 'fingerprints_xml\\\\Fingerprinter.xml',\n",
       " 'CDKgraphonly': 'fingerprints_xml\\\\GraphOnlyFingerprinter.xml',\n",
       " 'KlekotaRothCount': 'fingerprints_xml\\\\KlekotaRothFingerprintCount.xml',\n",
       " 'KlekotaRoth': 'fingerprints_xml\\\\KlekotaRothFingerprinter.xml',\n",
       " 'MACCS': 'fingerprints_xml\\\\MACCSFingerprinter.xml',\n",
       " 'PubChem': 'fingerprints_xml\\\\PubchemFingerprinter.xml',\n",
       " 'SubstructureCount': 'fingerprints_xml\\\\SubstructureFingerprintCount.xml',\n",
       " 'Substructure': 'fingerprints_xml\\\\SubstructureFingerprinter.xml'}"
      ]
     },
     "execution_count": 4,
     "metadata": {},
     "output_type": "execute_result"
    }
   ],
   "source": [
    "fp = dict(zip(FP_list, xml_files))\n",
    "fp"
   ]
  },
  {
   "cell_type": "markdown",
   "metadata": {},
   "source": [
    "# 2.Data entry and curation work set"
   ]
  },
  {
   "cell_type": "code",
   "execution_count": 5,
   "metadata": {},
   "outputs": [
    {
     "name": "stdout",
     "output_type": "stream",
     "text": [
      "Original data:  1400 molecules\n",
      "Failed data:  0 molecules\n"
     ]
    },
    {
     "data": {
      "text/html": [
       "<div>\n",
       "<style scoped>\n",
       "    .dataframe tbody tr th:only-of-type {\n",
       "        vertical-align: middle;\n",
       "    }\n",
       "\n",
       "    .dataframe tbody tr th {\n",
       "        vertical-align: top;\n",
       "    }\n",
       "\n",
       "    .dataframe thead th {\n",
       "        text-align: right;\n",
       "    }\n",
       "</style>\n",
       "<table border=\"1\" class=\"dataframe\">\n",
       "  <thead>\n",
       "    <tr style=\"text-align: right;\">\n",
       "      <th></th>\n",
       "      <th>No. failed molecule in original set</th>\n",
       "      <th>SMILES of wrong structure:</th>\n",
       "    </tr>\n",
       "    <tr>\n",
       "      <th>No.</th>\n",
       "      <th></th>\n",
       "      <th></th>\n",
       "    </tr>\n",
       "  </thead>\n",
       "  <tbody>\n",
       "  </tbody>\n",
       "</table>\n",
       "</div>"
      ],
      "text/plain": [
       "Empty DataFrame\n",
       "Columns: [No. failed molecule in original set, SMILES of wrong structure: ]\n",
       "Index: []"
      ]
     },
     "execution_count": 5,
     "metadata": {},
     "output_type": "execute_result"
    }
   ],
   "source": [
    "uploaded_file_ws=\"datasets/HDAC3_work.sdf\"\n",
    "supplier_ws = Chem.ForwardSDMolSupplier(uploaded_file_ws,sanitize=False)\n",
    "failed_mols_ws = []\n",
    "all_mols_ws =[]\n",
    "wrong_structure_ws=[]\n",
    "wrong_smiles_ws=[]\n",
    "y_tr = []\n",
    "y_bad_index=[]\n",
    "\n",
    "for i, m in enumerate(supplier_ws):\n",
    "    structure = Chem.Mol(m)\n",
    "    all_mols_ws.append(structure)\n",
    "    y_tr.append(m.GetProp(\"pchembl_value_mean\"))\n",
    "    try:\n",
    "        Chem.SanitizeMol(structure)\n",
    "    except:\n",
    "        failed_mols_ws.append(m)\n",
    "        wrong_smiles_ws.append(Chem.MolToSmiles(m))\n",
    "        wrong_structure_ws.append(str(i+1))\n",
    "        y_bad_index.append(i)\n",
    "print('Original data: ', len(all_mols_ws), 'molecules')\n",
    "print('Failed data: ', len(failed_mols_ws), 'molecules')\n",
    "number_ws =[]\n",
    "for i in range(len(failed_mols_ws)):\n",
    "        number_ws.append(str(i+1))\n",
    "bad_molecules_ws = pd.DataFrame({'No. failed molecule in original set': wrong_structure_ws, 'SMILES of wrong structure: ': wrong_smiles_ws, 'No.': number_ws}, index=None)\n",
    "bad_molecules_ws = bad_molecules_ws.set_index('No.')\n",
    "bad_molecules_ws"
   ]
  },
  {
   "cell_type": "markdown",
   "metadata": {},
   "source": [
    "deleting activity values for substances with incorrect structure"
   ]
  },
  {
   "cell_type": "code",
   "execution_count": 6,
   "metadata": {},
   "outputs": [],
   "source": [
    "y_tr[:] = [x for i,x in enumerate(y_tr) if i not in y_bad_index]"
   ]
  },
  {
   "cell_type": "code",
   "execution_count": 7,
   "metadata": {},
   "outputs": [
    {
     "data": {
      "text/plain": [
       "1400"
      ]
     },
     "execution_count": 7,
     "metadata": {},
     "output_type": "execute_result"
    }
   ],
   "source": [
    "len(y_tr)"
   ]
  },
  {
   "cell_type": "markdown",
   "metadata": {},
   "source": [
    "# 3.Standardization SDF file for work set"
   ]
  },
  {
   "cell_type": "code",
   "execution_count": 8,
   "metadata": {},
   "outputs": [
    {
     "name": "stdout",
     "output_type": "stream",
     "text": [
      "Kept data:  1400 molecules\n"
     ]
    }
   ],
   "source": [
    "all_mols_ws[:] = [x for i,x in enumerate(all_mols_ws) if i not in y_bad_index] \n",
    "records = []\n",
    "for i in range(len(all_mols_ws)):\n",
    "    record = Chem.MolToSmiles(all_mols_ws[i])\n",
    "    records.append(record)\n",
    "\n",
    "moldf_ws = []\n",
    "for i,record in enumerate(records):\n",
    "    standard_record = standardize_smiles(record)\n",
    "    m = Chem.MolFromSmiles(standard_record)\n",
    "    moldf_ws.append(m)\n",
    "    \n",
    "print('Kept data: ', len(moldf_ws), 'molecules')"
   ]
  },
  {
   "cell_type": "code",
   "execution_count": 9,
   "metadata": {},
   "outputs": [],
   "source": [
    "records_ws = []\n",
    "for i in range(len(moldf_ws)):\n",
    "    record = Chem.MolToSmiles(moldf_ws[i])\n",
    "    records_ws.append(record)"
   ]
  },
  {
   "cell_type": "code",
   "execution_count": 11,
   "metadata": {},
   "outputs": [],
   "source": [
    "df = pd.DataFrame(records_ws, columns=[\"Smiles\"])\n",
    "df.to_csv('datasets/molecule_ws.smi', sep=',', index=False, header=False)"
   ]
  },
  {
   "cell_type": "markdown",
   "metadata": {},
   "source": [
    "# 4.Data entry and curation test set"
   ]
  },
  {
   "cell_type": "code",
   "execution_count": 10,
   "metadata": {},
   "outputs": [
    {
     "name": "stdout",
     "output_type": "stream",
     "text": [
      "Original data:  351 molecules\n",
      "Failed data:  0 molecules\n"
     ]
    },
    {
     "data": {
      "text/html": [
       "<div>\n",
       "<style scoped>\n",
       "    .dataframe tbody tr th:only-of-type {\n",
       "        vertical-align: middle;\n",
       "    }\n",
       "\n",
       "    .dataframe tbody tr th {\n",
       "        vertical-align: top;\n",
       "    }\n",
       "\n",
       "    .dataframe thead th {\n",
       "        text-align: right;\n",
       "    }\n",
       "</style>\n",
       "<table border=\"1\" class=\"dataframe\">\n",
       "  <thead>\n",
       "    <tr style=\"text-align: right;\">\n",
       "      <th></th>\n",
       "      <th>No. failed molecule in original set</th>\n",
       "      <th>SMILES of wrong structure:</th>\n",
       "    </tr>\n",
       "    <tr>\n",
       "      <th>No.</th>\n",
       "      <th></th>\n",
       "      <th></th>\n",
       "    </tr>\n",
       "  </thead>\n",
       "  <tbody>\n",
       "  </tbody>\n",
       "</table>\n",
       "</div>"
      ],
      "text/plain": [
       "Empty DataFrame\n",
       "Columns: [No. failed molecule in original set, SMILES of wrong structure: ]\n",
       "Index: []"
      ]
     },
     "execution_count": 10,
     "metadata": {},
     "output_type": "execute_result"
    }
   ],
   "source": [
    "uploaded_file_ts=\"datasets/HDAC3_test.sdf\"\n",
    "supplier_ts = Chem.ForwardSDMolSupplier(uploaded_file_ts,sanitize=False)\n",
    "failed_mols_ts = []\n",
    "all_mols_ts =[]\n",
    "wrong_structure_ts=[]\n",
    "wrong_smiles_ts=[]\n",
    "y_ts = []\n",
    "y_bad_index=[]\n",
    "for i, m in enumerate(supplier_ts):\n",
    "    structure = Chem.Mol(m)\n",
    "    all_mols_ts.append(structure)\n",
    "    y_ts.append(m.GetProp(\"pchembl_value_mean\"))\n",
    "    try:\n",
    "        Chem.SanitizeMol(structure)\n",
    "    except:\n",
    "        failed_mols_ts.append(m)\n",
    "        wrong_smiles_ts.append(Chem.MolToSmiles(m))\n",
    "        wrong_structure_ts.append(str(i+1))\n",
    "        y_bad_index.append(i)\n",
    "print('Original data: ', len(all_mols_ts), 'molecules')\n",
    "print('Failed data: ', len(failed_mols_ts), 'molecules')\n",
    "number_ts =[]\n",
    "for i in range(len(failed_mols_ts)):\n",
    "        number_ts.append(str(i+1))\n",
    "bad_molecules_ts = pd.DataFrame({'No. failed molecule in original set': wrong_structure_ts, 'SMILES of wrong structure: ': wrong_smiles_ts, 'No.': number_ts}, index=None)\n",
    "bad_molecules_ts = bad_molecules_ts.set_index('No.')\n",
    "bad_molecules_ts"
   ]
  },
  {
   "cell_type": "markdown",
   "metadata": {},
   "source": [
    "deleting activity values for substances with incorrect structure"
   ]
  },
  {
   "cell_type": "code",
   "execution_count": 11,
   "metadata": {},
   "outputs": [],
   "source": [
    "y_ts[:] = [x for i,x in enumerate(y_ts) if i not in y_bad_index]"
   ]
  },
  {
   "cell_type": "code",
   "execution_count": 12,
   "metadata": {},
   "outputs": [
    {
     "data": {
      "text/plain": [
       "351"
      ]
     },
     "execution_count": 12,
     "metadata": {},
     "output_type": "execute_result"
    }
   ],
   "source": [
    "len(y_ts)"
   ]
  },
  {
   "cell_type": "markdown",
   "metadata": {
    "scrolled": true
   },
   "source": [
    "# 5.Standardization SDF file for test set"
   ]
  },
  {
   "cell_type": "code",
   "execution_count": 13,
   "metadata": {},
   "outputs": [
    {
     "name": "stdout",
     "output_type": "stream",
     "text": [
      "Kept data:  351 molecules\n"
     ]
    }
   ],
   "source": [
    "all_mols_ts[:] = [x for i,x in enumerate(all_mols_ts) if i not in y_bad_index] \n",
    "records = []\n",
    "for i in range(len(all_mols_ts)):\n",
    "    record = Chem.MolToSmiles(all_mols_ts[i])\n",
    "    records.append(record)\n",
    "\n",
    "moldf_ts = []\n",
    "for i,record in enumerate(records):\n",
    "    standard_record = standardize_smiles(record)\n",
    "    m = Chem.MolFromSmiles(standard_record)\n",
    "    moldf_ts.append(m)\n",
    "    \n",
    "print('Kept data: ', len(moldf_ts), 'molecules')"
   ]
  },
  {
   "cell_type": "code",
   "execution_count": 14,
   "metadata": {},
   "outputs": [],
   "source": [
    "records_ts = []\n",
    "for i in range(len(moldf_ts)):\n",
    "    record = Chem.MolToSmiles(moldf_ts[i])\n",
    "    records_ts.append(record)"
   ]
  },
  {
   "cell_type": "code",
   "execution_count": 17,
   "metadata": {},
   "outputs": [],
   "source": [
    "df_ts = pd.DataFrame(records_ts, columns=[\"Smiles\"])\n",
    "df_ts.to_csv('datasets/molecule_ts.smi', sep=',', index=False, header=False)"
   ]
  },
  {
   "cell_type": "markdown",
   "metadata": {},
   "source": [
    "# 6.Descriptor calculation for work set"
   ]
  },
  {
   "cell_type": "code",
   "execution_count": 15,
   "metadata": {},
   "outputs": [
    {
     "data": {
      "text/plain": [
       "{'AtomPairs2DCount': 'fingerprints_xml\\\\AtomPairs2DFingerprintCount.xml',\n",
       " 'AtomPairs2D': 'fingerprints_xml\\\\AtomPairs2DFingerprinter.xml',\n",
       " 'EState': 'fingerprints_xml\\\\EStateFingerprinter.xml',\n",
       " 'CDKextended': 'fingerprints_xml\\\\ExtendedFingerprinter.xml',\n",
       " 'CDK': 'fingerprints_xml\\\\Fingerprinter.xml',\n",
       " 'CDKgraphonly': 'fingerprints_xml\\\\GraphOnlyFingerprinter.xml',\n",
       " 'KlekotaRothCount': 'fingerprints_xml\\\\KlekotaRothFingerprintCount.xml',\n",
       " 'KlekotaRoth': 'fingerprints_xml\\\\KlekotaRothFingerprinter.xml',\n",
       " 'MACCS': 'fingerprints_xml\\\\MACCSFingerprinter.xml',\n",
       " 'PubChem': 'fingerprints_xml\\\\PubchemFingerprinter.xml',\n",
       " 'SubstructureCount': 'fingerprints_xml\\\\SubstructureFingerprintCount.xml',\n",
       " 'Substructure': 'fingerprints_xml\\\\SubstructureFingerprinter.xml'}"
      ]
     },
     "execution_count": 15,
     "metadata": {},
     "output_type": "execute_result"
    }
   ],
   "source": [
    "fp"
   ]
  },
  {
   "cell_type": "markdown",
   "metadata": {},
   "source": [
    "### PubChem FPs"
   ]
  },
  {
   "cell_type": "code",
   "execution_count": 110,
   "metadata": {},
   "outputs": [],
   "source": [
    "from padelpy import padeldescriptor\n",
    "\n",
    "fingerprint = 'KlekotaRoth'\n",
    "\n",
    "fingerprint_output_file = ''.join([fingerprint,'.csv']) #Substructure.csv\n",
    "fingerprint_descriptortypes = fp[fingerprint]\n",
    "\n",
    "padeldescriptor(mol_dir='datasets/molecule_ws.smi', \n",
    "                d_file=fingerprint_output_file, #'Substructure.csv'\n",
    "                #descriptortypes='SubstructureFingerprint.xml', \n",
    "                descriptortypes= fingerprint_descriptortypes,\n",
    "                detectaromaticity=True,\n",
    "                standardizenitro=True,\n",
    "                standardizetautomers=True,\n",
    "                threads=2,\n",
    "                removesalt=True,\n",
    "                log=True,\n",
    "                fingerprints=True)"
   ]
  },
  {
   "cell_type": "code",
   "execution_count": 3,
   "metadata": {},
   "outputs": [],
   "source": [
    "descriptors_PubChem = pd.read_csv('KlekotaRoth.csv')"
   ]
  },
  {
   "cell_type": "code",
   "execution_count": 4,
   "metadata": {},
   "outputs": [
    {
     "data": {
      "text/html": [
       "<div>\n",
       "<style scoped>\n",
       "    .dataframe tbody tr th:only-of-type {\n",
       "        vertical-align: middle;\n",
       "    }\n",
       "\n",
       "    .dataframe tbody tr th {\n",
       "        vertical-align: top;\n",
       "    }\n",
       "\n",
       "    .dataframe thead th {\n",
       "        text-align: right;\n",
       "    }\n",
       "</style>\n",
       "<table border=\"1\" class=\"dataframe\">\n",
       "  <thead>\n",
       "    <tr style=\"text-align: right;\">\n",
       "      <th></th>\n",
       "      <th>Name</th>\n",
       "      <th>KRFP1</th>\n",
       "      <th>KRFP2</th>\n",
       "      <th>KRFP3</th>\n",
       "      <th>KRFP4</th>\n",
       "      <th>KRFP5</th>\n",
       "      <th>KRFP6</th>\n",
       "      <th>KRFP7</th>\n",
       "      <th>KRFP8</th>\n",
       "      <th>KRFP9</th>\n",
       "      <th>...</th>\n",
       "      <th>KRFP4851</th>\n",
       "      <th>KRFP4852</th>\n",
       "      <th>KRFP4853</th>\n",
       "      <th>KRFP4854</th>\n",
       "      <th>KRFP4855</th>\n",
       "      <th>KRFP4856</th>\n",
       "      <th>KRFP4857</th>\n",
       "      <th>KRFP4858</th>\n",
       "      <th>KRFP4859</th>\n",
       "      <th>KRFP4860</th>\n",
       "    </tr>\n",
       "  </thead>\n",
       "  <tbody>\n",
       "    <tr>\n",
       "      <th>0</th>\n",
       "      <td>AUTOGEN_molecule_ws_1</td>\n",
       "      <td>1</td>\n",
       "      <td>0</td>\n",
       "      <td>0</td>\n",
       "      <td>0</td>\n",
       "      <td>0</td>\n",
       "      <td>0</td>\n",
       "      <td>0</td>\n",
       "      <td>0</td>\n",
       "      <td>0</td>\n",
       "      <td>...</td>\n",
       "      <td>0</td>\n",
       "      <td>0</td>\n",
       "      <td>0</td>\n",
       "      <td>0</td>\n",
       "      <td>0</td>\n",
       "      <td>0</td>\n",
       "      <td>0</td>\n",
       "      <td>0</td>\n",
       "      <td>0</td>\n",
       "      <td>0</td>\n",
       "    </tr>\n",
       "    <tr>\n",
       "      <th>1</th>\n",
       "      <td>AUTOGEN_molecule_ws_2</td>\n",
       "      <td>1</td>\n",
       "      <td>0</td>\n",
       "      <td>0</td>\n",
       "      <td>0</td>\n",
       "      <td>0</td>\n",
       "      <td>0</td>\n",
       "      <td>0</td>\n",
       "      <td>0</td>\n",
       "      <td>0</td>\n",
       "      <td>...</td>\n",
       "      <td>0</td>\n",
       "      <td>0</td>\n",
       "      <td>0</td>\n",
       "      <td>0</td>\n",
       "      <td>0</td>\n",
       "      <td>0</td>\n",
       "      <td>0</td>\n",
       "      <td>0</td>\n",
       "      <td>0</td>\n",
       "      <td>0</td>\n",
       "    </tr>\n",
       "    <tr>\n",
       "      <th>2</th>\n",
       "      <td>AUTOGEN_molecule_ws_3</td>\n",
       "      <td>0</td>\n",
       "      <td>0</td>\n",
       "      <td>0</td>\n",
       "      <td>0</td>\n",
       "      <td>0</td>\n",
       "      <td>0</td>\n",
       "      <td>0</td>\n",
       "      <td>0</td>\n",
       "      <td>0</td>\n",
       "      <td>...</td>\n",
       "      <td>0</td>\n",
       "      <td>0</td>\n",
       "      <td>0</td>\n",
       "      <td>0</td>\n",
       "      <td>0</td>\n",
       "      <td>0</td>\n",
       "      <td>0</td>\n",
       "      <td>0</td>\n",
       "      <td>0</td>\n",
       "      <td>0</td>\n",
       "    </tr>\n",
       "    <tr>\n",
       "      <th>3</th>\n",
       "      <td>AUTOGEN_molecule_ws_4</td>\n",
       "      <td>0</td>\n",
       "      <td>0</td>\n",
       "      <td>0</td>\n",
       "      <td>0</td>\n",
       "      <td>0</td>\n",
       "      <td>0</td>\n",
       "      <td>0</td>\n",
       "      <td>0</td>\n",
       "      <td>0</td>\n",
       "      <td>...</td>\n",
       "      <td>0</td>\n",
       "      <td>0</td>\n",
       "      <td>0</td>\n",
       "      <td>0</td>\n",
       "      <td>0</td>\n",
       "      <td>0</td>\n",
       "      <td>0</td>\n",
       "      <td>0</td>\n",
       "      <td>0</td>\n",
       "      <td>0</td>\n",
       "    </tr>\n",
       "    <tr>\n",
       "      <th>4</th>\n",
       "      <td>AUTOGEN_molecule_ws_5</td>\n",
       "      <td>0</td>\n",
       "      <td>0</td>\n",
       "      <td>0</td>\n",
       "      <td>0</td>\n",
       "      <td>0</td>\n",
       "      <td>0</td>\n",
       "      <td>0</td>\n",
       "      <td>0</td>\n",
       "      <td>0</td>\n",
       "      <td>...</td>\n",
       "      <td>0</td>\n",
       "      <td>0</td>\n",
       "      <td>0</td>\n",
       "      <td>0</td>\n",
       "      <td>0</td>\n",
       "      <td>0</td>\n",
       "      <td>0</td>\n",
       "      <td>0</td>\n",
       "      <td>0</td>\n",
       "      <td>0</td>\n",
       "    </tr>\n",
       "    <tr>\n",
       "      <th>...</th>\n",
       "      <td>...</td>\n",
       "      <td>...</td>\n",
       "      <td>...</td>\n",
       "      <td>...</td>\n",
       "      <td>...</td>\n",
       "      <td>...</td>\n",
       "      <td>...</td>\n",
       "      <td>...</td>\n",
       "      <td>...</td>\n",
       "      <td>...</td>\n",
       "      <td>...</td>\n",
       "      <td>...</td>\n",
       "      <td>...</td>\n",
       "      <td>...</td>\n",
       "      <td>...</td>\n",
       "      <td>...</td>\n",
       "      <td>...</td>\n",
       "      <td>...</td>\n",
       "      <td>...</td>\n",
       "      <td>...</td>\n",
       "      <td>...</td>\n",
       "    </tr>\n",
       "    <tr>\n",
       "      <th>1395</th>\n",
       "      <td>AUTOGEN_molecule_ws_1396</td>\n",
       "      <td>1</td>\n",
       "      <td>0</td>\n",
       "      <td>0</td>\n",
       "      <td>0</td>\n",
       "      <td>0</td>\n",
       "      <td>0</td>\n",
       "      <td>0</td>\n",
       "      <td>0</td>\n",
       "      <td>0</td>\n",
       "      <td>...</td>\n",
       "      <td>0</td>\n",
       "      <td>0</td>\n",
       "      <td>0</td>\n",
       "      <td>0</td>\n",
       "      <td>0</td>\n",
       "      <td>0</td>\n",
       "      <td>0</td>\n",
       "      <td>0</td>\n",
       "      <td>0</td>\n",
       "      <td>0</td>\n",
       "    </tr>\n",
       "    <tr>\n",
       "      <th>1396</th>\n",
       "      <td>AUTOGEN_molecule_ws_1397</td>\n",
       "      <td>1</td>\n",
       "      <td>0</td>\n",
       "      <td>0</td>\n",
       "      <td>0</td>\n",
       "      <td>0</td>\n",
       "      <td>0</td>\n",
       "      <td>0</td>\n",
       "      <td>0</td>\n",
       "      <td>0</td>\n",
       "      <td>...</td>\n",
       "      <td>0</td>\n",
       "      <td>0</td>\n",
       "      <td>0</td>\n",
       "      <td>0</td>\n",
       "      <td>0</td>\n",
       "      <td>0</td>\n",
       "      <td>0</td>\n",
       "      <td>0</td>\n",
       "      <td>0</td>\n",
       "      <td>0</td>\n",
       "    </tr>\n",
       "    <tr>\n",
       "      <th>1397</th>\n",
       "      <td>AUTOGEN_molecule_ws_1398</td>\n",
       "      <td>1</td>\n",
       "      <td>0</td>\n",
       "      <td>0</td>\n",
       "      <td>0</td>\n",
       "      <td>0</td>\n",
       "      <td>0</td>\n",
       "      <td>0</td>\n",
       "      <td>0</td>\n",
       "      <td>0</td>\n",
       "      <td>...</td>\n",
       "      <td>0</td>\n",
       "      <td>0</td>\n",
       "      <td>0</td>\n",
       "      <td>0</td>\n",
       "      <td>0</td>\n",
       "      <td>0</td>\n",
       "      <td>0</td>\n",
       "      <td>0</td>\n",
       "      <td>0</td>\n",
       "      <td>0</td>\n",
       "    </tr>\n",
       "    <tr>\n",
       "      <th>1398</th>\n",
       "      <td>AUTOGEN_molecule_ws_1399</td>\n",
       "      <td>1</td>\n",
       "      <td>0</td>\n",
       "      <td>0</td>\n",
       "      <td>0</td>\n",
       "      <td>0</td>\n",
       "      <td>0</td>\n",
       "      <td>0</td>\n",
       "      <td>0</td>\n",
       "      <td>0</td>\n",
       "      <td>...</td>\n",
       "      <td>0</td>\n",
       "      <td>0</td>\n",
       "      <td>0</td>\n",
       "      <td>0</td>\n",
       "      <td>0</td>\n",
       "      <td>0</td>\n",
       "      <td>0</td>\n",
       "      <td>0</td>\n",
       "      <td>0</td>\n",
       "      <td>0</td>\n",
       "    </tr>\n",
       "    <tr>\n",
       "      <th>1399</th>\n",
       "      <td>AUTOGEN_molecule_ws_1400</td>\n",
       "      <td>1</td>\n",
       "      <td>0</td>\n",
       "      <td>0</td>\n",
       "      <td>0</td>\n",
       "      <td>0</td>\n",
       "      <td>0</td>\n",
       "      <td>0</td>\n",
       "      <td>0</td>\n",
       "      <td>0</td>\n",
       "      <td>...</td>\n",
       "      <td>0</td>\n",
       "      <td>0</td>\n",
       "      <td>0</td>\n",
       "      <td>0</td>\n",
       "      <td>0</td>\n",
       "      <td>0</td>\n",
       "      <td>0</td>\n",
       "      <td>0</td>\n",
       "      <td>0</td>\n",
       "      <td>0</td>\n",
       "    </tr>\n",
       "  </tbody>\n",
       "</table>\n",
       "<p>1400 rows × 4861 columns</p>\n",
       "</div>"
      ],
      "text/plain": [
       "                          Name  KRFP1  KRFP2  KRFP3  KRFP4  KRFP5  KRFP6  \\\n",
       "0        AUTOGEN_molecule_ws_1      1      0      0      0      0      0   \n",
       "1        AUTOGEN_molecule_ws_2      1      0      0      0      0      0   \n",
       "2        AUTOGEN_molecule_ws_3      0      0      0      0      0      0   \n",
       "3        AUTOGEN_molecule_ws_4      0      0      0      0      0      0   \n",
       "4        AUTOGEN_molecule_ws_5      0      0      0      0      0      0   \n",
       "...                        ...    ...    ...    ...    ...    ...    ...   \n",
       "1395  AUTOGEN_molecule_ws_1396      1      0      0      0      0      0   \n",
       "1396  AUTOGEN_molecule_ws_1397      1      0      0      0      0      0   \n",
       "1397  AUTOGEN_molecule_ws_1398      1      0      0      0      0      0   \n",
       "1398  AUTOGEN_molecule_ws_1399      1      0      0      0      0      0   \n",
       "1399  AUTOGEN_molecule_ws_1400      1      0      0      0      0      0   \n",
       "\n",
       "      KRFP7  KRFP8  KRFP9  ...  KRFP4851  KRFP4852  KRFP4853  KRFP4854  \\\n",
       "0         0      0      0  ...         0         0         0         0   \n",
       "1         0      0      0  ...         0         0         0         0   \n",
       "2         0      0      0  ...         0         0         0         0   \n",
       "3         0      0      0  ...         0         0         0         0   \n",
       "4         0      0      0  ...         0         0         0         0   \n",
       "...     ...    ...    ...  ...       ...       ...       ...       ...   \n",
       "1395      0      0      0  ...         0         0         0         0   \n",
       "1396      0      0      0  ...         0         0         0         0   \n",
       "1397      0      0      0  ...         0         0         0         0   \n",
       "1398      0      0      0  ...         0         0         0         0   \n",
       "1399      0      0      0  ...         0         0         0         0   \n",
       "\n",
       "      KRFP4855  KRFP4856  KRFP4857  KRFP4858  KRFP4859  KRFP4860  \n",
       "0            0         0         0         0         0         0  \n",
       "1            0         0         0         0         0         0  \n",
       "2            0         0         0         0         0         0  \n",
       "3            0         0         0         0         0         0  \n",
       "4            0         0         0         0         0         0  \n",
       "...        ...       ...       ...       ...       ...       ...  \n",
       "1395         0         0         0         0         0         0  \n",
       "1396         0         0         0         0         0         0  \n",
       "1397         0         0         0         0         0         0  \n",
       "1398         0         0         0         0         0         0  \n",
       "1399         0         0         0         0         0         0  \n",
       "\n",
       "[1400 rows x 4861 columns]"
      ]
     },
     "execution_count": 4,
     "metadata": {},
     "output_type": "execute_result"
    }
   ],
   "source": [
    "descriptors_PubChem"
   ]
  },
  {
   "cell_type": "code",
   "execution_count": 5,
   "metadata": {},
   "outputs": [
    {
     "data": {
      "text/html": [
       "<div>\n",
       "<style scoped>\n",
       "    .dataframe tbody tr th:only-of-type {\n",
       "        vertical-align: middle;\n",
       "    }\n",
       "\n",
       "    .dataframe tbody tr th {\n",
       "        vertical-align: top;\n",
       "    }\n",
       "\n",
       "    .dataframe thead th {\n",
       "        text-align: right;\n",
       "    }\n",
       "</style>\n",
       "<table border=\"1\" class=\"dataframe\">\n",
       "  <thead>\n",
       "    <tr style=\"text-align: right;\">\n",
       "      <th></th>\n",
       "      <th>Name</th>\n",
       "      <th>KRFP1</th>\n",
       "      <th>KRFP2</th>\n",
       "      <th>KRFP3</th>\n",
       "      <th>KRFP4</th>\n",
       "      <th>KRFP5</th>\n",
       "      <th>KRFP6</th>\n",
       "      <th>KRFP7</th>\n",
       "      <th>KRFP8</th>\n",
       "      <th>KRFP9</th>\n",
       "      <th>...</th>\n",
       "      <th>KRFP4851</th>\n",
       "      <th>KRFP4852</th>\n",
       "      <th>KRFP4853</th>\n",
       "      <th>KRFP4854</th>\n",
       "      <th>KRFP4855</th>\n",
       "      <th>KRFP4856</th>\n",
       "      <th>KRFP4857</th>\n",
       "      <th>KRFP4858</th>\n",
       "      <th>KRFP4859</th>\n",
       "      <th>KRFP4860</th>\n",
       "    </tr>\n",
       "  </thead>\n",
       "  <tbody>\n",
       "    <tr>\n",
       "      <th>213</th>\n",
       "      <td>AUTOGEN_molecule_ws_214</td>\n",
       "      <td>1</td>\n",
       "      <td>0</td>\n",
       "      <td>0</td>\n",
       "      <td>0</td>\n",
       "      <td>0</td>\n",
       "      <td>0</td>\n",
       "      <td>0</td>\n",
       "      <td>0</td>\n",
       "      <td>0</td>\n",
       "      <td>...</td>\n",
       "      <td>0</td>\n",
       "      <td>0</td>\n",
       "      <td>0</td>\n",
       "      <td>0</td>\n",
       "      <td>0</td>\n",
       "      <td>0</td>\n",
       "      <td>0</td>\n",
       "      <td>0</td>\n",
       "      <td>0</td>\n",
       "      <td>0</td>\n",
       "    </tr>\n",
       "    <tr>\n",
       "      <th>698</th>\n",
       "      <td>AUTOGEN_molecule_ws_699</td>\n",
       "      <td>1</td>\n",
       "      <td>0</td>\n",
       "      <td>0</td>\n",
       "      <td>0</td>\n",
       "      <td>0</td>\n",
       "      <td>0</td>\n",
       "      <td>0</td>\n",
       "      <td>0</td>\n",
       "      <td>0</td>\n",
       "      <td>...</td>\n",
       "      <td>0</td>\n",
       "      <td>0</td>\n",
       "      <td>0</td>\n",
       "      <td>0</td>\n",
       "      <td>0</td>\n",
       "      <td>0</td>\n",
       "      <td>0</td>\n",
       "      <td>0</td>\n",
       "      <td>0</td>\n",
       "      <td>0</td>\n",
       "    </tr>\n",
       "    <tr>\n",
       "      <th>712</th>\n",
       "      <td>AUTOGEN_molecule_ws_713</td>\n",
       "      <td>1</td>\n",
       "      <td>0</td>\n",
       "      <td>0</td>\n",
       "      <td>0</td>\n",
       "      <td>0</td>\n",
       "      <td>0</td>\n",
       "      <td>0</td>\n",
       "      <td>0</td>\n",
       "      <td>0</td>\n",
       "      <td>...</td>\n",
       "      <td>0</td>\n",
       "      <td>0</td>\n",
       "      <td>0</td>\n",
       "      <td>0</td>\n",
       "      <td>0</td>\n",
       "      <td>0</td>\n",
       "      <td>0</td>\n",
       "      <td>0</td>\n",
       "      <td>0</td>\n",
       "      <td>0</td>\n",
       "    </tr>\n",
       "    <tr>\n",
       "      <th>752</th>\n",
       "      <td>AUTOGEN_molecule_ws_753</td>\n",
       "      <td>1</td>\n",
       "      <td>0</td>\n",
       "      <td>0</td>\n",
       "      <td>0</td>\n",
       "      <td>0</td>\n",
       "      <td>0</td>\n",
       "      <td>0</td>\n",
       "      <td>0</td>\n",
       "      <td>0</td>\n",
       "      <td>...</td>\n",
       "      <td>0</td>\n",
       "      <td>0</td>\n",
       "      <td>0</td>\n",
       "      <td>0</td>\n",
       "      <td>0</td>\n",
       "      <td>0</td>\n",
       "      <td>0</td>\n",
       "      <td>0</td>\n",
       "      <td>0</td>\n",
       "      <td>0</td>\n",
       "    </tr>\n",
       "    <tr>\n",
       "      <th>817</th>\n",
       "      <td>AUTOGEN_molecule_ws_818</td>\n",
       "      <td>1</td>\n",
       "      <td>0</td>\n",
       "      <td>0</td>\n",
       "      <td>0</td>\n",
       "      <td>0</td>\n",
       "      <td>0</td>\n",
       "      <td>0</td>\n",
       "      <td>0</td>\n",
       "      <td>0</td>\n",
       "      <td>...</td>\n",
       "      <td>0</td>\n",
       "      <td>0</td>\n",
       "      <td>0</td>\n",
       "      <td>0</td>\n",
       "      <td>0</td>\n",
       "      <td>0</td>\n",
       "      <td>0</td>\n",
       "      <td>0</td>\n",
       "      <td>0</td>\n",
       "      <td>0</td>\n",
       "    </tr>\n",
       "    <tr>\n",
       "      <th>...</th>\n",
       "      <td>...</td>\n",
       "      <td>...</td>\n",
       "      <td>...</td>\n",
       "      <td>...</td>\n",
       "      <td>...</td>\n",
       "      <td>...</td>\n",
       "      <td>...</td>\n",
       "      <td>...</td>\n",
       "      <td>...</td>\n",
       "      <td>...</td>\n",
       "      <td>...</td>\n",
       "      <td>...</td>\n",
       "      <td>...</td>\n",
       "      <td>...</td>\n",
       "      <td>...</td>\n",
       "      <td>...</td>\n",
       "      <td>...</td>\n",
       "      <td>...</td>\n",
       "      <td>...</td>\n",
       "      <td>...</td>\n",
       "      <td>...</td>\n",
       "    </tr>\n",
       "    <tr>\n",
       "      <th>1394</th>\n",
       "      <td>AUTOGEN_molecule_ws_1395</td>\n",
       "      <td>1</td>\n",
       "      <td>0</td>\n",
       "      <td>0</td>\n",
       "      <td>0</td>\n",
       "      <td>0</td>\n",
       "      <td>0</td>\n",
       "      <td>0</td>\n",
       "      <td>0</td>\n",
       "      <td>0</td>\n",
       "      <td>...</td>\n",
       "      <td>0</td>\n",
       "      <td>0</td>\n",
       "      <td>0</td>\n",
       "      <td>0</td>\n",
       "      <td>0</td>\n",
       "      <td>0</td>\n",
       "      <td>0</td>\n",
       "      <td>0</td>\n",
       "      <td>0</td>\n",
       "      <td>0</td>\n",
       "    </tr>\n",
       "    <tr>\n",
       "      <th>1395</th>\n",
       "      <td>AUTOGEN_molecule_ws_1396</td>\n",
       "      <td>1</td>\n",
       "      <td>0</td>\n",
       "      <td>0</td>\n",
       "      <td>0</td>\n",
       "      <td>0</td>\n",
       "      <td>0</td>\n",
       "      <td>0</td>\n",
       "      <td>0</td>\n",
       "      <td>0</td>\n",
       "      <td>...</td>\n",
       "      <td>0</td>\n",
       "      <td>0</td>\n",
       "      <td>0</td>\n",
       "      <td>0</td>\n",
       "      <td>0</td>\n",
       "      <td>0</td>\n",
       "      <td>0</td>\n",
       "      <td>0</td>\n",
       "      <td>0</td>\n",
       "      <td>0</td>\n",
       "    </tr>\n",
       "    <tr>\n",
       "      <th>1396</th>\n",
       "      <td>AUTOGEN_molecule_ws_1397</td>\n",
       "      <td>1</td>\n",
       "      <td>0</td>\n",
       "      <td>0</td>\n",
       "      <td>0</td>\n",
       "      <td>0</td>\n",
       "      <td>0</td>\n",
       "      <td>0</td>\n",
       "      <td>0</td>\n",
       "      <td>0</td>\n",
       "      <td>...</td>\n",
       "      <td>0</td>\n",
       "      <td>0</td>\n",
       "      <td>0</td>\n",
       "      <td>0</td>\n",
       "      <td>0</td>\n",
       "      <td>0</td>\n",
       "      <td>0</td>\n",
       "      <td>0</td>\n",
       "      <td>0</td>\n",
       "      <td>0</td>\n",
       "    </tr>\n",
       "    <tr>\n",
       "      <th>1397</th>\n",
       "      <td>AUTOGEN_molecule_ws_1398</td>\n",
       "      <td>1</td>\n",
       "      <td>0</td>\n",
       "      <td>0</td>\n",
       "      <td>0</td>\n",
       "      <td>0</td>\n",
       "      <td>0</td>\n",
       "      <td>0</td>\n",
       "      <td>0</td>\n",
       "      <td>0</td>\n",
       "      <td>...</td>\n",
       "      <td>0</td>\n",
       "      <td>0</td>\n",
       "      <td>0</td>\n",
       "      <td>0</td>\n",
       "      <td>0</td>\n",
       "      <td>0</td>\n",
       "      <td>0</td>\n",
       "      <td>0</td>\n",
       "      <td>0</td>\n",
       "      <td>0</td>\n",
       "    </tr>\n",
       "    <tr>\n",
       "      <th>1399</th>\n",
       "      <td>AUTOGEN_molecule_ws_1400</td>\n",
       "      <td>1</td>\n",
       "      <td>0</td>\n",
       "      <td>0</td>\n",
       "      <td>0</td>\n",
       "      <td>0</td>\n",
       "      <td>0</td>\n",
       "      <td>0</td>\n",
       "      <td>0</td>\n",
       "      <td>0</td>\n",
       "      <td>...</td>\n",
       "      <td>0</td>\n",
       "      <td>0</td>\n",
       "      <td>0</td>\n",
       "      <td>0</td>\n",
       "      <td>0</td>\n",
       "      <td>0</td>\n",
       "      <td>0</td>\n",
       "      <td>0</td>\n",
       "      <td>0</td>\n",
       "      <td>0</td>\n",
       "    </tr>\n",
       "  </tbody>\n",
       "</table>\n",
       "<p>110 rows × 4861 columns</p>\n",
       "</div>"
      ],
      "text/plain": [
       "                          Name  KRFP1  KRFP2  KRFP3  KRFP4  KRFP5  KRFP6  \\\n",
       "213    AUTOGEN_molecule_ws_214      1      0      0      0      0      0   \n",
       "698    AUTOGEN_molecule_ws_699      1      0      0      0      0      0   \n",
       "712    AUTOGEN_molecule_ws_713      1      0      0      0      0      0   \n",
       "752    AUTOGEN_molecule_ws_753      1      0      0      0      0      0   \n",
       "817    AUTOGEN_molecule_ws_818      1      0      0      0      0      0   \n",
       "...                        ...    ...    ...    ...    ...    ...    ...   \n",
       "1394  AUTOGEN_molecule_ws_1395      1      0      0      0      0      0   \n",
       "1395  AUTOGEN_molecule_ws_1396      1      0      0      0      0      0   \n",
       "1396  AUTOGEN_molecule_ws_1397      1      0      0      0      0      0   \n",
       "1397  AUTOGEN_molecule_ws_1398      1      0      0      0      0      0   \n",
       "1399  AUTOGEN_molecule_ws_1400      1      0      0      0      0      0   \n",
       "\n",
       "      KRFP7  KRFP8  KRFP9  ...  KRFP4851  KRFP4852  KRFP4853  KRFP4854  \\\n",
       "213       0      0      0  ...         0         0         0         0   \n",
       "698       0      0      0  ...         0         0         0         0   \n",
       "712       0      0      0  ...         0         0         0         0   \n",
       "752       0      0      0  ...         0         0         0         0   \n",
       "817       0      0      0  ...         0         0         0         0   \n",
       "...     ...    ...    ...  ...       ...       ...       ...       ...   \n",
       "1394      0      0      0  ...         0         0         0         0   \n",
       "1395      0      0      0  ...         0         0         0         0   \n",
       "1396      0      0      0  ...         0         0         0         0   \n",
       "1397      0      0      0  ...         0         0         0         0   \n",
       "1399      0      0      0  ...         0         0         0         0   \n",
       "\n",
       "      KRFP4855  KRFP4856  KRFP4857  KRFP4858  KRFP4859  KRFP4860  \n",
       "213          0         0         0         0         0         0  \n",
       "698          0         0         0         0         0         0  \n",
       "712          0         0         0         0         0         0  \n",
       "752          0         0         0         0         0         0  \n",
       "817          0         0         0         0         0         0  \n",
       "...        ...       ...       ...       ...       ...       ...  \n",
       "1394         0         0         0         0         0         0  \n",
       "1395         0         0         0         0         0         0  \n",
       "1396         0         0         0         0         0         0  \n",
       "1397         0         0         0         0         0         0  \n",
       "1399         0         0         0         0         0         0  \n",
       "\n",
       "[110 rows x 4861 columns]"
      ]
     },
     "execution_count": 5,
     "metadata": {},
     "output_type": "execute_result"
    }
   ],
   "source": [
    "descriptors_PubChem[descriptors_PubChem['KRFP1236']==1]"
   ]
  },
  {
   "cell_type": "code",
   "execution_count": 19,
   "metadata": {},
   "outputs": [],
   "source": [
    "x_tr = descriptors_PubChem.drop('Name', axis=1)"
   ]
  },
  {
   "cell_type": "code",
   "execution_count": 20,
   "metadata": {},
   "outputs": [],
   "source": [
    "x_tr = np.array(x_tr, dtype=np.float32)\n",
    "y_tr = np.array(y_tr, dtype=np.float32)"
   ]
  },
  {
   "cell_type": "code",
   "execution_count": 246,
   "metadata": {},
   "outputs": [],
   "source": [
    "savetxt('Models/Padels/x_tr_KlekotaRoth.csv', y_tr, delimiter=',')"
   ]
  },
  {
   "cell_type": "code",
   "execution_count": 60,
   "metadata": {},
   "outputs": [
    {
     "data": {
      "text/plain": [
       "(1400, 4860)"
      ]
     },
     "execution_count": 60,
     "metadata": {},
     "output_type": "execute_result"
    }
   ],
   "source": [
    "x_tr.shape"
   ]
  },
  {
   "cell_type": "markdown",
   "metadata": {},
   "source": [
    "# 7.Descriptor calculation for test set"
   ]
  },
  {
   "cell_type": "code",
   "execution_count": 137,
   "metadata": {},
   "outputs": [],
   "source": [
    "from padelpy import padeldescriptor\n",
    "\n",
    "fingerprint = 'KlekotaRoth'\n",
    "\n",
    "fingerprint_output_file = ''.join([fingerprint,'_ts.csv']) #Substructure.csv\n",
    "fingerprint_descriptortypes = fp[fingerprint]\n",
    "\n",
    "padeldescriptor(mol_dir='datasets/molecule_ts.smi', \n",
    "                d_file=fingerprint_output_file, #'PubChem.csv'\n",
    "                #descriptortypes='PubChem.xml', \n",
    "                descriptortypes= fingerprint_descriptortypes,\n",
    "                detectaromaticity=True,\n",
    "                standardizenitro=True,\n",
    "                standardizetautomers=True,\n",
    "                threads=2,\n",
    "                removesalt=True,\n",
    "                log=False,\n",
    "                fingerprints=True)"
   ]
  },
  {
   "cell_type": "code",
   "execution_count": 50,
   "metadata": {},
   "outputs": [],
   "source": [
    "descriptors_PubChem_ts = pd.read_csv('KlekotaRoth_ts.csv')"
   ]
  },
  {
   "cell_type": "code",
   "execution_count": 51,
   "metadata": {},
   "outputs": [],
   "source": [
    "x_ts = descriptors_PubChem_ts.drop('Name', axis=1)"
   ]
  },
  {
   "cell_type": "code",
   "execution_count": 59,
   "metadata": {},
   "outputs": [
    {
     "data": {
      "text/plain": [
       "(351, 4860)"
      ]
     },
     "execution_count": 59,
     "metadata": {},
     "output_type": "execute_result"
    }
   ],
   "source": [
    "x_ts.shape"
   ]
  },
  {
   "cell_type": "markdown",
   "metadata": {},
   "source": [
    " # GradientBoostingRegressor"
   ]
  },
  {
   "cell_type": "code",
   "execution_count": 61,
   "metadata": {},
   "outputs": [],
   "source": [
    "seed = 42"
   ]
  },
  {
   "cell_type": "code",
   "execution_count": 62,
   "metadata": {},
   "outputs": [],
   "source": [
    "cv=KFold(n_splits=5, random_state=seed, shuffle=True)"
   ]
  },
  {
   "cell_type": "code",
   "execution_count": 63,
   "metadata": {},
   "outputs": [],
   "source": [
    "param_grid = {'learning_rate': [0.02,0.05],\n",
    "                  'subsample'    : [0.9, 0.5, 0.1],\n",
    "                  'n_estimators' : [100,500,1000],\n",
    "                  'max_depth'    : [4, 10]\n",
    "                 }"
   ]
  },
  {
   "cell_type": "code",
   "execution_count": 64,
   "metadata": {},
   "outputs": [],
   "source": [
    "m = GridSearchCV(GradientBoostingRegressor(), param_grid, n_jobs=-1, cv=cv, verbose=1)"
   ]
  },
  {
   "cell_type": "code",
   "execution_count": 65,
   "metadata": {},
   "outputs": [
    {
     "name": "stdout",
     "output_type": "stream",
     "text": [
      "Fitting 5 folds for each of 36 candidates, totalling 180 fits\n"
     ]
    },
    {
     "data": {
      "text/html": [
       "<style>#sk-container-id-1 {color: black;}#sk-container-id-1 pre{padding: 0;}#sk-container-id-1 div.sk-toggleable {background-color: white;}#sk-container-id-1 label.sk-toggleable__label {cursor: pointer;display: block;width: 100%;margin-bottom: 0;padding: 0.3em;box-sizing: border-box;text-align: center;}#sk-container-id-1 label.sk-toggleable__label-arrow:before {content: \"▸\";float: left;margin-right: 0.25em;color: #696969;}#sk-container-id-1 label.sk-toggleable__label-arrow:hover:before {color: black;}#sk-container-id-1 div.sk-estimator:hover label.sk-toggleable__label-arrow:before {color: black;}#sk-container-id-1 div.sk-toggleable__content {max-height: 0;max-width: 0;overflow: hidden;text-align: left;background-color: #f0f8ff;}#sk-container-id-1 div.sk-toggleable__content pre {margin: 0.2em;color: black;border-radius: 0.25em;background-color: #f0f8ff;}#sk-container-id-1 input.sk-toggleable__control:checked~div.sk-toggleable__content {max-height: 200px;max-width: 100%;overflow: auto;}#sk-container-id-1 input.sk-toggleable__control:checked~label.sk-toggleable__label-arrow:before {content: \"▾\";}#sk-container-id-1 div.sk-estimator input.sk-toggleable__control:checked~label.sk-toggleable__label {background-color: #d4ebff;}#sk-container-id-1 div.sk-label input.sk-toggleable__control:checked~label.sk-toggleable__label {background-color: #d4ebff;}#sk-container-id-1 input.sk-hidden--visually {border: 0;clip: rect(1px 1px 1px 1px);clip: rect(1px, 1px, 1px, 1px);height: 1px;margin: -1px;overflow: hidden;padding: 0;position: absolute;width: 1px;}#sk-container-id-1 div.sk-estimator {font-family: monospace;background-color: #f0f8ff;border: 1px dotted black;border-radius: 0.25em;box-sizing: border-box;margin-bottom: 0.5em;}#sk-container-id-1 div.sk-estimator:hover {background-color: #d4ebff;}#sk-container-id-1 div.sk-parallel-item::after {content: \"\";width: 100%;border-bottom: 1px solid gray;flex-grow: 1;}#sk-container-id-1 div.sk-label:hover label.sk-toggleable__label {background-color: #d4ebff;}#sk-container-id-1 div.sk-serial::before {content: \"\";position: absolute;border-left: 1px solid gray;box-sizing: border-box;top: 0;bottom: 0;left: 50%;z-index: 0;}#sk-container-id-1 div.sk-serial {display: flex;flex-direction: column;align-items: center;background-color: white;padding-right: 0.2em;padding-left: 0.2em;position: relative;}#sk-container-id-1 div.sk-item {position: relative;z-index: 1;}#sk-container-id-1 div.sk-parallel {display: flex;align-items: stretch;justify-content: center;background-color: white;position: relative;}#sk-container-id-1 div.sk-item::before, #sk-container-id-1 div.sk-parallel-item::before {content: \"\";position: absolute;border-left: 1px solid gray;box-sizing: border-box;top: 0;bottom: 0;left: 50%;z-index: -1;}#sk-container-id-1 div.sk-parallel-item {display: flex;flex-direction: column;z-index: 1;position: relative;background-color: white;}#sk-container-id-1 div.sk-parallel-item:first-child::after {align-self: flex-end;width: 50%;}#sk-container-id-1 div.sk-parallel-item:last-child::after {align-self: flex-start;width: 50%;}#sk-container-id-1 div.sk-parallel-item:only-child::after {width: 0;}#sk-container-id-1 div.sk-dashed-wrapped {border: 1px dashed gray;margin: 0 0.4em 0.5em 0.4em;box-sizing: border-box;padding-bottom: 0.4em;background-color: white;}#sk-container-id-1 div.sk-label label {font-family: monospace;font-weight: bold;display: inline-block;line-height: 1.2em;}#sk-container-id-1 div.sk-label-container {text-align: center;}#sk-container-id-1 div.sk-container {/* jupyter's `normalize.less` sets `[hidden] { display: none; }` but bootstrap.min.css set `[hidden] { display: none !important; }` so we also need the `!important` here to be able to override the default hidden behavior on the sphinx rendered scikit-learn.org. See: https://github.com/scikit-learn/scikit-learn/issues/21755 */display: inline-block !important;position: relative;}#sk-container-id-1 div.sk-text-repr-fallback {display: none;}</style><div id=\"sk-container-id-1\" class=\"sk-top-container\"><div class=\"sk-text-repr-fallback\"><pre>GridSearchCV(cv=KFold(n_splits=5, random_state=42, shuffle=True),\n",
       "             estimator=GradientBoostingRegressor(), n_jobs=-1,\n",
       "             param_grid={&#x27;learning_rate&#x27;: [0.02, 0.05], &#x27;max_depth&#x27;: [4, 10],\n",
       "                         &#x27;n_estimators&#x27;: [100, 500, 1000],\n",
       "                         &#x27;subsample&#x27;: [0.9, 0.5, 0.1]},\n",
       "             verbose=1)</pre><b>In a Jupyter environment, please rerun this cell to show the HTML representation or trust the notebook. <br />On GitHub, the HTML representation is unable to render, please try loading this page with nbviewer.org.</b></div><div class=\"sk-container\" hidden><div class=\"sk-item sk-dashed-wrapped\"><div class=\"sk-label-container\"><div class=\"sk-label sk-toggleable\"><input class=\"sk-toggleable__control sk-hidden--visually\" id=\"sk-estimator-id-1\" type=\"checkbox\" ><label for=\"sk-estimator-id-1\" class=\"sk-toggleable__label sk-toggleable__label-arrow\">GridSearchCV</label><div class=\"sk-toggleable__content\"><pre>GridSearchCV(cv=KFold(n_splits=5, random_state=42, shuffle=True),\n",
       "             estimator=GradientBoostingRegressor(), n_jobs=-1,\n",
       "             param_grid={&#x27;learning_rate&#x27;: [0.02, 0.05], &#x27;max_depth&#x27;: [4, 10],\n",
       "                         &#x27;n_estimators&#x27;: [100, 500, 1000],\n",
       "                         &#x27;subsample&#x27;: [0.9, 0.5, 0.1]},\n",
       "             verbose=1)</pre></div></div></div><div class=\"sk-parallel\"><div class=\"sk-parallel-item\"><div class=\"sk-item\"><div class=\"sk-label-container\"><div class=\"sk-label sk-toggleable\"><input class=\"sk-toggleable__control sk-hidden--visually\" id=\"sk-estimator-id-2\" type=\"checkbox\" ><label for=\"sk-estimator-id-2\" class=\"sk-toggleable__label sk-toggleable__label-arrow\">estimator: GradientBoostingRegressor</label><div class=\"sk-toggleable__content\"><pre>GradientBoostingRegressor()</pre></div></div></div><div class=\"sk-serial\"><div class=\"sk-item\"><div class=\"sk-estimator sk-toggleable\"><input class=\"sk-toggleable__control sk-hidden--visually\" id=\"sk-estimator-id-3\" type=\"checkbox\" ><label for=\"sk-estimator-id-3\" class=\"sk-toggleable__label sk-toggleable__label-arrow\">GradientBoostingRegressor</label><div class=\"sk-toggleable__content\"><pre>GradientBoostingRegressor()</pre></div></div></div></div></div></div></div></div></div></div>"
      ],
      "text/plain": [
       "GridSearchCV(cv=KFold(n_splits=5, random_state=42, shuffle=True),\n",
       "             estimator=GradientBoostingRegressor(), n_jobs=-1,\n",
       "             param_grid={'learning_rate': [0.02, 0.05], 'max_depth': [4, 10],\n",
       "                         'n_estimators': [100, 500, 1000],\n",
       "                         'subsample': [0.9, 0.5, 0.1]},\n",
       "             verbose=1)"
      ]
     },
     "execution_count": 65,
     "metadata": {},
     "output_type": "execute_result"
    }
   ],
   "source": [
    "m.fit(x_tr, y_tr)"
   ]
  },
  {
   "cell_type": "code",
   "execution_count": 66,
   "metadata": {},
   "outputs": [],
   "source": [
    "best_GBR = m.best_estimator_"
   ]
  },
  {
   "cell_type": "code",
   "execution_count": 67,
   "metadata": {},
   "outputs": [
    {
     "data": {
      "text/plain": [
       "{'learning_rate': 0.02,\n",
       " 'max_depth': 10,\n",
       " 'n_estimators': 1000,\n",
       " 'subsample': 0.5}"
      ]
     },
     "execution_count": 67,
     "metadata": {},
     "output_type": "execute_result"
    }
   ],
   "source": [
    "m.best_params_"
   ]
  },
  {
   "cell_type": "code",
   "execution_count": 68,
   "metadata": {},
   "outputs": [],
   "source": [
    "y_pred_ws_GBR = best_GBR.predict(x_tr)"
   ]
  },
  {
   "cell_type": "code",
   "execution_count": 69,
   "metadata": {},
   "outputs": [
    {
     "data": {
      "text/plain": [
       "0.98"
      ]
     },
     "execution_count": 69,
     "metadata": {},
     "output_type": "execute_result"
    }
   ],
   "source": [
    "R2_WS = round(r2_score(y_tr, y_pred_ws_GBR), 2)\n",
    "R2_WS"
   ]
  },
  {
   "cell_type": "code",
   "execution_count": 71,
   "metadata": {},
   "outputs": [
    {
     "data": {
      "text/plain": [
       "0.38"
      ]
     },
     "execution_count": 71,
     "metadata": {},
     "output_type": "execute_result"
    }
   ],
   "source": [
    "RMSE_WS=round(np.sqrt(mean_absolute_error(y_tr, y_pred_ws_GBR)), 2)\n",
    "RMSE_WS"
   ]
  },
  {
   "cell_type": "code",
   "execution_count": 72,
   "metadata": {},
   "outputs": [],
   "source": [
    "y_pred_CV_GBR = cross_val_predict(best_GBR, x_tr, y_tr, cv=cv)"
   ]
  },
  {
   "cell_type": "code",
   "execution_count": 73,
   "metadata": {},
   "outputs": [
    {
     "data": {
      "text/plain": [
       "array([5.46889995, 5.68046947, 4.45944809, ..., 9.51408977, 6.52766004,\n",
       "       9.37563859])"
      ]
     },
     "execution_count": 73,
     "metadata": {},
     "output_type": "execute_result"
    }
   ],
   "source": [
    "y_pred_CV_GBR"
   ]
  },
  {
   "cell_type": "code",
   "execution_count": 74,
   "metadata": {},
   "outputs": [
    {
     "data": {
      "text/plain": [
       "0.67"
      ]
     },
     "execution_count": 74,
     "metadata": {},
     "output_type": "execute_result"
    }
   ],
   "source": [
    "Q2_CV = round(r2_score(y_tr, y_pred_CV_GBR), 2)\n",
    "Q2_CV"
   ]
  },
  {
   "cell_type": "code",
   "execution_count": 75,
   "metadata": {},
   "outputs": [
    {
     "data": {
      "text/plain": [
       "0.71"
      ]
     },
     "execution_count": 75,
     "metadata": {},
     "output_type": "execute_result"
    }
   ],
   "source": [
    "RMSE_CV=round(np.sqrt(mean_absolute_error(y_tr, y_pred_CV_GBR)), 2)\n",
    "RMSE_CV"
   ]
  },
  {
   "cell_type": "markdown",
   "metadata": {},
   "source": [
    "# 9. Prediction for test set's molecules"
   ]
  },
  {
   "cell_type": "code",
   "execution_count": 76,
   "metadata": {},
   "outputs": [
    {
     "data": {
      "text/plain": [
       "351"
      ]
     },
     "execution_count": 76,
     "metadata": {},
     "output_type": "execute_result"
    }
   ],
   "source": [
    "x_ts = np.array(x_ts, dtype=np.float32)\n",
    "y_ts = np.array(y_ts, dtype=np.float32)\n",
    "len(y_ts)"
   ]
  },
  {
   "cell_type": "code",
   "execution_count": 77,
   "metadata": {},
   "outputs": [],
   "source": [
    "y_pred_GBR = best_GBR.predict(x_ts)"
   ]
  },
  {
   "cell_type": "code",
   "execution_count": 78,
   "metadata": {},
   "outputs": [
    {
     "data": {
      "text/plain": [
       "0.7"
      ]
     },
     "execution_count": 78,
     "metadata": {},
     "output_type": "execute_result"
    }
   ],
   "source": [
    "Q2_TS = round(r2_score(y_ts, y_pred_GBR), 2)\n",
    "Q2_TS"
   ]
  },
  {
   "cell_type": "code",
   "execution_count": 181,
   "metadata": {},
   "outputs": [
    {
     "data": {
      "text/plain": [
       "0.71"
      ]
     },
     "execution_count": 181,
     "metadata": {},
     "output_type": "execute_result"
    }
   ],
   "source": [
    "RMSE_TS=round(np.sqrt(mean_absolute_error(y_ts, y_pred_GBR)), 2)\n",
    "RMSE_TS"
   ]
  },
  {
   "cell_type": "markdown",
   "metadata": {},
   "source": [
    "# save the model to disk"
   ]
  },
  {
   "cell_type": "code",
   "execution_count": 79,
   "metadata": {},
   "outputs": [],
   "source": [
    "pickle.dump(best_GBR, open('Models/Padels/HDAC3_GBR_KlekotaRoth.pkl', 'wb'))"
   ]
  },
  {
   "cell_type": "markdown",
   "metadata": {},
   "source": [
    "# load the model from disk"
   ]
  },
  {
   "cell_type": "code",
   "execution_count": 57,
   "metadata": {},
   "outputs": [],
   "source": [
    "best_GBR = pickle.load(open('Models/Padels/HDAC3_GBR_KlekotaRoth.pkl', 'rb'))"
   ]
  },
  {
   "cell_type": "markdown",
   "metadata": {},
   "source": [
    "# Y-randomization GradientBoostingRegressor model"
   ]
  },
  {
   "cell_type": "code",
   "execution_count": 145,
   "metadata": {},
   "outputs": [
    {
     "name": "stderr",
     "output_type": "stream",
     "text": [
      "[Parallel(n_jobs=-1)]: Using backend LokyBackend with 16 concurrent workers.\n",
      "[Parallel(n_jobs=-1)]: Done  18 tasks      | elapsed: 88.3min\n"
     ]
    },
    {
     "name": "stdout",
     "output_type": "stream",
     "text": [
      "True score =  0.66 \n",
      "Y-randomization =  -0.32 \n",
      "p-value =  0.0196\n"
     ]
    },
    {
     "name": "stderr",
     "output_type": "stream",
     "text": [
      "[Parallel(n_jobs=-1)]: Done  50 out of  50 | elapsed: 139.6min finished\n"
     ]
    }
   ],
   "source": [
    "permutations = 50\n",
    "score, permutation_scores, pvalue = permutation_test_score(best_GBR, x_tr, y_tr,\n",
    "                                                           cv=cv, scoring='r2',\n",
    "                                                           n_permutations=permutations,\n",
    "                                                           n_jobs=-1,\n",
    "                                                           verbose=1,\n",
    "                                                           random_state=seed)\n",
    "print('True score = ', score.round(2),\n",
    "      '\\nY-randomization = ', np.mean(permutation_scores).round(2),\n",
    "      '\\np-value = ', pvalue.round(4))"
   ]
  },
  {
   "cell_type": "markdown",
   "metadata": {},
   "source": [
    "# 11. Estimating applicability domain. Method - Euclidian distances, K=1"
   ]
  },
  {
   "cell_type": "code",
   "execution_count": 176,
   "metadata": {},
   "outputs": [],
   "source": [
    "neighbors_k= pairwise_distances(x_tr, n_jobs=-1)\n",
    "neighbors_k.sort(0)"
   ]
  },
  {
   "cell_type": "code",
   "execution_count": 177,
   "metadata": {},
   "outputs": [
    {
     "data": {
      "text/html": [
       "<div>\n",
       "<style scoped>\n",
       "    .dataframe tbody tr th:only-of-type {\n",
       "        vertical-align: middle;\n",
       "    }\n",
       "\n",
       "    .dataframe tbody tr th {\n",
       "        vertical-align: top;\n",
       "    }\n",
       "\n",
       "    .dataframe thead th {\n",
       "        text-align: right;\n",
       "    }\n",
       "</style>\n",
       "<table border=\"1\" class=\"dataframe\">\n",
       "  <thead>\n",
       "    <tr style=\"text-align: right;\">\n",
       "      <th></th>\n",
       "      <th>0</th>\n",
       "      <th>1</th>\n",
       "      <th>2</th>\n",
       "      <th>3</th>\n",
       "      <th>4</th>\n",
       "      <th>5</th>\n",
       "      <th>6</th>\n",
       "      <th>7</th>\n",
       "      <th>8</th>\n",
       "      <th>9</th>\n",
       "      <th>...</th>\n",
       "      <th>1390</th>\n",
       "      <th>1391</th>\n",
       "      <th>1392</th>\n",
       "      <th>1393</th>\n",
       "      <th>1394</th>\n",
       "      <th>1395</th>\n",
       "      <th>1396</th>\n",
       "      <th>1397</th>\n",
       "      <th>1398</th>\n",
       "      <th>1399</th>\n",
       "    </tr>\n",
       "  </thead>\n",
       "  <tbody>\n",
       "    <tr>\n",
       "      <th>0</th>\n",
       "      <td>0.000000</td>\n",
       "      <td>0.000000</td>\n",
       "      <td>0.000000</td>\n",
       "      <td>0.000000</td>\n",
       "      <td>0.000000</td>\n",
       "      <td>0.000000</td>\n",
       "      <td>0.000000</td>\n",
       "      <td>0.000000</td>\n",
       "      <td>0.000000</td>\n",
       "      <td>0.000000</td>\n",
       "      <td>...</td>\n",
       "      <td>0.000000</td>\n",
       "      <td>0.000000</td>\n",
       "      <td>0.000000</td>\n",
       "      <td>0.000000</td>\n",
       "      <td>0.000000</td>\n",
       "      <td>0.000000</td>\n",
       "      <td>0.000000</td>\n",
       "      <td>0.000000</td>\n",
       "      <td>0.000000</td>\n",
       "      <td>0.000000</td>\n",
       "    </tr>\n",
       "    <tr>\n",
       "      <th>1</th>\n",
       "      <td>2.236068</td>\n",
       "      <td>3.464102</td>\n",
       "      <td>2.000000</td>\n",
       "      <td>2.449490</td>\n",
       "      <td>2.000000</td>\n",
       "      <td>2.000000</td>\n",
       "      <td>2.236068</td>\n",
       "      <td>6.164414</td>\n",
       "      <td>3.000000</td>\n",
       "      <td>5.099020</td>\n",
       "      <td>...</td>\n",
       "      <td>4.000000</td>\n",
       "      <td>2.645751</td>\n",
       "      <td>2.000000</td>\n",
       "      <td>1.732051</td>\n",
       "      <td>3.000000</td>\n",
       "      <td>2.645751</td>\n",
       "      <td>2.236068</td>\n",
       "      <td>1.414214</td>\n",
       "      <td>3.605551</td>\n",
       "      <td>2.828427</td>\n",
       "    </tr>\n",
       "    <tr>\n",
       "      <th>2</th>\n",
       "      <td>2.645751</td>\n",
       "      <td>3.741657</td>\n",
       "      <td>5.385165</td>\n",
       "      <td>2.449490</td>\n",
       "      <td>5.385165</td>\n",
       "      <td>2.828427</td>\n",
       "      <td>3.316625</td>\n",
       "      <td>6.633250</td>\n",
       "      <td>3.605551</td>\n",
       "      <td>5.196152</td>\n",
       "      <td>...</td>\n",
       "      <td>5.196152</td>\n",
       "      <td>2.828427</td>\n",
       "      <td>2.000000</td>\n",
       "      <td>2.000000</td>\n",
       "      <td>3.316625</td>\n",
       "      <td>2.645751</td>\n",
       "      <td>2.449490</td>\n",
       "      <td>2.236068</td>\n",
       "      <td>3.872983</td>\n",
       "      <td>3.000000</td>\n",
       "    </tr>\n",
       "    <tr>\n",
       "      <th>3</th>\n",
       "      <td>2.645751</td>\n",
       "      <td>3.741657</td>\n",
       "      <td>5.744563</td>\n",
       "      <td>2.828427</td>\n",
       "      <td>6.324555</td>\n",
       "      <td>3.872983</td>\n",
       "      <td>4.000000</td>\n",
       "      <td>6.708204</td>\n",
       "      <td>3.741657</td>\n",
       "      <td>6.164414</td>\n",
       "      <td>...</td>\n",
       "      <td>5.196152</td>\n",
       "      <td>3.000000</td>\n",
       "      <td>2.645751</td>\n",
       "      <td>2.000000</td>\n",
       "      <td>3.316625</td>\n",
       "      <td>3.162278</td>\n",
       "      <td>2.645751</td>\n",
       "      <td>2.236068</td>\n",
       "      <td>4.123106</td>\n",
       "      <td>3.000000</td>\n",
       "    </tr>\n",
       "    <tr>\n",
       "      <th>4</th>\n",
       "      <td>3.000000</td>\n",
       "      <td>4.123106</td>\n",
       "      <td>5.830952</td>\n",
       "      <td>3.162278</td>\n",
       "      <td>6.557438</td>\n",
       "      <td>3.872983</td>\n",
       "      <td>4.123106</td>\n",
       "      <td>6.782330</td>\n",
       "      <td>3.872983</td>\n",
       "      <td>6.244998</td>\n",
       "      <td>...</td>\n",
       "      <td>5.567764</td>\n",
       "      <td>3.316625</td>\n",
       "      <td>2.645751</td>\n",
       "      <td>2.000000</td>\n",
       "      <td>3.316625</td>\n",
       "      <td>3.162278</td>\n",
       "      <td>2.645751</td>\n",
       "      <td>2.236068</td>\n",
       "      <td>4.795832</td>\n",
       "      <td>3.162278</td>\n",
       "    </tr>\n",
       "    <tr>\n",
       "      <th>...</th>\n",
       "      <td>...</td>\n",
       "      <td>...</td>\n",
       "      <td>...</td>\n",
       "      <td>...</td>\n",
       "      <td>...</td>\n",
       "      <td>...</td>\n",
       "      <td>...</td>\n",
       "      <td>...</td>\n",
       "      <td>...</td>\n",
       "      <td>...</td>\n",
       "      <td>...</td>\n",
       "      <td>...</td>\n",
       "      <td>...</td>\n",
       "      <td>...</td>\n",
       "      <td>...</td>\n",
       "      <td>...</td>\n",
       "      <td>...</td>\n",
       "      <td>...</td>\n",
       "      <td>...</td>\n",
       "      <td>...</td>\n",
       "      <td>...</td>\n",
       "    </tr>\n",
       "    <tr>\n",
       "      <th>1395</th>\n",
       "      <td>11.618950</td>\n",
       "      <td>11.874342</td>\n",
       "      <td>11.958261</td>\n",
       "      <td>11.958261</td>\n",
       "      <td>12.165525</td>\n",
       "      <td>12.649111</td>\n",
       "      <td>11.916375</td>\n",
       "      <td>12.041595</td>\n",
       "      <td>13.152946</td>\n",
       "      <td>12.449900</td>\n",
       "      <td>...</td>\n",
       "      <td>13.453624</td>\n",
       "      <td>12.922848</td>\n",
       "      <td>12.165525</td>\n",
       "      <td>11.916375</td>\n",
       "      <td>12.083046</td>\n",
       "      <td>11.789826</td>\n",
       "      <td>11.958261</td>\n",
       "      <td>11.916375</td>\n",
       "      <td>11.532562</td>\n",
       "      <td>12.041595</td>\n",
       "    </tr>\n",
       "    <tr>\n",
       "      <th>1396</th>\n",
       "      <td>11.704700</td>\n",
       "      <td>11.958261</td>\n",
       "      <td>12.041595</td>\n",
       "      <td>12.206555</td>\n",
       "      <td>12.206555</td>\n",
       "      <td>12.727922</td>\n",
       "      <td>11.958261</td>\n",
       "      <td>12.083046</td>\n",
       "      <td>13.190906</td>\n",
       "      <td>12.449900</td>\n",
       "      <td>...</td>\n",
       "      <td>13.490738</td>\n",
       "      <td>12.961481</td>\n",
       "      <td>12.206555</td>\n",
       "      <td>11.958261</td>\n",
       "      <td>12.165525</td>\n",
       "      <td>11.916375</td>\n",
       "      <td>12.041595</td>\n",
       "      <td>12.000000</td>\n",
       "      <td>11.532562</td>\n",
       "      <td>12.124355</td>\n",
       "    </tr>\n",
       "    <tr>\n",
       "      <th>1397</th>\n",
       "      <td>11.958261</td>\n",
       "      <td>12.165525</td>\n",
       "      <td>12.206555</td>\n",
       "      <td>12.247449</td>\n",
       "      <td>12.288206</td>\n",
       "      <td>13.000000</td>\n",
       "      <td>12.000000</td>\n",
       "      <td>12.124355</td>\n",
       "      <td>13.266500</td>\n",
       "      <td>12.489996</td>\n",
       "      <td>...</td>\n",
       "      <td>13.564660</td>\n",
       "      <td>13.038404</td>\n",
       "      <td>12.206555</td>\n",
       "      <td>12.000000</td>\n",
       "      <td>12.165525</td>\n",
       "      <td>11.916375</td>\n",
       "      <td>12.041595</td>\n",
       "      <td>12.041595</td>\n",
       "      <td>11.747340</td>\n",
       "      <td>12.124355</td>\n",
       "    </tr>\n",
       "    <tr>\n",
       "      <th>1398</th>\n",
       "      <td>12.083046</td>\n",
       "      <td>12.206555</td>\n",
       "      <td>12.247449</td>\n",
       "      <td>12.288206</td>\n",
       "      <td>12.489996</td>\n",
       "      <td>13.076696</td>\n",
       "      <td>12.206555</td>\n",
       "      <td>12.328828</td>\n",
       "      <td>13.453624</td>\n",
       "      <td>12.489996</td>\n",
       "      <td>...</td>\n",
       "      <td>13.674794</td>\n",
       "      <td>13.152946</td>\n",
       "      <td>12.409674</td>\n",
       "      <td>12.124355</td>\n",
       "      <td>12.369317</td>\n",
       "      <td>12.000000</td>\n",
       "      <td>12.083046</td>\n",
       "      <td>12.083046</td>\n",
       "      <td>11.747340</td>\n",
       "      <td>12.165525</td>\n",
       "    </tr>\n",
       "    <tr>\n",
       "      <th>1399</th>\n",
       "      <td>12.247449</td>\n",
       "      <td>12.409674</td>\n",
       "      <td>12.288206</td>\n",
       "      <td>12.569805</td>\n",
       "      <td>12.569805</td>\n",
       "      <td>13.266500</td>\n",
       "      <td>12.247449</td>\n",
       "      <td>12.369317</td>\n",
       "      <td>13.490738</td>\n",
       "      <td>12.489996</td>\n",
       "      <td>...</td>\n",
       "      <td>13.711309</td>\n",
       "      <td>13.190906</td>\n",
       "      <td>12.449900</td>\n",
       "      <td>12.247449</td>\n",
       "      <td>12.449900</td>\n",
       "      <td>12.124355</td>\n",
       "      <td>12.328828</td>\n",
       "      <td>12.288206</td>\n",
       "      <td>11.789826</td>\n",
       "      <td>12.409674</td>\n",
       "    </tr>\n",
       "  </tbody>\n",
       "</table>\n",
       "<p>1400 rows × 1400 columns</p>\n",
       "</div>"
      ],
      "text/plain": [
       "           0          1          2          3          4          5     \\\n",
       "0      0.000000   0.000000   0.000000   0.000000   0.000000   0.000000   \n",
       "1      2.236068   3.464102   2.000000   2.449490   2.000000   2.000000   \n",
       "2      2.645751   3.741657   5.385165   2.449490   5.385165   2.828427   \n",
       "3      2.645751   3.741657   5.744563   2.828427   6.324555   3.872983   \n",
       "4      3.000000   4.123106   5.830952   3.162278   6.557438   3.872983   \n",
       "...         ...        ...        ...        ...        ...        ...   \n",
       "1395  11.618950  11.874342  11.958261  11.958261  12.165525  12.649111   \n",
       "1396  11.704700  11.958261  12.041595  12.206555  12.206555  12.727922   \n",
       "1397  11.958261  12.165525  12.206555  12.247449  12.288206  13.000000   \n",
       "1398  12.083046  12.206555  12.247449  12.288206  12.489996  13.076696   \n",
       "1399  12.247449  12.409674  12.288206  12.569805  12.569805  13.266500   \n",
       "\n",
       "           6          7          8          9     ...       1390       1391  \\\n",
       "0      0.000000   0.000000   0.000000   0.000000  ...   0.000000   0.000000   \n",
       "1      2.236068   6.164414   3.000000   5.099020  ...   4.000000   2.645751   \n",
       "2      3.316625   6.633250   3.605551   5.196152  ...   5.196152   2.828427   \n",
       "3      4.000000   6.708204   3.741657   6.164414  ...   5.196152   3.000000   \n",
       "4      4.123106   6.782330   3.872983   6.244998  ...   5.567764   3.316625   \n",
       "...         ...        ...        ...        ...  ...        ...        ...   \n",
       "1395  11.916375  12.041595  13.152946  12.449900  ...  13.453624  12.922848   \n",
       "1396  11.958261  12.083046  13.190906  12.449900  ...  13.490738  12.961481   \n",
       "1397  12.000000  12.124355  13.266500  12.489996  ...  13.564660  13.038404   \n",
       "1398  12.206555  12.328828  13.453624  12.489996  ...  13.674794  13.152946   \n",
       "1399  12.247449  12.369317  13.490738  12.489996  ...  13.711309  13.190906   \n",
       "\n",
       "           1392       1393       1394       1395       1396       1397  \\\n",
       "0      0.000000   0.000000   0.000000   0.000000   0.000000   0.000000   \n",
       "1      2.000000   1.732051   3.000000   2.645751   2.236068   1.414214   \n",
       "2      2.000000   2.000000   3.316625   2.645751   2.449490   2.236068   \n",
       "3      2.645751   2.000000   3.316625   3.162278   2.645751   2.236068   \n",
       "4      2.645751   2.000000   3.316625   3.162278   2.645751   2.236068   \n",
       "...         ...        ...        ...        ...        ...        ...   \n",
       "1395  12.165525  11.916375  12.083046  11.789826  11.958261  11.916375   \n",
       "1396  12.206555  11.958261  12.165525  11.916375  12.041595  12.000000   \n",
       "1397  12.206555  12.000000  12.165525  11.916375  12.041595  12.041595   \n",
       "1398  12.409674  12.124355  12.369317  12.000000  12.083046  12.083046   \n",
       "1399  12.449900  12.247449  12.449900  12.124355  12.328828  12.288206   \n",
       "\n",
       "           1398       1399  \n",
       "0      0.000000   0.000000  \n",
       "1      3.605551   2.828427  \n",
       "2      3.872983   3.000000  \n",
       "3      4.123106   3.000000  \n",
       "4      4.795832   3.162278  \n",
       "...         ...        ...  \n",
       "1395  11.532562  12.041595  \n",
       "1396  11.532562  12.124355  \n",
       "1397  11.747340  12.124355  \n",
       "1398  11.747340  12.165525  \n",
       "1399  11.789826  12.409674  \n",
       "\n",
       "[1400 rows x 1400 columns]"
      ]
     },
     "execution_count": 177,
     "metadata": {},
     "output_type": "execute_result"
    }
   ],
   "source": [
    "df_tr=pd.DataFrame(neighbors_k)\n",
    "df_tr"
   ]
  },
  {
   "cell_type": "code",
   "execution_count": 178,
   "metadata": {},
   "outputs": [],
   "source": [
    "similarity= neighbors_k"
   ]
  },
  {
   "cell_type": "code",
   "execution_count": 179,
   "metadata": {},
   "outputs": [],
   "source": [
    "Dmean=np.mean(similarity[1,:])"
   ]
  },
  {
   "cell_type": "code",
   "execution_count": 180,
   "metadata": {},
   "outputs": [
    {
     "data": {
      "text/plain": [
       "2.85"
      ]
     },
     "execution_count": 180,
     "metadata": {},
     "output_type": "execute_result"
    }
   ],
   "source": [
    "round(Dmean, 2)"
   ]
  },
  {
   "cell_type": "code",
   "execution_count": 181,
   "metadata": {},
   "outputs": [],
   "source": [
    "std=np.std(similarity[1,:])"
   ]
  },
  {
   "cell_type": "code",
   "execution_count": 182,
   "metadata": {},
   "outputs": [
    {
     "data": {
      "text/plain": [
       "1.38"
      ]
     },
     "execution_count": 182,
     "metadata": {},
     "output_type": "execute_result"
    }
   ],
   "source": [
    "round(std, 2)"
   ]
  },
  {
   "cell_type": "code",
   "execution_count": 183,
   "metadata": {},
   "outputs": [
    {
     "name": "stdout",
     "output_type": "stream",
     "text": [
      "3.54\n"
     ]
    }
   ],
   "source": [
    "model_AD_limit=Dmean+std*0.5\n",
    "print(np.round(model_AD_limit, 2))"
   ]
  },
  {
   "cell_type": "code",
   "execution_count": 184,
   "metadata": {},
   "outputs": [],
   "source": [
    "neighbors_k_ts= pairwise_distances(x_tr,Y=x_ts, n_jobs=-1)\n",
    "neighbors_k_ts.sort(0)"
   ]
  },
  {
   "cell_type": "code",
   "execution_count": 185,
   "metadata": {},
   "outputs": [
    {
     "data": {
      "text/html": [
       "<div>\n",
       "<style scoped>\n",
       "    .dataframe tbody tr th:only-of-type {\n",
       "        vertical-align: middle;\n",
       "    }\n",
       "\n",
       "    .dataframe tbody tr th {\n",
       "        vertical-align: top;\n",
       "    }\n",
       "\n",
       "    .dataframe thead th {\n",
       "        text-align: right;\n",
       "    }\n",
       "</style>\n",
       "<table border=\"1\" class=\"dataframe\">\n",
       "  <thead>\n",
       "    <tr style=\"text-align: right;\">\n",
       "      <th></th>\n",
       "      <th>0</th>\n",
       "      <th>1</th>\n",
       "      <th>2</th>\n",
       "      <th>3</th>\n",
       "      <th>4</th>\n",
       "      <th>5</th>\n",
       "      <th>6</th>\n",
       "      <th>7</th>\n",
       "      <th>8</th>\n",
       "      <th>9</th>\n",
       "      <th>...</th>\n",
       "      <th>341</th>\n",
       "      <th>342</th>\n",
       "      <th>343</th>\n",
       "      <th>344</th>\n",
       "      <th>345</th>\n",
       "      <th>346</th>\n",
       "      <th>347</th>\n",
       "      <th>348</th>\n",
       "      <th>349</th>\n",
       "      <th>350</th>\n",
       "    </tr>\n",
       "  </thead>\n",
       "  <tbody>\n",
       "    <tr>\n",
       "      <th>0</th>\n",
       "      <td>1.000000</td>\n",
       "      <td>4.898980</td>\n",
       "      <td>5.744563</td>\n",
       "      <td>2.828427</td>\n",
       "      <td>3.162278</td>\n",
       "      <td>3.316625</td>\n",
       "      <td>2.449490</td>\n",
       "      <td>3.464102</td>\n",
       "      <td>3.316625</td>\n",
       "      <td>3.605551</td>\n",
       "      <td>...</td>\n",
       "      <td>2.645751</td>\n",
       "      <td>2.828427</td>\n",
       "      <td>2.236068</td>\n",
       "      <td>2.449490</td>\n",
       "      <td>4.242640</td>\n",
       "      <td>1.732051</td>\n",
       "      <td>2.000000</td>\n",
       "      <td>2.828427</td>\n",
       "      <td>4.358899</td>\n",
       "      <td>3.605551</td>\n",
       "    </tr>\n",
       "    <tr>\n",
       "      <th>1</th>\n",
       "      <td>3.162278</td>\n",
       "      <td>5.656854</td>\n",
       "      <td>6.244998</td>\n",
       "      <td>4.358899</td>\n",
       "      <td>3.872983</td>\n",
       "      <td>4.242640</td>\n",
       "      <td>3.000000</td>\n",
       "      <td>3.464102</td>\n",
       "      <td>4.123106</td>\n",
       "      <td>4.795832</td>\n",
       "      <td>...</td>\n",
       "      <td>2.828427</td>\n",
       "      <td>2.828427</td>\n",
       "      <td>2.449490</td>\n",
       "      <td>2.449490</td>\n",
       "      <td>4.242640</td>\n",
       "      <td>2.000000</td>\n",
       "      <td>2.236068</td>\n",
       "      <td>2.828427</td>\n",
       "      <td>4.472136</td>\n",
       "      <td>3.741657</td>\n",
       "    </tr>\n",
       "    <tr>\n",
       "      <th>2</th>\n",
       "      <td>3.162278</td>\n",
       "      <td>5.830952</td>\n",
       "      <td>6.244998</td>\n",
       "      <td>4.472136</td>\n",
       "      <td>3.872983</td>\n",
       "      <td>4.358899</td>\n",
       "      <td>3.872983</td>\n",
       "      <td>4.000000</td>\n",
       "      <td>5.567764</td>\n",
       "      <td>5.000000</td>\n",
       "      <td>...</td>\n",
       "      <td>2.828427</td>\n",
       "      <td>3.000000</td>\n",
       "      <td>2.449490</td>\n",
       "      <td>2.645751</td>\n",
       "      <td>4.582576</td>\n",
       "      <td>2.000000</td>\n",
       "      <td>2.449490</td>\n",
       "      <td>3.000000</td>\n",
       "      <td>4.472136</td>\n",
       "      <td>3.872983</td>\n",
       "    </tr>\n",
       "    <tr>\n",
       "      <th>3</th>\n",
       "      <td>3.605551</td>\n",
       "      <td>5.830952</td>\n",
       "      <td>6.244998</td>\n",
       "      <td>4.690416</td>\n",
       "      <td>4.582576</td>\n",
       "      <td>5.830952</td>\n",
       "      <td>4.123106</td>\n",
       "      <td>5.744563</td>\n",
       "      <td>5.916080</td>\n",
       "      <td>5.099020</td>\n",
       "      <td>...</td>\n",
       "      <td>3.162278</td>\n",
       "      <td>3.000000</td>\n",
       "      <td>3.000000</td>\n",
       "      <td>3.316625</td>\n",
       "      <td>4.690416</td>\n",
       "      <td>2.236068</td>\n",
       "      <td>2.645751</td>\n",
       "      <td>3.000000</td>\n",
       "      <td>4.582576</td>\n",
       "      <td>4.000000</td>\n",
       "    </tr>\n",
       "    <tr>\n",
       "      <th>4</th>\n",
       "      <td>3.741657</td>\n",
       "      <td>5.830952</td>\n",
       "      <td>6.324555</td>\n",
       "      <td>6.082763</td>\n",
       "      <td>6.164414</td>\n",
       "      <td>5.830952</td>\n",
       "      <td>4.242640</td>\n",
       "      <td>6.244998</td>\n",
       "      <td>6.082763</td>\n",
       "      <td>5.830952</td>\n",
       "      <td>...</td>\n",
       "      <td>3.316625</td>\n",
       "      <td>3.162278</td>\n",
       "      <td>3.464102</td>\n",
       "      <td>3.316625</td>\n",
       "      <td>4.690416</td>\n",
       "      <td>2.236068</td>\n",
       "      <td>2.645751</td>\n",
       "      <td>3.162278</td>\n",
       "      <td>4.690416</td>\n",
       "      <td>4.000000</td>\n",
       "    </tr>\n",
       "    <tr>\n",
       "      <th>...</th>\n",
       "      <td>...</td>\n",
       "      <td>...</td>\n",
       "      <td>...</td>\n",
       "      <td>...</td>\n",
       "      <td>...</td>\n",
       "      <td>...</td>\n",
       "      <td>...</td>\n",
       "      <td>...</td>\n",
       "      <td>...</td>\n",
       "      <td>...</td>\n",
       "      <td>...</td>\n",
       "      <td>...</td>\n",
       "      <td>...</td>\n",
       "      <td>...</td>\n",
       "      <td>...</td>\n",
       "      <td>...</td>\n",
       "      <td>...</td>\n",
       "      <td>...</td>\n",
       "      <td>...</td>\n",
       "      <td>...</td>\n",
       "      <td>...</td>\n",
       "    </tr>\n",
       "    <tr>\n",
       "      <th>1395</th>\n",
       "      <td>11.916375</td>\n",
       "      <td>13.341664</td>\n",
       "      <td>12.206555</td>\n",
       "      <td>13.638182</td>\n",
       "      <td>12.845233</td>\n",
       "      <td>12.449900</td>\n",
       "      <td>13.304134</td>\n",
       "      <td>12.529964</td>\n",
       "      <td>12.288206</td>\n",
       "      <td>12.767145</td>\n",
       "      <td>...</td>\n",
       "      <td>13.152946</td>\n",
       "      <td>12.884099</td>\n",
       "      <td>12.922848</td>\n",
       "      <td>12.083046</td>\n",
       "      <td>12.328828</td>\n",
       "      <td>11.789826</td>\n",
       "      <td>12.083046</td>\n",
       "      <td>12.165525</td>\n",
       "      <td>12.124355</td>\n",
       "      <td>12.288206</td>\n",
       "    </tr>\n",
       "    <tr>\n",
       "      <th>1396</th>\n",
       "      <td>11.916375</td>\n",
       "      <td>13.379088</td>\n",
       "      <td>12.247449</td>\n",
       "      <td>13.674794</td>\n",
       "      <td>12.884099</td>\n",
       "      <td>12.569805</td>\n",
       "      <td>13.341664</td>\n",
       "      <td>12.569805</td>\n",
       "      <td>12.369317</td>\n",
       "      <td>12.806249</td>\n",
       "      <td>...</td>\n",
       "      <td>13.190906</td>\n",
       "      <td>12.922848</td>\n",
       "      <td>12.961481</td>\n",
       "      <td>12.165525</td>\n",
       "      <td>12.569805</td>\n",
       "      <td>11.832160</td>\n",
       "      <td>12.124355</td>\n",
       "      <td>12.206555</td>\n",
       "      <td>12.165525</td>\n",
       "      <td>12.288206</td>\n",
       "    </tr>\n",
       "    <tr>\n",
       "      <th>1397</th>\n",
       "      <td>12.206555</td>\n",
       "      <td>13.453624</td>\n",
       "      <td>12.328828</td>\n",
       "      <td>13.747727</td>\n",
       "      <td>12.961481</td>\n",
       "      <td>12.649111</td>\n",
       "      <td>13.416408</td>\n",
       "      <td>12.569805</td>\n",
       "      <td>12.449900</td>\n",
       "      <td>12.845233</td>\n",
       "      <td>...</td>\n",
       "      <td>13.266500</td>\n",
       "      <td>13.000000</td>\n",
       "      <td>13.038404</td>\n",
       "      <td>12.165525</td>\n",
       "      <td>12.649111</td>\n",
       "      <td>11.874342</td>\n",
       "      <td>12.124355</td>\n",
       "      <td>12.247449</td>\n",
       "      <td>12.206555</td>\n",
       "      <td>12.369317</td>\n",
       "    </tr>\n",
       "    <tr>\n",
       "      <th>1398</th>\n",
       "      <td>12.247449</td>\n",
       "      <td>13.638182</td>\n",
       "      <td>12.529964</td>\n",
       "      <td>13.928389</td>\n",
       "      <td>13.152946</td>\n",
       "      <td>12.806249</td>\n",
       "      <td>13.601471</td>\n",
       "      <td>12.884099</td>\n",
       "      <td>12.569805</td>\n",
       "      <td>13.152946</td>\n",
       "      <td>...</td>\n",
       "      <td>13.304134</td>\n",
       "      <td>13.114877</td>\n",
       "      <td>13.076696</td>\n",
       "      <td>12.206555</td>\n",
       "      <td>12.688578</td>\n",
       "      <td>12.000000</td>\n",
       "      <td>12.328828</td>\n",
       "      <td>12.369317</td>\n",
       "      <td>12.247449</td>\n",
       "      <td>12.409674</td>\n",
       "    </tr>\n",
       "    <tr>\n",
       "      <th>1399</th>\n",
       "      <td>12.449900</td>\n",
       "      <td>13.674794</td>\n",
       "      <td>12.569805</td>\n",
       "      <td>13.964240</td>\n",
       "      <td>13.190906</td>\n",
       "      <td>13.453624</td>\n",
       "      <td>13.638182</td>\n",
       "      <td>13.304134</td>\n",
       "      <td>12.767145</td>\n",
       "      <td>13.638182</td>\n",
       "      <td>...</td>\n",
       "      <td>13.341664</td>\n",
       "      <td>13.152946</td>\n",
       "      <td>13.114877</td>\n",
       "      <td>12.449900</td>\n",
       "      <td>12.922848</td>\n",
       "      <td>12.124355</td>\n",
       "      <td>12.369317</td>\n",
       "      <td>12.489996</td>\n",
       "      <td>12.449900</td>\n",
       "      <td>12.649111</td>\n",
       "    </tr>\n",
       "  </tbody>\n",
       "</table>\n",
       "<p>1400 rows × 351 columns</p>\n",
       "</div>"
      ],
      "text/plain": [
       "            0          1          2          3          4          5    \\\n",
       "0      1.000000   4.898980   5.744563   2.828427   3.162278   3.316625   \n",
       "1      3.162278   5.656854   6.244998   4.358899   3.872983   4.242640   \n",
       "2      3.162278   5.830952   6.244998   4.472136   3.872983   4.358899   \n",
       "3      3.605551   5.830952   6.244998   4.690416   4.582576   5.830952   \n",
       "4      3.741657   5.830952   6.324555   6.082763   6.164414   5.830952   \n",
       "...         ...        ...        ...        ...        ...        ...   \n",
       "1395  11.916375  13.341664  12.206555  13.638182  12.845233  12.449900   \n",
       "1396  11.916375  13.379088  12.247449  13.674794  12.884099  12.569805   \n",
       "1397  12.206555  13.453624  12.328828  13.747727  12.961481  12.649111   \n",
       "1398  12.247449  13.638182  12.529964  13.928389  13.152946  12.806249   \n",
       "1399  12.449900  13.674794  12.569805  13.964240  13.190906  13.453624   \n",
       "\n",
       "            6          7          8          9    ...        341        342  \\\n",
       "0      2.449490   3.464102   3.316625   3.605551  ...   2.645751   2.828427   \n",
       "1      3.000000   3.464102   4.123106   4.795832  ...   2.828427   2.828427   \n",
       "2      3.872983   4.000000   5.567764   5.000000  ...   2.828427   3.000000   \n",
       "3      4.123106   5.744563   5.916080   5.099020  ...   3.162278   3.000000   \n",
       "4      4.242640   6.244998   6.082763   5.830952  ...   3.316625   3.162278   \n",
       "...         ...        ...        ...        ...  ...        ...        ...   \n",
       "1395  13.304134  12.529964  12.288206  12.767145  ...  13.152946  12.884099   \n",
       "1396  13.341664  12.569805  12.369317  12.806249  ...  13.190906  12.922848   \n",
       "1397  13.416408  12.569805  12.449900  12.845233  ...  13.266500  13.000000   \n",
       "1398  13.601471  12.884099  12.569805  13.152946  ...  13.304134  13.114877   \n",
       "1399  13.638182  13.304134  12.767145  13.638182  ...  13.341664  13.152946   \n",
       "\n",
       "            343        344        345        346        347        348  \\\n",
       "0      2.236068   2.449490   4.242640   1.732051   2.000000   2.828427   \n",
       "1      2.449490   2.449490   4.242640   2.000000   2.236068   2.828427   \n",
       "2      2.449490   2.645751   4.582576   2.000000   2.449490   3.000000   \n",
       "3      3.000000   3.316625   4.690416   2.236068   2.645751   3.000000   \n",
       "4      3.464102   3.316625   4.690416   2.236068   2.645751   3.162278   \n",
       "...         ...        ...        ...        ...        ...        ...   \n",
       "1395  12.922848  12.083046  12.328828  11.789826  12.083046  12.165525   \n",
       "1396  12.961481  12.165525  12.569805  11.832160  12.124355  12.206555   \n",
       "1397  13.038404  12.165525  12.649111  11.874342  12.124355  12.247449   \n",
       "1398  13.076696  12.206555  12.688578  12.000000  12.328828  12.369317   \n",
       "1399  13.114877  12.449900  12.922848  12.124355  12.369317  12.489996   \n",
       "\n",
       "            349        350  \n",
       "0      4.358899   3.605551  \n",
       "1      4.472136   3.741657  \n",
       "2      4.472136   3.872983  \n",
       "3      4.582576   4.000000  \n",
       "4      4.690416   4.000000  \n",
       "...         ...        ...  \n",
       "1395  12.124355  12.288206  \n",
       "1396  12.165525  12.288206  \n",
       "1397  12.206555  12.369317  \n",
       "1398  12.247449  12.409674  \n",
       "1399  12.449900  12.649111  \n",
       "\n",
       "[1400 rows x 351 columns]"
      ]
     },
     "execution_count": 185,
     "metadata": {},
     "output_type": "execute_result"
    }
   ],
   "source": [
    "x_ts_AD=pd.DataFrame(neighbors_k_ts)\n",
    "x_ts_AD"
   ]
  },
  {
   "cell_type": "code",
   "execution_count": 186,
   "metadata": {},
   "outputs": [
    {
     "name": "stdout",
     "output_type": "stream",
     "text": [
      "[1.    4.899 5.745 2.828 3.162 3.317 2.449 3.464 3.317 3.606 5.196 2.646\n",
      " 1.732 3.873 3.742 1.732 2.236 3.464 4.899 2.    2.236 3.    6.557 2.449\n",
      " 2.    2.449 4.243 2.646 2.236 2.    5.831 1.    3.464 2.449 2.    4.\n",
      " 2.236 2.236 2.236 2.646 1.732 7.483 3.317 2.    2.236 2.236 4.472 3.742\n",
      " 2.449 2.449 2.646 4.243 2.828 2.    2.236 6.245 4.243 1.732 2.    2.449\n",
      " 0.    4.123 2.449 6.083 3.    2.236 4.796 2.    3.    4.899 4.69  2.828\n",
      " 1.    2.449 2.646 1.732 2.449 3.162 3.873 4.243 1.414 2.    3.    2.449\n",
      " 3.317 2.449 1.    3.    1.    7.28  3.    6.325 2.236 3.162 2.    3.742\n",
      " 2.449 3.464 1.    3.162 7.    2.    2.    1.414 4.    3.    4.359 1.732\n",
      " 3.873 1.414 1.732 3.606 2.646 2.828 2.449 2.449 2.646 2.449 3.162 1.732\n",
      " 3.162 4.583 4.    3.606 3.162 3.464 2.828 2.    2.646 4.243 2.828 4.583\n",
      " 1.    3.    2.    2.646 2.646 2.646 4.243 3.    5.745 2.646 2.828 3.606\n",
      " 3.317 2.828 2.    2.449 1.    5.657 3.317 2.646 2.236 2.646 2.646 4.\n",
      " 3.317 3.464 2.646 2.828 3.742 1.414 2.236 3.162 1.732 2.    2.    2.\n",
      " 2.236 3.    2.646 1.732 3.    1.414 3.    3.606 4.123 3.    3.162 3.464\n",
      " 3.317 4.243 6.325 2.    2.    2.    2.828 1.    2.236 3.162 3.317 2.646\n",
      " 1.    2.236 2.828 1.732 3.606 3.162 3.    2.828 5.099 2.449 1.    1.\n",
      " 2.    3.162 3.317 3.317 3.    3.464 2.449 1.732 3.    1.732 2.449 2.828\n",
      " 3.317 2.449 2.236 3.464 2.    1.    1.414 0.    3.162 3.    4.243 1.732\n",
      " 1.    5.196 2.449 4.899 2.449 2.    2.828 2.828 3.873 0.    1.732 3.742\n",
      " 2.449 4.796 2.236 5.    2.646 4.243 0.    2.449 1.732 3.464 3.162 3.\n",
      " 2.    3.606 1.    2.646 2.236 1.414 2.    1.    3.464 2.236 8.185 1.414\n",
      " 1.732 2.449 0.    3.162 2.449 1.732 1.    3.317 3.317 6.164 2.236 1.732\n",
      " 4.69  2.449 2.828 4.359 2.449 2.236 3.162 2.828 2.236 4.    2.    1.414\n",
      " 4.583 0.    3.873 2.646 2.    4.583 4.    1.732 2.449 1.    2.    1.414\n",
      " 3.606 2.646 5.831 0.    2.449 4.123 2.236 1.732 2.828 3.742 3.317 2.828\n",
      " 0.    3.162 3.464 2.828 2.449 2.    5.099 4.    2.236 0.    6.325 2.\n",
      " 3.606 2.236 1.414 2.828 1.732 3.317 2.236 0.    1.414 2.    3.    2.828\n",
      " 2.828 2.449 2.449 1.    2.828 2.646 2.828 2.236 2.449 4.243 1.732 2.\n",
      " 2.828 4.359 3.606]\n"
     ]
    }
   ],
   "source": [
    "similarity_ts= neighbors_k_ts\n",
    "cpd_AD=similarity_ts[0,:]\n",
    "cpd_value = np.round(cpd_AD, 3)\n",
    "print(cpd_value)"
   ]
  },
  {
   "cell_type": "code",
   "execution_count": 187,
   "metadata": {},
   "outputs": [
    {
     "name": "stdout",
     "output_type": "stream",
     "text": [
      "[ True False False  True  True  True  True  True  True False False  True\n",
      "  True False False  True  True  True False  True  True  True False  True\n",
      "  True  True False  True  True  True False  True  True  True  True False\n",
      "  True  True  True  True  True False  True  True  True  True False False\n",
      "  True  True  True False  True  True  True False False  True  True  True\n",
      "  True False  True False  True  True False  True  True False False  True\n",
      "  True  True  True  True  True  True False False  True  True  True  True\n",
      "  True  True  True  True  True False  True False  True  True  True False\n",
      "  True  True  True  True False  True  True  True False  True False  True\n",
      " False  True  True False  True  True  True  True  True  True  True  True\n",
      "  True False False False  True  True  True  True  True False  True False\n",
      "  True  True  True  True  True  True False  True False  True  True False\n",
      "  True  True  True  True  True False  True  True  True  True  True False\n",
      "  True  True  True  True False  True  True  True  True  True  True  True\n",
      "  True  True  True  True  True  True  True False False  True  True  True\n",
      "  True False False  True  True  True  True  True  True  True  True  True\n",
      "  True  True  True  True False  True  True  True False  True  True  True\n",
      "  True  True  True  True  True  True  True  True  True  True  True  True\n",
      "  True  True  True  True  True  True  True  True  True  True False  True\n",
      "  True False  True False  True  True  True  True False  True  True False\n",
      "  True False  True False  True False  True  True  True  True  True  True\n",
      "  True False  True  True  True  True  True  True  True  True False  True\n",
      "  True  True  True  True  True  True  True  True  True False  True  True\n",
      " False  True  True False  True  True  True  True  True False  True  True\n",
      " False  True False  True  True False False  True  True  True  True  True\n",
      " False  True False  True  True False  True  True  True False  True  True\n",
      "  True  True  True  True  True  True False False  True  True False  True\n",
      " False  True  True  True  True  True  True  True  True  True  True  True\n",
      "  True  True  True  True  True  True  True  True  True False  True  True\n",
      "  True False False]\n"
     ]
    }
   ],
   "source": [
    "cpd_AD = np.where(cpd_value <= model_AD_limit, True, False)\n",
    "print(cpd_AD)"
   ]
  },
  {
   "cell_type": "code",
   "execution_count": 188,
   "metadata": {},
   "outputs": [
    {
     "name": "stdout",
     "output_type": "stream",
     "text": [
      "Coverage =  0.78\n"
     ]
    }
   ],
   "source": [
    "print(\"Coverage = \", round(sum(cpd_AD) / len(cpd_AD), 2))"
   ]
  },
  {
   "cell_type": "code",
   "execution_count": 189,
   "metadata": {},
   "outputs": [
    {
     "name": "stdout",
     "output_type": "stream",
     "text": [
      "Indices of substances included in AD =  [  0   3   4   5   6   7   8  11  12  15  16  17  19  20  21  23  24  25\n",
      "  27  28  29  31  32  33  34  36  37  38  39  40  42  43  44  45  48  49\n",
      "  50  52  53  54  57  58  59  60  62  64  65  67  68  71  72  73  74  75\n",
      "  76  77  80  81  82  83  84  85  86  87  88  90  92  93  94  96  97  98\n",
      "  99 101 102 103 105 107 109 110 112 113 114 115 116 117 118 119 120 124\n",
      " 125 126 127 128 130 132 133 134 135 136 137 139 141 142 144 145 146 147\n",
      " 148 150 151 152 153 154 156 157 158 159 161 162 163 164 165 166 167 168\n",
      " 169 170 171 172 173 174 177 178 179 180 183 184 185 186 187 188 189 190\n",
      " 191 192 193 194 195 197 198 199 201 202 203 204 205 206 207 208 209 210\n",
      " 211 212 213 214 215 216 217 218 219 220 221 222 223 224 225 227 228 230\n",
      " 232 233 234 235 237 238 240 242 244 246 247 248 249 250 251 252 254 255\n",
      " 256 257 258 259 260 261 263 264 265 266 267 268 269 270 271 272 274 275\n",
      " 277 278 280 281 282 283 284 286 287 289 291 292 295 296 297 298 299 301\n",
      " 303 304 306 307 308 310 311 312 313 314 315 316 317 320 321 323 325 326\n",
      " 327 328 329 330 331 332 333 334 335 336 337 338 339 340 341 342 343 344\n",
      " 346 347 348]\n"
     ]
    }
   ],
   "source": [
    "print(\"Indices of substances included in AD = \", np.where(cpd_AD != 0)[0])"
   ]
  },
  {
   "cell_type": "code",
   "execution_count": 190,
   "metadata": {},
   "outputs": [],
   "source": [
    "out_Ad=list(np.where(cpd_AD == 0)[0])"
   ]
  },
  {
   "cell_type": "markdown",
   "metadata": {},
   "source": [
    "#  Prediction only for molecules included in  AD"
   ]
  },
  {
   "cell_type": "code",
   "execution_count": 191,
   "metadata": {},
   "outputs": [],
   "source": [
    "y_pred_GBR_ad=list(y_pred_GBR)"
   ]
  },
  {
   "cell_type": "code",
   "execution_count": 192,
   "metadata": {},
   "outputs": [],
   "source": [
    "y_pred_GBR_ad[:] = [x for i,x in enumerate(y_pred_GBR_ad) if i not in out_Ad]"
   ]
  },
  {
   "cell_type": "code",
   "execution_count": 193,
   "metadata": {},
   "outputs": [
    {
     "data": {
      "text/plain": [
       "273"
      ]
     },
     "execution_count": 193,
     "metadata": {},
     "output_type": "execute_result"
    }
   ],
   "source": [
    "len(y_pred_GBR_ad)"
   ]
  },
  {
   "cell_type": "code",
   "execution_count": 194,
   "metadata": {},
   "outputs": [],
   "source": [
    "y_ts_ad=list(y_ts)"
   ]
  },
  {
   "cell_type": "code",
   "execution_count": 195,
   "metadata": {},
   "outputs": [],
   "source": [
    "y_ts_ad[:] = [x for i,x in enumerate(y_ts_ad) if i not in out_Ad]"
   ]
  },
  {
   "cell_type": "code",
   "execution_count": 196,
   "metadata": {},
   "outputs": [
    {
     "data": {
      "text/plain": [
       "273"
      ]
     },
     "execution_count": 196,
     "metadata": {},
     "output_type": "execute_result"
    }
   ],
   "source": [
    "len(y_ts_ad)"
   ]
  },
  {
   "cell_type": "code",
   "execution_count": 197,
   "metadata": {},
   "outputs": [
    {
     "data": {
      "text/plain": [
       "0.75"
      ]
     },
     "execution_count": 197,
     "metadata": {},
     "output_type": "execute_result"
    }
   ],
   "source": [
    "Q2_TS = round(r2_score(y_ts_ad, y_pred_GBR_ad), 2)\n",
    "Q2_TS"
   ]
  },
  {
   "cell_type": "code",
   "execution_count": 198,
   "metadata": {},
   "outputs": [
    {
     "data": {
      "text/plain": [
       "0.67"
      ]
     },
     "execution_count": 198,
     "metadata": {},
     "output_type": "execute_result"
    }
   ],
   "source": [
    "RMSE_TS=round(np.sqrt(mean_absolute_error(y_ts_ad, y_pred_GBR_ad)), 2)\n",
    "RMSE_TS"
   ]
  },
  {
   "cell_type": "markdown",
   "metadata": {},
   "source": [
    "# SVM model building and validation"
   ]
  },
  {
   "cell_type": "code",
   "execution_count": 169,
   "metadata": {},
   "outputs": [],
   "source": [
    "param_grid = {\"C\": [10 ** i for i in range(0, 5)],\n",
    "              \"gamma\": [10 ** i for i in range(-6, 0)]}"
   ]
  },
  {
   "cell_type": "code",
   "execution_count": 170,
   "metadata": {},
   "outputs": [],
   "source": [
    "seed = 42\n",
    "cv=KFold(n_splits=5, random_state=seed, shuffle=True)"
   ]
  },
  {
   "cell_type": "code",
   "execution_count": 171,
   "metadata": {},
   "outputs": [],
   "source": [
    "svm = GridSearchCV(SVR(C=1.0, epsilon=0.2), param_grid, n_jobs=-1, cv=cv, verbose=1)"
   ]
  },
  {
   "cell_type": "code",
   "execution_count": 172,
   "metadata": {},
   "outputs": [
    {
     "name": "stdout",
     "output_type": "stream",
     "text": [
      "Fitting 5 folds for each of 30 candidates, totalling 150 fits\n"
     ]
    },
    {
     "data": {
      "text/html": [
       "<style>#sk-container-id-3 {color: black;}#sk-container-id-3 pre{padding: 0;}#sk-container-id-3 div.sk-toggleable {background-color: white;}#sk-container-id-3 label.sk-toggleable__label {cursor: pointer;display: block;width: 100%;margin-bottom: 0;padding: 0.3em;box-sizing: border-box;text-align: center;}#sk-container-id-3 label.sk-toggleable__label-arrow:before {content: \"▸\";float: left;margin-right: 0.25em;color: #696969;}#sk-container-id-3 label.sk-toggleable__label-arrow:hover:before {color: black;}#sk-container-id-3 div.sk-estimator:hover label.sk-toggleable__label-arrow:before {color: black;}#sk-container-id-3 div.sk-toggleable__content {max-height: 0;max-width: 0;overflow: hidden;text-align: left;background-color: #f0f8ff;}#sk-container-id-3 div.sk-toggleable__content pre {margin: 0.2em;color: black;border-radius: 0.25em;background-color: #f0f8ff;}#sk-container-id-3 input.sk-toggleable__control:checked~div.sk-toggleable__content {max-height: 200px;max-width: 100%;overflow: auto;}#sk-container-id-3 input.sk-toggleable__control:checked~label.sk-toggleable__label-arrow:before {content: \"▾\";}#sk-container-id-3 div.sk-estimator input.sk-toggleable__control:checked~label.sk-toggleable__label {background-color: #d4ebff;}#sk-container-id-3 div.sk-label input.sk-toggleable__control:checked~label.sk-toggleable__label {background-color: #d4ebff;}#sk-container-id-3 input.sk-hidden--visually {border: 0;clip: rect(1px 1px 1px 1px);clip: rect(1px, 1px, 1px, 1px);height: 1px;margin: -1px;overflow: hidden;padding: 0;position: absolute;width: 1px;}#sk-container-id-3 div.sk-estimator {font-family: monospace;background-color: #f0f8ff;border: 1px dotted black;border-radius: 0.25em;box-sizing: border-box;margin-bottom: 0.5em;}#sk-container-id-3 div.sk-estimator:hover {background-color: #d4ebff;}#sk-container-id-3 div.sk-parallel-item::after {content: \"\";width: 100%;border-bottom: 1px solid gray;flex-grow: 1;}#sk-container-id-3 div.sk-label:hover label.sk-toggleable__label {background-color: #d4ebff;}#sk-container-id-3 div.sk-serial::before {content: \"\";position: absolute;border-left: 1px solid gray;box-sizing: border-box;top: 0;bottom: 0;left: 50%;z-index: 0;}#sk-container-id-3 div.sk-serial {display: flex;flex-direction: column;align-items: center;background-color: white;padding-right: 0.2em;padding-left: 0.2em;position: relative;}#sk-container-id-3 div.sk-item {position: relative;z-index: 1;}#sk-container-id-3 div.sk-parallel {display: flex;align-items: stretch;justify-content: center;background-color: white;position: relative;}#sk-container-id-3 div.sk-item::before, #sk-container-id-3 div.sk-parallel-item::before {content: \"\";position: absolute;border-left: 1px solid gray;box-sizing: border-box;top: 0;bottom: 0;left: 50%;z-index: -1;}#sk-container-id-3 div.sk-parallel-item {display: flex;flex-direction: column;z-index: 1;position: relative;background-color: white;}#sk-container-id-3 div.sk-parallel-item:first-child::after {align-self: flex-end;width: 50%;}#sk-container-id-3 div.sk-parallel-item:last-child::after {align-self: flex-start;width: 50%;}#sk-container-id-3 div.sk-parallel-item:only-child::after {width: 0;}#sk-container-id-3 div.sk-dashed-wrapped {border: 1px dashed gray;margin: 0 0.4em 0.5em 0.4em;box-sizing: border-box;padding-bottom: 0.4em;background-color: white;}#sk-container-id-3 div.sk-label label {font-family: monospace;font-weight: bold;display: inline-block;line-height: 1.2em;}#sk-container-id-3 div.sk-label-container {text-align: center;}#sk-container-id-3 div.sk-container {/* jupyter's `normalize.less` sets `[hidden] { display: none; }` but bootstrap.min.css set `[hidden] { display: none !important; }` so we also need the `!important` here to be able to override the default hidden behavior on the sphinx rendered scikit-learn.org. See: https://github.com/scikit-learn/scikit-learn/issues/21755 */display: inline-block !important;position: relative;}#sk-container-id-3 div.sk-text-repr-fallback {display: none;}</style><div id=\"sk-container-id-3\" class=\"sk-top-container\"><div class=\"sk-text-repr-fallback\"><pre>GridSearchCV(cv=KFold(n_splits=5, random_state=42, shuffle=True),\n",
       "             estimator=SVR(epsilon=0.2), n_jobs=-1,\n",
       "             param_grid={&#x27;C&#x27;: [1, 10, 100, 1000, 10000],\n",
       "                         &#x27;gamma&#x27;: [1e-06, 1e-05, 0.0001, 0.001, 0.01, 0.1]},\n",
       "             verbose=1)</pre><b>In a Jupyter environment, please rerun this cell to show the HTML representation or trust the notebook. <br />On GitHub, the HTML representation is unable to render, please try loading this page with nbviewer.org.</b></div><div class=\"sk-container\" hidden><div class=\"sk-item sk-dashed-wrapped\"><div class=\"sk-label-container\"><div class=\"sk-label sk-toggleable\"><input class=\"sk-toggleable__control sk-hidden--visually\" id=\"sk-estimator-id-7\" type=\"checkbox\" ><label for=\"sk-estimator-id-7\" class=\"sk-toggleable__label sk-toggleable__label-arrow\">GridSearchCV</label><div class=\"sk-toggleable__content\"><pre>GridSearchCV(cv=KFold(n_splits=5, random_state=42, shuffle=True),\n",
       "             estimator=SVR(epsilon=0.2), n_jobs=-1,\n",
       "             param_grid={&#x27;C&#x27;: [1, 10, 100, 1000, 10000],\n",
       "                         &#x27;gamma&#x27;: [1e-06, 1e-05, 0.0001, 0.001, 0.01, 0.1]},\n",
       "             verbose=1)</pre></div></div></div><div class=\"sk-parallel\"><div class=\"sk-parallel-item\"><div class=\"sk-item\"><div class=\"sk-label-container\"><div class=\"sk-label sk-toggleable\"><input class=\"sk-toggleable__control sk-hidden--visually\" id=\"sk-estimator-id-8\" type=\"checkbox\" ><label for=\"sk-estimator-id-8\" class=\"sk-toggleable__label sk-toggleable__label-arrow\">estimator: SVR</label><div class=\"sk-toggleable__content\"><pre>SVR(epsilon=0.2)</pre></div></div></div><div class=\"sk-serial\"><div class=\"sk-item\"><div class=\"sk-estimator sk-toggleable\"><input class=\"sk-toggleable__control sk-hidden--visually\" id=\"sk-estimator-id-9\" type=\"checkbox\" ><label for=\"sk-estimator-id-9\" class=\"sk-toggleable__label sk-toggleable__label-arrow\">SVR</label><div class=\"sk-toggleable__content\"><pre>SVR(epsilon=0.2)</pre></div></div></div></div></div></div></div></div></div></div>"
      ],
      "text/plain": [
       "GridSearchCV(cv=KFold(n_splits=5, random_state=42, shuffle=True),\n",
       "             estimator=SVR(epsilon=0.2), n_jobs=-1,\n",
       "             param_grid={'C': [1, 10, 100, 1000, 10000],\n",
       "                         'gamma': [1e-06, 1e-05, 0.0001, 0.001, 0.01, 0.1]},\n",
       "             verbose=1)"
      ]
     },
     "execution_count": 172,
     "metadata": {},
     "output_type": "execute_result"
    }
   ],
   "source": [
    "svm.fit(x_tr, y_tr)"
   ]
  },
  {
   "cell_type": "code",
   "execution_count": 199,
   "metadata": {},
   "outputs": [],
   "source": [
    "svm.best_params_\n",
    "best_svm = svm.best_estimator_"
   ]
  },
  {
   "cell_type": "code",
   "execution_count": 200,
   "metadata": {},
   "outputs": [
    {
     "data": {
      "text/plain": [
       "{'C': 10, 'gamma': 0.01}"
      ]
     },
     "execution_count": 200,
     "metadata": {},
     "output_type": "execute_result"
    }
   ],
   "source": [
    "svm.best_params_"
   ]
  },
  {
   "cell_type": "code",
   "execution_count": 201,
   "metadata": {},
   "outputs": [],
   "source": [
    "y_pred_ws_svm = best_svm.predict(x_tr)"
   ]
  },
  {
   "cell_type": "code",
   "execution_count": 202,
   "metadata": {},
   "outputs": [
    {
     "data": {
      "text/plain": [
       "0.93"
      ]
     },
     "execution_count": 202,
     "metadata": {},
     "output_type": "execute_result"
    }
   ],
   "source": [
    "R2_WS = round(r2_score(y_tr, y_pred_ws_svm), 2)\n",
    "R2_WS"
   ]
  },
  {
   "cell_type": "code",
   "execution_count": 203,
   "metadata": {},
   "outputs": [
    {
     "data": {
      "text/plain": [
       "0.48"
      ]
     },
     "execution_count": 203,
     "metadata": {},
     "output_type": "execute_result"
    }
   ],
   "source": [
    "RMSE_WS=round(np.sqrt(mean_absolute_error(y_tr, y_pred_ws_svm)), 2)\n",
    "RMSE_WS"
   ]
  },
  {
   "cell_type": "code",
   "execution_count": 204,
   "metadata": {},
   "outputs": [],
   "source": [
    "y_pred_CV_svm = cross_val_predict(best_svm, x_tr, y_tr, cv=cv)"
   ]
  },
  {
   "cell_type": "code",
   "execution_count": 205,
   "metadata": {},
   "outputs": [
    {
     "data": {
      "text/plain": [
       "0.66"
      ]
     },
     "execution_count": 205,
     "metadata": {},
     "output_type": "execute_result"
    }
   ],
   "source": [
    "Q2_CV = round(r2_score(y_tr, y_pred_CV_svm), 2)\n",
    "Q2_CV"
   ]
  },
  {
   "cell_type": "code",
   "execution_count": 206,
   "metadata": {},
   "outputs": [
    {
     "data": {
      "text/plain": [
       "0.72"
      ]
     },
     "execution_count": 206,
     "metadata": {},
     "output_type": "execute_result"
    }
   ],
   "source": [
    "RMSE_CV=round(np.sqrt(mean_absolute_error(y_tr, y_pred_CV_svm)), 2)\n",
    "RMSE_CV"
   ]
  },
  {
   "cell_type": "markdown",
   "metadata": {},
   "source": [
    "#  Prediction for test set's molecules"
   ]
  },
  {
   "cell_type": "code",
   "execution_count": 207,
   "metadata": {},
   "outputs": [],
   "source": [
    "x_ts = np.array(x_ts, dtype=np.float32)\n",
    "y_ts = np.array(y_ts, dtype=np.float32)"
   ]
  },
  {
   "cell_type": "code",
   "execution_count": 208,
   "metadata": {},
   "outputs": [],
   "source": [
    "y_pred_svm = best_svm.predict(x_ts)"
   ]
  },
  {
   "cell_type": "code",
   "execution_count": 209,
   "metadata": {},
   "outputs": [
    {
     "data": {
      "text/plain": [
       "0.7"
      ]
     },
     "execution_count": 209,
     "metadata": {},
     "output_type": "execute_result"
    }
   ],
   "source": [
    "Q2_TS = round(r2_score(y_ts, y_pred_svm), 2)\n",
    "Q2_TS"
   ]
  },
  {
   "cell_type": "code",
   "execution_count": 210,
   "metadata": {},
   "outputs": [
    {
     "data": {
      "text/plain": [
       "0.72"
      ]
     },
     "execution_count": 210,
     "metadata": {},
     "output_type": "execute_result"
    }
   ],
   "source": [
    "RMSE_TS=round(np.sqrt(mean_absolute_error(y_ts, y_pred_svm)), 2)\n",
    "RMSE_TS"
   ]
  },
  {
   "cell_type": "markdown",
   "metadata": {},
   "source": [
    "save the model to disk"
   ]
  },
  {
   "cell_type": "code",
   "execution_count": 212,
   "metadata": {},
   "outputs": [],
   "source": [
    "pickle.dump(best_svm, open('Models/Padels/HDAC3_SVM_KlekotaRoth.pkl', 'wb'))"
   ]
  },
  {
   "cell_type": "markdown",
   "metadata": {},
   "source": [
    "load the model from disk"
   ]
  },
  {
   "cell_type": "code",
   "execution_count": 31,
   "metadata": {},
   "outputs": [],
   "source": [
    "best_svm = pickle.load(open('Models/Padels/HDAC3_SVM_KlekotaRoth.pkl', 'rb'))"
   ]
  },
  {
   "cell_type": "markdown",
   "metadata": {},
   "source": [
    "# 10. Y-randomization SVM model"
   ]
  },
  {
   "cell_type": "code",
   "execution_count": 213,
   "metadata": {},
   "outputs": [
    {
     "name": "stderr",
     "output_type": "stream",
     "text": [
      "[Parallel(n_jobs=-1)]: Using backend LokyBackend with 16 concurrent workers.\n",
      "[Parallel(n_jobs=-1)]: Done  18 tasks      | elapsed:  6.3min\n"
     ]
    },
    {
     "name": "stdout",
     "output_type": "stream",
     "text": [
      "True score =  0.659 \n",
      "Y-randomization =  -0.26 \n",
      "p-value =  0.0196\n"
     ]
    },
    {
     "name": "stderr",
     "output_type": "stream",
     "text": [
      "[Parallel(n_jobs=-1)]: Done  50 out of  50 | elapsed: 10.4min finished\n"
     ]
    }
   ],
   "source": [
    "permutations = 50\n",
    "score, permutation_scores, pvalue = permutation_test_score(best_svm, x_tr, y_tr,\n",
    "                                                           cv=cv, scoring='r2',\n",
    "                                                           n_permutations=permutations,\n",
    "                                                           n_jobs=-1,\n",
    "                                                           verbose=1,\n",
    "                                                           random_state=seed)\n",
    "print('True score = ', score.round(3),\n",
    "      '\\nY-randomization = ', np.mean(permutation_scores).round(2),\n",
    "      '\\np-value = ', pvalue.round(4))"
   ]
  },
  {
   "cell_type": "markdown",
   "metadata": {},
   "source": [
    "# 11. Estimating applicability domain. Method - Euclidian distances, K=1"
   ]
  },
  {
   "cell_type": "code",
   "execution_count": 214,
   "metadata": {},
   "outputs": [],
   "source": [
    "neighbors_k= pairwise_distances(x_tr, n_jobs=-1)\n",
    "neighbors_k.sort(0)"
   ]
  },
  {
   "cell_type": "code",
   "execution_count": 215,
   "metadata": {},
   "outputs": [
    {
     "data": {
      "text/html": [
       "<div>\n",
       "<style scoped>\n",
       "    .dataframe tbody tr th:only-of-type {\n",
       "        vertical-align: middle;\n",
       "    }\n",
       "\n",
       "    .dataframe tbody tr th {\n",
       "        vertical-align: top;\n",
       "    }\n",
       "\n",
       "    .dataframe thead th {\n",
       "        text-align: right;\n",
       "    }\n",
       "</style>\n",
       "<table border=\"1\" class=\"dataframe\">\n",
       "  <thead>\n",
       "    <tr style=\"text-align: right;\">\n",
       "      <th></th>\n",
       "      <th>0</th>\n",
       "      <th>1</th>\n",
       "      <th>2</th>\n",
       "      <th>3</th>\n",
       "      <th>4</th>\n",
       "      <th>5</th>\n",
       "      <th>6</th>\n",
       "      <th>7</th>\n",
       "      <th>8</th>\n",
       "      <th>9</th>\n",
       "      <th>...</th>\n",
       "      <th>1390</th>\n",
       "      <th>1391</th>\n",
       "      <th>1392</th>\n",
       "      <th>1393</th>\n",
       "      <th>1394</th>\n",
       "      <th>1395</th>\n",
       "      <th>1396</th>\n",
       "      <th>1397</th>\n",
       "      <th>1398</th>\n",
       "      <th>1399</th>\n",
       "    </tr>\n",
       "  </thead>\n",
       "  <tbody>\n",
       "    <tr>\n",
       "      <th>0</th>\n",
       "      <td>0.000000</td>\n",
       "      <td>0.000000</td>\n",
       "      <td>0.000000</td>\n",
       "      <td>0.000000</td>\n",
       "      <td>0.000000</td>\n",
       "      <td>0.000000</td>\n",
       "      <td>0.000000</td>\n",
       "      <td>0.000000</td>\n",
       "      <td>0.000000</td>\n",
       "      <td>0.000000</td>\n",
       "      <td>...</td>\n",
       "      <td>0.000000</td>\n",
       "      <td>0.000000</td>\n",
       "      <td>0.000000</td>\n",
       "      <td>0.000000</td>\n",
       "      <td>0.000000</td>\n",
       "      <td>0.000000</td>\n",
       "      <td>0.000000</td>\n",
       "      <td>0.000000</td>\n",
       "      <td>0.000000</td>\n",
       "      <td>0.000000</td>\n",
       "    </tr>\n",
       "    <tr>\n",
       "      <th>1</th>\n",
       "      <td>2.236068</td>\n",
       "      <td>3.464102</td>\n",
       "      <td>2.000000</td>\n",
       "      <td>2.449490</td>\n",
       "      <td>2.000000</td>\n",
       "      <td>2.000000</td>\n",
       "      <td>2.236068</td>\n",
       "      <td>6.164414</td>\n",
       "      <td>3.000000</td>\n",
       "      <td>5.099020</td>\n",
       "      <td>...</td>\n",
       "      <td>4.000000</td>\n",
       "      <td>2.645751</td>\n",
       "      <td>2.000000</td>\n",
       "      <td>1.732051</td>\n",
       "      <td>3.000000</td>\n",
       "      <td>2.645751</td>\n",
       "      <td>2.236068</td>\n",
       "      <td>1.414214</td>\n",
       "      <td>3.605551</td>\n",
       "      <td>2.828427</td>\n",
       "    </tr>\n",
       "    <tr>\n",
       "      <th>2</th>\n",
       "      <td>2.645751</td>\n",
       "      <td>3.741657</td>\n",
       "      <td>5.385165</td>\n",
       "      <td>2.449490</td>\n",
       "      <td>5.385165</td>\n",
       "      <td>2.828427</td>\n",
       "      <td>3.316625</td>\n",
       "      <td>6.633250</td>\n",
       "      <td>3.605551</td>\n",
       "      <td>5.196152</td>\n",
       "      <td>...</td>\n",
       "      <td>5.196152</td>\n",
       "      <td>2.828427</td>\n",
       "      <td>2.000000</td>\n",
       "      <td>2.000000</td>\n",
       "      <td>3.316625</td>\n",
       "      <td>2.645751</td>\n",
       "      <td>2.449490</td>\n",
       "      <td>2.236068</td>\n",
       "      <td>3.872983</td>\n",
       "      <td>3.000000</td>\n",
       "    </tr>\n",
       "    <tr>\n",
       "      <th>3</th>\n",
       "      <td>2.645751</td>\n",
       "      <td>3.741657</td>\n",
       "      <td>5.744563</td>\n",
       "      <td>2.828427</td>\n",
       "      <td>6.324555</td>\n",
       "      <td>3.872983</td>\n",
       "      <td>4.000000</td>\n",
       "      <td>6.708204</td>\n",
       "      <td>3.741657</td>\n",
       "      <td>6.164414</td>\n",
       "      <td>...</td>\n",
       "      <td>5.196152</td>\n",
       "      <td>3.000000</td>\n",
       "      <td>2.645751</td>\n",
       "      <td>2.000000</td>\n",
       "      <td>3.316625</td>\n",
       "      <td>3.162278</td>\n",
       "      <td>2.645751</td>\n",
       "      <td>2.236068</td>\n",
       "      <td>4.123106</td>\n",
       "      <td>3.000000</td>\n",
       "    </tr>\n",
       "    <tr>\n",
       "      <th>4</th>\n",
       "      <td>3.000000</td>\n",
       "      <td>4.123106</td>\n",
       "      <td>5.830952</td>\n",
       "      <td>3.162278</td>\n",
       "      <td>6.557438</td>\n",
       "      <td>3.872983</td>\n",
       "      <td>4.123106</td>\n",
       "      <td>6.782330</td>\n",
       "      <td>3.872983</td>\n",
       "      <td>6.244998</td>\n",
       "      <td>...</td>\n",
       "      <td>5.567764</td>\n",
       "      <td>3.316625</td>\n",
       "      <td>2.645751</td>\n",
       "      <td>2.000000</td>\n",
       "      <td>3.316625</td>\n",
       "      <td>3.162278</td>\n",
       "      <td>2.645751</td>\n",
       "      <td>2.236068</td>\n",
       "      <td>4.795832</td>\n",
       "      <td>3.162278</td>\n",
       "    </tr>\n",
       "    <tr>\n",
       "      <th>...</th>\n",
       "      <td>...</td>\n",
       "      <td>...</td>\n",
       "      <td>...</td>\n",
       "      <td>...</td>\n",
       "      <td>...</td>\n",
       "      <td>...</td>\n",
       "      <td>...</td>\n",
       "      <td>...</td>\n",
       "      <td>...</td>\n",
       "      <td>...</td>\n",
       "      <td>...</td>\n",
       "      <td>...</td>\n",
       "      <td>...</td>\n",
       "      <td>...</td>\n",
       "      <td>...</td>\n",
       "      <td>...</td>\n",
       "      <td>...</td>\n",
       "      <td>...</td>\n",
       "      <td>...</td>\n",
       "      <td>...</td>\n",
       "      <td>...</td>\n",
       "    </tr>\n",
       "    <tr>\n",
       "      <th>1395</th>\n",
       "      <td>11.618950</td>\n",
       "      <td>11.874342</td>\n",
       "      <td>11.958261</td>\n",
       "      <td>11.958261</td>\n",
       "      <td>12.165525</td>\n",
       "      <td>12.649111</td>\n",
       "      <td>11.916375</td>\n",
       "      <td>12.041595</td>\n",
       "      <td>13.152946</td>\n",
       "      <td>12.449900</td>\n",
       "      <td>...</td>\n",
       "      <td>13.453624</td>\n",
       "      <td>12.922848</td>\n",
       "      <td>12.165525</td>\n",
       "      <td>11.916375</td>\n",
       "      <td>12.083046</td>\n",
       "      <td>11.789826</td>\n",
       "      <td>11.958261</td>\n",
       "      <td>11.916375</td>\n",
       "      <td>11.532562</td>\n",
       "      <td>12.041595</td>\n",
       "    </tr>\n",
       "    <tr>\n",
       "      <th>1396</th>\n",
       "      <td>11.704700</td>\n",
       "      <td>11.958261</td>\n",
       "      <td>12.041595</td>\n",
       "      <td>12.206555</td>\n",
       "      <td>12.206555</td>\n",
       "      <td>12.727922</td>\n",
       "      <td>11.958261</td>\n",
       "      <td>12.083046</td>\n",
       "      <td>13.190906</td>\n",
       "      <td>12.449900</td>\n",
       "      <td>...</td>\n",
       "      <td>13.490738</td>\n",
       "      <td>12.961481</td>\n",
       "      <td>12.206555</td>\n",
       "      <td>11.958261</td>\n",
       "      <td>12.165525</td>\n",
       "      <td>11.916375</td>\n",
       "      <td>12.041595</td>\n",
       "      <td>12.000000</td>\n",
       "      <td>11.532562</td>\n",
       "      <td>12.124355</td>\n",
       "    </tr>\n",
       "    <tr>\n",
       "      <th>1397</th>\n",
       "      <td>11.958261</td>\n",
       "      <td>12.165525</td>\n",
       "      <td>12.206555</td>\n",
       "      <td>12.247449</td>\n",
       "      <td>12.288206</td>\n",
       "      <td>13.000000</td>\n",
       "      <td>12.000000</td>\n",
       "      <td>12.124355</td>\n",
       "      <td>13.266500</td>\n",
       "      <td>12.489996</td>\n",
       "      <td>...</td>\n",
       "      <td>13.564660</td>\n",
       "      <td>13.038404</td>\n",
       "      <td>12.206555</td>\n",
       "      <td>12.000000</td>\n",
       "      <td>12.165525</td>\n",
       "      <td>11.916375</td>\n",
       "      <td>12.041595</td>\n",
       "      <td>12.041595</td>\n",
       "      <td>11.747340</td>\n",
       "      <td>12.124355</td>\n",
       "    </tr>\n",
       "    <tr>\n",
       "      <th>1398</th>\n",
       "      <td>12.083046</td>\n",
       "      <td>12.206555</td>\n",
       "      <td>12.247449</td>\n",
       "      <td>12.288206</td>\n",
       "      <td>12.489996</td>\n",
       "      <td>13.076696</td>\n",
       "      <td>12.206555</td>\n",
       "      <td>12.328828</td>\n",
       "      <td>13.453624</td>\n",
       "      <td>12.489996</td>\n",
       "      <td>...</td>\n",
       "      <td>13.674794</td>\n",
       "      <td>13.152946</td>\n",
       "      <td>12.409674</td>\n",
       "      <td>12.124355</td>\n",
       "      <td>12.369317</td>\n",
       "      <td>12.000000</td>\n",
       "      <td>12.083046</td>\n",
       "      <td>12.083046</td>\n",
       "      <td>11.747340</td>\n",
       "      <td>12.165525</td>\n",
       "    </tr>\n",
       "    <tr>\n",
       "      <th>1399</th>\n",
       "      <td>12.247449</td>\n",
       "      <td>12.409674</td>\n",
       "      <td>12.288206</td>\n",
       "      <td>12.569805</td>\n",
       "      <td>12.569805</td>\n",
       "      <td>13.266500</td>\n",
       "      <td>12.247449</td>\n",
       "      <td>12.369317</td>\n",
       "      <td>13.490738</td>\n",
       "      <td>12.489996</td>\n",
       "      <td>...</td>\n",
       "      <td>13.711309</td>\n",
       "      <td>13.190906</td>\n",
       "      <td>12.449900</td>\n",
       "      <td>12.247449</td>\n",
       "      <td>12.449900</td>\n",
       "      <td>12.124355</td>\n",
       "      <td>12.328828</td>\n",
       "      <td>12.288206</td>\n",
       "      <td>11.789826</td>\n",
       "      <td>12.409674</td>\n",
       "    </tr>\n",
       "  </tbody>\n",
       "</table>\n",
       "<p>1400 rows × 1400 columns</p>\n",
       "</div>"
      ],
      "text/plain": [
       "           0          1          2          3          4          5     \\\n",
       "0      0.000000   0.000000   0.000000   0.000000   0.000000   0.000000   \n",
       "1      2.236068   3.464102   2.000000   2.449490   2.000000   2.000000   \n",
       "2      2.645751   3.741657   5.385165   2.449490   5.385165   2.828427   \n",
       "3      2.645751   3.741657   5.744563   2.828427   6.324555   3.872983   \n",
       "4      3.000000   4.123106   5.830952   3.162278   6.557438   3.872983   \n",
       "...         ...        ...        ...        ...        ...        ...   \n",
       "1395  11.618950  11.874342  11.958261  11.958261  12.165525  12.649111   \n",
       "1396  11.704700  11.958261  12.041595  12.206555  12.206555  12.727922   \n",
       "1397  11.958261  12.165525  12.206555  12.247449  12.288206  13.000000   \n",
       "1398  12.083046  12.206555  12.247449  12.288206  12.489996  13.076696   \n",
       "1399  12.247449  12.409674  12.288206  12.569805  12.569805  13.266500   \n",
       "\n",
       "           6          7          8          9     ...       1390       1391  \\\n",
       "0      0.000000   0.000000   0.000000   0.000000  ...   0.000000   0.000000   \n",
       "1      2.236068   6.164414   3.000000   5.099020  ...   4.000000   2.645751   \n",
       "2      3.316625   6.633250   3.605551   5.196152  ...   5.196152   2.828427   \n",
       "3      4.000000   6.708204   3.741657   6.164414  ...   5.196152   3.000000   \n",
       "4      4.123106   6.782330   3.872983   6.244998  ...   5.567764   3.316625   \n",
       "...         ...        ...        ...        ...  ...        ...        ...   \n",
       "1395  11.916375  12.041595  13.152946  12.449900  ...  13.453624  12.922848   \n",
       "1396  11.958261  12.083046  13.190906  12.449900  ...  13.490738  12.961481   \n",
       "1397  12.000000  12.124355  13.266500  12.489996  ...  13.564660  13.038404   \n",
       "1398  12.206555  12.328828  13.453624  12.489996  ...  13.674794  13.152946   \n",
       "1399  12.247449  12.369317  13.490738  12.489996  ...  13.711309  13.190906   \n",
       "\n",
       "           1392       1393       1394       1395       1396       1397  \\\n",
       "0      0.000000   0.000000   0.000000   0.000000   0.000000   0.000000   \n",
       "1      2.000000   1.732051   3.000000   2.645751   2.236068   1.414214   \n",
       "2      2.000000   2.000000   3.316625   2.645751   2.449490   2.236068   \n",
       "3      2.645751   2.000000   3.316625   3.162278   2.645751   2.236068   \n",
       "4      2.645751   2.000000   3.316625   3.162278   2.645751   2.236068   \n",
       "...         ...        ...        ...        ...        ...        ...   \n",
       "1395  12.165525  11.916375  12.083046  11.789826  11.958261  11.916375   \n",
       "1396  12.206555  11.958261  12.165525  11.916375  12.041595  12.000000   \n",
       "1397  12.206555  12.000000  12.165525  11.916375  12.041595  12.041595   \n",
       "1398  12.409674  12.124355  12.369317  12.000000  12.083046  12.083046   \n",
       "1399  12.449900  12.247449  12.449900  12.124355  12.328828  12.288206   \n",
       "\n",
       "           1398       1399  \n",
       "0      0.000000   0.000000  \n",
       "1      3.605551   2.828427  \n",
       "2      3.872983   3.000000  \n",
       "3      4.123106   3.000000  \n",
       "4      4.795832   3.162278  \n",
       "...         ...        ...  \n",
       "1395  11.532562  12.041595  \n",
       "1396  11.532562  12.124355  \n",
       "1397  11.747340  12.124355  \n",
       "1398  11.747340  12.165525  \n",
       "1399  11.789826  12.409674  \n",
       "\n",
       "[1400 rows x 1400 columns]"
      ]
     },
     "execution_count": 215,
     "metadata": {},
     "output_type": "execute_result"
    }
   ],
   "source": [
    "df_tr=pd.DataFrame(neighbors_k)\n",
    "df_tr"
   ]
  },
  {
   "cell_type": "code",
   "execution_count": 216,
   "metadata": {},
   "outputs": [],
   "source": [
    "similarity= neighbors_k"
   ]
  },
  {
   "cell_type": "code",
   "execution_count": 217,
   "metadata": {},
   "outputs": [],
   "source": [
    "Dmean=np.mean(similarity[1,:])"
   ]
  },
  {
   "cell_type": "code",
   "execution_count": 218,
   "metadata": {},
   "outputs": [
    {
     "data": {
      "text/plain": [
       "2.85"
      ]
     },
     "execution_count": 218,
     "metadata": {},
     "output_type": "execute_result"
    }
   ],
   "source": [
    "round(Dmean, 2)"
   ]
  },
  {
   "cell_type": "code",
   "execution_count": 219,
   "metadata": {},
   "outputs": [],
   "source": [
    "std=np.std(similarity[1,:])"
   ]
  },
  {
   "cell_type": "code",
   "execution_count": 220,
   "metadata": {},
   "outputs": [
    {
     "data": {
      "text/plain": [
       "1.38"
      ]
     },
     "execution_count": 220,
     "metadata": {},
     "output_type": "execute_result"
    }
   ],
   "source": [
    "round(std, 2)"
   ]
  },
  {
   "cell_type": "code",
   "execution_count": 221,
   "metadata": {},
   "outputs": [
    {
     "name": "stdout",
     "output_type": "stream",
     "text": [
      "3.54\n"
     ]
    }
   ],
   "source": [
    "model_AD_limit=Dmean+std*0.5\n",
    "print(np.round(model_AD_limit, 2))"
   ]
  },
  {
   "cell_type": "code",
   "execution_count": 222,
   "metadata": {},
   "outputs": [],
   "source": [
    "neighbors_k_ts= pairwise_distances(x_tr,Y=x_ts, n_jobs=-1)\n",
    "neighbors_k_ts.sort(0)"
   ]
  },
  {
   "cell_type": "code",
   "execution_count": 223,
   "metadata": {},
   "outputs": [
    {
     "data": {
      "text/html": [
       "<div>\n",
       "<style scoped>\n",
       "    .dataframe tbody tr th:only-of-type {\n",
       "        vertical-align: middle;\n",
       "    }\n",
       "\n",
       "    .dataframe tbody tr th {\n",
       "        vertical-align: top;\n",
       "    }\n",
       "\n",
       "    .dataframe thead th {\n",
       "        text-align: right;\n",
       "    }\n",
       "</style>\n",
       "<table border=\"1\" class=\"dataframe\">\n",
       "  <thead>\n",
       "    <tr style=\"text-align: right;\">\n",
       "      <th></th>\n",
       "      <th>0</th>\n",
       "      <th>1</th>\n",
       "      <th>2</th>\n",
       "      <th>3</th>\n",
       "      <th>4</th>\n",
       "      <th>5</th>\n",
       "      <th>6</th>\n",
       "      <th>7</th>\n",
       "      <th>8</th>\n",
       "      <th>9</th>\n",
       "      <th>...</th>\n",
       "      <th>341</th>\n",
       "      <th>342</th>\n",
       "      <th>343</th>\n",
       "      <th>344</th>\n",
       "      <th>345</th>\n",
       "      <th>346</th>\n",
       "      <th>347</th>\n",
       "      <th>348</th>\n",
       "      <th>349</th>\n",
       "      <th>350</th>\n",
       "    </tr>\n",
       "  </thead>\n",
       "  <tbody>\n",
       "    <tr>\n",
       "      <th>0</th>\n",
       "      <td>1.000000</td>\n",
       "      <td>4.898980</td>\n",
       "      <td>5.744563</td>\n",
       "      <td>2.828427</td>\n",
       "      <td>3.162278</td>\n",
       "      <td>3.316625</td>\n",
       "      <td>2.449490</td>\n",
       "      <td>3.464102</td>\n",
       "      <td>3.316625</td>\n",
       "      <td>3.605551</td>\n",
       "      <td>...</td>\n",
       "      <td>2.645751</td>\n",
       "      <td>2.828427</td>\n",
       "      <td>2.236068</td>\n",
       "      <td>2.449490</td>\n",
       "      <td>4.242640</td>\n",
       "      <td>1.732051</td>\n",
       "      <td>2.000000</td>\n",
       "      <td>2.828427</td>\n",
       "      <td>4.358899</td>\n",
       "      <td>3.605551</td>\n",
       "    </tr>\n",
       "    <tr>\n",
       "      <th>1</th>\n",
       "      <td>3.162278</td>\n",
       "      <td>5.656854</td>\n",
       "      <td>6.244998</td>\n",
       "      <td>4.358899</td>\n",
       "      <td>3.872983</td>\n",
       "      <td>4.242640</td>\n",
       "      <td>3.000000</td>\n",
       "      <td>3.464102</td>\n",
       "      <td>4.123106</td>\n",
       "      <td>4.795832</td>\n",
       "      <td>...</td>\n",
       "      <td>2.828427</td>\n",
       "      <td>2.828427</td>\n",
       "      <td>2.449490</td>\n",
       "      <td>2.449490</td>\n",
       "      <td>4.242640</td>\n",
       "      <td>2.000000</td>\n",
       "      <td>2.236068</td>\n",
       "      <td>2.828427</td>\n",
       "      <td>4.472136</td>\n",
       "      <td>3.741657</td>\n",
       "    </tr>\n",
       "    <tr>\n",
       "      <th>2</th>\n",
       "      <td>3.162278</td>\n",
       "      <td>5.830952</td>\n",
       "      <td>6.244998</td>\n",
       "      <td>4.472136</td>\n",
       "      <td>3.872983</td>\n",
       "      <td>4.358899</td>\n",
       "      <td>3.872983</td>\n",
       "      <td>4.000000</td>\n",
       "      <td>5.567764</td>\n",
       "      <td>5.000000</td>\n",
       "      <td>...</td>\n",
       "      <td>2.828427</td>\n",
       "      <td>3.000000</td>\n",
       "      <td>2.449490</td>\n",
       "      <td>2.645751</td>\n",
       "      <td>4.582576</td>\n",
       "      <td>2.000000</td>\n",
       "      <td>2.449490</td>\n",
       "      <td>3.000000</td>\n",
       "      <td>4.472136</td>\n",
       "      <td>3.872983</td>\n",
       "    </tr>\n",
       "    <tr>\n",
       "      <th>3</th>\n",
       "      <td>3.605551</td>\n",
       "      <td>5.830952</td>\n",
       "      <td>6.244998</td>\n",
       "      <td>4.690416</td>\n",
       "      <td>4.582576</td>\n",
       "      <td>5.830952</td>\n",
       "      <td>4.123106</td>\n",
       "      <td>5.744563</td>\n",
       "      <td>5.916080</td>\n",
       "      <td>5.099020</td>\n",
       "      <td>...</td>\n",
       "      <td>3.162278</td>\n",
       "      <td>3.000000</td>\n",
       "      <td>3.000000</td>\n",
       "      <td>3.316625</td>\n",
       "      <td>4.690416</td>\n",
       "      <td>2.236068</td>\n",
       "      <td>2.645751</td>\n",
       "      <td>3.000000</td>\n",
       "      <td>4.582576</td>\n",
       "      <td>4.000000</td>\n",
       "    </tr>\n",
       "    <tr>\n",
       "      <th>4</th>\n",
       "      <td>3.741657</td>\n",
       "      <td>5.830952</td>\n",
       "      <td>6.324555</td>\n",
       "      <td>6.082763</td>\n",
       "      <td>6.164414</td>\n",
       "      <td>5.830952</td>\n",
       "      <td>4.242640</td>\n",
       "      <td>6.244998</td>\n",
       "      <td>6.082763</td>\n",
       "      <td>5.830952</td>\n",
       "      <td>...</td>\n",
       "      <td>3.316625</td>\n",
       "      <td>3.162278</td>\n",
       "      <td>3.464102</td>\n",
       "      <td>3.316625</td>\n",
       "      <td>4.690416</td>\n",
       "      <td>2.236068</td>\n",
       "      <td>2.645751</td>\n",
       "      <td>3.162278</td>\n",
       "      <td>4.690416</td>\n",
       "      <td>4.000000</td>\n",
       "    </tr>\n",
       "    <tr>\n",
       "      <th>...</th>\n",
       "      <td>...</td>\n",
       "      <td>...</td>\n",
       "      <td>...</td>\n",
       "      <td>...</td>\n",
       "      <td>...</td>\n",
       "      <td>...</td>\n",
       "      <td>...</td>\n",
       "      <td>...</td>\n",
       "      <td>...</td>\n",
       "      <td>...</td>\n",
       "      <td>...</td>\n",
       "      <td>...</td>\n",
       "      <td>...</td>\n",
       "      <td>...</td>\n",
       "      <td>...</td>\n",
       "      <td>...</td>\n",
       "      <td>...</td>\n",
       "      <td>...</td>\n",
       "      <td>...</td>\n",
       "      <td>...</td>\n",
       "      <td>...</td>\n",
       "    </tr>\n",
       "    <tr>\n",
       "      <th>1395</th>\n",
       "      <td>11.916375</td>\n",
       "      <td>13.341664</td>\n",
       "      <td>12.206555</td>\n",
       "      <td>13.638182</td>\n",
       "      <td>12.845233</td>\n",
       "      <td>12.449900</td>\n",
       "      <td>13.304134</td>\n",
       "      <td>12.529964</td>\n",
       "      <td>12.288206</td>\n",
       "      <td>12.767145</td>\n",
       "      <td>...</td>\n",
       "      <td>13.152946</td>\n",
       "      <td>12.884099</td>\n",
       "      <td>12.922848</td>\n",
       "      <td>12.083046</td>\n",
       "      <td>12.328828</td>\n",
       "      <td>11.789826</td>\n",
       "      <td>12.083046</td>\n",
       "      <td>12.165525</td>\n",
       "      <td>12.124355</td>\n",
       "      <td>12.288206</td>\n",
       "    </tr>\n",
       "    <tr>\n",
       "      <th>1396</th>\n",
       "      <td>11.916375</td>\n",
       "      <td>13.379088</td>\n",
       "      <td>12.247449</td>\n",
       "      <td>13.674794</td>\n",
       "      <td>12.884099</td>\n",
       "      <td>12.569805</td>\n",
       "      <td>13.341664</td>\n",
       "      <td>12.569805</td>\n",
       "      <td>12.369317</td>\n",
       "      <td>12.806249</td>\n",
       "      <td>...</td>\n",
       "      <td>13.190906</td>\n",
       "      <td>12.922848</td>\n",
       "      <td>12.961481</td>\n",
       "      <td>12.165525</td>\n",
       "      <td>12.569805</td>\n",
       "      <td>11.832160</td>\n",
       "      <td>12.124355</td>\n",
       "      <td>12.206555</td>\n",
       "      <td>12.165525</td>\n",
       "      <td>12.288206</td>\n",
       "    </tr>\n",
       "    <tr>\n",
       "      <th>1397</th>\n",
       "      <td>12.206555</td>\n",
       "      <td>13.453624</td>\n",
       "      <td>12.328828</td>\n",
       "      <td>13.747727</td>\n",
       "      <td>12.961481</td>\n",
       "      <td>12.649111</td>\n",
       "      <td>13.416408</td>\n",
       "      <td>12.569805</td>\n",
       "      <td>12.449900</td>\n",
       "      <td>12.845233</td>\n",
       "      <td>...</td>\n",
       "      <td>13.266500</td>\n",
       "      <td>13.000000</td>\n",
       "      <td>13.038404</td>\n",
       "      <td>12.165525</td>\n",
       "      <td>12.649111</td>\n",
       "      <td>11.874342</td>\n",
       "      <td>12.124355</td>\n",
       "      <td>12.247449</td>\n",
       "      <td>12.206555</td>\n",
       "      <td>12.369317</td>\n",
       "    </tr>\n",
       "    <tr>\n",
       "      <th>1398</th>\n",
       "      <td>12.247449</td>\n",
       "      <td>13.638182</td>\n",
       "      <td>12.529964</td>\n",
       "      <td>13.928389</td>\n",
       "      <td>13.152946</td>\n",
       "      <td>12.806249</td>\n",
       "      <td>13.601471</td>\n",
       "      <td>12.884099</td>\n",
       "      <td>12.569805</td>\n",
       "      <td>13.152946</td>\n",
       "      <td>...</td>\n",
       "      <td>13.304134</td>\n",
       "      <td>13.114877</td>\n",
       "      <td>13.076696</td>\n",
       "      <td>12.206555</td>\n",
       "      <td>12.688578</td>\n",
       "      <td>12.000000</td>\n",
       "      <td>12.328828</td>\n",
       "      <td>12.369317</td>\n",
       "      <td>12.247449</td>\n",
       "      <td>12.409674</td>\n",
       "    </tr>\n",
       "    <tr>\n",
       "      <th>1399</th>\n",
       "      <td>12.449900</td>\n",
       "      <td>13.674794</td>\n",
       "      <td>12.569805</td>\n",
       "      <td>13.964240</td>\n",
       "      <td>13.190906</td>\n",
       "      <td>13.453624</td>\n",
       "      <td>13.638182</td>\n",
       "      <td>13.304134</td>\n",
       "      <td>12.767145</td>\n",
       "      <td>13.638182</td>\n",
       "      <td>...</td>\n",
       "      <td>13.341664</td>\n",
       "      <td>13.152946</td>\n",
       "      <td>13.114877</td>\n",
       "      <td>12.449900</td>\n",
       "      <td>12.922848</td>\n",
       "      <td>12.124355</td>\n",
       "      <td>12.369317</td>\n",
       "      <td>12.489996</td>\n",
       "      <td>12.449900</td>\n",
       "      <td>12.649111</td>\n",
       "    </tr>\n",
       "  </tbody>\n",
       "</table>\n",
       "<p>1400 rows × 351 columns</p>\n",
       "</div>"
      ],
      "text/plain": [
       "            0          1          2          3          4          5    \\\n",
       "0      1.000000   4.898980   5.744563   2.828427   3.162278   3.316625   \n",
       "1      3.162278   5.656854   6.244998   4.358899   3.872983   4.242640   \n",
       "2      3.162278   5.830952   6.244998   4.472136   3.872983   4.358899   \n",
       "3      3.605551   5.830952   6.244998   4.690416   4.582576   5.830952   \n",
       "4      3.741657   5.830952   6.324555   6.082763   6.164414   5.830952   \n",
       "...         ...        ...        ...        ...        ...        ...   \n",
       "1395  11.916375  13.341664  12.206555  13.638182  12.845233  12.449900   \n",
       "1396  11.916375  13.379088  12.247449  13.674794  12.884099  12.569805   \n",
       "1397  12.206555  13.453624  12.328828  13.747727  12.961481  12.649111   \n",
       "1398  12.247449  13.638182  12.529964  13.928389  13.152946  12.806249   \n",
       "1399  12.449900  13.674794  12.569805  13.964240  13.190906  13.453624   \n",
       "\n",
       "            6          7          8          9    ...        341        342  \\\n",
       "0      2.449490   3.464102   3.316625   3.605551  ...   2.645751   2.828427   \n",
       "1      3.000000   3.464102   4.123106   4.795832  ...   2.828427   2.828427   \n",
       "2      3.872983   4.000000   5.567764   5.000000  ...   2.828427   3.000000   \n",
       "3      4.123106   5.744563   5.916080   5.099020  ...   3.162278   3.000000   \n",
       "4      4.242640   6.244998   6.082763   5.830952  ...   3.316625   3.162278   \n",
       "...         ...        ...        ...        ...  ...        ...        ...   \n",
       "1395  13.304134  12.529964  12.288206  12.767145  ...  13.152946  12.884099   \n",
       "1396  13.341664  12.569805  12.369317  12.806249  ...  13.190906  12.922848   \n",
       "1397  13.416408  12.569805  12.449900  12.845233  ...  13.266500  13.000000   \n",
       "1398  13.601471  12.884099  12.569805  13.152946  ...  13.304134  13.114877   \n",
       "1399  13.638182  13.304134  12.767145  13.638182  ...  13.341664  13.152946   \n",
       "\n",
       "            343        344        345        346        347        348  \\\n",
       "0      2.236068   2.449490   4.242640   1.732051   2.000000   2.828427   \n",
       "1      2.449490   2.449490   4.242640   2.000000   2.236068   2.828427   \n",
       "2      2.449490   2.645751   4.582576   2.000000   2.449490   3.000000   \n",
       "3      3.000000   3.316625   4.690416   2.236068   2.645751   3.000000   \n",
       "4      3.464102   3.316625   4.690416   2.236068   2.645751   3.162278   \n",
       "...         ...        ...        ...        ...        ...        ...   \n",
       "1395  12.922848  12.083046  12.328828  11.789826  12.083046  12.165525   \n",
       "1396  12.961481  12.165525  12.569805  11.832160  12.124355  12.206555   \n",
       "1397  13.038404  12.165525  12.649111  11.874342  12.124355  12.247449   \n",
       "1398  13.076696  12.206555  12.688578  12.000000  12.328828  12.369317   \n",
       "1399  13.114877  12.449900  12.922848  12.124355  12.369317  12.489996   \n",
       "\n",
       "            349        350  \n",
       "0      4.358899   3.605551  \n",
       "1      4.472136   3.741657  \n",
       "2      4.472136   3.872983  \n",
       "3      4.582576   4.000000  \n",
       "4      4.690416   4.000000  \n",
       "...         ...        ...  \n",
       "1395  12.124355  12.288206  \n",
       "1396  12.165525  12.288206  \n",
       "1397  12.206555  12.369317  \n",
       "1398  12.247449  12.409674  \n",
       "1399  12.449900  12.649111  \n",
       "\n",
       "[1400 rows x 351 columns]"
      ]
     },
     "execution_count": 223,
     "metadata": {},
     "output_type": "execute_result"
    }
   ],
   "source": [
    "x_ts_AD=pd.DataFrame(neighbors_k_ts)\n",
    "x_ts_AD"
   ]
  },
  {
   "cell_type": "code",
   "execution_count": 224,
   "metadata": {},
   "outputs": [
    {
     "name": "stdout",
     "output_type": "stream",
     "text": [
      "[1.    4.899 5.745 2.828 3.162 3.317 2.449 3.464 3.317 3.606 5.196 2.646\n",
      " 1.732 3.873 3.742 1.732 2.236 3.464 4.899 2.    2.236 3.    6.557 2.449\n",
      " 2.    2.449 4.243 2.646 2.236 2.    5.831 1.    3.464 2.449 2.    4.\n",
      " 2.236 2.236 2.236 2.646 1.732 7.483 3.317 2.    2.236 2.236 4.472 3.742\n",
      " 2.449 2.449 2.646 4.243 2.828 2.    2.236 6.245 4.243 1.732 2.    2.449\n",
      " 0.    4.123 2.449 6.083 3.    2.236 4.796 2.    3.    4.899 4.69  2.828\n",
      " 1.    2.449 2.646 1.732 2.449 3.162 3.873 4.243 1.414 2.    3.    2.449\n",
      " 3.317 2.449 1.    3.    1.    7.28  3.    6.325 2.236 3.162 2.    3.742\n",
      " 2.449 3.464 1.    3.162 7.    2.    2.    1.414 4.    3.    4.359 1.732\n",
      " 3.873 1.414 1.732 3.606 2.646 2.828 2.449 2.449 2.646 2.449 3.162 1.732\n",
      " 3.162 4.583 4.    3.606 3.162 3.464 2.828 2.    2.646 4.243 2.828 4.583\n",
      " 1.    3.    2.    2.646 2.646 2.646 4.243 3.    5.745 2.646 2.828 3.606\n",
      " 3.317 2.828 2.    2.449 1.    5.657 3.317 2.646 2.236 2.646 2.646 4.\n",
      " 3.317 3.464 2.646 2.828 3.742 1.414 2.236 3.162 1.732 2.    2.    2.\n",
      " 2.236 3.    2.646 1.732 3.    1.414 3.    3.606 4.123 3.    3.162 3.464\n",
      " 3.317 4.243 6.325 2.    2.    2.    2.828 1.    2.236 3.162 3.317 2.646\n",
      " 1.    2.236 2.828 1.732 3.606 3.162 3.    2.828 5.099 2.449 1.    1.\n",
      " 2.    3.162 3.317 3.317 3.    3.464 2.449 1.732 3.    1.732 2.449 2.828\n",
      " 3.317 2.449 2.236 3.464 2.    1.    1.414 0.    3.162 3.    4.243 1.732\n",
      " 1.    5.196 2.449 4.899 2.449 2.    2.828 2.828 3.873 0.    1.732 3.742\n",
      " 2.449 4.796 2.236 5.    2.646 4.243 0.    2.449 1.732 3.464 3.162 3.\n",
      " 2.    3.606 1.    2.646 2.236 1.414 2.    1.    3.464 2.236 8.185 1.414\n",
      " 1.732 2.449 0.    3.162 2.449 1.732 1.    3.317 3.317 6.164 2.236 1.732\n",
      " 4.69  2.449 2.828 4.359 2.449 2.236 3.162 2.828 2.236 4.    2.    1.414\n",
      " 4.583 0.    3.873 2.646 2.    4.583 4.    1.732 2.449 1.    2.    1.414\n",
      " 3.606 2.646 5.831 0.    2.449 4.123 2.236 1.732 2.828 3.742 3.317 2.828\n",
      " 0.    3.162 3.464 2.828 2.449 2.    5.099 4.    2.236 0.    6.325 2.\n",
      " 3.606 2.236 1.414 2.828 1.732 3.317 2.236 0.    1.414 2.    3.    2.828\n",
      " 2.828 2.449 2.449 1.    2.828 2.646 2.828 2.236 2.449 4.243 1.732 2.\n",
      " 2.828 4.359 3.606]\n"
     ]
    }
   ],
   "source": [
    "similarity_ts= neighbors_k_ts\n",
    "cpd_AD=similarity_ts[0,:]\n",
    "cpd_value = np.round(cpd_AD, 3)\n",
    "print(cpd_value)"
   ]
  },
  {
   "cell_type": "code",
   "execution_count": 225,
   "metadata": {},
   "outputs": [
    {
     "name": "stdout",
     "output_type": "stream",
     "text": [
      "[ True False False  True  True  True  True  True  True False False  True\n",
      "  True False False  True  True  True False  True  True  True False  True\n",
      "  True  True False  True  True  True False  True  True  True  True False\n",
      "  True  True  True  True  True False  True  True  True  True False False\n",
      "  True  True  True False  True  True  True False False  True  True  True\n",
      "  True False  True False  True  True False  True  True False False  True\n",
      "  True  True  True  True  True  True False False  True  True  True  True\n",
      "  True  True  True  True  True False  True False  True  True  True False\n",
      "  True  True  True  True False  True  True  True False  True False  True\n",
      " False  True  True False  True  True  True  True  True  True  True  True\n",
      "  True False False False  True  True  True  True  True False  True False\n",
      "  True  True  True  True  True  True False  True False  True  True False\n",
      "  True  True  True  True  True False  True  True  True  True  True False\n",
      "  True  True  True  True False  True  True  True  True  True  True  True\n",
      "  True  True  True  True  True  True  True False False  True  True  True\n",
      "  True False False  True  True  True  True  True  True  True  True  True\n",
      "  True  True  True  True False  True  True  True False  True  True  True\n",
      "  True  True  True  True  True  True  True  True  True  True  True  True\n",
      "  True  True  True  True  True  True  True  True  True  True False  True\n",
      "  True False  True False  True  True  True  True False  True  True False\n",
      "  True False  True False  True False  True  True  True  True  True  True\n",
      "  True False  True  True  True  True  True  True  True  True False  True\n",
      "  True  True  True  True  True  True  True  True  True False  True  True\n",
      " False  True  True False  True  True  True  True  True False  True  True\n",
      " False  True False  True  True False False  True  True  True  True  True\n",
      " False  True False  True  True False  True  True  True False  True  True\n",
      "  True  True  True  True  True  True False False  True  True False  True\n",
      " False  True  True  True  True  True  True  True  True  True  True  True\n",
      "  True  True  True  True  True  True  True  True  True False  True  True\n",
      "  True False False]\n"
     ]
    }
   ],
   "source": [
    "cpd_AD = np.where(cpd_value <= model_AD_limit, True, False)\n",
    "print(cpd_AD)"
   ]
  },
  {
   "cell_type": "code",
   "execution_count": 226,
   "metadata": {},
   "outputs": [
    {
     "name": "stdout",
     "output_type": "stream",
     "text": [
      "Coverage =  0.78\n"
     ]
    }
   ],
   "source": [
    "print(\"Coverage = \", round(sum(cpd_AD) / len(cpd_AD), 2))"
   ]
  },
  {
   "cell_type": "code",
   "execution_count": 227,
   "metadata": {},
   "outputs": [
    {
     "name": "stdout",
     "output_type": "stream",
     "text": [
      "Indices of substances included in AD =  [  0   3   4   5   6   7   8  11  12  15  16  17  19  20  21  23  24  25\n",
      "  27  28  29  31  32  33  34  36  37  38  39  40  42  43  44  45  48  49\n",
      "  50  52  53  54  57  58  59  60  62  64  65  67  68  71  72  73  74  75\n",
      "  76  77  80  81  82  83  84  85  86  87  88  90  92  93  94  96  97  98\n",
      "  99 101 102 103 105 107 109 110 112 113 114 115 116 117 118 119 120 124\n",
      " 125 126 127 128 130 132 133 134 135 136 137 139 141 142 144 145 146 147\n",
      " 148 150 151 152 153 154 156 157 158 159 161 162 163 164 165 166 167 168\n",
      " 169 170 171 172 173 174 177 178 179 180 183 184 185 186 187 188 189 190\n",
      " 191 192 193 194 195 197 198 199 201 202 203 204 205 206 207 208 209 210\n",
      " 211 212 213 214 215 216 217 218 219 220 221 222 223 224 225 227 228 230\n",
      " 232 233 234 235 237 238 240 242 244 246 247 248 249 250 251 252 254 255\n",
      " 256 257 258 259 260 261 263 264 265 266 267 268 269 270 271 272 274 275\n",
      " 277 278 280 281 282 283 284 286 287 289 291 292 295 296 297 298 299 301\n",
      " 303 304 306 307 308 310 311 312 313 314 315 316 317 320 321 323 325 326\n",
      " 327 328 329 330 331 332 333 334 335 336 337 338 339 340 341 342 343 344\n",
      " 346 347 348]\n"
     ]
    }
   ],
   "source": [
    "print(\"Indices of substances included in AD = \", np.where(cpd_AD != 0)[0])"
   ]
  },
  {
   "cell_type": "code",
   "execution_count": 228,
   "metadata": {},
   "outputs": [],
   "source": [
    "out_Ad=list(np.where(cpd_AD == 0)[0])"
   ]
  },
  {
   "cell_type": "markdown",
   "metadata": {},
   "source": [
    "# 12. Prediction only for molecules included in  AD"
   ]
  },
  {
   "cell_type": "code",
   "execution_count": 229,
   "metadata": {},
   "outputs": [],
   "source": [
    "y_pred_svm_ad=list(y_pred_svm)"
   ]
  },
  {
   "cell_type": "code",
   "execution_count": 230,
   "metadata": {},
   "outputs": [],
   "source": [
    "y_pred_svm_ad[:] = [x for i,x in enumerate(y_pred_svm_ad) if i not in out_Ad]"
   ]
  },
  {
   "cell_type": "code",
   "execution_count": 231,
   "metadata": {},
   "outputs": [
    {
     "data": {
      "text/plain": [
       "273"
      ]
     },
     "execution_count": 231,
     "metadata": {},
     "output_type": "execute_result"
    }
   ],
   "source": [
    "len(y_pred_svm_ad)"
   ]
  },
  {
   "cell_type": "code",
   "execution_count": 232,
   "metadata": {},
   "outputs": [],
   "source": [
    "y_ts_ad=list(y_ts)"
   ]
  },
  {
   "cell_type": "code",
   "execution_count": 233,
   "metadata": {},
   "outputs": [],
   "source": [
    "y_ts_ad[:] = [x for i,x in enumerate(y_ts_ad) if i not in out_Ad]"
   ]
  },
  {
   "cell_type": "code",
   "execution_count": 234,
   "metadata": {},
   "outputs": [
    {
     "data": {
      "text/plain": [
       "273"
      ]
     },
     "execution_count": 234,
     "metadata": {},
     "output_type": "execute_result"
    }
   ],
   "source": [
    "len(y_ts_ad)"
   ]
  },
  {
   "cell_type": "code",
   "execution_count": 235,
   "metadata": {},
   "outputs": [
    {
     "data": {
      "text/plain": [
       "0.74"
      ]
     },
     "execution_count": 235,
     "metadata": {},
     "output_type": "execute_result"
    }
   ],
   "source": [
    "Q2_TS = round(r2_score(y_ts_ad, y_pred_svm_ad), 2)\n",
    "Q2_TS"
   ]
  },
  {
   "cell_type": "code",
   "execution_count": 236,
   "metadata": {},
   "outputs": [
    {
     "data": {
      "text/plain": [
       "0.68"
      ]
     },
     "execution_count": 236,
     "metadata": {},
     "output_type": "execute_result"
    }
   ],
   "source": [
    "RMSE_TS=round(np.sqrt(mean_absolute_error(y_ts_ad, y_pred_svm_ad)), 2)\n",
    "RMSE_TS"
   ]
  },
  {
   "cell_type": "code",
   "execution_count": null,
   "metadata": {},
   "outputs": [],
   "source": []
  },
  {
   "cell_type": "markdown",
   "metadata": {},
   "source": [
    "## Analyzing the importance of descriptors for the GBM model"
   ]
  },
  {
   "cell_type": "code",
   "execution_count": 237,
   "metadata": {},
   "outputs": [],
   "source": [
    "import shap"
   ]
  },
  {
   "cell_type": "code",
   "execution_count": 238,
   "metadata": {},
   "outputs": [],
   "source": [
    "explainer = shap.Explainer(best_GBR)"
   ]
  },
  {
   "cell_type": "code",
   "execution_count": 239,
   "metadata": {},
   "outputs": [],
   "source": [
    "shap_values = explainer(x_tr)"
   ]
  },
  {
   "cell_type": "code",
   "execution_count": 240,
   "metadata": {},
   "outputs": [
    {
     "data": {
      "image/png": "[encoded data removed]",
      "text/plain": [
       "<Figure size 800x550 with 2 Axes>"
      ]
     },
     "metadata": {},
     "output_type": "display_data"
    }
   ],
   "source": [
    "shap.plots.beeswarm(shap_values)"
   ]
  },
  {
   "cell_type": "code",
   "execution_count": 241,
   "metadata": {},
   "outputs": [
    {
     "data": {
      "image/png": "[encoded data removed]",
      "text/plain": [
       "<Figure size 800x650 with 1 Axes>"
      ]
     },
     "metadata": {},
     "output_type": "display_data"
    }
   ],
   "source": [
    "shap.plots.bar(shap_values)"
   ]
  },
  {
   "cell_type": "code",
   "execution_count": null,
   "metadata": {},
   "outputs": [],
   "source": []
  }
 ],
 "metadata": {
  "kernelspec": {
   "display_name": "Python3 (rdkit)",
   "language": "python",
   "name": "my-rdkit-env"
  },
  "language_info": {
   "codemirror_mode": {
    "name": "ipython",
    "version": 3
   },
   "file_extension": ".py",
   "mimetype": "text/x-python",
   "name": "python",
   "nbconvert_exporter": "python",
   "pygments_lexer": "ipython3",
   "version": "3.10.12"
  }
 },
 "nbformat": 4,
 "nbformat_minor": 4
}
