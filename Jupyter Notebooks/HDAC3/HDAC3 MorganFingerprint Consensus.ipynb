{
 "cells": [
  {
   "cell_type": "markdown",
   "metadata": {},
   "source": [
    "# Importing modules and functions"
   ]
  },
  {
   "cell_type": "code",
   "execution_count": 2,
   "metadata": {},
   "outputs": [],
   "source": [
    "import numpy as np\n",
    "import pandas as pd\n",
    "from rdkit import Chem, DataStructs\n",
    "from rdkit.Chem import AllChem, Descriptors\n",
    "from rdkit.ML.Descriptors import MoleculeDescriptors\n",
    "import chembl_structure_pipeline\n",
    "from molvs import standardize_smiles\n",
    "from sklearn.model_selection import KFold, GridSearchCV\n",
    "from sklearn.model_selection import permutation_test_score\n",
    "from sklearn.preprocessing import StandardScaler\n",
    "from sklearn.model_selection import cross_val_predict\n",
    "from sklearn import metrics\n",
    "from sklearn.metrics import pairwise_distances\n",
    "import joblib\n",
    "import pickle\n",
    "from numpy import savetxt\n",
    "from padelpy import from_sdf\n",
    "from IPython.display import HTML\n",
    "import matplotlib.pyplot as plt\n",
    "from sklearn.metrics import mean_squared_error\n",
    "from sklearn.metrics import mean_absolute_error\n",
    "from sklearn.metrics import r2_score\n",
    "from sklearn.ensemble import GradientBoostingRegressor\n",
    "import warnings\n",
    "warnings.filterwarnings('ignore')"
   ]
  },
  {
   "cell_type": "markdown",
   "metadata": {},
   "source": [
    "# Data entry and curation work set"
   ]
  },
  {
   "cell_type": "code",
   "execution_count": 3,
   "metadata": {},
   "outputs": [
    {
     "name": "stdout",
     "output_type": "stream",
     "text": [
      "Original data:  1400 molecules\n",
      "Failed data:  0 molecules\n"
     ]
    },
    {
     "data": {
      "text/html": [
       "<div>\n",
       "<style scoped>\n",
       "    .dataframe tbody tr th:only-of-type {\n",
       "        vertical-align: middle;\n",
       "    }\n",
       "\n",
       "    .dataframe tbody tr th {\n",
       "        vertical-align: top;\n",
       "    }\n",
       "\n",
       "    .dataframe thead th {\n",
       "        text-align: right;\n",
       "    }\n",
       "</style>\n",
       "<table border=\"1\" class=\"dataframe\">\n",
       "  <thead>\n",
       "    <tr style=\"text-align: right;\">\n",
       "      <th></th>\n",
       "      <th>No. failed molecule in original set</th>\n",
       "      <th>SMILES of wrong structure:</th>\n",
       "    </tr>\n",
       "    <tr>\n",
       "      <th>No.</th>\n",
       "      <th></th>\n",
       "      <th></th>\n",
       "    </tr>\n",
       "  </thead>\n",
       "  <tbody>\n",
       "  </tbody>\n",
       "</table>\n",
       "</div>"
      ],
      "text/plain": [
       "Empty DataFrame\n",
       "Columns: [No. failed molecule in original set, SMILES of wrong structure: ]\n",
       "Index: []"
      ]
     },
     "execution_count": 3,
     "metadata": {},
     "output_type": "execute_result"
    }
   ],
   "source": [
    "uploaded_file_ws=\"datasets/HDAC3_work.sdf\"\n",
    "supplier_ws = Chem.ForwardSDMolSupplier(uploaded_file_ws,sanitize=False)\n",
    "failed_mols_ws = []\n",
    "all_mols_ws =[]\n",
    "wrong_structure_ws=[]\n",
    "wrong_smiles_ws=[]\n",
    "y_tr = []\n",
    "y_bad_index=[]\n",
    "\n",
    "for i, m in enumerate(supplier_ws):\n",
    "    structure = Chem.Mol(m)\n",
    "    all_mols_ws.append(structure)\n",
    "    y_tr.append(m.GetProp(\"pchembl_value_mean\"))\n",
    "    try:\n",
    "        Chem.SanitizeMol(structure)\n",
    "    except:\n",
    "        failed_mols_ws.append(m)\n",
    "        wrong_smiles_ws.append(Chem.MolToSmiles(m))\n",
    "        wrong_structure_ws.append(str(i+1))\n",
    "        y_bad_index.append(i)\n",
    "print('Original data: ', len(all_mols_ws), 'molecules')\n",
    "print('Failed data: ', len(failed_mols_ws), 'molecules')\n",
    "number_ws =[]\n",
    "for i in range(len(failed_mols_ws)):\n",
    "        number_ws.append(str(i+1))\n",
    "bad_molecules_ws = pd.DataFrame({'No. failed molecule in original set': wrong_structure_ws, 'SMILES of wrong structure: ': wrong_smiles_ws, 'No.': number_ws}, index=None)\n",
    "bad_molecules_ws = bad_molecules_ws.set_index('No.')\n",
    "bad_molecules_ws"
   ]
  },
  {
   "cell_type": "markdown",
   "metadata": {},
   "source": [
    "deleting activity values for substances with incorrect structure"
   ]
  },
  {
   "cell_type": "code",
   "execution_count": 4,
   "metadata": {},
   "outputs": [],
   "source": [
    "y_tr[:] = [x for i,x in enumerate(y_tr) if i not in y_bad_index]"
   ]
  },
  {
   "cell_type": "code",
   "execution_count": 5,
   "metadata": {},
   "outputs": [
    {
     "data": {
      "text/plain": [
       "1400"
      ]
     },
     "execution_count": 5,
     "metadata": {},
     "output_type": "execute_result"
    }
   ],
   "source": [
    "len(y_tr)"
   ]
  },
  {
   "cell_type": "markdown",
   "metadata": {},
   "source": [
    "# Standardization SDF file for work set"
   ]
  },
  {
   "cell_type": "code",
   "execution_count": 6,
   "metadata": {},
   "outputs": [
    {
     "name": "stdout",
     "output_type": "stream",
     "text": [
      "Kept data:  1400 molecules\n"
     ]
    }
   ],
   "source": [
    "all_mols_ws[:] = [x for i,x in enumerate(all_mols_ws) if i not in y_bad_index] \n",
    "records = []\n",
    "for i in range(len(all_mols_ws)):\n",
    "    record = Chem.MolToSmiles(all_mols_ws[i])\n",
    "    records.append(record)\n",
    "\n",
    "moldf_ws = []\n",
    "for i,record in enumerate(records):\n",
    "    standard_record = standardize_smiles(record)\n",
    "    m = Chem.MolFromSmiles(standard_record)\n",
    "    moldf_ws.append(m)\n",
    "    \n",
    "print('Kept data: ', len(moldf_ws), 'molecules')"
   ]
  },
  {
   "cell_type": "markdown",
   "metadata": {},
   "source": [
    "# Data entry and curation test set"
   ]
  },
  {
   "cell_type": "code",
   "execution_count": 7,
   "metadata": {},
   "outputs": [
    {
     "name": "stdout",
     "output_type": "stream",
     "text": [
      "Original data:  351 molecules\n",
      "Failed data:  0 molecules\n"
     ]
    },
    {
     "data": {
      "text/html": [
       "<div>\n",
       "<style scoped>\n",
       "    .dataframe tbody tr th:only-of-type {\n",
       "        vertical-align: middle;\n",
       "    }\n",
       "\n",
       "    .dataframe tbody tr th {\n",
       "        vertical-align: top;\n",
       "    }\n",
       "\n",
       "    .dataframe thead th {\n",
       "        text-align: right;\n",
       "    }\n",
       "</style>\n",
       "<table border=\"1\" class=\"dataframe\">\n",
       "  <thead>\n",
       "    <tr style=\"text-align: right;\">\n",
       "      <th></th>\n",
       "      <th>No. failed molecule in original set</th>\n",
       "      <th>SMILES of wrong structure:</th>\n",
       "    </tr>\n",
       "    <tr>\n",
       "      <th>No.</th>\n",
       "      <th></th>\n",
       "      <th></th>\n",
       "    </tr>\n",
       "  </thead>\n",
       "  <tbody>\n",
       "  </tbody>\n",
       "</table>\n",
       "</div>"
      ],
      "text/plain": [
       "Empty DataFrame\n",
       "Columns: [No. failed molecule in original set, SMILES of wrong structure: ]\n",
       "Index: []"
      ]
     },
     "execution_count": 7,
     "metadata": {},
     "output_type": "execute_result"
    }
   ],
   "source": [
    "uploaded_file_ts=\"datasets/HDAC3_test.sdf\"\n",
    "supplier_ts = Chem.ForwardSDMolSupplier(uploaded_file_ts,sanitize=False)\n",
    "failed_mols_ts = []\n",
    "all_mols_ts =[]\n",
    "wrong_structure_ts=[]\n",
    "wrong_smiles_ts=[]\n",
    "y_ts = []\n",
    "y_bad_index=[]\n",
    "for i, m in enumerate(supplier_ts):\n",
    "    structure = Chem.Mol(m)\n",
    "    all_mols_ts.append(structure)\n",
    "    y_ts.append(m.GetProp(\"pchembl_value_mean\"))\n",
    "    try:\n",
    "        Chem.SanitizeMol(structure)\n",
    "    except:\n",
    "        failed_mols_ts.append(m)\n",
    "        wrong_smiles_ts.append(Chem.MolToSmiles(m))\n",
    "        wrong_structure_ts.append(str(i+1))\n",
    "        y_bad_index.append(i)\n",
    "print('Original data: ', len(all_mols_ts), 'molecules')\n",
    "print('Failed data: ', len(failed_mols_ts), 'molecules')\n",
    "number_ts =[]\n",
    "for i in range(len(failed_mols_ts)):\n",
    "        number_ts.append(str(i+1))\n",
    "bad_molecules_ts = pd.DataFrame({'No. failed molecule in original set': wrong_structure_ts, 'SMILES of wrong structure: ': wrong_smiles_ts, 'No.': number_ts}, index=None)\n",
    "bad_molecules_ts = bad_molecules_ts.set_index('No.')\n",
    "bad_molecules_ts"
   ]
  },
  {
   "cell_type": "markdown",
   "metadata": {},
   "source": [
    "deleting activity values for substances with incorrect structure"
   ]
  },
  {
   "cell_type": "code",
   "execution_count": 8,
   "metadata": {},
   "outputs": [],
   "source": [
    "y_ts[:] = [x for i,x in enumerate(y_ts) if i not in y_bad_index]"
   ]
  },
  {
   "cell_type": "code",
   "execution_count": 9,
   "metadata": {},
   "outputs": [
    {
     "data": {
      "text/plain": [
       "351"
      ]
     },
     "execution_count": 9,
     "metadata": {},
     "output_type": "execute_result"
    }
   ],
   "source": [
    "len(y_ts)"
   ]
  },
  {
   "cell_type": "markdown",
   "metadata": {},
   "source": [
    "# Standardization SDF file for test set"
   ]
  },
  {
   "cell_type": "code",
   "execution_count": 10,
   "metadata": {},
   "outputs": [
    {
     "name": "stdout",
     "output_type": "stream",
     "text": [
      "Kept data:  351 molecules\n"
     ]
    }
   ],
   "source": [
    "all_mols_ts[:] = [x for i,x in enumerate(all_mols_ts) if i not in y_bad_index] \n",
    "records = []\n",
    "for i in range(len(all_mols_ts)):\n",
    "    record = Chem.MolToSmiles(all_mols_ts[i])\n",
    "    records.append(record)\n",
    "\n",
    "moldf_ts = []\n",
    "for i,record in enumerate(records):\n",
    "    standard_record = standardize_smiles(record)\n",
    "    m = Chem.MolFromSmiles(standard_record)\n",
    "    moldf_ts.append(m)\n",
    "    \n",
    "print('Kept data: ', len(moldf_ts), 'molecules')"
   ]
  },
  {
   "cell_type": "markdown",
   "metadata": {},
   "source": [
    "# Calculation MorganFingerprint for work set"
   ]
  },
  {
   "cell_type": "code",
   "execution_count": 13,
   "metadata": {},
   "outputs": [],
   "source": [
    "fp_tr = [AllChem.GetMorganFingerprintAsBitVect(m, radius=2,nBits=1024,useFeatures=False,useChirality = False) for m in moldf_ws]"
   ]
  },
  {
   "cell_type": "code",
   "execution_count": 14,
   "metadata": {},
   "outputs": [],
   "source": [
    "def rdkit_numpy_convert(fp_tr):\n",
    "    output = []\n",
    "    for f in fp_tr:\n",
    "        arr = np.zeros((1,))\n",
    "        DataStructs.ConvertToNumpyArray(f, arr)\n",
    "        output.append(arr)\n",
    "    return np.asarray(output)"
   ]
  },
  {
   "cell_type": "code",
   "execution_count": 15,
   "metadata": {},
   "outputs": [],
   "source": [
    "from numpy import savetxt\n",
    "x_tr = rdkit_numpy_convert(fp_tr)"
   ]
  },
  {
   "cell_type": "code",
   "execution_count": 16,
   "metadata": {},
   "outputs": [],
   "source": [
    "savetxt('Models/Morgan_fingerprint/x_tr_MF.csv', x_tr, delimiter=',')"
   ]
  },
  {
   "cell_type": "code",
   "execution_count": 17,
   "metadata": {},
   "outputs": [
    {
     "data": {
      "text/plain": [
       "(1400, 1024)"
      ]
     },
     "execution_count": 17,
     "metadata": {},
     "output_type": "execute_result"
    }
   ],
   "source": [
    "x_tr.shape"
   ]
  },
  {
   "cell_type": "markdown",
   "metadata": {},
   "source": [
    "# Calculation MorganFingerprint for test set"
   ]
  },
  {
   "cell_type": "code",
   "execution_count": 18,
   "metadata": {},
   "outputs": [],
   "source": [
    "fp_ts = [AllChem.GetMorganFingerprintAsBitVect(m, radius=2,nBits=1024,useFeatures=False,useChirality = False) for m in moldf_ts]"
   ]
  },
  {
   "cell_type": "code",
   "execution_count": 19,
   "metadata": {},
   "outputs": [],
   "source": [
    "def rdkit_numpy_convert(fp_ts):\n",
    "    output = []\n",
    "    for f in fp_ts:\n",
    "        arr = np.zeros((1,))\n",
    "        DataStructs.ConvertToNumpyArray(f, arr)\n",
    "        output.append(arr)\n",
    "    return np.asarray(output)"
   ]
  },
  {
   "cell_type": "code",
   "execution_count": 20,
   "metadata": {},
   "outputs": [],
   "source": [
    "x_ts = rdkit_numpy_convert(fp_ts)"
   ]
  },
  {
   "cell_type": "code",
   "execution_count": 21,
   "metadata": {},
   "outputs": [
    {
     "data": {
      "text/plain": [
       "(351, 1024)"
      ]
     },
     "execution_count": 21,
     "metadata": {},
     "output_type": "execute_result"
    }
   ],
   "source": [
    "x_ts.shape"
   ]
  },
  {
   "cell_type": "code",
   "execution_count": 22,
   "metadata": {},
   "outputs": [
    {
     "data": {
      "text/plain": [
       "numpy.ndarray"
      ]
     },
     "execution_count": 22,
     "metadata": {},
     "output_type": "execute_result"
    }
   ],
   "source": [
    "type(x_tr)"
   ]
  },
  {
   "cell_type": "code",
   "execution_count": 23,
   "metadata": {},
   "outputs": [
    {
     "data": {
      "text/plain": [
       "array([[0., 1., 0., ..., 0., 0., 0.],\n",
       "       [0., 1., 0., ..., 0., 0., 0.],\n",
       "       [0., 0., 0., ..., 0., 0., 0.],\n",
       "       ...,\n",
       "       [0., 1., 0., ..., 0., 0., 0.],\n",
       "       [0., 1., 0., ..., 0., 0., 0.],\n",
       "       [0., 1., 0., ..., 0., 0., 0.]])"
      ]
     },
     "execution_count": 23,
     "metadata": {},
     "output_type": "execute_result"
    }
   ],
   "source": [
    "x_tr"
   ]
  },
  {
   "cell_type": "code",
   "execution_count": 24,
   "metadata": {},
   "outputs": [],
   "source": [
    "x_tr = np.array(x_tr, dtype=np.float32)\n",
    "y_tr = np.array(y_tr, dtype=np.float32)"
   ]
  },
  {
   "cell_type": "code",
   "execution_count": 25,
   "metadata": {},
   "outputs": [
    {
     "data": {
      "text/plain": [
       "array([ 4.01,  4.04,  4.05, ..., 10.03, 10.06, 10.1 ], dtype=float32)"
      ]
     },
     "execution_count": 25,
     "metadata": {},
     "output_type": "execute_result"
    }
   ],
   "source": [
    "y_tr"
   ]
  },
  {
   "cell_type": "markdown",
   "metadata": {},
   "source": [
    "# load the models from disk"
   ]
  },
  {
   "cell_type": "code",
   "execution_count": 26,
   "metadata": {},
   "outputs": [],
   "source": [
    "best_svm = pickle.load(open('Models/Morgan_fingerprint/HDAC3_SVM_MF.pkl', 'rb'))"
   ]
  },
  {
   "cell_type": "code",
   "execution_count": 27,
   "metadata": {},
   "outputs": [],
   "source": [
    "best_gbr = pickle.load(open('Models/Morgan_fingerprint/HDAC3_GBR_MF.pkl', 'rb'))"
   ]
  },
  {
   "cell_type": "markdown",
   "metadata": {},
   "source": [
    "# Prediction for CV"
   ]
  },
  {
   "cell_type": "code",
   "execution_count": 28,
   "metadata": {},
   "outputs": [],
   "source": [
    "seed = 42\n",
    "cv=KFold(n_splits=5, random_state=seed, shuffle=True)"
   ]
  },
  {
   "cell_type": "code",
   "execution_count": 29,
   "metadata": {},
   "outputs": [],
   "source": [
    "y_pred_CV_svm = cross_val_predict(best_svm, x_tr, y_tr, cv=cv)"
   ]
  },
  {
   "cell_type": "code",
   "execution_count": 30,
   "metadata": {},
   "outputs": [],
   "source": [
    "y_pred_CV_gbr = cross_val_predict(best_gbr, x_tr, y_tr, cv=cv)"
   ]
  },
  {
   "cell_type": "code",
   "execution_count": 31,
   "metadata": {},
   "outputs": [],
   "source": [
    "y_pred_con=(y_pred_CV_svm+y_pred_CV_gbr)/2"
   ]
  },
  {
   "cell_type": "code",
   "execution_count": 32,
   "metadata": {},
   "outputs": [
    {
     "data": {
      "text/plain": [
       "0.7"
      ]
     },
     "execution_count": 32,
     "metadata": {},
     "output_type": "execute_result"
    }
   ],
   "source": [
    "Q2_CV = round(r2_score(y_tr, y_pred_con), 2)\n",
    "Q2_CV"
   ]
  },
  {
   "cell_type": "code",
   "execution_count": 33,
   "metadata": {},
   "outputs": [
    {
     "data": {
      "text/plain": [
       "0.7"
      ]
     },
     "execution_count": 33,
     "metadata": {},
     "output_type": "execute_result"
    }
   ],
   "source": [
    "RMSE_CV=round(np.sqrt(mean_absolute_error(y_tr, y_pred_con)),2)\n",
    "RMSE_CV"
   ]
  },
  {
   "cell_type": "markdown",
   "metadata": {},
   "source": [
    "# Prediction for test set's molecules"
   ]
  },
  {
   "cell_type": "code",
   "execution_count": 34,
   "metadata": {},
   "outputs": [],
   "source": [
    "x_ts = np.array(x_ts, dtype=np.float32)\n",
    "y_ts = np.array(y_ts, dtype=np.float32)"
   ]
  },
  {
   "cell_type": "code",
   "execution_count": 35,
   "metadata": {},
   "outputs": [],
   "source": [
    "y_pred_svm = best_svm.predict(x_ts)"
   ]
  },
  {
   "cell_type": "code",
   "execution_count": 36,
   "metadata": {},
   "outputs": [],
   "source": [
    "y_pred_gbr = best_gbr.predict(x_ts)"
   ]
  },
  {
   "cell_type": "code",
   "execution_count": 37,
   "metadata": {},
   "outputs": [
    {
     "data": {
      "text/plain": [
       "array([4.33530087, 4.92019796, 6.33850105, 5.61298938, 4.66548568,\n",
       "       4.22747815, 4.80007532, 5.11295123, 4.85948534, 4.10785348,\n",
       "       5.84342459, 4.89217092, 4.88116074, 5.95690906, 6.10333303,\n",
       "       6.02826741, 4.45179087, 5.33311643, 5.42475872, 4.5987074 ,\n",
       "       5.04725274, 6.64973201, 5.87810762, 5.54024464, 4.85238553,\n",
       "       5.73250669, 5.78431075, 5.31192856, 5.15940526, 5.1936824 ,\n",
       "       5.12175071, 4.86579267, 5.65600813, 5.67641794, 5.30004646,\n",
       "       5.69266052, 6.35433112, 5.08429907, 5.53999111, 5.80232175,\n",
       "       7.07048481, 6.44070303, 4.94377261, 6.36352413, 5.00317826,\n",
       "       6.54079048, 5.24344704, 5.88203256, 6.61591194, 5.33647072,\n",
       "       6.38765979, 5.32054809, 5.62509542, 5.44312504, 6.80611167,\n",
       "       6.66461085, 5.55168596, 6.17111045, 6.29218247, 5.77209938,\n",
       "       5.64606314, 6.22992255, 4.93330218, 5.1718819 , 5.65574294,\n",
       "       5.66753126, 6.44485836, 7.01500601, 5.8264116 , 6.33242449,\n",
       "       5.79232292, 5.72288092, 5.78751115, 5.63883912, 5.75520826,\n",
       "       6.31534425, 5.85710181, 5.84766227, 5.71190629, 5.97689277,\n",
       "       5.89341371, 5.55260791, 5.89468267, 5.66124421, 5.86994986,\n",
       "       6.45772085, 6.24430329, 6.31290095, 6.02495617, 4.77371057,\n",
       "       5.52785388, 5.55254568, 6.87191769, 6.14748583, 5.80646064,\n",
       "       6.10365784, 5.80117769, 6.28725788, 6.31534425, 6.07456576,\n",
       "       6.11198636, 6.33958906, 6.68594363, 6.20802582, 5.79776959,\n",
       "       6.291882  , 5.29303188, 6.45783833, 5.49891821, 6.0990328 ,\n",
       "       6.17405804, 6.14758079, 5.9789429 , 5.89020143, 5.99614386,\n",
       "       6.12605132, 6.11442001, 7.48474783, 6.32884795, 6.25603353,\n",
       "       7.36869206, 6.73448189, 6.27031271, 7.03522293, 5.82266668,\n",
       "       6.49740062, 6.92042158, 6.93849804, 6.25062661, 6.66761853,\n",
       "       6.44368225, 6.21407022, 6.56960252, 6.39666721, 6.30734904,\n",
       "       6.41902788, 5.92509946, 6.46867255, 6.59362677, 5.35738892,\n",
       "       6.36113089, 6.23104004, 6.37723791, 6.67005279, 6.3700687 ,\n",
       "       6.10596118, 6.02518445, 6.47627596, 6.42228754, 5.90067726,\n",
       "       5.71275275, 6.70497317, 7.27568991, 6.94292533, 6.08824315,\n",
       "       6.32280429, 6.13927116, 6.39825965, 6.3553487 , 6.63176683,\n",
       "       6.74853612, 6.31878048, 6.51153691, 7.54750057, 6.12437627,\n",
       "       6.59615729, 6.68974292, 6.85294068, 6.21166564, 6.67758455,\n",
       "       6.60773455, 6.67449528, 6.36301448, 8.70136602, 6.96878116,\n",
       "       6.03718426, 6.21898749, 7.6826906 , 6.40643334, 6.25435806,\n",
       "       6.2920596 , 6.52038583, 7.32118947, 6.20438786, 6.76950408,\n",
       "       6.72183691, 6.97240213, 6.45858386, 6.12099021, 7.1849295 ,\n",
       "       5.83332001, 6.56047112, 6.72754469, 6.59454137, 7.15638717,\n",
       "       6.64004747, 6.14517105, 6.40098487, 5.99489373, 6.50783654,\n",
       "       6.04042689, 6.33475409, 7.05703768, 6.93066671, 5.84078323,\n",
       "       7.3980704 , 7.10932153, 6.95878642, 6.88698708, 7.910295  ,\n",
       "       6.01856091, 6.41516331, 5.94393522, 7.83417437, 6.8696859 ,\n",
       "       7.31600082, 6.46222555, 6.73164972, 6.66726498, 7.17716777,\n",
       "       7.32825638, 6.95303169, 6.44946423, 6.92084744, 7.48678367,\n",
       "       5.54007239, 8.61694215, 5.91648259, 7.08039242, 6.29753147,\n",
       "       6.39021042, 5.87546538, 7.25804909, 7.04148134, 6.41801276,\n",
       "       6.92389539, 6.08072362, 7.14420691, 8.26876093, 6.91973593,\n",
       "       6.2519283 , 7.28197351, 6.84864941, 6.7707581 , 7.45367088,\n",
       "       6.24621869, 7.10227609, 7.41858853, 7.39358655, 6.5312537 ,\n",
       "       6.84220818, 6.45868572, 6.96010464, 7.86638196, 7.19103697,\n",
       "       7.19831022, 7.17351212, 8.59902318, 6.99566418, 7.58825253,\n",
       "       7.2405227 , 6.94802329, 8.40050904, 7.0943367 , 7.12976359,\n",
       "       7.06375078, 7.3571563 , 6.3276185 , 7.14981645, 7.40668176,\n",
       "       6.58362066, 7.23240498, 7.21410952, 6.99212334, 7.18755046,\n",
       "       7.23690198, 8.19682691, 7.38253674, 7.366453  , 6.96687795,\n",
       "       7.18054809, 6.93392475, 7.94987875, 7.4912296 , 8.3316213 ,\n",
       "       7.31377836, 7.69843969, 7.99939798, 5.88823723, 7.59047689,\n",
       "       8.47342961, 8.25725656, 8.32280228, 7.75829013, 6.89454467,\n",
       "       8.6133562 , 7.70753692, 7.09300683, 8.2951413 , 8.01137392,\n",
       "       7.8821819 , 8.33498091, 6.77991538, 8.49145229, 7.1805016 ,\n",
       "       7.6874894 , 8.68457898, 8.73107424, 7.66062749, 6.93097745,\n",
       "       7.66730402, 7.9661841 , 7.90036967, 8.19743024, 6.98442631,\n",
       "       6.72760833, 7.28534981, 7.94987875, 8.71386048, 7.09334205,\n",
       "       8.5034979 , 8.0857101 , 7.62759258, 9.39063335, 6.43288321,\n",
       "       8.14796287, 8.88145949, 8.53901016, 8.79972208, 8.35344646,\n",
       "       8.33949804, 8.77057304, 8.75207532, 8.32108882, 8.813425  ,\n",
       "       8.71049332, 8.85892441, 8.94458458, 9.17162473, 9.07774508,\n",
       "       8.92983713, 9.21000246, 9.08205806, 9.244882  , 9.23572982,\n",
       "       8.70670778, 9.03430845, 9.02386191, 8.21761522, 8.30659977,\n",
       "       8.62565545])"
      ]
     },
     "execution_count": 37,
     "metadata": {},
     "output_type": "execute_result"
    }
   ],
   "source": [
    "y_pred_gbr"
   ]
  },
  {
   "cell_type": "code",
   "execution_count": 38,
   "metadata": {},
   "outputs": [],
   "source": [
    "y_pred_con=(y_pred_svm+y_pred_gbr)/2"
   ]
  },
  {
   "cell_type": "code",
   "execution_count": 39,
   "metadata": {},
   "outputs": [
    {
     "data": {
      "text/plain": [
       "0.73"
      ]
     },
     "execution_count": 39,
     "metadata": {},
     "output_type": "execute_result"
    }
   ],
   "source": [
    "Q2_TS = round(r2_score(y_ts, y_pred_con), 2)\n",
    "Q2_TS"
   ]
  },
  {
   "cell_type": "code",
   "execution_count": 40,
   "metadata": {},
   "outputs": [
    {
     "data": {
      "text/plain": [
       "0.69"
      ]
     },
     "execution_count": 40,
     "metadata": {},
     "output_type": "execute_result"
    }
   ],
   "source": [
    "RMSE_TS=round(np.sqrt(mean_absolute_error(y_ts, y_pred_con)), 2)\n",
    "RMSE_TS"
   ]
  },
  {
   "cell_type": "markdown",
   "metadata": {},
   "source": [
    "# Estimating applicability domain. Method - Euclidian distances, K=1"
   ]
  },
  {
   "cell_type": "code",
   "execution_count": 41,
   "metadata": {},
   "outputs": [],
   "source": [
    "neighbors_k= pairwise_distances(x_tr, n_jobs=-1)\n",
    "neighbors_k.sort(0)"
   ]
  },
  {
   "cell_type": "code",
   "execution_count": 42,
   "metadata": {},
   "outputs": [
    {
     "data": {
      "text/html": [
       "<div>\n",
       "<style scoped>\n",
       "    .dataframe tbody tr th:only-of-type {\n",
       "        vertical-align: middle;\n",
       "    }\n",
       "\n",
       "    .dataframe tbody tr th {\n",
       "        vertical-align: top;\n",
       "    }\n",
       "\n",
       "    .dataframe thead th {\n",
       "        text-align: right;\n",
       "    }\n",
       "</style>\n",
       "<table border=\"1\" class=\"dataframe\">\n",
       "  <thead>\n",
       "    <tr style=\"text-align: right;\">\n",
       "      <th></th>\n",
       "      <th>0</th>\n",
       "      <th>1</th>\n",
       "      <th>2</th>\n",
       "      <th>3</th>\n",
       "      <th>4</th>\n",
       "      <th>5</th>\n",
       "      <th>6</th>\n",
       "      <th>7</th>\n",
       "      <th>8</th>\n",
       "      <th>9</th>\n",
       "      <th>...</th>\n",
       "      <th>1390</th>\n",
       "      <th>1391</th>\n",
       "      <th>1392</th>\n",
       "      <th>1393</th>\n",
       "      <th>1394</th>\n",
       "      <th>1395</th>\n",
       "      <th>1396</th>\n",
       "      <th>1397</th>\n",
       "      <th>1398</th>\n",
       "      <th>1399</th>\n",
       "    </tr>\n",
       "  </thead>\n",
       "  <tbody>\n",
       "    <tr>\n",
       "      <th>0</th>\n",
       "      <td>0.000000</td>\n",
       "      <td>0.000000</td>\n",
       "      <td>0.000000</td>\n",
       "      <td>0.000000</td>\n",
       "      <td>0.000000</td>\n",
       "      <td>0.000000</td>\n",
       "      <td>0.000000</td>\n",
       "      <td>0.000000</td>\n",
       "      <td>0.000000</td>\n",
       "      <td>0.000000</td>\n",
       "      <td>...</td>\n",
       "      <td>0.000000</td>\n",
       "      <td>0.000000</td>\n",
       "      <td>0.000000</td>\n",
       "      <td>0.000000</td>\n",
       "      <td>0.000000</td>\n",
       "      <td>0.000000</td>\n",
       "      <td>0.000000</td>\n",
       "      <td>0.000000</td>\n",
       "      <td>0.000000</td>\n",
       "      <td>0.000000</td>\n",
       "    </tr>\n",
       "    <tr>\n",
       "      <th>1</th>\n",
       "      <td>3.316625</td>\n",
       "      <td>3.464102</td>\n",
       "      <td>3.316625</td>\n",
       "      <td>3.316625</td>\n",
       "      <td>3.316625</td>\n",
       "      <td>4.242640</td>\n",
       "      <td>4.000000</td>\n",
       "      <td>5.656854</td>\n",
       "      <td>4.123106</td>\n",
       "      <td>4.795832</td>\n",
       "      <td>...</td>\n",
       "      <td>4.000000</td>\n",
       "      <td>3.605551</td>\n",
       "      <td>4.123106</td>\n",
       "      <td>2.645751</td>\n",
       "      <td>3.605551</td>\n",
       "      <td>3.316625</td>\n",
       "      <td>3.605551</td>\n",
       "      <td>3.464102</td>\n",
       "      <td>5.744563</td>\n",
       "      <td>5.000000</td>\n",
       "    </tr>\n",
       "    <tr>\n",
       "      <th>2</th>\n",
       "      <td>3.872983</td>\n",
       "      <td>4.000000</td>\n",
       "      <td>4.358899</td>\n",
       "      <td>3.464102</td>\n",
       "      <td>3.872983</td>\n",
       "      <td>4.242640</td>\n",
       "      <td>4.123106</td>\n",
       "      <td>6.164414</td>\n",
       "      <td>4.898980</td>\n",
       "      <td>5.477226</td>\n",
       "      <td>...</td>\n",
       "      <td>5.744563</td>\n",
       "      <td>3.741657</td>\n",
       "      <td>4.582576</td>\n",
       "      <td>4.795832</td>\n",
       "      <td>3.872983</td>\n",
       "      <td>3.605551</td>\n",
       "      <td>4.000000</td>\n",
       "      <td>3.741657</td>\n",
       "      <td>6.557438</td>\n",
       "      <td>5.099020</td>\n",
       "    </tr>\n",
       "    <tr>\n",
       "      <th>3</th>\n",
       "      <td>4.000000</td>\n",
       "      <td>4.123106</td>\n",
       "      <td>4.582576</td>\n",
       "      <td>4.123106</td>\n",
       "      <td>4.472136</td>\n",
       "      <td>4.898980</td>\n",
       "      <td>4.472136</td>\n",
       "      <td>6.324555</td>\n",
       "      <td>5.656854</td>\n",
       "      <td>5.477226</td>\n",
       "      <td>...</td>\n",
       "      <td>6.480741</td>\n",
       "      <td>3.872983</td>\n",
       "      <td>4.795832</td>\n",
       "      <td>4.898980</td>\n",
       "      <td>4.000000</td>\n",
       "      <td>3.741657</td>\n",
       "      <td>4.690416</td>\n",
       "      <td>3.741657</td>\n",
       "      <td>6.782330</td>\n",
       "      <td>5.656854</td>\n",
       "    </tr>\n",
       "    <tr>\n",
       "      <th>4</th>\n",
       "      <td>4.000000</td>\n",
       "      <td>4.123106</td>\n",
       "      <td>5.477226</td>\n",
       "      <td>4.242640</td>\n",
       "      <td>5.196152</td>\n",
       "      <td>5.000000</td>\n",
       "      <td>4.898980</td>\n",
       "      <td>6.403124</td>\n",
       "      <td>5.830952</td>\n",
       "      <td>5.567764</td>\n",
       "      <td>...</td>\n",
       "      <td>6.557438</td>\n",
       "      <td>5.000000</td>\n",
       "      <td>5.000000</td>\n",
       "      <td>5.000000</td>\n",
       "      <td>4.000000</td>\n",
       "      <td>3.741657</td>\n",
       "      <td>5.196152</td>\n",
       "      <td>3.872983</td>\n",
       "      <td>6.782330</td>\n",
       "      <td>5.656854</td>\n",
       "    </tr>\n",
       "    <tr>\n",
       "      <th>...</th>\n",
       "      <td>...</td>\n",
       "      <td>...</td>\n",
       "      <td>...</td>\n",
       "      <td>...</td>\n",
       "      <td>...</td>\n",
       "      <td>...</td>\n",
       "      <td>...</td>\n",
       "      <td>...</td>\n",
       "      <td>...</td>\n",
       "      <td>...</td>\n",
       "      <td>...</td>\n",
       "      <td>...</td>\n",
       "      <td>...</td>\n",
       "      <td>...</td>\n",
       "      <td>...</td>\n",
       "      <td>...</td>\n",
       "      <td>...</td>\n",
       "      <td>...</td>\n",
       "      <td>...</td>\n",
       "      <td>...</td>\n",
       "      <td>...</td>\n",
       "    </tr>\n",
       "    <tr>\n",
       "      <th>1395</th>\n",
       "      <td>9.797959</td>\n",
       "      <td>9.848858</td>\n",
       "      <td>10.583005</td>\n",
       "      <td>10.000000</td>\n",
       "      <td>10.000000</td>\n",
       "      <td>9.643651</td>\n",
       "      <td>10.392304</td>\n",
       "      <td>10.099504</td>\n",
       "      <td>10.488089</td>\n",
       "      <td>10.344080</td>\n",
       "      <td>...</td>\n",
       "      <td>10.488089</td>\n",
       "      <td>10.246951</td>\n",
       "      <td>11.090536</td>\n",
       "      <td>10.908712</td>\n",
       "      <td>10.816654</td>\n",
       "      <td>10.954452</td>\n",
       "      <td>11.045361</td>\n",
       "      <td>11.135529</td>\n",
       "      <td>10.723805</td>\n",
       "      <td>11.135529</td>\n",
       "    </tr>\n",
       "    <tr>\n",
       "      <th>1396</th>\n",
       "      <td>9.848858</td>\n",
       "      <td>9.848858</td>\n",
       "      <td>10.583005</td>\n",
       "      <td>10.049875</td>\n",
       "      <td>10.049875</td>\n",
       "      <td>9.643651</td>\n",
       "      <td>10.392304</td>\n",
       "      <td>10.198039</td>\n",
       "      <td>10.488089</td>\n",
       "      <td>10.392304</td>\n",
       "      <td>...</td>\n",
       "      <td>10.630146</td>\n",
       "      <td>10.246951</td>\n",
       "      <td>11.135529</td>\n",
       "      <td>10.954452</td>\n",
       "      <td>10.908712</td>\n",
       "      <td>11.000000</td>\n",
       "      <td>11.090536</td>\n",
       "      <td>11.135529</td>\n",
       "      <td>10.770329</td>\n",
       "      <td>11.180340</td>\n",
       "    </tr>\n",
       "    <tr>\n",
       "      <th>1397</th>\n",
       "      <td>10.099504</td>\n",
       "      <td>10.049875</td>\n",
       "      <td>10.630146</td>\n",
       "      <td>10.148891</td>\n",
       "      <td>10.099504</td>\n",
       "      <td>9.848858</td>\n",
       "      <td>10.440307</td>\n",
       "      <td>10.344080</td>\n",
       "      <td>10.488089</td>\n",
       "      <td>10.440307</td>\n",
       "      <td>...</td>\n",
       "      <td>10.723805</td>\n",
       "      <td>10.295630</td>\n",
       "      <td>11.135529</td>\n",
       "      <td>11.045361</td>\n",
       "      <td>10.908712</td>\n",
       "      <td>11.045361</td>\n",
       "      <td>11.090536</td>\n",
       "      <td>11.180340</td>\n",
       "      <td>10.862781</td>\n",
       "      <td>11.180340</td>\n",
       "    </tr>\n",
       "    <tr>\n",
       "      <th>1398</th>\n",
       "      <td>10.148891</td>\n",
       "      <td>10.198039</td>\n",
       "      <td>10.723805</td>\n",
       "      <td>10.198039</td>\n",
       "      <td>10.148891</td>\n",
       "      <td>10.000000</td>\n",
       "      <td>10.440307</td>\n",
       "      <td>10.392304</td>\n",
       "      <td>10.630146</td>\n",
       "      <td>10.488089</td>\n",
       "      <td>...</td>\n",
       "      <td>10.770329</td>\n",
       "      <td>10.295630</td>\n",
       "      <td>11.224972</td>\n",
       "      <td>11.045361</td>\n",
       "      <td>10.908712</td>\n",
       "      <td>11.135529</td>\n",
       "      <td>11.180340</td>\n",
       "      <td>11.269427</td>\n",
       "      <td>10.954452</td>\n",
       "      <td>11.313708</td>\n",
       "    </tr>\n",
       "    <tr>\n",
       "      <th>1399</th>\n",
       "      <td>11.045361</td>\n",
       "      <td>10.908712</td>\n",
       "      <td>11.958261</td>\n",
       "      <td>11.532562</td>\n",
       "      <td>11.445523</td>\n",
       "      <td>11.661903</td>\n",
       "      <td>11.618950</td>\n",
       "      <td>11.789826</td>\n",
       "      <td>11.704700</td>\n",
       "      <td>11.135529</td>\n",
       "      <td>...</td>\n",
       "      <td>11.832160</td>\n",
       "      <td>11.575837</td>\n",
       "      <td>12.124355</td>\n",
       "      <td>11.180340</td>\n",
       "      <td>11.661903</td>\n",
       "      <td>11.874342</td>\n",
       "      <td>12.000000</td>\n",
       "      <td>12.000000</td>\n",
       "      <td>11.789826</td>\n",
       "      <td>12.369317</td>\n",
       "    </tr>\n",
       "  </tbody>\n",
       "</table>\n",
       "<p>1400 rows × 1400 columns</p>\n",
       "</div>"
      ],
      "text/plain": [
       "           0          1          2          3          4          5     \\\n",
       "0      0.000000   0.000000   0.000000   0.000000   0.000000   0.000000   \n",
       "1      3.316625   3.464102   3.316625   3.316625   3.316625   4.242640   \n",
       "2      3.872983   4.000000   4.358899   3.464102   3.872983   4.242640   \n",
       "3      4.000000   4.123106   4.582576   4.123106   4.472136   4.898980   \n",
       "4      4.000000   4.123106   5.477226   4.242640   5.196152   5.000000   \n",
       "...         ...        ...        ...        ...        ...        ...   \n",
       "1395   9.797959   9.848858  10.583005  10.000000  10.000000   9.643651   \n",
       "1396   9.848858   9.848858  10.583005  10.049875  10.049875   9.643651   \n",
       "1397  10.099504  10.049875  10.630146  10.148891  10.099504   9.848858   \n",
       "1398  10.148891  10.198039  10.723805  10.198039  10.148891  10.000000   \n",
       "1399  11.045361  10.908712  11.958261  11.532562  11.445523  11.661903   \n",
       "\n",
       "           6          7          8          9     ...       1390       1391  \\\n",
       "0      0.000000   0.000000   0.000000   0.000000  ...   0.000000   0.000000   \n",
       "1      4.000000   5.656854   4.123106   4.795832  ...   4.000000   3.605551   \n",
       "2      4.123106   6.164414   4.898980   5.477226  ...   5.744563   3.741657   \n",
       "3      4.472136   6.324555   5.656854   5.477226  ...   6.480741   3.872983   \n",
       "4      4.898980   6.403124   5.830952   5.567764  ...   6.557438   5.000000   \n",
       "...         ...        ...        ...        ...  ...        ...        ...   \n",
       "1395  10.392304  10.099504  10.488089  10.344080  ...  10.488089  10.246951   \n",
       "1396  10.392304  10.198039  10.488089  10.392304  ...  10.630146  10.246951   \n",
       "1397  10.440307  10.344080  10.488089  10.440307  ...  10.723805  10.295630   \n",
       "1398  10.440307  10.392304  10.630146  10.488089  ...  10.770329  10.295630   \n",
       "1399  11.618950  11.789826  11.704700  11.135529  ...  11.832160  11.575837   \n",
       "\n",
       "           1392       1393       1394       1395       1396       1397  \\\n",
       "0      0.000000   0.000000   0.000000   0.000000   0.000000   0.000000   \n",
       "1      4.123106   2.645751   3.605551   3.316625   3.605551   3.464102   \n",
       "2      4.582576   4.795832   3.872983   3.605551   4.000000   3.741657   \n",
       "3      4.795832   4.898980   4.000000   3.741657   4.690416   3.741657   \n",
       "4      5.000000   5.000000   4.000000   3.741657   5.196152   3.872983   \n",
       "...         ...        ...        ...        ...        ...        ...   \n",
       "1395  11.090536  10.908712  10.816654  10.954452  11.045361  11.135529   \n",
       "1396  11.135529  10.954452  10.908712  11.000000  11.090536  11.135529   \n",
       "1397  11.135529  11.045361  10.908712  11.045361  11.090536  11.180340   \n",
       "1398  11.224972  11.045361  10.908712  11.135529  11.180340  11.269427   \n",
       "1399  12.124355  11.180340  11.661903  11.874342  12.000000  12.000000   \n",
       "\n",
       "           1398       1399  \n",
       "0      0.000000   0.000000  \n",
       "1      5.744563   5.000000  \n",
       "2      6.557438   5.099020  \n",
       "3      6.782330   5.656854  \n",
       "4      6.782330   5.656854  \n",
       "...         ...        ...  \n",
       "1395  10.723805  11.135529  \n",
       "1396  10.770329  11.180340  \n",
       "1397  10.862781  11.180340  \n",
       "1398  10.954452  11.313708  \n",
       "1399  11.789826  12.369317  \n",
       "\n",
       "[1400 rows x 1400 columns]"
      ]
     },
     "execution_count": 42,
     "metadata": {},
     "output_type": "execute_result"
    }
   ],
   "source": [
    "df_tr=pd.DataFrame(neighbors_k)\n",
    "df_tr"
   ]
  },
  {
   "cell_type": "code",
   "execution_count": 43,
   "metadata": {},
   "outputs": [],
   "source": [
    "similarity= neighbors_k"
   ]
  },
  {
   "cell_type": "code",
   "execution_count": 44,
   "metadata": {},
   "outputs": [],
   "source": [
    "Dmean=np.mean(similarity[1,:])"
   ]
  },
  {
   "cell_type": "code",
   "execution_count": 45,
   "metadata": {},
   "outputs": [
    {
     "data": {
      "text/plain": [
       "3.46"
      ]
     },
     "execution_count": 45,
     "metadata": {},
     "output_type": "execute_result"
    }
   ],
   "source": [
    "round(Dmean, 2)"
   ]
  },
  {
   "cell_type": "code",
   "execution_count": 46,
   "metadata": {},
   "outputs": [],
   "source": [
    "std=np.std(similarity[1,:])"
   ]
  },
  {
   "cell_type": "code",
   "execution_count": 47,
   "metadata": {},
   "outputs": [
    {
     "data": {
      "text/plain": [
       "1.43"
      ]
     },
     "execution_count": 47,
     "metadata": {},
     "output_type": "execute_result"
    }
   ],
   "source": [
    "round(std, 2)"
   ]
  },
  {
   "cell_type": "code",
   "execution_count": 48,
   "metadata": {},
   "outputs": [
    {
     "name": "stdout",
     "output_type": "stream",
     "text": [
      "4.17\n"
     ]
    }
   ],
   "source": [
    "model_AD_limit=Dmean+std*0.5\n",
    "print(np.round(model_AD_limit, 2))"
   ]
  },
  {
   "cell_type": "code",
   "execution_count": 49,
   "metadata": {},
   "outputs": [],
   "source": [
    "neighbors_k_ts= pairwise_distances(x_tr,Y=x_ts, n_jobs=-1)\n",
    "neighbors_k_ts.sort(0)"
   ]
  },
  {
   "cell_type": "code",
   "execution_count": 50,
   "metadata": {},
   "outputs": [
    {
     "data": {
      "text/html": [
       "<div>\n",
       "<style scoped>\n",
       "    .dataframe tbody tr th:only-of-type {\n",
       "        vertical-align: middle;\n",
       "    }\n",
       "\n",
       "    .dataframe tbody tr th {\n",
       "        vertical-align: top;\n",
       "    }\n",
       "\n",
       "    .dataframe thead th {\n",
       "        text-align: right;\n",
       "    }\n",
       "</style>\n",
       "<table border=\"1\" class=\"dataframe\">\n",
       "  <thead>\n",
       "    <tr style=\"text-align: right;\">\n",
       "      <th></th>\n",
       "      <th>0</th>\n",
       "      <th>1</th>\n",
       "      <th>2</th>\n",
       "      <th>3</th>\n",
       "      <th>4</th>\n",
       "      <th>5</th>\n",
       "      <th>6</th>\n",
       "      <th>7</th>\n",
       "      <th>8</th>\n",
       "      <th>9</th>\n",
       "      <th>...</th>\n",
       "      <th>341</th>\n",
       "      <th>342</th>\n",
       "      <th>343</th>\n",
       "      <th>344</th>\n",
       "      <th>345</th>\n",
       "      <th>346</th>\n",
       "      <th>347</th>\n",
       "      <th>348</th>\n",
       "      <th>349</th>\n",
       "      <th>350</th>\n",
       "    </tr>\n",
       "  </thead>\n",
       "  <tbody>\n",
       "    <tr>\n",
       "      <th>0</th>\n",
       "      <td>0.000000</td>\n",
       "      <td>3.605551</td>\n",
       "      <td>8.000000</td>\n",
       "      <td>4.242640</td>\n",
       "      <td>4.690416</td>\n",
       "      <td>4.123106</td>\n",
       "      <td>4.123106</td>\n",
       "      <td>3.605551</td>\n",
       "      <td>3.464102</td>\n",
       "      <td>4.472136</td>\n",
       "      <td>...</td>\n",
       "      <td>3.464102</td>\n",
       "      <td>3.741657</td>\n",
       "      <td>3.162278</td>\n",
       "      <td>4.242640</td>\n",
       "      <td>4.242640</td>\n",
       "      <td>4.123106</td>\n",
       "      <td>3.872983</td>\n",
       "      <td>4.472136</td>\n",
       "      <td>5.000000</td>\n",
       "      <td>2.449490</td>\n",
       "    </tr>\n",
       "    <tr>\n",
       "      <th>1</th>\n",
       "      <td>3.464102</td>\n",
       "      <td>4.898980</td>\n",
       "      <td>8.124039</td>\n",
       "      <td>4.898980</td>\n",
       "      <td>5.000000</td>\n",
       "      <td>4.358899</td>\n",
       "      <td>4.123106</td>\n",
       "      <td>3.872983</td>\n",
       "      <td>3.741657</td>\n",
       "      <td>5.099020</td>\n",
       "      <td>...</td>\n",
       "      <td>3.605551</td>\n",
       "      <td>3.741657</td>\n",
       "      <td>3.316625</td>\n",
       "      <td>4.358899</td>\n",
       "      <td>4.690416</td>\n",
       "      <td>4.472136</td>\n",
       "      <td>4.000000</td>\n",
       "      <td>4.582576</td>\n",
       "      <td>5.291502</td>\n",
       "      <td>3.000000</td>\n",
       "    </tr>\n",
       "    <tr>\n",
       "      <th>2</th>\n",
       "      <td>3.872983</td>\n",
       "      <td>6.324555</td>\n",
       "      <td>8.124039</td>\n",
       "      <td>5.000000</td>\n",
       "      <td>5.744563</td>\n",
       "      <td>4.472136</td>\n",
       "      <td>4.795832</td>\n",
       "      <td>3.872983</td>\n",
       "      <td>5.099020</td>\n",
       "      <td>5.099020</td>\n",
       "      <td>...</td>\n",
       "      <td>3.741657</td>\n",
       "      <td>3.741657</td>\n",
       "      <td>3.464102</td>\n",
       "      <td>5.196152</td>\n",
       "      <td>4.898980</td>\n",
       "      <td>4.472136</td>\n",
       "      <td>4.472136</td>\n",
       "      <td>4.582576</td>\n",
       "      <td>5.567764</td>\n",
       "      <td>3.464102</td>\n",
       "    </tr>\n",
       "    <tr>\n",
       "      <th>3</th>\n",
       "      <td>3.872983</td>\n",
       "      <td>6.324555</td>\n",
       "      <td>8.185352</td>\n",
       "      <td>5.385165</td>\n",
       "      <td>5.916080</td>\n",
       "      <td>5.830952</td>\n",
       "      <td>5.830952</td>\n",
       "      <td>4.898980</td>\n",
       "      <td>5.567764</td>\n",
       "      <td>5.567764</td>\n",
       "      <td>...</td>\n",
       "      <td>4.358899</td>\n",
       "      <td>3.872983</td>\n",
       "      <td>4.123106</td>\n",
       "      <td>5.291502</td>\n",
       "      <td>5.099020</td>\n",
       "      <td>4.582576</td>\n",
       "      <td>4.690416</td>\n",
       "      <td>4.582576</td>\n",
       "      <td>5.830952</td>\n",
       "      <td>5.744563</td>\n",
       "    </tr>\n",
       "    <tr>\n",
       "      <th>4</th>\n",
       "      <td>4.000000</td>\n",
       "      <td>6.403124</td>\n",
       "      <td>8.246211</td>\n",
       "      <td>5.567764</td>\n",
       "      <td>7.211102</td>\n",
       "      <td>5.830952</td>\n",
       "      <td>6.082763</td>\n",
       "      <td>5.099020</td>\n",
       "      <td>6.000000</td>\n",
       "      <td>5.567764</td>\n",
       "      <td>...</td>\n",
       "      <td>4.582576</td>\n",
       "      <td>4.582576</td>\n",
       "      <td>4.582576</td>\n",
       "      <td>5.291502</td>\n",
       "      <td>5.916080</td>\n",
       "      <td>4.582576</td>\n",
       "      <td>5.000000</td>\n",
       "      <td>4.690416</td>\n",
       "      <td>6.782330</td>\n",
       "      <td>5.916080</td>\n",
       "    </tr>\n",
       "    <tr>\n",
       "      <th>...</th>\n",
       "      <td>...</td>\n",
       "      <td>...</td>\n",
       "      <td>...</td>\n",
       "      <td>...</td>\n",
       "      <td>...</td>\n",
       "      <td>...</td>\n",
       "      <td>...</td>\n",
       "      <td>...</td>\n",
       "      <td>...</td>\n",
       "      <td>...</td>\n",
       "      <td>...</td>\n",
       "      <td>...</td>\n",
       "      <td>...</td>\n",
       "      <td>...</td>\n",
       "      <td>...</td>\n",
       "      <td>...</td>\n",
       "      <td>...</td>\n",
       "      <td>...</td>\n",
       "      <td>...</td>\n",
       "      <td>...</td>\n",
       "      <td>...</td>\n",
       "    </tr>\n",
       "    <tr>\n",
       "      <th>1395</th>\n",
       "      <td>9.797959</td>\n",
       "      <td>9.899495</td>\n",
       "      <td>11.489125</td>\n",
       "      <td>11.045361</td>\n",
       "      <td>10.344080</td>\n",
       "      <td>10.440307</td>\n",
       "      <td>10.677078</td>\n",
       "      <td>9.949874</td>\n",
       "      <td>10.295630</td>\n",
       "      <td>10.488089</td>\n",
       "      <td>...</td>\n",
       "      <td>10.246951</td>\n",
       "      <td>10.198039</td>\n",
       "      <td>10.148891</td>\n",
       "      <td>11.135529</td>\n",
       "      <td>10.770329</td>\n",
       "      <td>10.954452</td>\n",
       "      <td>11.045361</td>\n",
       "      <td>10.816654</td>\n",
       "      <td>11.135529</td>\n",
       "      <td>11.180340</td>\n",
       "    </tr>\n",
       "    <tr>\n",
       "      <th>1396</th>\n",
       "      <td>9.899495</td>\n",
       "      <td>9.899495</td>\n",
       "      <td>11.532562</td>\n",
       "      <td>11.045361</td>\n",
       "      <td>10.488089</td>\n",
       "      <td>10.440307</td>\n",
       "      <td>10.723805</td>\n",
       "      <td>10.000000</td>\n",
       "      <td>10.344080</td>\n",
       "      <td>10.488089</td>\n",
       "      <td>...</td>\n",
       "      <td>10.344080</td>\n",
       "      <td>10.295630</td>\n",
       "      <td>10.246951</td>\n",
       "      <td>11.135529</td>\n",
       "      <td>10.816654</td>\n",
       "      <td>11.000000</td>\n",
       "      <td>11.090536</td>\n",
       "      <td>10.862781</td>\n",
       "      <td>11.135529</td>\n",
       "      <td>11.180340</td>\n",
       "    </tr>\n",
       "    <tr>\n",
       "      <th>1397</th>\n",
       "      <td>10.049875</td>\n",
       "      <td>9.949874</td>\n",
       "      <td>11.532562</td>\n",
       "      <td>11.090536</td>\n",
       "      <td>10.583005</td>\n",
       "      <td>10.440307</td>\n",
       "      <td>10.723805</td>\n",
       "      <td>10.000000</td>\n",
       "      <td>10.440307</td>\n",
       "      <td>10.488089</td>\n",
       "      <td>...</td>\n",
       "      <td>10.392304</td>\n",
       "      <td>10.440307</td>\n",
       "      <td>10.295630</td>\n",
       "      <td>11.180340</td>\n",
       "      <td>10.862781</td>\n",
       "      <td>11.000000</td>\n",
       "      <td>11.090536</td>\n",
       "      <td>10.908712</td>\n",
       "      <td>11.269427</td>\n",
       "      <td>11.180340</td>\n",
       "    </tr>\n",
       "    <tr>\n",
       "      <th>1398</th>\n",
       "      <td>10.099504</td>\n",
       "      <td>10.049875</td>\n",
       "      <td>11.747340</td>\n",
       "      <td>11.135529</td>\n",
       "      <td>10.630146</td>\n",
       "      <td>10.488089</td>\n",
       "      <td>10.862781</td>\n",
       "      <td>10.049875</td>\n",
       "      <td>10.583005</td>\n",
       "      <td>10.535654</td>\n",
       "      <td>...</td>\n",
       "      <td>10.488089</td>\n",
       "      <td>10.488089</td>\n",
       "      <td>10.392304</td>\n",
       "      <td>11.313708</td>\n",
       "      <td>10.954452</td>\n",
       "      <td>11.090536</td>\n",
       "      <td>11.180340</td>\n",
       "      <td>11.045361</td>\n",
       "      <td>11.313708</td>\n",
       "      <td>11.224972</td>\n",
       "    </tr>\n",
       "    <tr>\n",
       "      <th>1399</th>\n",
       "      <td>10.908712</td>\n",
       "      <td>11.618950</td>\n",
       "      <td>12.727922</td>\n",
       "      <td>11.916375</td>\n",
       "      <td>12.165525</td>\n",
       "      <td>12.247449</td>\n",
       "      <td>11.832160</td>\n",
       "      <td>11.789826</td>\n",
       "      <td>11.916375</td>\n",
       "      <td>12.247449</td>\n",
       "      <td>...</td>\n",
       "      <td>11.489125</td>\n",
       "      <td>11.618950</td>\n",
       "      <td>11.401754</td>\n",
       "      <td>11.958261</td>\n",
       "      <td>11.958261</td>\n",
       "      <td>12.083046</td>\n",
       "      <td>12.000000</td>\n",
       "      <td>11.532562</td>\n",
       "      <td>11.618950</td>\n",
       "      <td>11.489125</td>\n",
       "    </tr>\n",
       "  </tbody>\n",
       "</table>\n",
       "<p>1400 rows × 351 columns</p>\n",
       "</div>"
      ],
      "text/plain": [
       "            0          1          2          3          4          5    \\\n",
       "0      0.000000   3.605551   8.000000   4.242640   4.690416   4.123106   \n",
       "1      3.464102   4.898980   8.124039   4.898980   5.000000   4.358899   \n",
       "2      3.872983   6.324555   8.124039   5.000000   5.744563   4.472136   \n",
       "3      3.872983   6.324555   8.185352   5.385165   5.916080   5.830952   \n",
       "4      4.000000   6.403124   8.246211   5.567764   7.211102   5.830952   \n",
       "...         ...        ...        ...        ...        ...        ...   \n",
       "1395   9.797959   9.899495  11.489125  11.045361  10.344080  10.440307   \n",
       "1396   9.899495   9.899495  11.532562  11.045361  10.488089  10.440307   \n",
       "1397  10.049875   9.949874  11.532562  11.090536  10.583005  10.440307   \n",
       "1398  10.099504  10.049875  11.747340  11.135529  10.630146  10.488089   \n",
       "1399  10.908712  11.618950  12.727922  11.916375  12.165525  12.247449   \n",
       "\n",
       "            6          7          8          9    ...        341        342  \\\n",
       "0      4.123106   3.605551   3.464102   4.472136  ...   3.464102   3.741657   \n",
       "1      4.123106   3.872983   3.741657   5.099020  ...   3.605551   3.741657   \n",
       "2      4.795832   3.872983   5.099020   5.099020  ...   3.741657   3.741657   \n",
       "3      5.830952   4.898980   5.567764   5.567764  ...   4.358899   3.872983   \n",
       "4      6.082763   5.099020   6.000000   5.567764  ...   4.582576   4.582576   \n",
       "...         ...        ...        ...        ...  ...        ...        ...   \n",
       "1395  10.677078   9.949874  10.295630  10.488089  ...  10.246951  10.198039   \n",
       "1396  10.723805  10.000000  10.344080  10.488089  ...  10.344080  10.295630   \n",
       "1397  10.723805  10.000000  10.440307  10.488089  ...  10.392304  10.440307   \n",
       "1398  10.862781  10.049875  10.583005  10.535654  ...  10.488089  10.488089   \n",
       "1399  11.832160  11.789826  11.916375  12.247449  ...  11.489125  11.618950   \n",
       "\n",
       "            343        344        345        346        347        348  \\\n",
       "0      3.162278   4.242640   4.242640   4.123106   3.872983   4.472136   \n",
       "1      3.316625   4.358899   4.690416   4.472136   4.000000   4.582576   \n",
       "2      3.464102   5.196152   4.898980   4.472136   4.472136   4.582576   \n",
       "3      4.123106   5.291502   5.099020   4.582576   4.690416   4.582576   \n",
       "4      4.582576   5.291502   5.916080   4.582576   5.000000   4.690416   \n",
       "...         ...        ...        ...        ...        ...        ...   \n",
       "1395  10.148891  11.135529  10.770329  10.954452  11.045361  10.816654   \n",
       "1396  10.246951  11.135529  10.816654  11.000000  11.090536  10.862781   \n",
       "1397  10.295630  11.180340  10.862781  11.000000  11.090536  10.908712   \n",
       "1398  10.392304  11.313708  10.954452  11.090536  11.180340  11.045361   \n",
       "1399  11.401754  11.958261  11.958261  12.083046  12.000000  11.532562   \n",
       "\n",
       "            349        350  \n",
       "0      5.000000   2.449490  \n",
       "1      5.291502   3.000000  \n",
       "2      5.567764   3.464102  \n",
       "3      5.830952   5.744563  \n",
       "4      6.782330   5.916080  \n",
       "...         ...        ...  \n",
       "1395  11.135529  11.180340  \n",
       "1396  11.135529  11.180340  \n",
       "1397  11.269427  11.180340  \n",
       "1398  11.313708  11.224972  \n",
       "1399  11.618950  11.489125  \n",
       "\n",
       "[1400 rows x 351 columns]"
      ]
     },
     "execution_count": 50,
     "metadata": {},
     "output_type": "execute_result"
    }
   ],
   "source": [
    "x_ts_AD=pd.DataFrame(neighbors_k_ts)\n",
    "x_ts_AD"
   ]
  },
  {
   "cell_type": "code",
   "execution_count": 51,
   "metadata": {},
   "outputs": [
    {
     "name": "stdout",
     "output_type": "stream",
     "text": [
      "[0.    3.606 8.    4.243 4.69  4.123 4.123 3.606 3.464 4.472 4.796 3.742\n",
      " 3.606 5.745 5.745 1.    2.449 3.464 5.099 4.    3.162 4.    4.899 1.\n",
      " 3.317 1.    3.162 2.449 3.606 3.464 5.099 4.359 5.    4.123 4.123 2.\n",
      " 4.472 3.606 2.449 3.742 4.69  5.831 3.464 5.385 3.873 4.583 5.477 4.359\n",
      " 1.    1.414 3.606 4.583 3.464 3.317 2.236 6.    3.    3.162 3.606 3.162\n",
      " 3.606 3.464 3.606 5.385 4.123 2.    5.099 4.472 1.    5.    5.099 3.162\n",
      " 3.    3.742 1.    0.    3.317 3.742 3.317 4.359 4.472 2.646 3.317 3.162\n",
      " 4.472 2.828 4.    3.464 2.449 4.899 2.828 6.557 4.69  3.162 0.    3.317\n",
      " 2.828 4.243 0.    3.317 7.348 3.    4.    0.    4.    2.646 4.123 0.\n",
      " 3.464 1.    2.236 3.606 3.    3.    6.164 1.    3.606 0.    4.123 3.317\n",
      " 3.873 3.464 4.796 4.123 4.243 4.    3.606 3.    3.    3.873 1.732 4.123\n",
      " 3.464 3.317 2.828 3.    3.    4.    4.359 1.414 6.164 3.873 3.464 3.606\n",
      " 3.606 3.162 2.828 3.742 4.359 6.403 3.162 3.873 3.162 3.317 0.    2.828\n",
      " 3.742 4.123 4.583 3.    3.873 3.606 3.162 3.873 0.    4.    4.359 2.236\n",
      " 4.    3.162 3.    3.    2.646 3.317 3.162 5.099 3.464 3.606 3.464 4.\n",
      " 3.162 4.472 5.    3.162 2.    3.606 3.317 3.873 3.742 3.317 3.606 3.464\n",
      " 3.464 2.449 4.243 3.606 3.873 3.    1.    3.317 3.162 3.    2.828 3.873\n",
      " 1.732 3.464 3.317 4.359 1.732 3.    3.    0.    3.317 3.    3.317 4.123\n",
      " 3.162 3.162 3.317 5.    3.606 3.162 0.    3.742 4.359 3.873 3.464 0.\n",
      " 3.    4.472 1.732 4.472 3.873 2.828 3.464 3.464 4.69  3.606 4.472 3.873\n",
      " 3.317 4.69  3.162 6.708 3.317 4.583 1.    1.    3.873 3.162 2.828 3.162\n",
      " 3.162 4.359 0.    3.606 3.162 3.464 3.317 3.317 5.196 3.317 8.66  2.646\n",
      " 2.828 3.464 3.162 3.464 3.    3.162 0.    3.606 3.162 5.745 4.359 3.162\n",
      " 4.69  3.162 3.873 3.873 3.162 4.    3.162 3.606 3.464 6.403 3.    3.742\n",
      " 6.325 4.69  5.099 3.    4.    7.071 2.236 4.796 4.243 3.317 3.742 0.\n",
      " 1.    0.    5.745 3.    3.    4.69  3.464 3.317 3.606 4.472 5.196 3.\n",
      " 4.69  3.873 6.708 3.162 2.828 3.162 3.742 3.162 3.162 2.449 4.796 3.162\n",
      " 1.    4.    3.464 0.    4.583 2.449 2.828 2.    3.873 2.828 3.873 3.162\n",
      " 2.828 3.606 3.464 3.464 3.    3.464 3.742 3.162 4.243 4.243 4.123 3.873\n",
      " 4.472 5.    2.449]\n"
     ]
    }
   ],
   "source": [
    "similarity_ts= neighbors_k_ts\n",
    "cpd_AD=similarity_ts[0,:]\n",
    "cpd_value = np.round(cpd_AD, 3)\n",
    "print(cpd_value)"
   ]
  },
  {
   "cell_type": "code",
   "execution_count": 52,
   "metadata": {},
   "outputs": [
    {
     "name": "stdout",
     "output_type": "stream",
     "text": [
      "[ True  True False False False  True  True  True  True False False  True\n",
      "  True False False  True  True  True False  True  True  True False  True\n",
      "  True  True  True  True  True  True False False False  True  True  True\n",
      " False  True  True  True False False  True False  True False False False\n",
      "  True  True  True False  True  True  True False  True  True  True  True\n",
      "  True  True  True False  True  True False False  True False False  True\n",
      "  True  True  True  True  True  True  True False False  True  True  True\n",
      " False  True  True  True  True False  True False False  True  True  True\n",
      "  True False  True  True False  True  True  True  True  True  True  True\n",
      "  True  True  True  True  True  True False  True  True  True  True  True\n",
      "  True  True False  True False  True  True  True  True  True  True  True\n",
      "  True  True  True  True  True  True False  True False  True  True  True\n",
      "  True  True  True  True False False  True  True  True  True  True  True\n",
      "  True  True False  True  True  True  True  True  True  True False  True\n",
      "  True  True  True  True  True  True  True False  True  True  True  True\n",
      "  True False False  True  True  True  True  True  True  True  True  True\n",
      "  True  True False  True  True  True  True  True  True  True  True  True\n",
      "  True  True  True False  True  True  True  True  True  True  True  True\n",
      "  True  True  True False  True  True  True  True False  True  True  True\n",
      "  True False  True False  True  True  True  True False  True False  True\n",
      "  True False  True False  True False  True  True  True  True  True  True\n",
      "  True False  True  True  True  True  True  True False  True False  True\n",
      "  True  True  True  True  True  True  True  True  True False False  True\n",
      " False  True  True  True  True  True  True  True  True False  True  True\n",
      " False False False  True  True False  True False False  True  True  True\n",
      "  True  True False  True  True False  True  True  True False False  True\n",
      " False  True False  True  True  True  True  True  True  True False  True\n",
      "  True  True  True  True False  True  True  True  True  True  True  True\n",
      "  True  True  True  True  True  True  True  True False False  True  True\n",
      " False False  True]\n"
     ]
    }
   ],
   "source": [
    "cpd_AD = np.where(cpd_value <= model_AD_limit, True, False)\n",
    "print(cpd_AD)"
   ]
  },
  {
   "cell_type": "code",
   "execution_count": 53,
   "metadata": {},
   "outputs": [
    {
     "name": "stdout",
     "output_type": "stream",
     "text": [
      "Coverage =  0.7663817663817664\n"
     ]
    }
   ],
   "source": [
    "print(\"Coverage = \", sum(cpd_AD) / len(cpd_AD))"
   ]
  },
  {
   "cell_type": "code",
   "execution_count": 54,
   "metadata": {},
   "outputs": [
    {
     "name": "stdout",
     "output_type": "stream",
     "text": [
      "Indices of substances included in AD =  [  0   1   5   6   7   8  11  12  15  16  17  19  20  21  23  24  25  26\n",
      "  27  28  29  33  34  35  37  38  39  42  44  48  49  50  52  53  54  56\n",
      "  57  58  59  60  61  62  64  65  68  71  72  73  74  75  76  77  78  81\n",
      "  82  83  85  86  87  88  90  93  94  95  96  98  99 101 102 103 104 105\n",
      " 106 107 108 109 110 111 112 113 115 116 117 118 119 120 121 123 125 126\n",
      " 127 128 129 130 131 132 133 134 135 136 137 139 141 142 143 144 145 146\n",
      " 147 150 151 152 153 154 155 156 157 159 160 161 162 163 164 165 167 168\n",
      " 169 170 171 172 173 174 176 177 178 179 180 183 184 185 186 187 188 189\n",
      " 190 191 192 193 195 196 197 198 199 200 201 202 203 204 205 206 208 209\n",
      " 210 211 212 213 214 215 216 217 218 220 221 222 223 225 226 227 228 230\n",
      " 232 233 234 235 237 239 240 242 244 246 247 248 249 250 251 252 254 255\n",
      " 256 257 258 259 261 263 264 265 266 267 268 269 270 271 272 275 277 278\n",
      " 279 280 281 282 283 284 286 287 291 292 294 297 298 299 300 301 303 304\n",
      " 306 307 308 311 313 315 316 317 318 319 320 321 323 324 325 326 327 329\n",
      " 330 331 332 333 334 335 336 337 338 339 340 341 342 343 346 347 350]\n"
     ]
    }
   ],
   "source": [
    "print(\"Indices of substances included in AD = \", np.where(cpd_AD != 0)[0])"
   ]
  },
  {
   "cell_type": "code",
   "execution_count": 55,
   "metadata": {},
   "outputs": [],
   "source": [
    "out_Ad=list(np.where(cpd_AD == 0)[0])"
   ]
  },
  {
   "cell_type": "markdown",
   "metadata": {},
   "source": [
    "# Prediction only for molecules included in  AD"
   ]
  },
  {
   "cell_type": "code",
   "execution_count": 56,
   "metadata": {},
   "outputs": [],
   "source": [
    "y_pred_con_ad=list(y_pred_con)"
   ]
  },
  {
   "cell_type": "code",
   "execution_count": 57,
   "metadata": {},
   "outputs": [],
   "source": [
    "y_pred_con_ad[:] = [x for i,x in enumerate(y_pred_con_ad) if i not in out_Ad]"
   ]
  },
  {
   "cell_type": "code",
   "execution_count": 58,
   "metadata": {},
   "outputs": [
    {
     "data": {
      "text/plain": [
       "269"
      ]
     },
     "execution_count": 58,
     "metadata": {},
     "output_type": "execute_result"
    }
   ],
   "source": [
    "len(y_pred_con_ad)"
   ]
  },
  {
   "cell_type": "code",
   "execution_count": 59,
   "metadata": {},
   "outputs": [],
   "source": [
    "y_ts_ad=list(y_ts)"
   ]
  },
  {
   "cell_type": "code",
   "execution_count": 60,
   "metadata": {},
   "outputs": [],
   "source": [
    "y_ts_ad[:] = [x for i,x in enumerate(y_ts_ad) if i not in out_Ad]"
   ]
  },
  {
   "cell_type": "code",
   "execution_count": 61,
   "metadata": {},
   "outputs": [
    {
     "data": {
      "text/plain": [
       "269"
      ]
     },
     "execution_count": 61,
     "metadata": {},
     "output_type": "execute_result"
    }
   ],
   "source": [
    "len(y_ts_ad)"
   ]
  },
  {
   "cell_type": "code",
   "execution_count": 62,
   "metadata": {},
   "outputs": [
    {
     "data": {
      "text/plain": [
       "0.76"
      ]
     },
     "execution_count": 62,
     "metadata": {},
     "output_type": "execute_result"
    }
   ],
   "source": [
    "Q2_TS = round(r2_score(y_ts_ad, y_pred_con_ad), 2)\n",
    "Q2_TS"
   ]
  },
  {
   "cell_type": "code",
   "execution_count": 63,
   "metadata": {},
   "outputs": [
    {
     "data": {
      "text/plain": [
       "0.65"
      ]
     },
     "execution_count": 63,
     "metadata": {},
     "output_type": "execute_result"
    }
   ],
   "source": [
    "RMSE_TS=round(np.sqrt(mean_absolute_error(y_ts_ad, y_pred_con_ad)), 2)\n",
    "RMSE_TS"
   ]
  }
 ],
 "metadata": {
  "kernelspec": {
   "display_name": "Python3 (rdkit)",
   "language": "python",
   "name": "my-rdkit-env"
  },
  "language_info": {
   "codemirror_mode": {
    "name": "ipython",
    "version": 3
   },
   "file_extension": ".py",
   "mimetype": "text/x-python",
   "name": "python",
   "nbconvert_exporter": "python",
   "pygments_lexer": "ipython3",
   "version": "3.10.12"
  },
  "toc": {
   "base_numbering": 1,
   "nav_menu": {},
   "number_sections": true,
   "sideBar": true,
   "skip_h1_title": false,
   "title_cell": "Table of Contents",
   "title_sidebar": "Contents",
   "toc_cell": false,
   "toc_position": {
    "height": "calc(100% - 180px)",
    "left": "10px",
    "top": "150px",
    "width": "208.267px"
   },
   "toc_section_display": true,
   "toc_window_display": true
  }
 },
 "nbformat": 4,
 "nbformat_minor": 4
}
